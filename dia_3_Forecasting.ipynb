{
  "cells": [
    {
      "cell_type": "markdown",
      "metadata": {
        "id": "view-in-github",
        "colab_type": "text"
      },
      "source": [
        "<a href=\"https://colab.research.google.com/github/brenoakihiromorimoto/portf-lio/blob/main/dia_3_Forecasting.ipynb\" target=\"_parent\"><img src=\"https://colab.research.google.com/assets/colab-badge.svg\" alt=\"Open In Colab\"/></a>"
      ]
    },
    {
      "cell_type": "markdown",
      "metadata": {
        "id": "wGnOnz1Mij56"
      },
      "source": [
        "#7DaysOfCode - Ciência de Dados 3/7: Forecasting\n",
        "\n",
        "É hora de encarar o terceiro dia de desafio!\n",
        "\n",
        "E como você já viu, a tarefa hoje é: Forecasting. Vou te explicar melhor o que é isso.\n",
        "\n",
        "O trabalho de um Cientista de Dados geralmente gira em torno de duas principais frentes: descrição (entender o que aconteceu e por que aconteceu) e predição (prever o que pode acontecer e o que deve ser feito).\n",
        "\n",
        "É provável que ontem você tenha aplicado algumas dessas técnicas descritivas, utilizando análise de dados e visualizações para entender o que aconteceu.\n",
        "\n",
        "Neste caso, você analisou o que aconteceu com os gastos dos senadores.\n",
        "\n",
        "Para as tarefas de predição, são utilizadas técnicas de Machine Learning e ferramentas estatísticas para prever o futuro. E é sobre elas que falaremos hoje.\n",
        "\n",
        "Forecasting é uma das técnicas mais conhecidas e utilizadas por Data Scientists para prever indicadores de negócios.\n",
        "\n",
        "Por exemplo: uma área de Finanças pode querer que você preveja o faturamento da empresa; ou então seu time de Marketing pode querer prever quantos usuários irão se cadastrar na plataforma nos próximos meses.\n",
        "\n",
        "No desafio de hoje, eu quero te provocar a criar o seu próprio modelo de Forecasting!\n",
        "\n",
        "Será que você consegue criar um modelo que irá prever quanto os senadores vão gastar nos próximos três meses?\n",
        "\n",
        "Você ainda utilizará o dataset do CEAPS que utilizou ontem, mas será muito importante para o seu modelo que você tenha mais de um ano de dados.\n",
        "\n",
        "Os dados do CEAPS são divididos por ano, então seria interessante pegar pelo menos quatro anos e juntar em um grande dataset (isso fará seu modelo mais preciso).\n",
        "\n",
        "Mas, se você não tem tempo pra isso, não tem problema. Eu já fiz um dataset para esse desafio, que você pode baixar aqui. Esse dataset contém dados de 2018 a 2021 do CEAPS, e nele você encontrará duas colunas:\n",
        "\n",
        "DS, que representa a data do reembolso; \n",
        "Y, que é a soma de reembolsos dos senadores naquele dia."
      ]
    },
    {
      "cell_type": "markdown",
      "metadata": {
        "id": "y9wA8wWepQ7Z"
      },
      "source": [
        "# Importar Bibliotecas"
      ]
    },
    {
      "cell_type": "code",
      "execution_count": 381,
      "metadata": {
        "colab": {
          "base_uri": "https://localhost:8080/"
        },
        "id": "FIgb_MWYnk6s",
        "outputId": "54d287a8-f6c1-42f2-8dad-6b70e9ebd327"
      },
      "outputs": [
        {
          "output_type": "stream",
          "name": "stdout",
          "text": [
            "Drive already mounted at /gdrive; to attempt to forcibly remount, call drive.mount(\"/gdrive\", force_remount=True).\n",
            "Requirement already satisfied: prophet in /usr/local/lib/python3.7/dist-packages (1.0.1)\n",
            "Requirement already satisfied: convertdate>=2.1.2 in /usr/local/lib/python3.7/dist-packages (from prophet) (2.4.0)\n",
            "Requirement already satisfied: tqdm>=4.36.1 in /usr/local/lib/python3.7/dist-packages (from prophet) (4.64.0)\n",
            "Requirement already satisfied: pystan~=2.19.1.1 in /usr/local/lib/python3.7/dist-packages (from prophet) (2.19.1.1)\n",
            "Requirement already satisfied: pandas>=1.0.4 in /usr/local/lib/python3.7/dist-packages (from prophet) (1.3.5)\n",
            "Requirement already satisfied: setuptools-git>=1.2 in /usr/local/lib/python3.7/dist-packages (from prophet) (1.2)\n",
            "Requirement already satisfied: numpy>=1.15.4 in /usr/local/lib/python3.7/dist-packages (from prophet) (1.21.5)\n",
            "Requirement already satisfied: holidays>=0.10.2 in /usr/local/lib/python3.7/dist-packages (from prophet) (0.10.5.2)\n",
            "Requirement already satisfied: Cython>=0.22 in /usr/local/lib/python3.7/dist-packages (from prophet) (0.29.28)\n",
            "Requirement already satisfied: matplotlib>=2.0.0 in /usr/local/lib/python3.7/dist-packages (from prophet) (3.2.2)\n",
            "Requirement already satisfied: cmdstanpy==0.9.68 in /usr/local/lib/python3.7/dist-packages (from prophet) (0.9.68)\n",
            "Requirement already satisfied: python-dateutil>=2.8.0 in /usr/local/lib/python3.7/dist-packages (from prophet) (2.8.2)\n",
            "Requirement already satisfied: LunarCalendar>=0.0.9 in /usr/local/lib/python3.7/dist-packages (from prophet) (0.0.9)\n",
            "Requirement already satisfied: ujson in /usr/local/lib/python3.7/dist-packages (from cmdstanpy==0.9.68->prophet) (5.2.0)\n",
            "Requirement already satisfied: pymeeus<=1,>=0.3.13 in /usr/local/lib/python3.7/dist-packages (from convertdate>=2.1.2->prophet) (0.5.11)\n",
            "Requirement already satisfied: six in /usr/local/lib/python3.7/dist-packages (from holidays>=0.10.2->prophet) (1.15.0)\n",
            "Requirement already satisfied: korean-lunar-calendar in /usr/local/lib/python3.7/dist-packages (from holidays>=0.10.2->prophet) (0.2.1)\n",
            "Requirement already satisfied: hijri-converter in /usr/local/lib/python3.7/dist-packages (from holidays>=0.10.2->prophet) (2.2.3)\n",
            "Requirement already satisfied: pytz in /usr/local/lib/python3.7/dist-packages (from LunarCalendar>=0.0.9->prophet) (2018.9)\n",
            "Requirement already satisfied: ephem>=3.7.5.3 in /usr/local/lib/python3.7/dist-packages (from LunarCalendar>=0.0.9->prophet) (4.1.3)\n",
            "Requirement already satisfied: pyparsing!=2.0.4,!=2.1.2,!=2.1.6,>=2.0.1 in /usr/local/lib/python3.7/dist-packages (from matplotlib>=2.0.0->prophet) (3.0.8)\n",
            "Requirement already satisfied: cycler>=0.10 in /usr/local/lib/python3.7/dist-packages (from matplotlib>=2.0.0->prophet) (0.11.0)\n",
            "Requirement already satisfied: kiwisolver>=1.0.1 in /usr/local/lib/python3.7/dist-packages (from matplotlib>=2.0.0->prophet) (1.4.2)\n",
            "Requirement already satisfied: typing-extensions in /usr/local/lib/python3.7/dist-packages (from kiwisolver>=1.0.1->matplotlib>=2.0.0->prophet) (4.1.1)\n"
          ]
        }
      ],
      "source": [
        "from google.colab import drive\n",
        "drive.mount('/gdrive')\n",
        "\n",
        "import numpy as np\n",
        "import pandas as pd\n",
        "import matplotlib.pyplot as plt\n",
        "import seaborn as sns\n",
        "\n",
        "import plotly.express as px\n",
        "from sklearn.preprocessing import LabelEncoder\n",
        "from scipy.stats import ttest_ind\n",
        "from datetime import datetime\n",
        "import datetime\n",
        "!pip install prophet\n",
        "from prophet import Prophet\n"
      ]
    },
    {
      "cell_type": "markdown",
      "metadata": {
        "id": "M14YDGWHjqqf"
      },
      "source": [
        "# Importar Dataset feito no dia 1."
      ]
    },
    {
      "cell_type": "code",
      "execution_count": 382,
      "metadata": {
        "id": "3FvOim7wjikn"
      },
      "outputs": [],
      "source": [
        "link = \"/gdrive/MyDrive/Colab Notebooks/#7DaysOfCode/\"\n",
        "\n",
        "despesa_ceaps_full = pd.read_csv(link+\"despesa_ceaps_full.csv\", sep=',')\n",
        "\n",
        "despesa_ceaps_full = despesa_ceaps_full.drop('Unnamed: 0', axis=1)"
      ]
    },
    {
      "cell_type": "code",
      "execution_count": 383,
      "metadata": {
        "colab": {
          "base_uri": "https://localhost:8080/"
        },
        "id": "_l6HZ3z-kdZf",
        "outputId": "d570304c-05c8-41c1-8880-805c4751cb1f"
      },
      "outputs": [
        {
          "output_type": "execute_result",
          "data": {
            "text/plain": [
              "Index(['ANO', 'MES', 'SENADOR', 'TIPO_DESPESA', 'CNPJ_CPF', 'FORNECEDOR',\n",
              "       'DATA', 'DETALHAMENTO', 'VALOR_REEMBOLSADO', 'SEM_DOCUMENTO',\n",
              "       'SEM_DETALHAMENTO'],\n",
              "      dtype='object')"
            ]
          },
          "metadata": {},
          "execution_count": 383
        }
      ],
      "source": [
        "despesa_ceaps_full.columns"
      ]
    },
    {
      "cell_type": "code",
      "execution_count": 384,
      "metadata": {
        "colab": {
          "base_uri": "https://localhost:8080/",
          "height": 0
        },
        "id": "RhzBNZYUkKlT",
        "outputId": "a2b11d9a-323f-40f3-881e-46903f316ed2"
      },
      "outputs": [
        {
          "output_type": "execute_result",
          "data": {
            "text/plain": [
              "    ANO  MES       SENADOR                                       TIPO_DESPESA  \\\n",
              "0  2019    1  ACIR GURGACZ  Aluguel de imóveis para escritório político, c...   \n",
              "1  2019    1  ACIR GURGACZ  Aluguel de imóveis para escritório político, c...   \n",
              "2  2019    1  ACIR GURGACZ  Aluguel de imóveis para escritório político, c...   \n",
              "\n",
              "             CNPJ_CPF                     FORNECEDOR        DATA  \\\n",
              "0  05.914.650/0001-66                       ENERGISA  04/01/2019   \n",
              "1  05.914.650/0001-66                       ENERGISA  04/01/2019   \n",
              "2      004.948.028-63  GILBERTO PISELO DO NASCIMENTO  07/01/2019   \n",
              "\n",
              "                                        DETALHAMENTO  VALOR_REEMBOLSADO  \\\n",
              "0  Despesa com pagamento de energia elétrica do e...             66.020   \n",
              "1  Despesa com pagamento de energia elétrica do e...            139.980   \n",
              "2  Despesa com pagamento de aluguel de imóvel par...           6000.000   \n",
              "\n",
              "   SEM_DOCUMENTO  SEM_DETALHAMENTO  \n",
              "0          0.000             0.000  \n",
              "1          0.000             0.000  \n",
              "2          0.000             0.000  "
            ],
            "text/html": [
              "\n",
              "  <div id=\"df-8a94b17d-29df-41e9-9678-6f0117d8ea43\">\n",
              "    <div class=\"colab-df-container\">\n",
              "      <div>\n",
              "<style scoped>\n",
              "    .dataframe tbody tr th:only-of-type {\n",
              "        vertical-align: middle;\n",
              "    }\n",
              "\n",
              "    .dataframe tbody tr th {\n",
              "        vertical-align: top;\n",
              "    }\n",
              "\n",
              "    .dataframe thead th {\n",
              "        text-align: right;\n",
              "    }\n",
              "</style>\n",
              "<table border=\"1\" class=\"dataframe\">\n",
              "  <thead>\n",
              "    <tr style=\"text-align: right;\">\n",
              "      <th></th>\n",
              "      <th>ANO</th>\n",
              "      <th>MES</th>\n",
              "      <th>SENADOR</th>\n",
              "      <th>TIPO_DESPESA</th>\n",
              "      <th>CNPJ_CPF</th>\n",
              "      <th>FORNECEDOR</th>\n",
              "      <th>DATA</th>\n",
              "      <th>DETALHAMENTO</th>\n",
              "      <th>VALOR_REEMBOLSADO</th>\n",
              "      <th>SEM_DOCUMENTO</th>\n",
              "      <th>SEM_DETALHAMENTO</th>\n",
              "    </tr>\n",
              "  </thead>\n",
              "  <tbody>\n",
              "    <tr>\n",
              "      <th>0</th>\n",
              "      <td>2019</td>\n",
              "      <td>1</td>\n",
              "      <td>ACIR GURGACZ</td>\n",
              "      <td>Aluguel de imóveis para escritório político, c...</td>\n",
              "      <td>05.914.650/0001-66</td>\n",
              "      <td>ENERGISA</td>\n",
              "      <td>04/01/2019</td>\n",
              "      <td>Despesa com pagamento de energia elétrica do e...</td>\n",
              "      <td>66.020</td>\n",
              "      <td>0.000</td>\n",
              "      <td>0.000</td>\n",
              "    </tr>\n",
              "    <tr>\n",
              "      <th>1</th>\n",
              "      <td>2019</td>\n",
              "      <td>1</td>\n",
              "      <td>ACIR GURGACZ</td>\n",
              "      <td>Aluguel de imóveis para escritório político, c...</td>\n",
              "      <td>05.914.650/0001-66</td>\n",
              "      <td>ENERGISA</td>\n",
              "      <td>04/01/2019</td>\n",
              "      <td>Despesa com pagamento de energia elétrica do e...</td>\n",
              "      <td>139.980</td>\n",
              "      <td>0.000</td>\n",
              "      <td>0.000</td>\n",
              "    </tr>\n",
              "    <tr>\n",
              "      <th>2</th>\n",
              "      <td>2019</td>\n",
              "      <td>1</td>\n",
              "      <td>ACIR GURGACZ</td>\n",
              "      <td>Aluguel de imóveis para escritório político, c...</td>\n",
              "      <td>004.948.028-63</td>\n",
              "      <td>GILBERTO PISELO DO NASCIMENTO</td>\n",
              "      <td>07/01/2019</td>\n",
              "      <td>Despesa com pagamento de aluguel de imóvel par...</td>\n",
              "      <td>6000.000</td>\n",
              "      <td>0.000</td>\n",
              "      <td>0.000</td>\n",
              "    </tr>\n",
              "  </tbody>\n",
              "</table>\n",
              "</div>\n",
              "      <button class=\"colab-df-convert\" onclick=\"convertToInteractive('df-8a94b17d-29df-41e9-9678-6f0117d8ea43')\"\n",
              "              title=\"Convert this dataframe to an interactive table.\"\n",
              "              style=\"display:none;\">\n",
              "        \n",
              "  <svg xmlns=\"http://www.w3.org/2000/svg\" height=\"24px\"viewBox=\"0 0 24 24\"\n",
              "       width=\"24px\">\n",
              "    <path d=\"M0 0h24v24H0V0z\" fill=\"none\"/>\n",
              "    <path d=\"M18.56 5.44l.94 2.06.94-2.06 2.06-.94-2.06-.94-.94-2.06-.94 2.06-2.06.94zm-11 1L8.5 8.5l.94-2.06 2.06-.94-2.06-.94L8.5 2.5l-.94 2.06-2.06.94zm10 10l.94 2.06.94-2.06 2.06-.94-2.06-.94-.94-2.06-.94 2.06-2.06.94z\"/><path d=\"M17.41 7.96l-1.37-1.37c-.4-.4-.92-.59-1.43-.59-.52 0-1.04.2-1.43.59L10.3 9.45l-7.72 7.72c-.78.78-.78 2.05 0 2.83L4 21.41c.39.39.9.59 1.41.59.51 0 1.02-.2 1.41-.59l7.78-7.78 2.81-2.81c.8-.78.8-2.07 0-2.86zM5.41 20L4 18.59l7.72-7.72 1.47 1.35L5.41 20z\"/>\n",
              "  </svg>\n",
              "      </button>\n",
              "      \n",
              "  <style>\n",
              "    .colab-df-container {\n",
              "      display:flex;\n",
              "      flex-wrap:wrap;\n",
              "      gap: 12px;\n",
              "    }\n",
              "\n",
              "    .colab-df-convert {\n",
              "      background-color: #E8F0FE;\n",
              "      border: none;\n",
              "      border-radius: 50%;\n",
              "      cursor: pointer;\n",
              "      display: none;\n",
              "      fill: #1967D2;\n",
              "      height: 32px;\n",
              "      padding: 0 0 0 0;\n",
              "      width: 32px;\n",
              "    }\n",
              "\n",
              "    .colab-df-convert:hover {\n",
              "      background-color: #E2EBFA;\n",
              "      box-shadow: 0px 1px 2px rgba(60, 64, 67, 0.3), 0px 1px 3px 1px rgba(60, 64, 67, 0.15);\n",
              "      fill: #174EA6;\n",
              "    }\n",
              "\n",
              "    [theme=dark] .colab-df-convert {\n",
              "      background-color: #3B4455;\n",
              "      fill: #D2E3FC;\n",
              "    }\n",
              "\n",
              "    [theme=dark] .colab-df-convert:hover {\n",
              "      background-color: #434B5C;\n",
              "      box-shadow: 0px 1px 3px 1px rgba(0, 0, 0, 0.15);\n",
              "      filter: drop-shadow(0px 1px 2px rgba(0, 0, 0, 0.3));\n",
              "      fill: #FFFFFF;\n",
              "    }\n",
              "  </style>\n",
              "\n",
              "      <script>\n",
              "        const buttonEl =\n",
              "          document.querySelector('#df-8a94b17d-29df-41e9-9678-6f0117d8ea43 button.colab-df-convert');\n",
              "        buttonEl.style.display =\n",
              "          google.colab.kernel.accessAllowed ? 'block' : 'none';\n",
              "\n",
              "        async function convertToInteractive(key) {\n",
              "          const element = document.querySelector('#df-8a94b17d-29df-41e9-9678-6f0117d8ea43');\n",
              "          const dataTable =\n",
              "            await google.colab.kernel.invokeFunction('convertToInteractive',\n",
              "                                                     [key], {});\n",
              "          if (!dataTable) return;\n",
              "\n",
              "          const docLinkHtml = 'Like what you see? Visit the ' +\n",
              "            '<a target=\"_blank\" href=https://colab.research.google.com/notebooks/data_table.ipynb>data table notebook</a>'\n",
              "            + ' to learn more about interactive tables.';\n",
              "          element.innerHTML = '';\n",
              "          dataTable['output_type'] = 'display_data';\n",
              "          await google.colab.output.renderOutput(dataTable, element);\n",
              "          const docLink = document.createElement('div');\n",
              "          docLink.innerHTML = docLinkHtml;\n",
              "          element.appendChild(docLink);\n",
              "        }\n",
              "      </script>\n",
              "    </div>\n",
              "  </div>\n",
              "  "
            ]
          },
          "metadata": {},
          "execution_count": 384
        }
      ],
      "source": [
        "despesa_ceaps_full.head(3)"
      ]
    },
    {
      "cell_type": "markdown",
      "metadata": {
        "id": "IiM7PRYSk3nX"
      },
      "source": [
        "# Preparar dataset para Forecasting"
      ]
    },
    {
      "cell_type": "code",
      "execution_count": 385,
      "metadata": {
        "id": "q_zrf3akt2Ob"
      },
      "outputs": [],
      "source": [
        "despesa_ceaps_full['dia'] = despesa_ceaps_full['DATA'].astype('string').str[0:2].astype(int)\n",
        "despesa_ceaps_full['mes'] = despesa_ceaps_full['MES'].astype('string')\n",
        "despesa_ceaps_full['ano'] = despesa_ceaps_full['ANO'].astype('string')"
      ]
    },
    {
      "cell_type": "code",
      "execution_count": 386,
      "metadata": {
        "id": "hNrKMiYDyV72"
      },
      "outputs": [],
      "source": [
        "datetime_despesa_ceaps_full = pd.DataFrame({'year': despesa_ceaps_full['ano'].astype('string').tolist(), \n",
        "                                            'month': despesa_ceaps_full['mes'].astype('string').tolist(), \n",
        "                                            'day': despesa_ceaps_full['dia'].astype('string').tolist()})"
      ]
    },
    {
      "cell_type": "code",
      "source": [
        "datetime_despesa_ceaps_full['year'].unique()"
      ],
      "metadata": {
        "colab": {
          "base_uri": "https://localhost:8080/"
        },
        "id": "vcTcSVZ_osKe",
        "outputId": "3915c159-aadc-429d-d416-175c2f3038bf"
      },
      "execution_count": 387,
      "outputs": [
        {
          "output_type": "execute_result",
          "data": {
            "text/plain": [
              "array(['2019', '2020', '2021', '2022'], dtype=object)"
            ]
          },
          "metadata": {},
          "execution_count": 387
        }
      ]
    },
    {
      "cell_type": "code",
      "source": [
        "datetime_despesa_ceaps_full[datetime_despesa_ceaps_full['year']=='2022']['month']"
      ],
      "metadata": {
        "colab": {
          "base_uri": "https://localhost:8080/"
        },
        "id": "i81f5V-AxZuy",
        "outputId": "5d241079-593d-414a-9904-ae28c85a336f"
      },
      "execution_count": 388,
      "outputs": [
        {
          "output_type": "execute_result",
          "data": {
            "text/plain": [
              "52532    1\n",
              "52533    1\n",
              "52534    1\n",
              "52535    1\n",
              "52536    1\n",
              "        ..\n",
              "56276    4\n",
              "56277    4\n",
              "56278    4\n",
              "56279    4\n",
              "56280    4\n",
              "Name: month, Length: 3749, dtype: object"
            ]
          },
          "metadata": {},
          "execution_count": 388
        }
      ]
    },
    {
      "cell_type": "code",
      "source": [
        "datetime_despesa_ceaps_full[datetime_despesa_ceaps_full['year']=='2022'][datetime_despesa_ceaps_full['month']=='1']['day'].max()"
      ],
      "metadata": {
        "colab": {
          "base_uri": "https://localhost:8080/",
          "height": 90
        },
        "id": "TMOQ1J2H2bzE",
        "outputId": "14746f55-0b51-470f-e97b-4de58026231f"
      },
      "execution_count": 389,
      "outputs": [
        {
          "output_type": "stream",
          "name": "stderr",
          "text": [
            "/usr/local/lib/python3.7/dist-packages/ipykernel_launcher.py:1: UserWarning: Boolean Series key will be reindexed to match DataFrame index.\n",
            "  \"\"\"Entry point for launching an IPython kernel.\n"
          ]
        },
        {
          "output_type": "execute_result",
          "data": {
            "text/plain": [
              "'9'"
            ],
            "application/vnd.google.colaboratory.intrinsic+json": {
              "type": "string"
            }
          },
          "metadata": {},
          "execution_count": 389
        }
      ]
    },
    {
      "cell_type": "code",
      "execution_count": 390,
      "metadata": {
        "id": "Fn71KRFf2RIZ"
      },
      "outputs": [],
      "source": [
        "datetime_despesa_ceaps_full['datetime'] = datetime_despesa_ceaps_full['year'].astype('string')+'/'\\\n",
        "                                          +datetime_despesa_ceaps_full['month'].astype('string')+'/'\\\n",
        "                                          +datetime_despesa_ceaps_full['day'].astype('string')"
      ]
    },
    {
      "cell_type": "code",
      "execution_count": 391,
      "metadata": {
        "id": "VUvnYYmMQt6T"
      },
      "outputs": [],
      "source": [
        "despesa_ceaps_full['datetime'] = pd.to_datetime(datetime_despesa_ceaps_full['datetime'],  infer_datetime_format = True , errors='coerce')"
      ]
    },
    {
      "cell_type": "code",
      "source": [
        "despesa_ceaps_full.tail(3)"
      ],
      "metadata": {
        "colab": {
          "base_uri": "https://localhost:8080/",
          "height": 416
        },
        "id": "HrZv1Fc1jf02",
        "outputId": "a6ffabb8-4195-46a6-bafb-aafbbf038f28"
      },
      "execution_count": 393,
      "outputs": [
        {
          "output_type": "execute_result",
          "data": {
            "text/plain": [
              "        ANO  MES           SENADOR  \\\n",
              "56278  2022    4  ZEQUINHA MARINHO   \n",
              "56279  2022    4  ZEQUINHA MARINHO   \n",
              "56280  2022    4  ZEQUINHA MARINHO   \n",
              "\n",
              "                                            TIPO_DESPESA            CNPJ_CPF  \\\n",
              "56278  Passagens aéreas, aquáticas e terrestres nacio...  22.052.777/0001-32   \n",
              "56279  Passagens aéreas, aquáticas e terrestres nacio...  22.052.777/0001-32   \n",
              "56280  Passagens aéreas, aquáticas e terrestres nacio...  22.052.777/0001-32   \n",
              "\n",
              "          FORNECEDOR        DATA  \\\n",
              "56278  Exceller Tour  04/04/2022   \n",
              "56279  Exceller Tour  06/04/2022   \n",
              "56280  Exceller Tour  06/04/2022   \n",
              "\n",
              "                                            DETALHAMENTO  VALOR_REEMBOLSADO  \\\n",
              "56278  Companhia Aérea: GOL, Localizador: QVOLRY. Pas...           1681.230   \n",
              "56279  Companhia Aérea: AZUL, Localizador: JBHH5Y. Pa...           1663.610   \n",
              "56280  Companhia Aérea: LATAM, Localizador: FRFFFI. P...           2324.000   \n",
              "\n",
              "       SEM_DOCUMENTO  SEM_DETALHAMENTO  dia mes   ano   datetime  \n",
              "56278          0.000             0.000    4   4  2022 2022-04-04  \n",
              "56279          0.000             0.000    6   4  2022 2022-04-06  \n",
              "56280          0.000             0.000    6   4  2022 2022-04-06  "
            ],
            "text/html": [
              "\n",
              "  <div id=\"df-3dffb4e9-1820-4e93-8d6b-693c39dfe145\">\n",
              "    <div class=\"colab-df-container\">\n",
              "      <div>\n",
              "<style scoped>\n",
              "    .dataframe tbody tr th:only-of-type {\n",
              "        vertical-align: middle;\n",
              "    }\n",
              "\n",
              "    .dataframe tbody tr th {\n",
              "        vertical-align: top;\n",
              "    }\n",
              "\n",
              "    .dataframe thead th {\n",
              "        text-align: right;\n",
              "    }\n",
              "</style>\n",
              "<table border=\"1\" class=\"dataframe\">\n",
              "  <thead>\n",
              "    <tr style=\"text-align: right;\">\n",
              "      <th></th>\n",
              "      <th>ANO</th>\n",
              "      <th>MES</th>\n",
              "      <th>SENADOR</th>\n",
              "      <th>TIPO_DESPESA</th>\n",
              "      <th>CNPJ_CPF</th>\n",
              "      <th>FORNECEDOR</th>\n",
              "      <th>DATA</th>\n",
              "      <th>DETALHAMENTO</th>\n",
              "      <th>VALOR_REEMBOLSADO</th>\n",
              "      <th>SEM_DOCUMENTO</th>\n",
              "      <th>SEM_DETALHAMENTO</th>\n",
              "      <th>dia</th>\n",
              "      <th>mes</th>\n",
              "      <th>ano</th>\n",
              "      <th>datetime</th>\n",
              "    </tr>\n",
              "  </thead>\n",
              "  <tbody>\n",
              "    <tr>\n",
              "      <th>56278</th>\n",
              "      <td>2022</td>\n",
              "      <td>4</td>\n",
              "      <td>ZEQUINHA MARINHO</td>\n",
              "      <td>Passagens aéreas, aquáticas e terrestres nacio...</td>\n",
              "      <td>22.052.777/0001-32</td>\n",
              "      <td>Exceller Tour</td>\n",
              "      <td>04/04/2022</td>\n",
              "      <td>Companhia Aérea: GOL, Localizador: QVOLRY. Pas...</td>\n",
              "      <td>1681.230</td>\n",
              "      <td>0.000</td>\n",
              "      <td>0.000</td>\n",
              "      <td>4</td>\n",
              "      <td>4</td>\n",
              "      <td>2022</td>\n",
              "      <td>2022-04-04</td>\n",
              "    </tr>\n",
              "    <tr>\n",
              "      <th>56279</th>\n",
              "      <td>2022</td>\n",
              "      <td>4</td>\n",
              "      <td>ZEQUINHA MARINHO</td>\n",
              "      <td>Passagens aéreas, aquáticas e terrestres nacio...</td>\n",
              "      <td>22.052.777/0001-32</td>\n",
              "      <td>Exceller Tour</td>\n",
              "      <td>06/04/2022</td>\n",
              "      <td>Companhia Aérea: AZUL, Localizador: JBHH5Y. Pa...</td>\n",
              "      <td>1663.610</td>\n",
              "      <td>0.000</td>\n",
              "      <td>0.000</td>\n",
              "      <td>6</td>\n",
              "      <td>4</td>\n",
              "      <td>2022</td>\n",
              "      <td>2022-04-06</td>\n",
              "    </tr>\n",
              "    <tr>\n",
              "      <th>56280</th>\n",
              "      <td>2022</td>\n",
              "      <td>4</td>\n",
              "      <td>ZEQUINHA MARINHO</td>\n",
              "      <td>Passagens aéreas, aquáticas e terrestres nacio...</td>\n",
              "      <td>22.052.777/0001-32</td>\n",
              "      <td>Exceller Tour</td>\n",
              "      <td>06/04/2022</td>\n",
              "      <td>Companhia Aérea: LATAM, Localizador: FRFFFI. P...</td>\n",
              "      <td>2324.000</td>\n",
              "      <td>0.000</td>\n",
              "      <td>0.000</td>\n",
              "      <td>6</td>\n",
              "      <td>4</td>\n",
              "      <td>2022</td>\n",
              "      <td>2022-04-06</td>\n",
              "    </tr>\n",
              "  </tbody>\n",
              "</table>\n",
              "</div>\n",
              "      <button class=\"colab-df-convert\" onclick=\"convertToInteractive('df-3dffb4e9-1820-4e93-8d6b-693c39dfe145')\"\n",
              "              title=\"Convert this dataframe to an interactive table.\"\n",
              "              style=\"display:none;\">\n",
              "        \n",
              "  <svg xmlns=\"http://www.w3.org/2000/svg\" height=\"24px\"viewBox=\"0 0 24 24\"\n",
              "       width=\"24px\">\n",
              "    <path d=\"M0 0h24v24H0V0z\" fill=\"none\"/>\n",
              "    <path d=\"M18.56 5.44l.94 2.06.94-2.06 2.06-.94-2.06-.94-.94-2.06-.94 2.06-2.06.94zm-11 1L8.5 8.5l.94-2.06 2.06-.94-2.06-.94L8.5 2.5l-.94 2.06-2.06.94zm10 10l.94 2.06.94-2.06 2.06-.94-2.06-.94-.94-2.06-.94 2.06-2.06.94z\"/><path d=\"M17.41 7.96l-1.37-1.37c-.4-.4-.92-.59-1.43-.59-.52 0-1.04.2-1.43.59L10.3 9.45l-7.72 7.72c-.78.78-.78 2.05 0 2.83L4 21.41c.39.39.9.59 1.41.59.51 0 1.02-.2 1.41-.59l7.78-7.78 2.81-2.81c.8-.78.8-2.07 0-2.86zM5.41 20L4 18.59l7.72-7.72 1.47 1.35L5.41 20z\"/>\n",
              "  </svg>\n",
              "      </button>\n",
              "      \n",
              "  <style>\n",
              "    .colab-df-container {\n",
              "      display:flex;\n",
              "      flex-wrap:wrap;\n",
              "      gap: 12px;\n",
              "    }\n",
              "\n",
              "    .colab-df-convert {\n",
              "      background-color: #E8F0FE;\n",
              "      border: none;\n",
              "      border-radius: 50%;\n",
              "      cursor: pointer;\n",
              "      display: none;\n",
              "      fill: #1967D2;\n",
              "      height: 32px;\n",
              "      padding: 0 0 0 0;\n",
              "      width: 32px;\n",
              "    }\n",
              "\n",
              "    .colab-df-convert:hover {\n",
              "      background-color: #E2EBFA;\n",
              "      box-shadow: 0px 1px 2px rgba(60, 64, 67, 0.3), 0px 1px 3px 1px rgba(60, 64, 67, 0.15);\n",
              "      fill: #174EA6;\n",
              "    }\n",
              "\n",
              "    [theme=dark] .colab-df-convert {\n",
              "      background-color: #3B4455;\n",
              "      fill: #D2E3FC;\n",
              "    }\n",
              "\n",
              "    [theme=dark] .colab-df-convert:hover {\n",
              "      background-color: #434B5C;\n",
              "      box-shadow: 0px 1px 3px 1px rgba(0, 0, 0, 0.15);\n",
              "      filter: drop-shadow(0px 1px 2px rgba(0, 0, 0, 0.3));\n",
              "      fill: #FFFFFF;\n",
              "    }\n",
              "  </style>\n",
              "\n",
              "      <script>\n",
              "        const buttonEl =\n",
              "          document.querySelector('#df-3dffb4e9-1820-4e93-8d6b-693c39dfe145 button.colab-df-convert');\n",
              "        buttonEl.style.display =\n",
              "          google.colab.kernel.accessAllowed ? 'block' : 'none';\n",
              "\n",
              "        async function convertToInteractive(key) {\n",
              "          const element = document.querySelector('#df-3dffb4e9-1820-4e93-8d6b-693c39dfe145');\n",
              "          const dataTable =\n",
              "            await google.colab.kernel.invokeFunction('convertToInteractive',\n",
              "                                                     [key], {});\n",
              "          if (!dataTable) return;\n",
              "\n",
              "          const docLinkHtml = 'Like what you see? Visit the ' +\n",
              "            '<a target=\"_blank\" href=https://colab.research.google.com/notebooks/data_table.ipynb>data table notebook</a>'\n",
              "            + ' to learn more about interactive tables.';\n",
              "          element.innerHTML = '';\n",
              "          dataTable['output_type'] = 'display_data';\n",
              "          await google.colab.output.renderOutput(dataTable, element);\n",
              "          const docLink = document.createElement('div');\n",
              "          docLink.innerHTML = docLinkHtml;\n",
              "          element.appendChild(docLink);\n",
              "        }\n",
              "      </script>\n",
              "    </div>\n",
              "  </div>\n",
              "  "
            ]
          },
          "metadata": {},
          "execution_count": 393
        }
      ]
    },
    {
      "cell_type": "code",
      "execution_count": 406,
      "metadata": {
        "id": "5BL17KZDorms"
      },
      "outputs": [],
      "source": [
        "despesa_ceaps_full_forecasting = despesa_ceaps_full[['datetime', 'VALOR_REEMBOLSADO']].sort_values(by='datetime')"
      ]
    },
    {
      "cell_type": "code",
      "execution_count": 407,
      "metadata": {
        "colab": {
          "base_uri": "https://localhost:8080/"
        },
        "id": "hJDjL7Kbwh0c",
        "outputId": "00d4707e-a9a4-42f4-c7a7-c42320a5b0bd"
      },
      "outputs": [
        {
          "output_type": "stream",
          "name": "stdout",
          "text": [
            "<class 'pandas.core.frame.DataFrame'>\n",
            "Int64Index: 56281 entries, 2283 to 55993\n",
            "Data columns (total 2 columns):\n",
            " #   Column             Non-Null Count  Dtype         \n",
            "---  ------             --------------  -----         \n",
            " 0   datetime           56081 non-null  datetime64[ns]\n",
            " 1   VALOR_REEMBOLSADO  56281 non-null  float64       \n",
            "dtypes: datetime64[ns](1), float64(1)\n",
            "memory usage: 1.3 MB\n"
          ]
        }
      ],
      "source": [
        "despesa_ceaps_full_forecasting.info()"
      ]
    },
    {
      "cell_type": "code",
      "source": [
        "despesa_ceaps_full"
      ],
      "metadata": {
        "colab": {
          "base_uri": "https://localhost:8080/",
          "height": 1000
        },
        "id": "tDhMX3oqemh0",
        "outputId": "bf366f80-5b87-4adc-a9e1-6264aca1165b"
      },
      "execution_count": 408,
      "outputs": [
        {
          "output_type": "execute_result",
          "data": {
            "text/plain": [
              "        ANO  MES           SENADOR  \\\n",
              "0      2019    1      ACIR GURGACZ   \n",
              "1      2019    1      ACIR GURGACZ   \n",
              "2      2019    1      ACIR GURGACZ   \n",
              "3      2019    1      ACIR GURGACZ   \n",
              "4      2019    2      ACIR GURGACZ   \n",
              "...     ...  ...               ...   \n",
              "56276  2022    4  ZEQUINHA MARINHO   \n",
              "56277  2022    4  ZEQUINHA MARINHO   \n",
              "56278  2022    4  ZEQUINHA MARINHO   \n",
              "56279  2022    4  ZEQUINHA MARINHO   \n",
              "56280  2022    4  ZEQUINHA MARINHO   \n",
              "\n",
              "                                            TIPO_DESPESA            CNPJ_CPF  \\\n",
              "0      Aluguel de imóveis para escritório político, c...  05.914.650/0001-66   \n",
              "1      Aluguel de imóveis para escritório político, c...  05.914.650/0001-66   \n",
              "2      Aluguel de imóveis para escritório político, c...      004.948.028-63   \n",
              "3      Aluguel de imóveis para escritório político, c...  05.423.963/0001-11   \n",
              "4      Aluguel de imóveis para escritório político, c...  05.914.650/0001-66   \n",
              "...                                                  ...                 ...   \n",
              "56276  Passagens aéreas, aquáticas e terrestres nacio...  22.052.777/0001-32   \n",
              "56277  Passagens aéreas, aquáticas e terrestres nacio...  22.052.777/0001-32   \n",
              "56278  Passagens aéreas, aquáticas e terrestres nacio...  22.052.777/0001-32   \n",
              "56279  Passagens aéreas, aquáticas e terrestres nacio...  22.052.777/0001-32   \n",
              "56280  Passagens aéreas, aquáticas e terrestres nacio...  22.052.777/0001-32   \n",
              "\n",
              "                          FORNECEDOR        DATA  \\\n",
              "0                           ENERGISA  04/01/2019   \n",
              "1                           ENERGISA  04/01/2019   \n",
              "2      GILBERTO PISELO DO NASCIMENTO  07/01/2019   \n",
              "3                      OI MÓVEL S.A.  25/12/2018   \n",
              "4                           ENERGISA  04/02/2019   \n",
              "...                              ...         ...   \n",
              "56276                  Exceller Tour  02/04/2022   \n",
              "56277                  Exceller Tour  02/04/2022   \n",
              "56278                  Exceller Tour  04/04/2022   \n",
              "56279                  Exceller Tour  06/04/2022   \n",
              "56280                  Exceller Tour  06/04/2022   \n",
              "\n",
              "                                            DETALHAMENTO  VALOR_REEMBOLSADO  \\\n",
              "0      Despesa com pagamento de energia elétrica do e...             66.020   \n",
              "1      Despesa com pagamento de energia elétrica do e...            139.980   \n",
              "2      Despesa com pagamento de aluguel de imóvel par...           6000.000   \n",
              "3      Despesa com pagamento de telefonia para o escr...            316.390   \n",
              "4      Despesa com pagamento de energia elétrica para...             99.450   \n",
              "...                                                  ...                ...   \n",
              "56276  Companhia Aérea: LATAM, Localizador: FXMSVF. P...           1361.660   \n",
              "56277  Companhia Aérea: LATAM, Localizador: VLNWSC. P...           2723.230   \n",
              "56278  Companhia Aérea: GOL, Localizador: QVOLRY. Pas...           1681.230   \n",
              "56279  Companhia Aérea: AZUL, Localizador: JBHH5Y. Pa...           1663.610   \n",
              "56280  Companhia Aérea: LATAM, Localizador: FRFFFI. P...           2324.000   \n",
              "\n",
              "       SEM_DOCUMENTO  SEM_DETALHAMENTO  dia mes   ano   datetime  \n",
              "0              0.000             0.000    4   1  2019 2019-01-04  \n",
              "1              0.000             0.000    4   1  2019 2019-01-04  \n",
              "2              0.000             0.000    7   1  2019 2019-01-07  \n",
              "3              0.000             0.000   25   1  2019 2019-01-25  \n",
              "4              0.000             0.000    4   2  2019 2019-02-04  \n",
              "...              ...               ...  ...  ..   ...        ...  \n",
              "56276          0.000             0.000    2   4  2022 2022-04-02  \n",
              "56277          0.000             0.000    2   4  2022 2022-04-02  \n",
              "56278          0.000             0.000    4   4  2022 2022-04-04  \n",
              "56279          0.000             0.000    6   4  2022 2022-04-06  \n",
              "56280          0.000             0.000    6   4  2022 2022-04-06  \n",
              "\n",
              "[56281 rows x 15 columns]"
            ],
            "text/html": [
              "\n",
              "  <div id=\"df-8d35931c-b71d-4c69-9208-e6a2a4fd813c\">\n",
              "    <div class=\"colab-df-container\">\n",
              "      <div>\n",
              "<style scoped>\n",
              "    .dataframe tbody tr th:only-of-type {\n",
              "        vertical-align: middle;\n",
              "    }\n",
              "\n",
              "    .dataframe tbody tr th {\n",
              "        vertical-align: top;\n",
              "    }\n",
              "\n",
              "    .dataframe thead th {\n",
              "        text-align: right;\n",
              "    }\n",
              "</style>\n",
              "<table border=\"1\" class=\"dataframe\">\n",
              "  <thead>\n",
              "    <tr style=\"text-align: right;\">\n",
              "      <th></th>\n",
              "      <th>ANO</th>\n",
              "      <th>MES</th>\n",
              "      <th>SENADOR</th>\n",
              "      <th>TIPO_DESPESA</th>\n",
              "      <th>CNPJ_CPF</th>\n",
              "      <th>FORNECEDOR</th>\n",
              "      <th>DATA</th>\n",
              "      <th>DETALHAMENTO</th>\n",
              "      <th>VALOR_REEMBOLSADO</th>\n",
              "      <th>SEM_DOCUMENTO</th>\n",
              "      <th>SEM_DETALHAMENTO</th>\n",
              "      <th>dia</th>\n",
              "      <th>mes</th>\n",
              "      <th>ano</th>\n",
              "      <th>datetime</th>\n",
              "    </tr>\n",
              "  </thead>\n",
              "  <tbody>\n",
              "    <tr>\n",
              "      <th>0</th>\n",
              "      <td>2019</td>\n",
              "      <td>1</td>\n",
              "      <td>ACIR GURGACZ</td>\n",
              "      <td>Aluguel de imóveis para escritório político, c...</td>\n",
              "      <td>05.914.650/0001-66</td>\n",
              "      <td>ENERGISA</td>\n",
              "      <td>04/01/2019</td>\n",
              "      <td>Despesa com pagamento de energia elétrica do e...</td>\n",
              "      <td>66.020</td>\n",
              "      <td>0.000</td>\n",
              "      <td>0.000</td>\n",
              "      <td>4</td>\n",
              "      <td>1</td>\n",
              "      <td>2019</td>\n",
              "      <td>2019-01-04</td>\n",
              "    </tr>\n",
              "    <tr>\n",
              "      <th>1</th>\n",
              "      <td>2019</td>\n",
              "      <td>1</td>\n",
              "      <td>ACIR GURGACZ</td>\n",
              "      <td>Aluguel de imóveis para escritório político, c...</td>\n",
              "      <td>05.914.650/0001-66</td>\n",
              "      <td>ENERGISA</td>\n",
              "      <td>04/01/2019</td>\n",
              "      <td>Despesa com pagamento de energia elétrica do e...</td>\n",
              "      <td>139.980</td>\n",
              "      <td>0.000</td>\n",
              "      <td>0.000</td>\n",
              "      <td>4</td>\n",
              "      <td>1</td>\n",
              "      <td>2019</td>\n",
              "      <td>2019-01-04</td>\n",
              "    </tr>\n",
              "    <tr>\n",
              "      <th>2</th>\n",
              "      <td>2019</td>\n",
              "      <td>1</td>\n",
              "      <td>ACIR GURGACZ</td>\n",
              "      <td>Aluguel de imóveis para escritório político, c...</td>\n",
              "      <td>004.948.028-63</td>\n",
              "      <td>GILBERTO PISELO DO NASCIMENTO</td>\n",
              "      <td>07/01/2019</td>\n",
              "      <td>Despesa com pagamento de aluguel de imóvel par...</td>\n",
              "      <td>6000.000</td>\n",
              "      <td>0.000</td>\n",
              "      <td>0.000</td>\n",
              "      <td>7</td>\n",
              "      <td>1</td>\n",
              "      <td>2019</td>\n",
              "      <td>2019-01-07</td>\n",
              "    </tr>\n",
              "    <tr>\n",
              "      <th>3</th>\n",
              "      <td>2019</td>\n",
              "      <td>1</td>\n",
              "      <td>ACIR GURGACZ</td>\n",
              "      <td>Aluguel de imóveis para escritório político, c...</td>\n",
              "      <td>05.423.963/0001-11</td>\n",
              "      <td>OI MÓVEL S.A.</td>\n",
              "      <td>25/12/2018</td>\n",
              "      <td>Despesa com pagamento de telefonia para o escr...</td>\n",
              "      <td>316.390</td>\n",
              "      <td>0.000</td>\n",
              "      <td>0.000</td>\n",
              "      <td>25</td>\n",
              "      <td>1</td>\n",
              "      <td>2019</td>\n",
              "      <td>2019-01-25</td>\n",
              "    </tr>\n",
              "    <tr>\n",
              "      <th>4</th>\n",
              "      <td>2019</td>\n",
              "      <td>2</td>\n",
              "      <td>ACIR GURGACZ</td>\n",
              "      <td>Aluguel de imóveis para escritório político, c...</td>\n",
              "      <td>05.914.650/0001-66</td>\n",
              "      <td>ENERGISA</td>\n",
              "      <td>04/02/2019</td>\n",
              "      <td>Despesa com pagamento de energia elétrica para...</td>\n",
              "      <td>99.450</td>\n",
              "      <td>0.000</td>\n",
              "      <td>0.000</td>\n",
              "      <td>4</td>\n",
              "      <td>2</td>\n",
              "      <td>2019</td>\n",
              "      <td>2019-02-04</td>\n",
              "    </tr>\n",
              "    <tr>\n",
              "      <th>...</th>\n",
              "      <td>...</td>\n",
              "      <td>...</td>\n",
              "      <td>...</td>\n",
              "      <td>...</td>\n",
              "      <td>...</td>\n",
              "      <td>...</td>\n",
              "      <td>...</td>\n",
              "      <td>...</td>\n",
              "      <td>...</td>\n",
              "      <td>...</td>\n",
              "      <td>...</td>\n",
              "      <td>...</td>\n",
              "      <td>...</td>\n",
              "      <td>...</td>\n",
              "      <td>...</td>\n",
              "    </tr>\n",
              "    <tr>\n",
              "      <th>56276</th>\n",
              "      <td>2022</td>\n",
              "      <td>4</td>\n",
              "      <td>ZEQUINHA MARINHO</td>\n",
              "      <td>Passagens aéreas, aquáticas e terrestres nacio...</td>\n",
              "      <td>22.052.777/0001-32</td>\n",
              "      <td>Exceller Tour</td>\n",
              "      <td>02/04/2022</td>\n",
              "      <td>Companhia Aérea: LATAM, Localizador: FXMSVF. P...</td>\n",
              "      <td>1361.660</td>\n",
              "      <td>0.000</td>\n",
              "      <td>0.000</td>\n",
              "      <td>2</td>\n",
              "      <td>4</td>\n",
              "      <td>2022</td>\n",
              "      <td>2022-04-02</td>\n",
              "    </tr>\n",
              "    <tr>\n",
              "      <th>56277</th>\n",
              "      <td>2022</td>\n",
              "      <td>4</td>\n",
              "      <td>ZEQUINHA MARINHO</td>\n",
              "      <td>Passagens aéreas, aquáticas e terrestres nacio...</td>\n",
              "      <td>22.052.777/0001-32</td>\n",
              "      <td>Exceller Tour</td>\n",
              "      <td>02/04/2022</td>\n",
              "      <td>Companhia Aérea: LATAM, Localizador: VLNWSC. P...</td>\n",
              "      <td>2723.230</td>\n",
              "      <td>0.000</td>\n",
              "      <td>0.000</td>\n",
              "      <td>2</td>\n",
              "      <td>4</td>\n",
              "      <td>2022</td>\n",
              "      <td>2022-04-02</td>\n",
              "    </tr>\n",
              "    <tr>\n",
              "      <th>56278</th>\n",
              "      <td>2022</td>\n",
              "      <td>4</td>\n",
              "      <td>ZEQUINHA MARINHO</td>\n",
              "      <td>Passagens aéreas, aquáticas e terrestres nacio...</td>\n",
              "      <td>22.052.777/0001-32</td>\n",
              "      <td>Exceller Tour</td>\n",
              "      <td>04/04/2022</td>\n",
              "      <td>Companhia Aérea: GOL, Localizador: QVOLRY. Pas...</td>\n",
              "      <td>1681.230</td>\n",
              "      <td>0.000</td>\n",
              "      <td>0.000</td>\n",
              "      <td>4</td>\n",
              "      <td>4</td>\n",
              "      <td>2022</td>\n",
              "      <td>2022-04-04</td>\n",
              "    </tr>\n",
              "    <tr>\n",
              "      <th>56279</th>\n",
              "      <td>2022</td>\n",
              "      <td>4</td>\n",
              "      <td>ZEQUINHA MARINHO</td>\n",
              "      <td>Passagens aéreas, aquáticas e terrestres nacio...</td>\n",
              "      <td>22.052.777/0001-32</td>\n",
              "      <td>Exceller Tour</td>\n",
              "      <td>06/04/2022</td>\n",
              "      <td>Companhia Aérea: AZUL, Localizador: JBHH5Y. Pa...</td>\n",
              "      <td>1663.610</td>\n",
              "      <td>0.000</td>\n",
              "      <td>0.000</td>\n",
              "      <td>6</td>\n",
              "      <td>4</td>\n",
              "      <td>2022</td>\n",
              "      <td>2022-04-06</td>\n",
              "    </tr>\n",
              "    <tr>\n",
              "      <th>56280</th>\n",
              "      <td>2022</td>\n",
              "      <td>4</td>\n",
              "      <td>ZEQUINHA MARINHO</td>\n",
              "      <td>Passagens aéreas, aquáticas e terrestres nacio...</td>\n",
              "      <td>22.052.777/0001-32</td>\n",
              "      <td>Exceller Tour</td>\n",
              "      <td>06/04/2022</td>\n",
              "      <td>Companhia Aérea: LATAM, Localizador: FRFFFI. P...</td>\n",
              "      <td>2324.000</td>\n",
              "      <td>0.000</td>\n",
              "      <td>0.000</td>\n",
              "      <td>6</td>\n",
              "      <td>4</td>\n",
              "      <td>2022</td>\n",
              "      <td>2022-04-06</td>\n",
              "    </tr>\n",
              "  </tbody>\n",
              "</table>\n",
              "<p>56281 rows × 15 columns</p>\n",
              "</div>\n",
              "      <button class=\"colab-df-convert\" onclick=\"convertToInteractive('df-8d35931c-b71d-4c69-9208-e6a2a4fd813c')\"\n",
              "              title=\"Convert this dataframe to an interactive table.\"\n",
              "              style=\"display:none;\">\n",
              "        \n",
              "  <svg xmlns=\"http://www.w3.org/2000/svg\" height=\"24px\"viewBox=\"0 0 24 24\"\n",
              "       width=\"24px\">\n",
              "    <path d=\"M0 0h24v24H0V0z\" fill=\"none\"/>\n",
              "    <path d=\"M18.56 5.44l.94 2.06.94-2.06 2.06-.94-2.06-.94-.94-2.06-.94 2.06-2.06.94zm-11 1L8.5 8.5l.94-2.06 2.06-.94-2.06-.94L8.5 2.5l-.94 2.06-2.06.94zm10 10l.94 2.06.94-2.06 2.06-.94-2.06-.94-.94-2.06-.94 2.06-2.06.94z\"/><path d=\"M17.41 7.96l-1.37-1.37c-.4-.4-.92-.59-1.43-.59-.52 0-1.04.2-1.43.59L10.3 9.45l-7.72 7.72c-.78.78-.78 2.05 0 2.83L4 21.41c.39.39.9.59 1.41.59.51 0 1.02-.2 1.41-.59l7.78-7.78 2.81-2.81c.8-.78.8-2.07 0-2.86zM5.41 20L4 18.59l7.72-7.72 1.47 1.35L5.41 20z\"/>\n",
              "  </svg>\n",
              "      </button>\n",
              "      \n",
              "  <style>\n",
              "    .colab-df-container {\n",
              "      display:flex;\n",
              "      flex-wrap:wrap;\n",
              "      gap: 12px;\n",
              "    }\n",
              "\n",
              "    .colab-df-convert {\n",
              "      background-color: #E8F0FE;\n",
              "      border: none;\n",
              "      border-radius: 50%;\n",
              "      cursor: pointer;\n",
              "      display: none;\n",
              "      fill: #1967D2;\n",
              "      height: 32px;\n",
              "      padding: 0 0 0 0;\n",
              "      width: 32px;\n",
              "    }\n",
              "\n",
              "    .colab-df-convert:hover {\n",
              "      background-color: #E2EBFA;\n",
              "      box-shadow: 0px 1px 2px rgba(60, 64, 67, 0.3), 0px 1px 3px 1px rgba(60, 64, 67, 0.15);\n",
              "      fill: #174EA6;\n",
              "    }\n",
              "\n",
              "    [theme=dark] .colab-df-convert {\n",
              "      background-color: #3B4455;\n",
              "      fill: #D2E3FC;\n",
              "    }\n",
              "\n",
              "    [theme=dark] .colab-df-convert:hover {\n",
              "      background-color: #434B5C;\n",
              "      box-shadow: 0px 1px 3px 1px rgba(0, 0, 0, 0.15);\n",
              "      filter: drop-shadow(0px 1px 2px rgba(0, 0, 0, 0.3));\n",
              "      fill: #FFFFFF;\n",
              "    }\n",
              "  </style>\n",
              "\n",
              "      <script>\n",
              "        const buttonEl =\n",
              "          document.querySelector('#df-8d35931c-b71d-4c69-9208-e6a2a4fd813c button.colab-df-convert');\n",
              "        buttonEl.style.display =\n",
              "          google.colab.kernel.accessAllowed ? 'block' : 'none';\n",
              "\n",
              "        async function convertToInteractive(key) {\n",
              "          const element = document.querySelector('#df-8d35931c-b71d-4c69-9208-e6a2a4fd813c');\n",
              "          const dataTable =\n",
              "            await google.colab.kernel.invokeFunction('convertToInteractive',\n",
              "                                                     [key], {});\n",
              "          if (!dataTable) return;\n",
              "\n",
              "          const docLinkHtml = 'Like what you see? Visit the ' +\n",
              "            '<a target=\"_blank\" href=https://colab.research.google.com/notebooks/data_table.ipynb>data table notebook</a>'\n",
              "            + ' to learn more about interactive tables.';\n",
              "          element.innerHTML = '';\n",
              "          dataTable['output_type'] = 'display_data';\n",
              "          await google.colab.output.renderOutput(dataTable, element);\n",
              "          const docLink = document.createElement('div');\n",
              "          docLink.innerHTML = docLinkHtml;\n",
              "          element.appendChild(docLink);\n",
              "        }\n",
              "      </script>\n",
              "    </div>\n",
              "  </div>\n",
              "  "
            ]
          },
          "metadata": {},
          "execution_count": 408
        }
      ]
    },
    {
      "cell_type": "code",
      "source": [
        "despesa_ceaps_full_forecasting[despesa_ceaps_full_forecasting['datetime'].isnull()]['datetime']"
      ],
      "metadata": {
        "colab": {
          "base_uri": "https://localhost:8080/"
        },
        "id": "huiE5z1ld6pw",
        "outputId": "61eb83be-fe17-4ae6-b66d-bafec5a42823"
      },
      "execution_count": 409,
      "outputs": [
        {
          "output_type": "execute_result",
          "data": {
            "text/plain": [
              "381     NaT\n",
              "425     NaT\n",
              "447     NaT\n",
              "565     NaT\n",
              "739     NaT\n",
              "         ..\n",
              "55387   NaT\n",
              "55572   NaT\n",
              "55964   NaT\n",
              "55992   NaT\n",
              "55993   NaT\n",
              "Name: datetime, Length: 200, dtype: datetime64[ns]"
            ]
          },
          "metadata": {},
          "execution_count": 409
        }
      ]
    },
    {
      "cell_type": "code",
      "source": [
        "despesa_ceaps_full_forecasting"
      ],
      "metadata": {
        "colab": {
          "base_uri": "https://localhost:8080/",
          "height": 424
        },
        "id": "Rn15zmVS43iM",
        "outputId": "d99ae69e-245c-4446-d1f9-5bba079765ca"
      },
      "execution_count": 420,
      "outputs": [
        {
          "output_type": "execute_result",
          "data": {
            "text/plain": [
              "             ds          y\n",
              "0    2019-01-01  33286.220\n",
              "1    2019-01-02 123919.930\n",
              "2    2019-01-03  26556.320\n",
              "3    2019-01-04  45421.200\n",
              "4    2019-01-05  29257.710\n",
              "...         ...        ...\n",
              "1201 2022-04-24   5357.570\n",
              "1202 2022-04-27   4877.460\n",
              "1203 2022-04-28   1379.660\n",
              "1204 2022-04-29   1530.180\n",
              "1205 2022-04-30    980.720\n",
              "\n",
              "[1206 rows x 2 columns]"
            ],
            "text/html": [
              "\n",
              "  <div id=\"df-a00bb89d-44dc-4358-8ed7-f84a3a21bd6a\">\n",
              "    <div class=\"colab-df-container\">\n",
              "      <div>\n",
              "<style scoped>\n",
              "    .dataframe tbody tr th:only-of-type {\n",
              "        vertical-align: middle;\n",
              "    }\n",
              "\n",
              "    .dataframe tbody tr th {\n",
              "        vertical-align: top;\n",
              "    }\n",
              "\n",
              "    .dataframe thead th {\n",
              "        text-align: right;\n",
              "    }\n",
              "</style>\n",
              "<table border=\"1\" class=\"dataframe\">\n",
              "  <thead>\n",
              "    <tr style=\"text-align: right;\">\n",
              "      <th></th>\n",
              "      <th>ds</th>\n",
              "      <th>y</th>\n",
              "    </tr>\n",
              "  </thead>\n",
              "  <tbody>\n",
              "    <tr>\n",
              "      <th>0</th>\n",
              "      <td>2019-01-01</td>\n",
              "      <td>33286.220</td>\n",
              "    </tr>\n",
              "    <tr>\n",
              "      <th>1</th>\n",
              "      <td>2019-01-02</td>\n",
              "      <td>123919.930</td>\n",
              "    </tr>\n",
              "    <tr>\n",
              "      <th>2</th>\n",
              "      <td>2019-01-03</td>\n",
              "      <td>26556.320</td>\n",
              "    </tr>\n",
              "    <tr>\n",
              "      <th>3</th>\n",
              "      <td>2019-01-04</td>\n",
              "      <td>45421.200</td>\n",
              "    </tr>\n",
              "    <tr>\n",
              "      <th>4</th>\n",
              "      <td>2019-01-05</td>\n",
              "      <td>29257.710</td>\n",
              "    </tr>\n",
              "    <tr>\n",
              "      <th>...</th>\n",
              "      <td>...</td>\n",
              "      <td>...</td>\n",
              "    </tr>\n",
              "    <tr>\n",
              "      <th>1201</th>\n",
              "      <td>2022-04-24</td>\n",
              "      <td>5357.570</td>\n",
              "    </tr>\n",
              "    <tr>\n",
              "      <th>1202</th>\n",
              "      <td>2022-04-27</td>\n",
              "      <td>4877.460</td>\n",
              "    </tr>\n",
              "    <tr>\n",
              "      <th>1203</th>\n",
              "      <td>2022-04-28</td>\n",
              "      <td>1379.660</td>\n",
              "    </tr>\n",
              "    <tr>\n",
              "      <th>1204</th>\n",
              "      <td>2022-04-29</td>\n",
              "      <td>1530.180</td>\n",
              "    </tr>\n",
              "    <tr>\n",
              "      <th>1205</th>\n",
              "      <td>2022-04-30</td>\n",
              "      <td>980.720</td>\n",
              "    </tr>\n",
              "  </tbody>\n",
              "</table>\n",
              "<p>1206 rows × 2 columns</p>\n",
              "</div>\n",
              "      <button class=\"colab-df-convert\" onclick=\"convertToInteractive('df-a00bb89d-44dc-4358-8ed7-f84a3a21bd6a')\"\n",
              "              title=\"Convert this dataframe to an interactive table.\"\n",
              "              style=\"display:none;\">\n",
              "        \n",
              "  <svg xmlns=\"http://www.w3.org/2000/svg\" height=\"24px\"viewBox=\"0 0 24 24\"\n",
              "       width=\"24px\">\n",
              "    <path d=\"M0 0h24v24H0V0z\" fill=\"none\"/>\n",
              "    <path d=\"M18.56 5.44l.94 2.06.94-2.06 2.06-.94-2.06-.94-.94-2.06-.94 2.06-2.06.94zm-11 1L8.5 8.5l.94-2.06 2.06-.94-2.06-.94L8.5 2.5l-.94 2.06-2.06.94zm10 10l.94 2.06.94-2.06 2.06-.94-2.06-.94-.94-2.06-.94 2.06-2.06.94z\"/><path d=\"M17.41 7.96l-1.37-1.37c-.4-.4-.92-.59-1.43-.59-.52 0-1.04.2-1.43.59L10.3 9.45l-7.72 7.72c-.78.78-.78 2.05 0 2.83L4 21.41c.39.39.9.59 1.41.59.51 0 1.02-.2 1.41-.59l7.78-7.78 2.81-2.81c.8-.78.8-2.07 0-2.86zM5.41 20L4 18.59l7.72-7.72 1.47 1.35L5.41 20z\"/>\n",
              "  </svg>\n",
              "      </button>\n",
              "      \n",
              "  <style>\n",
              "    .colab-df-container {\n",
              "      display:flex;\n",
              "      flex-wrap:wrap;\n",
              "      gap: 12px;\n",
              "    }\n",
              "\n",
              "    .colab-df-convert {\n",
              "      background-color: #E8F0FE;\n",
              "      border: none;\n",
              "      border-radius: 50%;\n",
              "      cursor: pointer;\n",
              "      display: none;\n",
              "      fill: #1967D2;\n",
              "      height: 32px;\n",
              "      padding: 0 0 0 0;\n",
              "      width: 32px;\n",
              "    }\n",
              "\n",
              "    .colab-df-convert:hover {\n",
              "      background-color: #E2EBFA;\n",
              "      box-shadow: 0px 1px 2px rgba(60, 64, 67, 0.3), 0px 1px 3px 1px rgba(60, 64, 67, 0.15);\n",
              "      fill: #174EA6;\n",
              "    }\n",
              "\n",
              "    [theme=dark] .colab-df-convert {\n",
              "      background-color: #3B4455;\n",
              "      fill: #D2E3FC;\n",
              "    }\n",
              "\n",
              "    [theme=dark] .colab-df-convert:hover {\n",
              "      background-color: #434B5C;\n",
              "      box-shadow: 0px 1px 3px 1px rgba(0, 0, 0, 0.15);\n",
              "      filter: drop-shadow(0px 1px 2px rgba(0, 0, 0, 0.3));\n",
              "      fill: #FFFFFF;\n",
              "    }\n",
              "  </style>\n",
              "\n",
              "      <script>\n",
              "        const buttonEl =\n",
              "          document.querySelector('#df-a00bb89d-44dc-4358-8ed7-f84a3a21bd6a button.colab-df-convert');\n",
              "        buttonEl.style.display =\n",
              "          google.colab.kernel.accessAllowed ? 'block' : 'none';\n",
              "\n",
              "        async function convertToInteractive(key) {\n",
              "          const element = document.querySelector('#df-a00bb89d-44dc-4358-8ed7-f84a3a21bd6a');\n",
              "          const dataTable =\n",
              "            await google.colab.kernel.invokeFunction('convertToInteractive',\n",
              "                                                     [key], {});\n",
              "          if (!dataTable) return;\n",
              "\n",
              "          const docLinkHtml = 'Like what you see? Visit the ' +\n",
              "            '<a target=\"_blank\" href=https://colab.research.google.com/notebooks/data_table.ipynb>data table notebook</a>'\n",
              "            + ' to learn more about interactive tables.';\n",
              "          element.innerHTML = '';\n",
              "          dataTable['output_type'] = 'display_data';\n",
              "          await google.colab.output.renderOutput(dataTable, element);\n",
              "          const docLink = document.createElement('div');\n",
              "          docLink.innerHTML = docLinkHtml;\n",
              "          element.appendChild(docLink);\n",
              "        }\n",
              "      </script>\n",
              "    </div>\n",
              "  </div>\n",
              "  "
            ]
          },
          "metadata": {},
          "execution_count": 420
        }
      ]
    },
    {
      "cell_type": "code",
      "execution_count": 421,
      "metadata": {
        "id": "mqN8O0oQwctv",
        "colab": {
          "base_uri": "https://localhost:8080/",
          "height": 345
        },
        "outputId": "a1037914-a3e4-4509-95b7-d29f1e4dfd54"
      },
      "outputs": [
        {
          "output_type": "error",
          "ename": "KeyError",
          "evalue": "ignored",
          "traceback": [
            "\u001b[0;31m---------------------------------------------------------------------------\u001b[0m",
            "\u001b[0;31mKeyError\u001b[0m                                  Traceback (most recent call last)",
            "\u001b[0;32m<ipython-input-421-6f71e44e80c1>\u001b[0m in \u001b[0;36m<module>\u001b[0;34m()\u001b[0m\n\u001b[0;32m----> 1\u001b[0;31m \u001b[0mdespesa_ceaps_full_forecasting\u001b[0m \u001b[0;34m=\u001b[0m \u001b[0mdespesa_ceaps_full_forecasting\u001b[0m\u001b[0;34m.\u001b[0m\u001b[0mgroupby\u001b[0m\u001b[0;34m(\u001b[0m\u001b[0;34m'datetime'\u001b[0m\u001b[0;34m)\u001b[0m\u001b[0;34m.\u001b[0m\u001b[0msum\u001b[0m\u001b[0;34m(\u001b[0m\u001b[0;34m)\u001b[0m\u001b[0;34m.\u001b[0m\u001b[0msort_values\u001b[0m\u001b[0;34m(\u001b[0m\u001b[0mby\u001b[0m\u001b[0;34m=\u001b[0m\u001b[0;34m'datetime'\u001b[0m\u001b[0;34m)\u001b[0m\u001b[0;34m\u001b[0m\u001b[0;34m\u001b[0m\u001b[0m\n\u001b[0m",
            "\u001b[0;32m/usr/local/lib/python3.7/dist-packages/pandas/core/frame.py\u001b[0m in \u001b[0;36mgroupby\u001b[0;34m(self, by, axis, level, as_index, sort, group_keys, squeeze, observed, dropna)\u001b[0m\n\u001b[1;32m   7639\u001b[0m             \u001b[0msqueeze\u001b[0m\u001b[0;34m=\u001b[0m\u001b[0msqueeze\u001b[0m\u001b[0;34m,\u001b[0m  \u001b[0;31m# type: ignore[arg-type]\u001b[0m\u001b[0;34m\u001b[0m\u001b[0;34m\u001b[0m\u001b[0m\n\u001b[1;32m   7640\u001b[0m             \u001b[0mobserved\u001b[0m\u001b[0;34m=\u001b[0m\u001b[0mobserved\u001b[0m\u001b[0;34m,\u001b[0m\u001b[0;34m\u001b[0m\u001b[0;34m\u001b[0m\u001b[0m\n\u001b[0;32m-> 7641\u001b[0;31m             \u001b[0mdropna\u001b[0m\u001b[0;34m=\u001b[0m\u001b[0mdropna\u001b[0m\u001b[0;34m,\u001b[0m\u001b[0;34m\u001b[0m\u001b[0;34m\u001b[0m\u001b[0m\n\u001b[0m\u001b[1;32m   7642\u001b[0m         )\n\u001b[1;32m   7643\u001b[0m \u001b[0;34m\u001b[0m\u001b[0m\n",
            "\u001b[0;32m/usr/local/lib/python3.7/dist-packages/pandas/core/groupby/groupby.py\u001b[0m in \u001b[0;36m__init__\u001b[0;34m(self, obj, keys, axis, level, grouper, exclusions, selection, as_index, sort, group_keys, squeeze, observed, mutated, dropna)\u001b[0m\n\u001b[1;32m    895\u001b[0m                 \u001b[0mobserved\u001b[0m\u001b[0;34m=\u001b[0m\u001b[0mobserved\u001b[0m\u001b[0;34m,\u001b[0m\u001b[0;34m\u001b[0m\u001b[0;34m\u001b[0m\u001b[0m\n\u001b[1;32m    896\u001b[0m                 \u001b[0mmutated\u001b[0m\u001b[0;34m=\u001b[0m\u001b[0mself\u001b[0m\u001b[0;34m.\u001b[0m\u001b[0mmutated\u001b[0m\u001b[0;34m,\u001b[0m\u001b[0;34m\u001b[0m\u001b[0;34m\u001b[0m\u001b[0m\n\u001b[0;32m--> 897\u001b[0;31m                 \u001b[0mdropna\u001b[0m\u001b[0;34m=\u001b[0m\u001b[0mself\u001b[0m\u001b[0;34m.\u001b[0m\u001b[0mdropna\u001b[0m\u001b[0;34m,\u001b[0m\u001b[0;34m\u001b[0m\u001b[0;34m\u001b[0m\u001b[0m\n\u001b[0m\u001b[1;32m    898\u001b[0m             )\n\u001b[1;32m    899\u001b[0m \u001b[0;34m\u001b[0m\u001b[0m\n",
            "\u001b[0;32m/usr/local/lib/python3.7/dist-packages/pandas/core/groupby/grouper.py\u001b[0m in \u001b[0;36mget_grouper\u001b[0;34m(obj, key, axis, level, sort, observed, mutated, validate, dropna)\u001b[0m\n\u001b[1;32m    860\u001b[0m                 \u001b[0min_axis\u001b[0m\u001b[0;34m,\u001b[0m \u001b[0mlevel\u001b[0m\u001b[0;34m,\u001b[0m \u001b[0mgpr\u001b[0m \u001b[0;34m=\u001b[0m \u001b[0;32mFalse\u001b[0m\u001b[0;34m,\u001b[0m \u001b[0mgpr\u001b[0m\u001b[0;34m,\u001b[0m \u001b[0;32mNone\u001b[0m\u001b[0;34m\u001b[0m\u001b[0;34m\u001b[0m\u001b[0m\n\u001b[1;32m    861\u001b[0m             \u001b[0;32melse\u001b[0m\u001b[0;34m:\u001b[0m\u001b[0;34m\u001b[0m\u001b[0;34m\u001b[0m\u001b[0m\n\u001b[0;32m--> 862\u001b[0;31m                 \u001b[0;32mraise\u001b[0m \u001b[0mKeyError\u001b[0m\u001b[0;34m(\u001b[0m\u001b[0mgpr\u001b[0m\u001b[0;34m)\u001b[0m\u001b[0;34m\u001b[0m\u001b[0;34m\u001b[0m\u001b[0m\n\u001b[0m\u001b[1;32m    863\u001b[0m         \u001b[0;32melif\u001b[0m \u001b[0misinstance\u001b[0m\u001b[0;34m(\u001b[0m\u001b[0mgpr\u001b[0m\u001b[0;34m,\u001b[0m \u001b[0mGrouper\u001b[0m\u001b[0;34m)\u001b[0m \u001b[0;32mand\u001b[0m \u001b[0mgpr\u001b[0m\u001b[0;34m.\u001b[0m\u001b[0mkey\u001b[0m \u001b[0;32mis\u001b[0m \u001b[0;32mnot\u001b[0m \u001b[0;32mNone\u001b[0m\u001b[0;34m:\u001b[0m\u001b[0;34m\u001b[0m\u001b[0;34m\u001b[0m\u001b[0m\n\u001b[1;32m    864\u001b[0m             \u001b[0;31m# Add key to exclusions\u001b[0m\u001b[0;34m\u001b[0m\u001b[0;34m\u001b[0m\u001b[0;34m\u001b[0m\u001b[0m\n",
            "\u001b[0;31mKeyError\u001b[0m: 'datetime'"
          ]
        }
      ],
      "source": [
        "despesa_ceaps_full_forecasting = despesa_ceaps_full_forecasting.groupby('datetime').sum().sort_values(by='datetime')"
      ]
    },
    {
      "cell_type": "code",
      "execution_count": 422,
      "metadata": {
        "id": "oTTrjj3ZT8df"
      },
      "outputs": [],
      "source": [
        "despesa_ceaps_full_forecasting = despesa_ceaps_full_forecasting.reset_index()"
      ]
    },
    {
      "cell_type": "code",
      "execution_count": 423,
      "metadata": {
        "id": "7C9fZPWLT81D"
      },
      "outputs": [],
      "source": [
        "despesa_ceaps_full_forecasting = despesa_ceaps_full_forecasting.rename(columns={'datetime':'ds',\n",
        "                                               'VALOR_REEMBOLSADO': 'y'})"
      ]
    },
    {
      "cell_type": "code",
      "source": [
        "despesa_ceaps_full_forecasting.tail(3)"
      ],
      "metadata": {
        "colab": {
          "base_uri": "https://localhost:8080/",
          "height": 143
        },
        "id": "K1EQKtFyakeU",
        "outputId": "87ee04a2-b58f-44fb-808d-9095882166bc"
      },
      "execution_count": 424,
      "outputs": [
        {
          "output_type": "execute_result",
          "data": {
            "text/plain": [
              "      index         ds        y\n",
              "1203   1203 2022-04-28 1379.660\n",
              "1204   1204 2022-04-29 1530.180\n",
              "1205   1205 2022-04-30  980.720"
            ],
            "text/html": [
              "\n",
              "  <div id=\"df-38a894bc-92d9-447a-8f4e-0412390121c4\">\n",
              "    <div class=\"colab-df-container\">\n",
              "      <div>\n",
              "<style scoped>\n",
              "    .dataframe tbody tr th:only-of-type {\n",
              "        vertical-align: middle;\n",
              "    }\n",
              "\n",
              "    .dataframe tbody tr th {\n",
              "        vertical-align: top;\n",
              "    }\n",
              "\n",
              "    .dataframe thead th {\n",
              "        text-align: right;\n",
              "    }\n",
              "</style>\n",
              "<table border=\"1\" class=\"dataframe\">\n",
              "  <thead>\n",
              "    <tr style=\"text-align: right;\">\n",
              "      <th></th>\n",
              "      <th>index</th>\n",
              "      <th>ds</th>\n",
              "      <th>y</th>\n",
              "    </tr>\n",
              "  </thead>\n",
              "  <tbody>\n",
              "    <tr>\n",
              "      <th>1203</th>\n",
              "      <td>1203</td>\n",
              "      <td>2022-04-28</td>\n",
              "      <td>1379.660</td>\n",
              "    </tr>\n",
              "    <tr>\n",
              "      <th>1204</th>\n",
              "      <td>1204</td>\n",
              "      <td>2022-04-29</td>\n",
              "      <td>1530.180</td>\n",
              "    </tr>\n",
              "    <tr>\n",
              "      <th>1205</th>\n",
              "      <td>1205</td>\n",
              "      <td>2022-04-30</td>\n",
              "      <td>980.720</td>\n",
              "    </tr>\n",
              "  </tbody>\n",
              "</table>\n",
              "</div>\n",
              "      <button class=\"colab-df-convert\" onclick=\"convertToInteractive('df-38a894bc-92d9-447a-8f4e-0412390121c4')\"\n",
              "              title=\"Convert this dataframe to an interactive table.\"\n",
              "              style=\"display:none;\">\n",
              "        \n",
              "  <svg xmlns=\"http://www.w3.org/2000/svg\" height=\"24px\"viewBox=\"0 0 24 24\"\n",
              "       width=\"24px\">\n",
              "    <path d=\"M0 0h24v24H0V0z\" fill=\"none\"/>\n",
              "    <path d=\"M18.56 5.44l.94 2.06.94-2.06 2.06-.94-2.06-.94-.94-2.06-.94 2.06-2.06.94zm-11 1L8.5 8.5l.94-2.06 2.06-.94-2.06-.94L8.5 2.5l-.94 2.06-2.06.94zm10 10l.94 2.06.94-2.06 2.06-.94-2.06-.94-.94-2.06-.94 2.06-2.06.94z\"/><path d=\"M17.41 7.96l-1.37-1.37c-.4-.4-.92-.59-1.43-.59-.52 0-1.04.2-1.43.59L10.3 9.45l-7.72 7.72c-.78.78-.78 2.05 0 2.83L4 21.41c.39.39.9.59 1.41.59.51 0 1.02-.2 1.41-.59l7.78-7.78 2.81-2.81c.8-.78.8-2.07 0-2.86zM5.41 20L4 18.59l7.72-7.72 1.47 1.35L5.41 20z\"/>\n",
              "  </svg>\n",
              "      </button>\n",
              "      \n",
              "  <style>\n",
              "    .colab-df-container {\n",
              "      display:flex;\n",
              "      flex-wrap:wrap;\n",
              "      gap: 12px;\n",
              "    }\n",
              "\n",
              "    .colab-df-convert {\n",
              "      background-color: #E8F0FE;\n",
              "      border: none;\n",
              "      border-radius: 50%;\n",
              "      cursor: pointer;\n",
              "      display: none;\n",
              "      fill: #1967D2;\n",
              "      height: 32px;\n",
              "      padding: 0 0 0 0;\n",
              "      width: 32px;\n",
              "    }\n",
              "\n",
              "    .colab-df-convert:hover {\n",
              "      background-color: #E2EBFA;\n",
              "      box-shadow: 0px 1px 2px rgba(60, 64, 67, 0.3), 0px 1px 3px 1px rgba(60, 64, 67, 0.15);\n",
              "      fill: #174EA6;\n",
              "    }\n",
              "\n",
              "    [theme=dark] .colab-df-convert {\n",
              "      background-color: #3B4455;\n",
              "      fill: #D2E3FC;\n",
              "    }\n",
              "\n",
              "    [theme=dark] .colab-df-convert:hover {\n",
              "      background-color: #434B5C;\n",
              "      box-shadow: 0px 1px 3px 1px rgba(0, 0, 0, 0.15);\n",
              "      filter: drop-shadow(0px 1px 2px rgba(0, 0, 0, 0.3));\n",
              "      fill: #FFFFFF;\n",
              "    }\n",
              "  </style>\n",
              "\n",
              "      <script>\n",
              "        const buttonEl =\n",
              "          document.querySelector('#df-38a894bc-92d9-447a-8f4e-0412390121c4 button.colab-df-convert');\n",
              "        buttonEl.style.display =\n",
              "          google.colab.kernel.accessAllowed ? 'block' : 'none';\n",
              "\n",
              "        async function convertToInteractive(key) {\n",
              "          const element = document.querySelector('#df-38a894bc-92d9-447a-8f4e-0412390121c4');\n",
              "          const dataTable =\n",
              "            await google.colab.kernel.invokeFunction('convertToInteractive',\n",
              "                                                     [key], {});\n",
              "          if (!dataTable) return;\n",
              "\n",
              "          const docLinkHtml = 'Like what you see? Visit the ' +\n",
              "            '<a target=\"_blank\" href=https://colab.research.google.com/notebooks/data_table.ipynb>data table notebook</a>'\n",
              "            + ' to learn more about interactive tables.';\n",
              "          element.innerHTML = '';\n",
              "          dataTable['output_type'] = 'display_data';\n",
              "          await google.colab.output.renderOutput(dataTable, element);\n",
              "          const docLink = document.createElement('div');\n",
              "          docLink.innerHTML = docLinkHtml;\n",
              "          element.appendChild(docLink);\n",
              "        }\n",
              "      </script>\n",
              "    </div>\n",
              "  </div>\n",
              "  "
            ]
          },
          "metadata": {},
          "execution_count": 424
        }
      ]
    },
    {
      "cell_type": "markdown",
      "source": [
        "# Modelo de Forecasting: Prophet"
      ],
      "metadata": {
        "id": "rHNdN_QSXUg9"
      }
    },
    {
      "cell_type": "code",
      "source": [
        "p = Prophet()"
      ],
      "metadata": {
        "id": "mesL1LyeXa2r"
      },
      "execution_count": 425,
      "outputs": []
    },
    {
      "cell_type": "code",
      "source": [
        "p.fit(despesa_ceaps_full_forecasting)"
      ],
      "metadata": {
        "colab": {
          "base_uri": "https://localhost:8080/"
        },
        "id": "PpUBgMq_X04l",
        "outputId": "801f7750-0647-4e7c-f0f3-f9f2a8e69894"
      },
      "execution_count": 426,
      "outputs": [
        {
          "output_type": "stream",
          "name": "stderr",
          "text": [
            "INFO:prophet:Disabling daily seasonality. Run prophet with daily_seasonality=True to override this.\n"
          ]
        },
        {
          "output_type": "execute_result",
          "data": {
            "text/plain": [
              "<prophet.forecaster.Prophet at 0x7f3b3c219f90>"
            ]
          },
          "metadata": {},
          "execution_count": 426
        }
      ]
    },
    {
      "cell_type": "code",
      "source": [
        "future = p.make_future_dataframe(periods=90)"
      ],
      "metadata": {
        "id": "g31oaergYK9e"
      },
      "execution_count": 427,
      "outputs": []
    },
    {
      "cell_type": "code",
      "source": [
        "forecast = p.predict(future)"
      ],
      "metadata": {
        "id": "8IAo_wI8YuIp"
      },
      "execution_count": 428,
      "outputs": []
    },
    {
      "cell_type": "code",
      "source": [
        "fig1 = p.plot(forecast)"
      ],
      "metadata": {
        "colab": {
          "base_uri": "https://localhost:8080/",
          "height": 441
        },
        "id": "bcJJsQ6zYwi0",
        "outputId": "6e5c2d49-ea0e-4a2c-b51d-b8096c3d2f0d"
      },
      "execution_count": 429,
      "outputs": [
        {
          "output_type": "display_data",
          "data": {
            "text/plain": [
              "<Figure size 720x432 with 1 Axes>"
            ],
            "image/png": "[encoded data removed]"
          },
          "metadata": {}
        }
      ]
    },
    {
      "cell_type": "code",
      "source": [
        "pd.options.display.float_format = '{:.3f}'.format\n",
        "forecast[['yhat']].iloc[-90:].sum()"
      ],
      "metadata": {
        "colab": {
          "base_uri": "https://localhost:8080/"
        },
        "id": "h4_tKJkKa7pl",
        "outputId": "d073a3cc-245b-41f2-b3ed-a8636cd874dd"
      },
      "execution_count": 430,
      "outputs": [
        {
          "output_type": "execute_result",
          "data": {
            "text/plain": [
              "yhat   5646995.670\n",
              "dtype: float64"
            ]
          },
          "metadata": {},
          "execution_count": 430
        }
      ]
    },
    {
      "cell_type": "markdown",
      "source": [
        "**Daqui 90 dias, os senadores irão gastar aproximadamente 5 milhões e meio de reais!**"
      ],
      "metadata": {
        "id": "YvqJmp2IaNvs"
      }
    },
    {
      "cell_type": "code",
      "source": [
        "fig2 = p.plot_components(forecast)"
      ],
      "metadata": {
        "colab": {
          "base_uri": "https://localhost:8080/",
          "height": 657
        },
        "id": "DY163HJ_ZFKC",
        "outputId": "05a9951a-501b-45e9-936c-4766011d6986"
      },
      "execution_count": 431,
      "outputs": [
        {
          "output_type": "display_data",
          "data": {
            "text/plain": [
              "<Figure size 648x648 with 3 Axes>"
            ],
            "image/png": "[encoded data removed]"
          },
          "metadata": {}
        }
      ]
    },
    {
      "cell_type": "markdown",
      "source": [
        "* A tendência é que os gastos diminuam.\n",
        "* Os gastos diários na segunda-feira começam altos e diminuem conforme passa a semana. \n",
        "* No final do ano, os gastos diários ultrapassam 100 mil reais por dia.\n"
      ],
      "metadata": {
        "id": "1aj0KrRicn0M"
      }
    }
  ],
  "metadata": {
    "colab": {
      "collapsed_sections": [],
      "machine_shape": "hm",
      "name": "#7DaysOfCode - Ciência de Dados 3/7: Forecasting.ipynb",
      "provenance": [],
      "toc_visible": true,
      "authorship_tag": "ABX9TyM89R80IeObsllbV804MNAm",
      "include_colab_link": true
    },
    "kernelspec": {
      "display_name": "Python 3",
      "name": "python3"
    },
    "language_info": {
      "name": "python"
    }
  },
  "nbformat": 4,
  "nbformat_minor": 0
}