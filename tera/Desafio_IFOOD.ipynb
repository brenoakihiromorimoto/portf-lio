{
  "nbformat": 4,
  "nbformat_minor": 0,
  "metadata": {
    "colab": {
      "name": "Desafio_IFOOD",
      "provenance": [],
      "collapsed_sections": [
        "0SfWmr_AQWxb",
        "r6499IB9RtSj",
        "dcQkeKnNFANK",
        "O555q8U4SFNA",
        "7uYaAKEOFWs2",
        "40oaQz0ksq2P",
        "gj78wCwMQul_",
        "oWyBkLSwTylN",
        "yfuJ0ApJo8F6",
        "GGY82Emu0BWS",
        "iDmryWSZze8g",
        "dKOQ9Fn1Y_sB",
        "xx-BpMSKdPDN",
        "827Eng2mm0Yg",
        "cs4KHY6-oye6",
        "Ifa09Q6GnRym",
        "ykXjcx9H9BOD",
        "NrqAFInfneBA",
        "MiSdAsmvZdfM",
        "5Wnnde2jC0yL",
        "rR87eBC0Z36s",
        "oOJP_br34tJv",
        "6BMNukErb5v8",
        "EeYFQWm0CTC_",
        "C0dXeKXoCYj3",
        "A1R4VeXWDCj1",
        "wbybXOG-_POs"
      ],
      "machine_shape": "hm",
      "toc_visible": true,
      "authorship_tag": "ABX9TyPL8hHCqhOfkWGcmsDc/CVr",
      "include_colab_link": true
    },
    "kernelspec": {
      "name": "python3",
      "display_name": "Python 3"
    },
    "language_info": {
      "name": "python"
    }
  },
  "cells": [
    {
      "cell_type": "markdown",
      "metadata": {
        "id": "view-in-github",
        "colab_type": "text"
      },
      "source": [
        "<a href=\"https://colab.research.google.com/github/brenoakihiromorimoto/portf-lio/blob/main/tera/Desafio_IFOOD.ipynb\" target=\"_parent\"><img src=\"https://colab.research.google.com/assets/colab-badge.svg\" alt=\"Open In Colab\"/></a>"
      ]
    },
    {
      "cell_type": "markdown",
      "source": [
        "#Contexto Analítico\n",
        "\n",
        "Vejam estas notícias:\n",
        "\n",
        "Dados públicos de abril/21 - Em 2021, a empresa atingiu uma nova marca de 60 milhões de pedidos mensais. Crescimento de 100% em um ano; mais de 110.000 restaurantes se inscreveram na plataforma nos últimos 12 meses. Só em março, o mês mais letal da pandemia para o Brasil, 270 mil restaurantes operavam com a plataforma iFood.\n",
        "\n",
        "Fonte: labsnews.com/en/articles/business/ifood-60-million-monthly-orders-amid-the-pandemic/\n",
        "\n",
        " … o iFood confirma a preferência pelos hambúrgueres no delivery. Foram, em média, quatro unidades por segundo, totalizando mais de 100 milhões de pedidos de opções como x-tudo, x-bacon, hambúrguer, x-burguer e x-salada.\n",
        "\n",
        "…E, no iFood, conveniência de comprar marmitas prontas também entrou no ranking dos 10 mais pedidos pelos clientes.\n",
        "\n",
        "Fonte: www.gazetadopovo.com.br/bomgourmet/negocios-e-franquias/mais-pedidos-delivery-2021\n",
        "\n",
        "… “De zero a dez, quanto você recomendaria esta empresa a um parente ou amigo?” …. o método de “promoção e/ou programa de fidelidade” é desaprovado por 30,5% dos respondentes, seguido de agilidade e tempo de entrega (17,7%) e facilidade do uso dos aplicativos (14,0%). Em contrapartida, a qualidade de produtos é a característica mais aprovada pelos respondentes, com 93,2% de “likes”, seguida dos próprios restaurantes e estabelecimentos (89,0%) e entrega e/ou entregadores (86,9%).\n",
        "\n",
        "A pergunta que dá vida à medição de NPS, de qualidade no atendimento, mostra o iFood como o aplicativo de delivery com melhor avaliação do mercado, com nota 59,8.\n",
        "\n",
        "Quando o assunto é popularidade, o iFood segue sendo o aplicativo mais citado pelos respondentes, com 91,6% de citações.\n",
        "\n",
        "Fonte: exame.com/negocios/nps-ifood-e-melhor-e-mais-popular-app-de-delivery-diz-pesquisa/\n",
        "\n",
        "A diversidade e amplitude de clientes que utilizam a plataforma do iFood é gigante - a cobertura do aplicativo se estende por muitas geografias no Brasil, de múltiplos gostos, regionalismos e bolsos. Alguns buscam uma experiência no momento da refeição, outros só querem receber a marmita na hora certa para não se atrasar para a primeira reunião pós-almoço.\n",
        "\n",
        "Neste contexto, precisamos entender melhor nossos clientes! Quem é o mais fiel e quem mais compra conosco? Quem mais gosta de cupom? Quem gosta de entrega grátis? Qual o padrão de consumo? Qual o padrão de comportamento? Quanto os clientes vão gastar? Onde?"
      ],
      "metadata": {
        "id": "0SfWmr_AQWxb"
      }
    },
    {
      "cell_type": "markdown",
      "source": [
        "# Resolução de Problemas\n",
        "##Situação: \n",
        "Os clientes do Ifood são extremamente diversos, e é muito importante saber os hábitos e desejos desses clientes, porque as estratégias de marketing podem ser direcionadas de forma altamente eficiente. \n",
        "## Tarefa:\n",
        "* **Pergunta principal**: a primeira pergunta a ser respondida é: **quais são os clientes mais fiéis e quem mais compra no Ifood?** Porque provavelmente esses clientes gerarão mais receita para a empresa a longo prazo.\n",
        "* **Perguntas secundárias**: compreendendo os grupos de clientes feitos a partir do K-ShiftMeans, algumas perguntas podem ser respondidas imediatamente: \n",
        "  * Onde moram?\n",
        "  * Eles gostam de entrega grátis?\n",
        "  * Qual é o tipo de comida eles mais pedem?\n",
        "\n",
        "## Ação:\n",
        "* **Ações da tarefa principal:**\n",
        "  * Verificar dados nulos no dataset  orders.\n",
        "  * A fidelidade de um cliente pode ser feita a partir da Análise por RMF (Recência, Frequência e Valor Monetário).\n",
        "  * Usar o K-means para agrupar os clientes por grau de fidelidade.\n",
        "  * Verificar estabilidade do cluster.\n",
        "* **Ações das tarefas secundárias:**\n",
        "  * Filtrar a partir dos clusters."
      ],
      "metadata": {
        "id": "r6499IB9RtSj"
      }
    },
    {
      "cell_type": "markdown",
      "source": [
        "# Importar bibliotecas."
      ],
      "metadata": {
        "id": "dcQkeKnNFANK"
      }
    },
    {
      "cell_type": "code",
      "source": [
        "!pip install kmodes"
      ],
      "metadata": {
        "colab": {
          "base_uri": "https://localhost:8080/"
        },
        "id": "BImoACAFlW-E",
        "outputId": "200e059b-1b5a-456f-9501-c5fb2f162897"
      },
      "execution_count": null,
      "outputs": [
        {
          "output_type": "stream",
          "name": "stdout",
          "text": [
            "Collecting kmodes\n",
            "  Downloading kmodes-0.12.1-py2.py3-none-any.whl (20 kB)\n",
            "Requirement already satisfied: scipy>=0.13.3 in /usr/local/lib/python3.7/dist-packages (from kmodes) (1.4.1)\n",
            "Requirement already satisfied: joblib>=0.11 in /usr/local/lib/python3.7/dist-packages (from kmodes) (1.1.0)\n",
            "Requirement already satisfied: numpy>=1.10.4 in /usr/local/lib/python3.7/dist-packages (from kmodes) (1.21.6)\n",
            "Requirement already satisfied: scikit-learn>=0.22.0 in /usr/local/lib/python3.7/dist-packages (from kmodes) (1.0.2)\n",
            "Requirement already satisfied: threadpoolctl>=2.0.0 in /usr/local/lib/python3.7/dist-packages (from scikit-learn>=0.22.0->kmodes) (3.1.0)\n",
            "Installing collected packages: kmodes\n",
            "Successfully installed kmodes-0.12.1\n"
          ]
        }
      ]
    },
    {
      "cell_type": "code",
      "source": [
        "import pandas as pd\n",
        "import numpy as np\n",
        "from numpy import where, unique\n",
        "import matplotlib.pyplot as plt\n",
        "from matplotlib import pyplot\n",
        "import seaborn as sns\n",
        "from google.colab import drive\n",
        "from datetime import datetime\n",
        "from sklearn.cluster import MeanShift, KMeans\n",
        "from statistics import mode\n",
        "from scipy.stats import shapiro, mannwhitneyu, ttest_ind, levene\n",
        "from sklearn.cluster import KMeans \n",
        "from kmodes.kprototypes import KPrototypes \n",
        "from sklearn.preprocessing import RobustScaler\n",
        "from yellowbrick.cluster import KElbowVisualizer\n",
        "import matplotlib.pyplot as plt\n",
        "from yellowbrick.cluster import InterclusterDistance\n",
        "from matplotlib import cm\n",
        "from mlxtend.frequent_patterns import apriori\n",
        "from mlxtend.frequent_patterns import association_rules\n",
        "from mlxtend.preprocessing import TransactionEncoder\n",
        "import statsmodels.api as sm\n",
        "drive.mount('/gdrive')\n",
        "%cd /gdrive"
      ],
      "metadata": {
        "colab": {
          "base_uri": "https://localhost:8080/"
        },
        "id": "OXwQ-c1DFTZ0",
        "outputId": "e561d482-76b7-4c88-b87d-f2f6cd674928"
      },
      "execution_count": null,
      "outputs": [
        {
          "output_type": "stream",
          "name": "stderr",
          "text": [
            "/usr/local/lib/python3.7/dist-packages/statsmodels/tools/_testing.py:19: FutureWarning: pandas.util.testing is deprecated. Use the functions in the public API at pandas.testing instead.\n",
            "  import pandas.util.testing as tm\n"
          ]
        },
        {
          "output_type": "stream",
          "name": "stdout",
          "text": [
            "Mounted at /gdrive\n",
            "/gdrive\n"
          ]
        }
      ]
    },
    {
      "cell_type": "markdown",
      "source": [
        "#Quais são os clientes mais fiéis e quem mais compra no ifood?"
      ],
      "metadata": {
        "id": "O555q8U4SFNA"
      }
    },
    {
      "cell_type": "markdown",
      "source": [
        "# Importar dataset"
      ],
      "metadata": {
        "id": "7uYaAKEOFWs2"
      }
    },
    {
      "cell_type": "code",
      "source": [
        "link = \"/gdrive/MyDrive/Colab Notebooks/Tera/IFOOD\"\n",
        "ordens = pd.read_csv(link+'/Orders.xls', sep=';')"
      ],
      "metadata": {
        "id": "ZUpKCePoFZ4r"
      },
      "execution_count": null,
      "outputs": []
    },
    {
      "cell_type": "markdown",
      "source": [
        "# Função"
      ],
      "metadata": {
        "id": "40oaQz0ksq2P"
      }
    },
    {
      "cell_type": "code",
      "source": [
        "def hypothesis_test(group_A, group_B):\n",
        "  stats_group_a, p_group_a = shapiro(group_A)\n",
        "  stats_group_b, p_group_b = shapiro(group_B)\n",
        "  print('Teste de Shapiro-Wilk: valor-p do grupo A: %.3f, valor-p do Grupo B: %.3f.' % (p_group_a, p_group_b))\n",
        "  if p_group_a>=0.05 and p_group_b>=0.05:\n",
        "    stats_levene, p_levene = levene(group_A,\n",
        "                     group_B)\n",
        "    print('O Teste de Shapiro-Wilk demonstrou que os grupos têm distribuição normal dos dados.')\n",
        "    print('Teste de Levene: stats: %.3f, valor-p: %.3f.' % (stats_levene, p_levene))\n",
        "    if p_levene>=0.05:\n",
        "      stats_ttest, p_ttest = ttest_ind(group_A,\n",
        "                          group_B, equal_var=True)\n",
        "      print(f\"O teste de Levene demonstrou que a variância é igual nos dois grupos: p-valor de %.3f.\" % (p_levene))\n",
        "\n",
        "      print('Teste-t independente: stats: %.3f, valor-p: %.3f.' % (stats_ttest, p_ttest))\n",
        "    elif p_levene<0.05:\n",
        "      stats_ttest, p_ttest = ttest_ind(group_A,\n",
        "                          group_B, equal_var=False)\n",
        "      \n",
        "      print(f\"O teste de Levene demonstrou que a variância é significantemente diferente nos dois grupos: p-valor de %.3f.\" % (p_levene))\n",
        "      if p_ttest>=0.05:\n",
        "        print(f\"O teste-t independente demonstrou diferença significativa das médias dos dois grupos: p-valor de %.3f.\" % (p_ttest))\n",
        "      elif p_ttest<0.05:\n",
        "        print(f\"O teste-t independente não demonstrou diferença significativa das médias dos dois grupos: p-valor de %.3f.\" % (p_ttest))\n",
        "  elif p_group_a<0.05 or p_group_b<0.05:\n",
        "    stats_mann, p_mann = mannwhitneyu(group_A, group_B)\n",
        "    print('O Teste de Shapiro-Wilk demonstrou que, no mínimo, algum dos dois grupos não tem distribuição normal dos dados.')\n",
        "    print('Teste de Mann-Whitney-U: stats: %.3f, valor-p: %.3f.' % (stats_mann, p_mann))\n",
        "    if p_mann>=0.05:\n",
        "      print(\"O teste Mann-Whitney-U não demonstrou diferença significativa das medianas dos dois grupos: p-valor de %.3f.\" % (p_mann))\n",
        "    elif p_mann<0.05:\n",
        "      print(\"O teste Mann-Whitney-U demonstrou diferença significativa das medianas dos dois grupos: p-valor de %.3f.\" % (p_mann))\n"
      ],
      "metadata": {
        "id": "OfgPKGlrsszh"
      },
      "execution_count": null,
      "outputs": []
    },
    {
      "cell_type": "markdown",
      "source": [
        "# Primeiro contato e redução de dimensionalidade."
      ],
      "metadata": {
        "id": "gj78wCwMQul_"
      }
    },
    {
      "cell_type": "code",
      "execution_count": null,
      "metadata": {
        "id": "Zp4kGHyvQOr7",
        "colab": {
          "base_uri": "https://localhost:8080/"
        },
        "outputId": "c3ff026f-c76a-4f86-ab59-30fd5dae6c6f"
      },
      "outputs": [
        {
          "output_type": "execute_result",
          "data": {
            "text/plain": [
              "                               order_id     order_shift order_origin  \\\n",
              "0  000f4c94-ec38-488b-ad98-9bf3ea19d517   weekday lunch   RESTAURANT   \n",
              "1  0018ed39-3ae0-4047-9c9e-fd9a2027e645  weekend dinner   RESTAURANT   \n",
              "2  00214248-5a2d-4333-a919-c1f3afd31389  weekday dinner   RESTAURANT   \n",
              "\n",
              "   delivery_fee  scheduled  total_amount  subsidy_amount device_platform  \\\n",
              "0         875.0      False        5375.0            0.00         ANDROID   \n",
              "1           0.0      False        2987.5         1250.00             IOS   \n",
              "2           0.0      False        3737.5         2123.75             IOS   \n",
              "\n",
              "  device_type device_app_version  ... merchant_long merchant_lat  \\\n",
              "0      MOBILE             9.39.1  ...        -43.38       -22.83   \n",
              "1      MOBILE             9.63.0  ...        -43.22       -22.93   \n",
              "2      MOBILE             9.56.0  ...        -46.67       -23.62   \n",
              "\n",
              "  has_free_delivery            confirmed_date            concluded_date  \\\n",
              "0             False  2020-02-28T14:07:25.953Z  2020-02-28T16:06:03.701Z   \n",
              "1              True  2020-08-21T21:12:23.295Z  2020-08-21T21:59:18.732Z   \n",
              "2              True  2020-07-02T20:21:51.900Z  2020-07-02T20:53:39.176Z   \n",
              "\n",
              "   lag_last_order                            account_id review_score  \\\n",
              "0             1.0  70a2a5a3-8071-47fc-a623-e9995045314e          5.0   \n",
              "1             1.0  407bab9f-f485-48cd-abea-66e6283058c3          5.0   \n",
              "2             3.0  a16865d2-a3ca-4251-afab-083dadeb06e9          5.0   \n",
              "\n",
              "  nps_score         review_created_at  \n",
              "0         8  2020-02-28T19:06:31.861Z  \n",
              "1         8  2020-09-04T00:14:14.365Z  \n",
              "2         5  2020-07-03T03:49:03.214Z  \n",
              "\n",
              "[3 rows x 34 columns]"
            ],
            "text/html": [
              "\n",
              "  <div id=\"df-eaae383b-ddaf-4c5f-af88-b9d2ffcfcbe6\">\n",
              "    <div class=\"colab-df-container\">\n",
              "      <div>\n",
              "<style scoped>\n",
              "    .dataframe tbody tr th:only-of-type {\n",
              "        vertical-align: middle;\n",
              "    }\n",
              "\n",
              "    .dataframe tbody tr th {\n",
              "        vertical-align: top;\n",
              "    }\n",
              "\n",
              "    .dataframe thead th {\n",
              "        text-align: right;\n",
              "    }\n",
              "</style>\n",
              "<table border=\"1\" class=\"dataframe\">\n",
              "  <thead>\n",
              "    <tr style=\"text-align: right;\">\n",
              "      <th></th>\n",
              "      <th>order_id</th>\n",
              "      <th>order_shift</th>\n",
              "      <th>order_origin</th>\n",
              "      <th>delivery_fee</th>\n",
              "      <th>scheduled</th>\n",
              "      <th>total_amount</th>\n",
              "      <th>subsidy_amount</th>\n",
              "      <th>device_platform</th>\n",
              "      <th>device_type</th>\n",
              "      <th>device_app_version</th>\n",
              "      <th>...</th>\n",
              "      <th>merchant_long</th>\n",
              "      <th>merchant_lat</th>\n",
              "      <th>has_free_delivery</th>\n",
              "      <th>confirmed_date</th>\n",
              "      <th>concluded_date</th>\n",
              "      <th>lag_last_order</th>\n",
              "      <th>account_id</th>\n",
              "      <th>review_score</th>\n",
              "      <th>nps_score</th>\n",
              "      <th>review_created_at</th>\n",
              "    </tr>\n",
              "  </thead>\n",
              "  <tbody>\n",
              "    <tr>\n",
              "      <th>0</th>\n",
              "      <td>000f4c94-ec38-488b-ad98-9bf3ea19d517</td>\n",
              "      <td>weekday lunch</td>\n",
              "      <td>RESTAURANT</td>\n",
              "      <td>875.0</td>\n",
              "      <td>False</td>\n",
              "      <td>5375.0</td>\n",
              "      <td>0.00</td>\n",
              "      <td>ANDROID</td>\n",
              "      <td>MOBILE</td>\n",
              "      <td>9.39.1</td>\n",
              "      <td>...</td>\n",
              "      <td>-43.38</td>\n",
              "      <td>-22.83</td>\n",
              "      <td>False</td>\n",
              "      <td>2020-02-28T14:07:25.953Z</td>\n",
              "      <td>2020-02-28T16:06:03.701Z</td>\n",
              "      <td>1.0</td>\n",
              "      <td>70a2a5a3-8071-47fc-a623-e9995045314e</td>\n",
              "      <td>5.0</td>\n",
              "      <td>8</td>\n",
              "      <td>2020-02-28T19:06:31.861Z</td>\n",
              "    </tr>\n",
              "    <tr>\n",
              "      <th>1</th>\n",
              "      <td>0018ed39-3ae0-4047-9c9e-fd9a2027e645</td>\n",
              "      <td>weekend dinner</td>\n",
              "      <td>RESTAURANT</td>\n",
              "      <td>0.0</td>\n",
              "      <td>False</td>\n",
              "      <td>2987.5</td>\n",
              "      <td>1250.00</td>\n",
              "      <td>IOS</td>\n",
              "      <td>MOBILE</td>\n",
              "      <td>9.63.0</td>\n",
              "      <td>...</td>\n",
              "      <td>-43.22</td>\n",
              "      <td>-22.93</td>\n",
              "      <td>True</td>\n",
              "      <td>2020-08-21T21:12:23.295Z</td>\n",
              "      <td>2020-08-21T21:59:18.732Z</td>\n",
              "      <td>1.0</td>\n",
              "      <td>407bab9f-f485-48cd-abea-66e6283058c3</td>\n",
              "      <td>5.0</td>\n",
              "      <td>8</td>\n",
              "      <td>2020-09-04T00:14:14.365Z</td>\n",
              "    </tr>\n",
              "    <tr>\n",
              "      <th>2</th>\n",
              "      <td>00214248-5a2d-4333-a919-c1f3afd31389</td>\n",
              "      <td>weekday dinner</td>\n",
              "      <td>RESTAURANT</td>\n",
              "      <td>0.0</td>\n",
              "      <td>False</td>\n",
              "      <td>3737.5</td>\n",
              "      <td>2123.75</td>\n",
              "      <td>IOS</td>\n",
              "      <td>MOBILE</td>\n",
              "      <td>9.56.0</td>\n",
              "      <td>...</td>\n",
              "      <td>-46.67</td>\n",
              "      <td>-23.62</td>\n",
              "      <td>True</td>\n",
              "      <td>2020-07-02T20:21:51.900Z</td>\n",
              "      <td>2020-07-02T20:53:39.176Z</td>\n",
              "      <td>3.0</td>\n",
              "      <td>a16865d2-a3ca-4251-afab-083dadeb06e9</td>\n",
              "      <td>5.0</td>\n",
              "      <td>5</td>\n",
              "      <td>2020-07-03T03:49:03.214Z</td>\n",
              "    </tr>\n",
              "  </tbody>\n",
              "</table>\n",
              "<p>3 rows × 34 columns</p>\n",
              "</div>\n",
              "      <button class=\"colab-df-convert\" onclick=\"convertToInteractive('df-eaae383b-ddaf-4c5f-af88-b9d2ffcfcbe6')\"\n",
              "              title=\"Convert this dataframe to an interactive table.\"\n",
              "              style=\"display:none;\">\n",
              "        \n",
              "  <svg xmlns=\"http://www.w3.org/2000/svg\" height=\"24px\"viewBox=\"0 0 24 24\"\n",
              "       width=\"24px\">\n",
              "    <path d=\"M0 0h24v24H0V0z\" fill=\"none\"/>\n",
              "    <path d=\"M18.56 5.44l.94 2.06.94-2.06 2.06-.94-2.06-.94-.94-2.06-.94 2.06-2.06.94zm-11 1L8.5 8.5l.94-2.06 2.06-.94-2.06-.94L8.5 2.5l-.94 2.06-2.06.94zm10 10l.94 2.06.94-2.06 2.06-.94-2.06-.94-.94-2.06-.94 2.06-2.06.94z\"/><path d=\"M17.41 7.96l-1.37-1.37c-.4-.4-.92-.59-1.43-.59-.52 0-1.04.2-1.43.59L10.3 9.45l-7.72 7.72c-.78.78-.78 2.05 0 2.83L4 21.41c.39.39.9.59 1.41.59.51 0 1.02-.2 1.41-.59l7.78-7.78 2.81-2.81c.8-.78.8-2.07 0-2.86zM5.41 20L4 18.59l7.72-7.72 1.47 1.35L5.41 20z\"/>\n",
              "  </svg>\n",
              "      </button>\n",
              "      \n",
              "  <style>\n",
              "    .colab-df-container {\n",
              "      display:flex;\n",
              "      flex-wrap:wrap;\n",
              "      gap: 12px;\n",
              "    }\n",
              "\n",
              "    .colab-df-convert {\n",
              "      background-color: #E8F0FE;\n",
              "      border: none;\n",
              "      border-radius: 50%;\n",
              "      cursor: pointer;\n",
              "      display: none;\n",
              "      fill: #1967D2;\n",
              "      height: 32px;\n",
              "      padding: 0 0 0 0;\n",
              "      width: 32px;\n",
              "    }\n",
              "\n",
              "    .colab-df-convert:hover {\n",
              "      background-color: #E2EBFA;\n",
              "      box-shadow: 0px 1px 2px rgba(60, 64, 67, 0.3), 0px 1px 3px 1px rgba(60, 64, 67, 0.15);\n",
              "      fill: #174EA6;\n",
              "    }\n",
              "\n",
              "    [theme=dark] .colab-df-convert {\n",
              "      background-color: #3B4455;\n",
              "      fill: #D2E3FC;\n",
              "    }\n",
              "\n",
              "    [theme=dark] .colab-df-convert:hover {\n",
              "      background-color: #434B5C;\n",
              "      box-shadow: 0px 1px 3px 1px rgba(0, 0, 0, 0.15);\n",
              "      filter: drop-shadow(0px 1px 2px rgba(0, 0, 0, 0.3));\n",
              "      fill: #FFFFFF;\n",
              "    }\n",
              "  </style>\n",
              "\n",
              "      <script>\n",
              "        const buttonEl =\n",
              "          document.querySelector('#df-eaae383b-ddaf-4c5f-af88-b9d2ffcfcbe6 button.colab-df-convert');\n",
              "        buttonEl.style.display =\n",
              "          google.colab.kernel.accessAllowed ? 'block' : 'none';\n",
              "\n",
              "        async function convertToInteractive(key) {\n",
              "          const element = document.querySelector('#df-eaae383b-ddaf-4c5f-af88-b9d2ffcfcbe6');\n",
              "          const dataTable =\n",
              "            await google.colab.kernel.invokeFunction('convertToInteractive',\n",
              "                                                     [key], {});\n",
              "          if (!dataTable) return;\n",
              "\n",
              "          const docLinkHtml = 'Like what you see? Visit the ' +\n",
              "            '<a target=\"_blank\" href=https://colab.research.google.com/notebooks/data_table.ipynb>data table notebook</a>'\n",
              "            + ' to learn more about interactive tables.';\n",
              "          element.innerHTML = '';\n",
              "          dataTable['output_type'] = 'display_data';\n",
              "          await google.colab.output.renderOutput(dataTable, element);\n",
              "          const docLink = document.createElement('div');\n",
              "          docLink.innerHTML = docLinkHtml;\n",
              "          element.appendChild(docLink);\n",
              "        }\n",
              "      </script>\n",
              "    </div>\n",
              "  </div>\n",
              "  "
            ]
          },
          "metadata": {},
          "execution_count": 6
        }
      ],
      "source": [
        "ordens.head(3)"
      ]
    },
    {
      "cell_type": "code",
      "source": [
        "ordens.tail(3)"
      ],
      "metadata": {
        "colab": {
          "base_uri": "https://localhost:8080/"
        },
        "id": "VKecvzG7H8T-",
        "outputId": "705bac0b-0de6-4f98-fc8f-63a7604c26ec"
      },
      "execution_count": null,
      "outputs": [
        {
          "output_type": "execute_result",
          "data": {
            "text/plain": [
              "                                    order_id        order_shift order_origin  \\\n",
              "226266  ff54b0d0-6bd3-4bad-a34c-ec64f0b17787     weekday dinner   RESTAURANT   \n",
              "226267  ff5baa22-a12c-4482-acaf-3e7831a1e764  weekday breakfast   RESTAURANT   \n",
              "226268  ff72056f-0530-4d33-9180-b9b735817edb      weekend snack   RESTAURANT   \n",
              "\n",
              "        delivery_fee  scheduled  total_amount  subsidy_amount device_platform  \\\n",
              "226266         875.0      False       8512.50            1.25             IOS   \n",
              "226267           0.0      False       3500.00          873.75         ANDROID   \n",
              "226268         612.5      False       5093.75            0.00         ANDROID   \n",
              "\n",
              "       device_type device_app_version  ... merchant_long merchant_lat  \\\n",
              "226266      MOBILE             9.48.0  ...        -46.69       -23.60   \n",
              "226267      MOBILE             9.68.2  ...        -43.19       -22.94   \n",
              "226268      MOBILE             9.54.0  ...        -46.72       -23.59   \n",
              "\n",
              "       has_free_delivery            confirmed_date            concluded_date  \\\n",
              "226266             False  2020-04-29T20:18:36.920Z  2020-04-30T00:18:36.307Z   \n",
              "226267              True  2020-09-24T09:35:59.186Z  2020-09-24T09:59:05.377Z   \n",
              "226268             False  2020-06-21T16:49:12.157Z  2020-06-21T20:49:12.262Z   \n",
              "\n",
              "        lag_last_order                            account_id review_score  \\\n",
              "226266             2.0  2ae2d0e7-ecde-42f3-baf7-a2391f3fc360          5.0   \n",
              "226267             1.0  5891f31c-a328-42df-88d7-5e1a7f6dce2a          4.0   \n",
              "226268             0.0  a392006f-4228-486f-9844-4647c6489d90          5.0   \n",
              "\n",
              "       nps_score         review_created_at  \n",
              "226266        10  2020-05-04T23:33:37.180Z  \n",
              "226267         1  2020-09-24T13:53:18.336Z  \n",
              "226268        10  2020-06-21T22:21:54.666Z  \n",
              "\n",
              "[3 rows x 34 columns]"
            ],
            "text/html": [
              "\n",
              "  <div id=\"df-e4eba1bd-669c-4807-a238-a2c1cf563eba\">\n",
              "    <div class=\"colab-df-container\">\n",
              "      <div>\n",
              "<style scoped>\n",
              "    .dataframe tbody tr th:only-of-type {\n",
              "        vertical-align: middle;\n",
              "    }\n",
              "\n",
              "    .dataframe tbody tr th {\n",
              "        vertical-align: top;\n",
              "    }\n",
              "\n",
              "    .dataframe thead th {\n",
              "        text-align: right;\n",
              "    }\n",
              "</style>\n",
              "<table border=\"1\" class=\"dataframe\">\n",
              "  <thead>\n",
              "    <tr style=\"text-align: right;\">\n",
              "      <th></th>\n",
              "      <th>order_id</th>\n",
              "      <th>order_shift</th>\n",
              "      <th>order_origin</th>\n",
              "      <th>delivery_fee</th>\n",
              "      <th>scheduled</th>\n",
              "      <th>total_amount</th>\n",
              "      <th>subsidy_amount</th>\n",
              "      <th>device_platform</th>\n",
              "      <th>device_type</th>\n",
              "      <th>device_app_version</th>\n",
              "      <th>...</th>\n",
              "      <th>merchant_long</th>\n",
              "      <th>merchant_lat</th>\n",
              "      <th>has_free_delivery</th>\n",
              "      <th>confirmed_date</th>\n",
              "      <th>concluded_date</th>\n",
              "      <th>lag_last_order</th>\n",
              "      <th>account_id</th>\n",
              "      <th>review_score</th>\n",
              "      <th>nps_score</th>\n",
              "      <th>review_created_at</th>\n",
              "    </tr>\n",
              "  </thead>\n",
              "  <tbody>\n",
              "    <tr>\n",
              "      <th>226266</th>\n",
              "      <td>ff54b0d0-6bd3-4bad-a34c-ec64f0b17787</td>\n",
              "      <td>weekday dinner</td>\n",
              "      <td>RESTAURANT</td>\n",
              "      <td>875.0</td>\n",
              "      <td>False</td>\n",
              "      <td>8512.50</td>\n",
              "      <td>1.25</td>\n",
              "      <td>IOS</td>\n",
              "      <td>MOBILE</td>\n",
              "      <td>9.48.0</td>\n",
              "      <td>...</td>\n",
              "      <td>-46.69</td>\n",
              "      <td>-23.60</td>\n",
              "      <td>False</td>\n",
              "      <td>2020-04-29T20:18:36.920Z</td>\n",
              "      <td>2020-04-30T00:18:36.307Z</td>\n",
              "      <td>2.0</td>\n",
              "      <td>2ae2d0e7-ecde-42f3-baf7-a2391f3fc360</td>\n",
              "      <td>5.0</td>\n",
              "      <td>10</td>\n",
              "      <td>2020-05-04T23:33:37.180Z</td>\n",
              "    </tr>\n",
              "    <tr>\n",
              "      <th>226267</th>\n",
              "      <td>ff5baa22-a12c-4482-acaf-3e7831a1e764</td>\n",
              "      <td>weekday breakfast</td>\n",
              "      <td>RESTAURANT</td>\n",
              "      <td>0.0</td>\n",
              "      <td>False</td>\n",
              "      <td>3500.00</td>\n",
              "      <td>873.75</td>\n",
              "      <td>ANDROID</td>\n",
              "      <td>MOBILE</td>\n",
              "      <td>9.68.2</td>\n",
              "      <td>...</td>\n",
              "      <td>-43.19</td>\n",
              "      <td>-22.94</td>\n",
              "      <td>True</td>\n",
              "      <td>2020-09-24T09:35:59.186Z</td>\n",
              "      <td>2020-09-24T09:59:05.377Z</td>\n",
              "      <td>1.0</td>\n",
              "      <td>5891f31c-a328-42df-88d7-5e1a7f6dce2a</td>\n",
              "      <td>4.0</td>\n",
              "      <td>1</td>\n",
              "      <td>2020-09-24T13:53:18.336Z</td>\n",
              "    </tr>\n",
              "    <tr>\n",
              "      <th>226268</th>\n",
              "      <td>ff72056f-0530-4d33-9180-b9b735817edb</td>\n",
              "      <td>weekend snack</td>\n",
              "      <td>RESTAURANT</td>\n",
              "      <td>612.5</td>\n",
              "      <td>False</td>\n",
              "      <td>5093.75</td>\n",
              "      <td>0.00</td>\n",
              "      <td>ANDROID</td>\n",
              "      <td>MOBILE</td>\n",
              "      <td>9.54.0</td>\n",
              "      <td>...</td>\n",
              "      <td>-46.72</td>\n",
              "      <td>-23.59</td>\n",
              "      <td>False</td>\n",
              "      <td>2020-06-21T16:49:12.157Z</td>\n",
              "      <td>2020-06-21T20:49:12.262Z</td>\n",
              "      <td>0.0</td>\n",
              "      <td>a392006f-4228-486f-9844-4647c6489d90</td>\n",
              "      <td>5.0</td>\n",
              "      <td>10</td>\n",
              "      <td>2020-06-21T22:21:54.666Z</td>\n",
              "    </tr>\n",
              "  </tbody>\n",
              "</table>\n",
              "<p>3 rows × 34 columns</p>\n",
              "</div>\n",
              "      <button class=\"colab-df-convert\" onclick=\"convertToInteractive('df-e4eba1bd-669c-4807-a238-a2c1cf563eba')\"\n",
              "              title=\"Convert this dataframe to an interactive table.\"\n",
              "              style=\"display:none;\">\n",
              "        \n",
              "  <svg xmlns=\"http://www.w3.org/2000/svg\" height=\"24px\"viewBox=\"0 0 24 24\"\n",
              "       width=\"24px\">\n",
              "    <path d=\"M0 0h24v24H0V0z\" fill=\"none\"/>\n",
              "    <path d=\"M18.56 5.44l.94 2.06.94-2.06 2.06-.94-2.06-.94-.94-2.06-.94 2.06-2.06.94zm-11 1L8.5 8.5l.94-2.06 2.06-.94-2.06-.94L8.5 2.5l-.94 2.06-2.06.94zm10 10l.94 2.06.94-2.06 2.06-.94-2.06-.94-.94-2.06-.94 2.06-2.06.94z\"/><path d=\"M17.41 7.96l-1.37-1.37c-.4-.4-.92-.59-1.43-.59-.52 0-1.04.2-1.43.59L10.3 9.45l-7.72 7.72c-.78.78-.78 2.05 0 2.83L4 21.41c.39.39.9.59 1.41.59.51 0 1.02-.2 1.41-.59l7.78-7.78 2.81-2.81c.8-.78.8-2.07 0-2.86zM5.41 20L4 18.59l7.72-7.72 1.47 1.35L5.41 20z\"/>\n",
              "  </svg>\n",
              "      </button>\n",
              "      \n",
              "  <style>\n",
              "    .colab-df-container {\n",
              "      display:flex;\n",
              "      flex-wrap:wrap;\n",
              "      gap: 12px;\n",
              "    }\n",
              "\n",
              "    .colab-df-convert {\n",
              "      background-color: #E8F0FE;\n",
              "      border: none;\n",
              "      border-radius: 50%;\n",
              "      cursor: pointer;\n",
              "      display: none;\n",
              "      fill: #1967D2;\n",
              "      height: 32px;\n",
              "      padding: 0 0 0 0;\n",
              "      width: 32px;\n",
              "    }\n",
              "\n",
              "    .colab-df-convert:hover {\n",
              "      background-color: #E2EBFA;\n",
              "      box-shadow: 0px 1px 2px rgba(60, 64, 67, 0.3), 0px 1px 3px 1px rgba(60, 64, 67, 0.15);\n",
              "      fill: #174EA6;\n",
              "    }\n",
              "\n",
              "    [theme=dark] .colab-df-convert {\n",
              "      background-color: #3B4455;\n",
              "      fill: #D2E3FC;\n",
              "    }\n",
              "\n",
              "    [theme=dark] .colab-df-convert:hover {\n",
              "      background-color: #434B5C;\n",
              "      box-shadow: 0px 1px 3px 1px rgba(0, 0, 0, 0.15);\n",
              "      filter: drop-shadow(0px 1px 2px rgba(0, 0, 0, 0.3));\n",
              "      fill: #FFFFFF;\n",
              "    }\n",
              "  </style>\n",
              "\n",
              "      <script>\n",
              "        const buttonEl =\n",
              "          document.querySelector('#df-e4eba1bd-669c-4807-a238-a2c1cf563eba button.colab-df-convert');\n",
              "        buttonEl.style.display =\n",
              "          google.colab.kernel.accessAllowed ? 'block' : 'none';\n",
              "\n",
              "        async function convertToInteractive(key) {\n",
              "          const element = document.querySelector('#df-e4eba1bd-669c-4807-a238-a2c1cf563eba');\n",
              "          const dataTable =\n",
              "            await google.colab.kernel.invokeFunction('convertToInteractive',\n",
              "                                                     [key], {});\n",
              "          if (!dataTable) return;\n",
              "\n",
              "          const docLinkHtml = 'Like what you see? Visit the ' +\n",
              "            '<a target=\"_blank\" href=https://colab.research.google.com/notebooks/data_table.ipynb>data table notebook</a>'\n",
              "            + ' to learn more about interactive tables.';\n",
              "          element.innerHTML = '';\n",
              "          dataTable['output_type'] = 'display_data';\n",
              "          await google.colab.output.renderOutput(dataTable, element);\n",
              "          const docLink = document.createElement('div');\n",
              "          docLink.innerHTML = docLinkHtml;\n",
              "          element.appendChild(docLink);\n",
              "        }\n",
              "      </script>\n",
              "    </div>\n",
              "  </div>\n",
              "  "
            ]
          },
          "metadata": {},
          "execution_count": 7
        }
      ]
    },
    {
      "cell_type": "code",
      "source": [
        "ordens.info()"
      ],
      "metadata": {
        "colab": {
          "base_uri": "https://localhost:8080/"
        },
        "id": "7pth43g0IIom",
        "outputId": "145a0293-f605-4474-b9ee-23817811c673"
      },
      "execution_count": null,
      "outputs": [
        {
          "output_type": "stream",
          "name": "stdout",
          "text": [
            "<class 'pandas.core.frame.DataFrame'>\n",
            "RangeIndex: 226269 entries, 0 to 226268\n",
            "Data columns (total 34 columns):\n",
            " #   Column                Non-Null Count   Dtype  \n",
            "---  ------                --------------   -----  \n",
            " 0   order_id              226269 non-null  object \n",
            " 1   order_shift           226269 non-null  object \n",
            " 2   order_origin          226269 non-null  object \n",
            " 3   delivery_fee          226269 non-null  float64\n",
            " 4   scheduled             226269 non-null  bool   \n",
            " 5   total_amount          226269 non-null  float64\n",
            " 6   subsidy_amount        226269 non-null  float64\n",
            " 7   device_platform       226269 non-null  object \n",
            " 8   device_type           226269 non-null  object \n",
            " 9   device_app_version    221834 non-null  object \n",
            " 10  centroid_id           226269 non-null  object \n",
            " 11  state_label           226269 non-null  object \n",
            " 12  city                  226269 non-null  object \n",
            " 13  district              226269 non-null  object \n",
            " 14  customer_long         226269 non-null  float64\n",
            " 15  customer_lat          226269 non-null  float64\n",
            " 16  restaurant_id         226269 non-null  object \n",
            " 17  dish_type             226269 non-null  object \n",
            " 18  group_id              226269 non-null  object \n",
            " 19  merchant_centroid_id  226269 non-null  object \n",
            " 20  merchant_state        226269 non-null  object \n",
            " 21  merchant_city         226269 non-null  object \n",
            " 22  merchant_district     226269 non-null  object \n",
            " 23  merchant_zipcode      226269 non-null  int64  \n",
            " 24  merchant_long         226269 non-null  float64\n",
            " 25  merchant_lat          226269 non-null  float64\n",
            " 26  has_free_delivery     226269 non-null  bool   \n",
            " 27  confirmed_date        226255 non-null  object \n",
            " 28  concluded_date        226265 non-null  object \n",
            " 29  lag_last_order        226085 non-null  float64\n",
            " 30  account_id            226269 non-null  object \n",
            " 31  review_score          226269 non-null  float64\n",
            " 32  nps_score             226269 non-null  int64  \n",
            " 33  review_created_at     226269 non-null  object \n",
            "dtypes: bool(2), float64(9), int64(2), object(21)\n",
            "memory usage: 55.7+ MB\n"
          ]
        }
      ]
    },
    {
      "cell_type": "markdown",
      "source": [
        "* Há muitas variáveis nesse dataset, praticamente **34**!  \n",
        "* É melhor reduzir a dimensionalidade de acordo com as tarefas já mencionadas, isso economiza tempo na EDA, teste de hipótese, pré-processamento e modelagem."
      ],
      "metadata": {
        "id": "CLbONrGXUFgi"
      }
    },
    {
      "cell_type": "markdown",
      "source": [
        "* Features selecionadas:\n",
        "  * order_id\n",
        "  * order_origin\n",
        "  * account_id\n",
        "  * state_label\n",
        "  * city\n",
        "  * confirmed_date\n",
        "  * concluded_date\n",
        "  * total_amount\n",
        "  * has_free_delivery\n",
        "  * dish_type"
      ],
      "metadata": {
        "id": "SnTZhGPrItW8"
      }
    },
    {
      "cell_type": "markdown",
      "source": [
        "* Criar um novo dataset com essas 10 variáveis."
      ],
      "metadata": {
        "id": "xlmsSnapSLrQ"
      }
    },
    {
      "cell_type": "code",
      "source": [
        "features_ordens =  [\"order_id\",\n",
        "                    \"order_origin\",\n",
        "                    \"account_id\",\n",
        "                    \"state_label\",\n",
        "                    \"city\",\n",
        "                    \"confirmed_date\",\n",
        "                    \"concluded_date\",\n",
        "                    \"total_amount\",\n",
        "                    \"has_free_delivery\",\n",
        "                    \"dish_type\"]\n",
        "\n",
        "ordens_10_var = ordens[features_ordens]"
      ],
      "metadata": {
        "id": "IeejoUBFILjo"
      },
      "execution_count": null,
      "outputs": []
    },
    {
      "cell_type": "code",
      "source": [
        "ordens_10_var.head(3)"
      ],
      "metadata": {
        "colab": {
          "base_uri": "https://localhost:8080/"
        },
        "id": "1Nked2l_Svk7",
        "outputId": "9e8df411-49b6-4f74-88b5-cf751ea544db"
      },
      "execution_count": null,
      "outputs": [
        {
          "output_type": "execute_result",
          "data": {
            "text/plain": [
              "                               order_id order_origin  \\\n",
              "0  000f4c94-ec38-488b-ad98-9bf3ea19d517   RESTAURANT   \n",
              "1  0018ed39-3ae0-4047-9c9e-fd9a2027e645   RESTAURANT   \n",
              "2  00214248-5a2d-4333-a919-c1f3afd31389   RESTAURANT   \n",
              "\n",
              "                             account_id state_label            city  \\\n",
              "0  70a2a5a3-8071-47fc-a623-e9995045314e          RJ  RIO DE JANEIRO   \n",
              "1  407bab9f-f485-48cd-abea-66e6283058c3          RJ  RIO DE JANEIRO   \n",
              "2  a16865d2-a3ca-4251-afab-083dadeb06e9          SP       SAO PAULO   \n",
              "\n",
              "             confirmed_date            concluded_date  total_amount  \\\n",
              "0  2020-02-28T14:07:25.953Z  2020-02-28T16:06:03.701Z        5375.0   \n",
              "1  2020-08-21T21:12:23.295Z  2020-08-21T21:59:18.732Z        2987.5   \n",
              "2  2020-07-02T20:21:51.900Z  2020-07-02T20:53:39.176Z        3737.5   \n",
              "\n",
              "   has_free_delivery          dish_type  \n",
              "0              False  Comida Brasileira  \n",
              "1               True  Comida Brasileira  \n",
              "2               True     Comida Peruana  "
            ],
            "text/html": [
              "\n",
              "  <div id=\"df-6474b931-d3c1-437f-82fc-a5695c1fd04d\">\n",
              "    <div class=\"colab-df-container\">\n",
              "      <div>\n",
              "<style scoped>\n",
              "    .dataframe tbody tr th:only-of-type {\n",
              "        vertical-align: middle;\n",
              "    }\n",
              "\n",
              "    .dataframe tbody tr th {\n",
              "        vertical-align: top;\n",
              "    }\n",
              "\n",
              "    .dataframe thead th {\n",
              "        text-align: right;\n",
              "    }\n",
              "</style>\n",
              "<table border=\"1\" class=\"dataframe\">\n",
              "  <thead>\n",
              "    <tr style=\"text-align: right;\">\n",
              "      <th></th>\n",
              "      <th>order_id</th>\n",
              "      <th>order_origin</th>\n",
              "      <th>account_id</th>\n",
              "      <th>state_label</th>\n",
              "      <th>city</th>\n",
              "      <th>confirmed_date</th>\n",
              "      <th>concluded_date</th>\n",
              "      <th>total_amount</th>\n",
              "      <th>has_free_delivery</th>\n",
              "      <th>dish_type</th>\n",
              "    </tr>\n",
              "  </thead>\n",
              "  <tbody>\n",
              "    <tr>\n",
              "      <th>0</th>\n",
              "      <td>000f4c94-ec38-488b-ad98-9bf3ea19d517</td>\n",
              "      <td>RESTAURANT</td>\n",
              "      <td>70a2a5a3-8071-47fc-a623-e9995045314e</td>\n",
              "      <td>RJ</td>\n",
              "      <td>RIO DE JANEIRO</td>\n",
              "      <td>2020-02-28T14:07:25.953Z</td>\n",
              "      <td>2020-02-28T16:06:03.701Z</td>\n",
              "      <td>5375.0</td>\n",
              "      <td>False</td>\n",
              "      <td>Comida Brasileira</td>\n",
              "    </tr>\n",
              "    <tr>\n",
              "      <th>1</th>\n",
              "      <td>0018ed39-3ae0-4047-9c9e-fd9a2027e645</td>\n",
              "      <td>RESTAURANT</td>\n",
              "      <td>407bab9f-f485-48cd-abea-66e6283058c3</td>\n",
              "      <td>RJ</td>\n",
              "      <td>RIO DE JANEIRO</td>\n",
              "      <td>2020-08-21T21:12:23.295Z</td>\n",
              "      <td>2020-08-21T21:59:18.732Z</td>\n",
              "      <td>2987.5</td>\n",
              "      <td>True</td>\n",
              "      <td>Comida Brasileira</td>\n",
              "    </tr>\n",
              "    <tr>\n",
              "      <th>2</th>\n",
              "      <td>00214248-5a2d-4333-a919-c1f3afd31389</td>\n",
              "      <td>RESTAURANT</td>\n",
              "      <td>a16865d2-a3ca-4251-afab-083dadeb06e9</td>\n",
              "      <td>SP</td>\n",
              "      <td>SAO PAULO</td>\n",
              "      <td>2020-07-02T20:21:51.900Z</td>\n",
              "      <td>2020-07-02T20:53:39.176Z</td>\n",
              "      <td>3737.5</td>\n",
              "      <td>True</td>\n",
              "      <td>Comida Peruana</td>\n",
              "    </tr>\n",
              "  </tbody>\n",
              "</table>\n",
              "</div>\n",
              "      <button class=\"colab-df-convert\" onclick=\"convertToInteractive('df-6474b931-d3c1-437f-82fc-a5695c1fd04d')\"\n",
              "              title=\"Convert this dataframe to an interactive table.\"\n",
              "              style=\"display:none;\">\n",
              "        \n",
              "  <svg xmlns=\"http://www.w3.org/2000/svg\" height=\"24px\"viewBox=\"0 0 24 24\"\n",
              "       width=\"24px\">\n",
              "    <path d=\"M0 0h24v24H0V0z\" fill=\"none\"/>\n",
              "    <path d=\"M18.56 5.44l.94 2.06.94-2.06 2.06-.94-2.06-.94-.94-2.06-.94 2.06-2.06.94zm-11 1L8.5 8.5l.94-2.06 2.06-.94-2.06-.94L8.5 2.5l-.94 2.06-2.06.94zm10 10l.94 2.06.94-2.06 2.06-.94-2.06-.94-.94-2.06-.94 2.06-2.06.94z\"/><path d=\"M17.41 7.96l-1.37-1.37c-.4-.4-.92-.59-1.43-.59-.52 0-1.04.2-1.43.59L10.3 9.45l-7.72 7.72c-.78.78-.78 2.05 0 2.83L4 21.41c.39.39.9.59 1.41.59.51 0 1.02-.2 1.41-.59l7.78-7.78 2.81-2.81c.8-.78.8-2.07 0-2.86zM5.41 20L4 18.59l7.72-7.72 1.47 1.35L5.41 20z\"/>\n",
              "  </svg>\n",
              "      </button>\n",
              "      \n",
              "  <style>\n",
              "    .colab-df-container {\n",
              "      display:flex;\n",
              "      flex-wrap:wrap;\n",
              "      gap: 12px;\n",
              "    }\n",
              "\n",
              "    .colab-df-convert {\n",
              "      background-color: #E8F0FE;\n",
              "      border: none;\n",
              "      border-radius: 50%;\n",
              "      cursor: pointer;\n",
              "      display: none;\n",
              "      fill: #1967D2;\n",
              "      height: 32px;\n",
              "      padding: 0 0 0 0;\n",
              "      width: 32px;\n",
              "    }\n",
              "\n",
              "    .colab-df-convert:hover {\n",
              "      background-color: #E2EBFA;\n",
              "      box-shadow: 0px 1px 2px rgba(60, 64, 67, 0.3), 0px 1px 3px 1px rgba(60, 64, 67, 0.15);\n",
              "      fill: #174EA6;\n",
              "    }\n",
              "\n",
              "    [theme=dark] .colab-df-convert {\n",
              "      background-color: #3B4455;\n",
              "      fill: #D2E3FC;\n",
              "    }\n",
              "\n",
              "    [theme=dark] .colab-df-convert:hover {\n",
              "      background-color: #434B5C;\n",
              "      box-shadow: 0px 1px 3px 1px rgba(0, 0, 0, 0.15);\n",
              "      filter: drop-shadow(0px 1px 2px rgba(0, 0, 0, 0.3));\n",
              "      fill: #FFFFFF;\n",
              "    }\n",
              "  </style>\n",
              "\n",
              "      <script>\n",
              "        const buttonEl =\n",
              "          document.querySelector('#df-6474b931-d3c1-437f-82fc-a5695c1fd04d button.colab-df-convert');\n",
              "        buttonEl.style.display =\n",
              "          google.colab.kernel.accessAllowed ? 'block' : 'none';\n",
              "\n",
              "        async function convertToInteractive(key) {\n",
              "          const element = document.querySelector('#df-6474b931-d3c1-437f-82fc-a5695c1fd04d');\n",
              "          const dataTable =\n",
              "            await google.colab.kernel.invokeFunction('convertToInteractive',\n",
              "                                                     [key], {});\n",
              "          if (!dataTable) return;\n",
              "\n",
              "          const docLinkHtml = 'Like what you see? Visit the ' +\n",
              "            '<a target=\"_blank\" href=https://colab.research.google.com/notebooks/data_table.ipynb>data table notebook</a>'\n",
              "            + ' to learn more about interactive tables.';\n",
              "          element.innerHTML = '';\n",
              "          dataTable['output_type'] = 'display_data';\n",
              "          await google.colab.output.renderOutput(dataTable, element);\n",
              "          const docLink = document.createElement('div');\n",
              "          docLink.innerHTML = docLinkHtml;\n",
              "          element.appendChild(docLink);\n",
              "        }\n",
              "      </script>\n",
              "    </div>\n",
              "  </div>\n",
              "  "
            ]
          },
          "metadata": {},
          "execution_count": 10
        }
      ]
    },
    {
      "cell_type": "code",
      "source": [
        "ordens_10_var.info()"
      ],
      "metadata": {
        "colab": {
          "base_uri": "https://localhost:8080/"
        },
        "id": "YKxLIbExTHS-",
        "outputId": "d02fb949-0746-4eb5-fd81-1c125c514091"
      },
      "execution_count": null,
      "outputs": [
        {
          "output_type": "stream",
          "name": "stdout",
          "text": [
            "<class 'pandas.core.frame.DataFrame'>\n",
            "RangeIndex: 226269 entries, 0 to 226268\n",
            "Data columns (total 10 columns):\n",
            " #   Column             Non-Null Count   Dtype  \n",
            "---  ------             --------------   -----  \n",
            " 0   order_id           226269 non-null  object \n",
            " 1   order_origin       226269 non-null  object \n",
            " 2   account_id         226269 non-null  object \n",
            " 3   state_label        226269 non-null  object \n",
            " 4   city               226269 non-null  object \n",
            " 5   confirmed_date     226255 non-null  object \n",
            " 6   concluded_date     226265 non-null  object \n",
            " 7   total_amount       226269 non-null  float64\n",
            " 8   has_free_delivery  226269 non-null  bool   \n",
            " 9   dish_type          226269 non-null  object \n",
            "dtypes: bool(1), float64(1), object(8)\n",
            "memory usage: 15.8+ MB\n"
          ]
        }
      ]
    },
    {
      "cell_type": "markdown",
      "source": [
        "# Dados nulos"
      ],
      "metadata": {
        "id": "oWyBkLSwTylN"
      }
    },
    {
      "cell_type": "markdown",
      "source": [
        "Perguntas a serem respondidas:\n",
        "* Por que o confirmed_date e o concluded_date tem dados nulos?\n",
        "* Por que has_free_delivery tem um dado nulo?\n",
        "* Por que account_id tem um dado nulo?"
      ],
      "metadata": {
        "id": "R19fi9QVTFbQ"
      }
    },
    {
      "cell_type": "markdown",
      "source": [
        "### confirmed_date e concluded_date"
      ],
      "metadata": {
        "id": "yfuJ0ApJo8F6"
      }
    },
    {
      "cell_type": "code",
      "source": [
        "ordens_10_var[ordens_10_var[\"confirmed_date\"].isnull()][[\"confirmed_date\", \"concluded_date\"]]"
      ],
      "metadata": {
        "colab": {
          "base_uri": "https://localhost:8080/"
        },
        "id": "JsSluxj3TXOv",
        "outputId": "3fd8dd19-8374-403f-9cc6-188dc0a55703"
      },
      "execution_count": null,
      "outputs": [
        {
          "output_type": "execute_result",
          "data": {
            "text/plain": [
              "       confirmed_date            concluded_date\n",
              "14218             NaN  2020-02-18T18:31:31.464Z\n",
              "27814             NaN  2020-02-18T18:33:34.004Z\n",
              "32263             NaN  2020-02-18T18:34:33.993Z\n",
              "81774             NaN  2020-02-18T12:54:15.820Z\n",
              "99762             NaN  2020-02-18T12:42:37.912Z\n",
              "100774            NaN  2020-02-18T18:31:31.309Z\n",
              "102572            NaN  2020-02-18T18:36:29.340Z\n",
              "112282            NaN  2020-02-18T18:36:40.085Z\n",
              "117261            NaN  2020-02-18T18:36:29.254Z\n",
              "143533            NaN  2020-02-18T18:36:30.491Z\n",
              "156157            NaN  2020-02-18T12:22:09.973Z\n",
              "161246            NaN  2020-02-18T12:51:54.760Z\n",
              "215561            NaN  2020-02-18T12:48:22.842Z\n",
              "221205            NaN  2020-02-18T18:36:02.702Z"
            ],
            "text/html": [
              "\n",
              "  <div id=\"df-1dd60123-8f5f-4d09-88aa-979fb6cc4a43\">\n",
              "    <div class=\"colab-df-container\">\n",
              "      <div>\n",
              "<style scoped>\n",
              "    .dataframe tbody tr th:only-of-type {\n",
              "        vertical-align: middle;\n",
              "    }\n",
              "\n",
              "    .dataframe tbody tr th {\n",
              "        vertical-align: top;\n",
              "    }\n",
              "\n",
              "    .dataframe thead th {\n",
              "        text-align: right;\n",
              "    }\n",
              "</style>\n",
              "<table border=\"1\" class=\"dataframe\">\n",
              "  <thead>\n",
              "    <tr style=\"text-align: right;\">\n",
              "      <th></th>\n",
              "      <th>confirmed_date</th>\n",
              "      <th>concluded_date</th>\n",
              "    </tr>\n",
              "  </thead>\n",
              "  <tbody>\n",
              "    <tr>\n",
              "      <th>14218</th>\n",
              "      <td>NaN</td>\n",
              "      <td>2020-02-18T18:31:31.464Z</td>\n",
              "    </tr>\n",
              "    <tr>\n",
              "      <th>27814</th>\n",
              "      <td>NaN</td>\n",
              "      <td>2020-02-18T18:33:34.004Z</td>\n",
              "    </tr>\n",
              "    <tr>\n",
              "      <th>32263</th>\n",
              "      <td>NaN</td>\n",
              "      <td>2020-02-18T18:34:33.993Z</td>\n",
              "    </tr>\n",
              "    <tr>\n",
              "      <th>81774</th>\n",
              "      <td>NaN</td>\n",
              "      <td>2020-02-18T12:54:15.820Z</td>\n",
              "    </tr>\n",
              "    <tr>\n",
              "      <th>99762</th>\n",
              "      <td>NaN</td>\n",
              "      <td>2020-02-18T12:42:37.912Z</td>\n",
              "    </tr>\n",
              "    <tr>\n",
              "      <th>100774</th>\n",
              "      <td>NaN</td>\n",
              "      <td>2020-02-18T18:31:31.309Z</td>\n",
              "    </tr>\n",
              "    <tr>\n",
              "      <th>102572</th>\n",
              "      <td>NaN</td>\n",
              "      <td>2020-02-18T18:36:29.340Z</td>\n",
              "    </tr>\n",
              "    <tr>\n",
              "      <th>112282</th>\n",
              "      <td>NaN</td>\n",
              "      <td>2020-02-18T18:36:40.085Z</td>\n",
              "    </tr>\n",
              "    <tr>\n",
              "      <th>117261</th>\n",
              "      <td>NaN</td>\n",
              "      <td>2020-02-18T18:36:29.254Z</td>\n",
              "    </tr>\n",
              "    <tr>\n",
              "      <th>143533</th>\n",
              "      <td>NaN</td>\n",
              "      <td>2020-02-18T18:36:30.491Z</td>\n",
              "    </tr>\n",
              "    <tr>\n",
              "      <th>156157</th>\n",
              "      <td>NaN</td>\n",
              "      <td>2020-02-18T12:22:09.973Z</td>\n",
              "    </tr>\n",
              "    <tr>\n",
              "      <th>161246</th>\n",
              "      <td>NaN</td>\n",
              "      <td>2020-02-18T12:51:54.760Z</td>\n",
              "    </tr>\n",
              "    <tr>\n",
              "      <th>215561</th>\n",
              "      <td>NaN</td>\n",
              "      <td>2020-02-18T12:48:22.842Z</td>\n",
              "    </tr>\n",
              "    <tr>\n",
              "      <th>221205</th>\n",
              "      <td>NaN</td>\n",
              "      <td>2020-02-18T18:36:02.702Z</td>\n",
              "    </tr>\n",
              "  </tbody>\n",
              "</table>\n",
              "</div>\n",
              "      <button class=\"colab-df-convert\" onclick=\"convertToInteractive('df-1dd60123-8f5f-4d09-88aa-979fb6cc4a43')\"\n",
              "              title=\"Convert this dataframe to an interactive table.\"\n",
              "              style=\"display:none;\">\n",
              "        \n",
              "  <svg xmlns=\"http://www.w3.org/2000/svg\" height=\"24px\"viewBox=\"0 0 24 24\"\n",
              "       width=\"24px\">\n",
              "    <path d=\"M0 0h24v24H0V0z\" fill=\"none\"/>\n",
              "    <path d=\"M18.56 5.44l.94 2.06.94-2.06 2.06-.94-2.06-.94-.94-2.06-.94 2.06-2.06.94zm-11 1L8.5 8.5l.94-2.06 2.06-.94-2.06-.94L8.5 2.5l-.94 2.06-2.06.94zm10 10l.94 2.06.94-2.06 2.06-.94-2.06-.94-.94-2.06-.94 2.06-2.06.94z\"/><path d=\"M17.41 7.96l-1.37-1.37c-.4-.4-.92-.59-1.43-.59-.52 0-1.04.2-1.43.59L10.3 9.45l-7.72 7.72c-.78.78-.78 2.05 0 2.83L4 21.41c.39.39.9.59 1.41.59.51 0 1.02-.2 1.41-.59l7.78-7.78 2.81-2.81c.8-.78.8-2.07 0-2.86zM5.41 20L4 18.59l7.72-7.72 1.47 1.35L5.41 20z\"/>\n",
              "  </svg>\n",
              "      </button>\n",
              "      \n",
              "  <style>\n",
              "    .colab-df-container {\n",
              "      display:flex;\n",
              "      flex-wrap:wrap;\n",
              "      gap: 12px;\n",
              "    }\n",
              "\n",
              "    .colab-df-convert {\n",
              "      background-color: #E8F0FE;\n",
              "      border: none;\n",
              "      border-radius: 50%;\n",
              "      cursor: pointer;\n",
              "      display: none;\n",
              "      fill: #1967D2;\n",
              "      height: 32px;\n",
              "      padding: 0 0 0 0;\n",
              "      width: 32px;\n",
              "    }\n",
              "\n",
              "    .colab-df-convert:hover {\n",
              "      background-color: #E2EBFA;\n",
              "      box-shadow: 0px 1px 2px rgba(60, 64, 67, 0.3), 0px 1px 3px 1px rgba(60, 64, 67, 0.15);\n",
              "      fill: #174EA6;\n",
              "    }\n",
              "\n",
              "    [theme=dark] .colab-df-convert {\n",
              "      background-color: #3B4455;\n",
              "      fill: #D2E3FC;\n",
              "    }\n",
              "\n",
              "    [theme=dark] .colab-df-convert:hover {\n",
              "      background-color: #434B5C;\n",
              "      box-shadow: 0px 1px 3px 1px rgba(0, 0, 0, 0.15);\n",
              "      filter: drop-shadow(0px 1px 2px rgba(0, 0, 0, 0.3));\n",
              "      fill: #FFFFFF;\n",
              "    }\n",
              "  </style>\n",
              "\n",
              "      <script>\n",
              "        const buttonEl =\n",
              "          document.querySelector('#df-1dd60123-8f5f-4d09-88aa-979fb6cc4a43 button.colab-df-convert');\n",
              "        buttonEl.style.display =\n",
              "          google.colab.kernel.accessAllowed ? 'block' : 'none';\n",
              "\n",
              "        async function convertToInteractive(key) {\n",
              "          const element = document.querySelector('#df-1dd60123-8f5f-4d09-88aa-979fb6cc4a43');\n",
              "          const dataTable =\n",
              "            await google.colab.kernel.invokeFunction('convertToInteractive',\n",
              "                                                     [key], {});\n",
              "          if (!dataTable) return;\n",
              "\n",
              "          const docLinkHtml = 'Like what you see? Visit the ' +\n",
              "            '<a target=\"_blank\" href=https://colab.research.google.com/notebooks/data_table.ipynb>data table notebook</a>'\n",
              "            + ' to learn more about interactive tables.';\n",
              "          element.innerHTML = '';\n",
              "          dataTable['output_type'] = 'display_data';\n",
              "          await google.colab.output.renderOutput(dataTable, element);\n",
              "          const docLink = document.createElement('div');\n",
              "          docLink.innerHTML = docLinkHtml;\n",
              "          element.appendChild(docLink);\n",
              "        }\n",
              "      </script>\n",
              "    </div>\n",
              "  </div>\n",
              "  "
            ]
          },
          "metadata": {},
          "execution_count": 15
        }
      ]
    },
    {
      "cell_type": "markdown",
      "source": [
        "* No mesmo dia, 12 pedidos tiveram a data confirmada como nulo. \n",
        "* Provavelmente foi um erro no sistema, porque todos os dados nulos da data confirmada ocorreram no dia 18 de Fevereiro de 2020.\n",
        "* E os dados nulos do concluded_date?"
      ],
      "metadata": {
        "id": "azRKDNAPqM23"
      }
    },
    {
      "cell_type": "code",
      "source": [
        "ordens_10_var[ordens_10_var[\"concluded_date\"].isnull()][[\"confirmed_date\", \"concluded_date\"]]"
      ],
      "metadata": {
        "colab": {
          "base_uri": "https://localhost:8080/"
        },
        "id": "w5cr2jGbyd_R",
        "outputId": "2b66d2e1-ed6f-49ff-f458-dd2bf224de3e"
      },
      "execution_count": null,
      "outputs": [
        {
          "output_type": "execute_result",
          "data": {
            "text/plain": [
              "                  confirmed_date concluded_date\n",
              "133822  2020-05-30T10:50:53.463Z            NaN\n",
              "144676  2020-08-13T08:34:31.033Z            NaN\n",
              "187989  2020-06-01T08:55:51.283Z            NaN\n",
              "201756  2020-08-13T08:24:25.120Z            NaN"
            ],
            "text/html": [
              "\n",
              "  <div id=\"df-a93e6794-e147-4ce0-aa7c-03ee29b4ba64\">\n",
              "    <div class=\"colab-df-container\">\n",
              "      <div>\n",
              "<style scoped>\n",
              "    .dataframe tbody tr th:only-of-type {\n",
              "        vertical-align: middle;\n",
              "    }\n",
              "\n",
              "    .dataframe tbody tr th {\n",
              "        vertical-align: top;\n",
              "    }\n",
              "\n",
              "    .dataframe thead th {\n",
              "        text-align: right;\n",
              "    }\n",
              "</style>\n",
              "<table border=\"1\" class=\"dataframe\">\n",
              "  <thead>\n",
              "    <tr style=\"text-align: right;\">\n",
              "      <th></th>\n",
              "      <th>confirmed_date</th>\n",
              "      <th>concluded_date</th>\n",
              "    </tr>\n",
              "  </thead>\n",
              "  <tbody>\n",
              "    <tr>\n",
              "      <th>133822</th>\n",
              "      <td>2020-05-30T10:50:53.463Z</td>\n",
              "      <td>NaN</td>\n",
              "    </tr>\n",
              "    <tr>\n",
              "      <th>144676</th>\n",
              "      <td>2020-08-13T08:34:31.033Z</td>\n",
              "      <td>NaN</td>\n",
              "    </tr>\n",
              "    <tr>\n",
              "      <th>187989</th>\n",
              "      <td>2020-06-01T08:55:51.283Z</td>\n",
              "      <td>NaN</td>\n",
              "    </tr>\n",
              "    <tr>\n",
              "      <th>201756</th>\n",
              "      <td>2020-08-13T08:24:25.120Z</td>\n",
              "      <td>NaN</td>\n",
              "    </tr>\n",
              "  </tbody>\n",
              "</table>\n",
              "</div>\n",
              "      <button class=\"colab-df-convert\" onclick=\"convertToInteractive('df-a93e6794-e147-4ce0-aa7c-03ee29b4ba64')\"\n",
              "              title=\"Convert this dataframe to an interactive table.\"\n",
              "              style=\"display:none;\">\n",
              "        \n",
              "  <svg xmlns=\"http://www.w3.org/2000/svg\" height=\"24px\"viewBox=\"0 0 24 24\"\n",
              "       width=\"24px\">\n",
              "    <path d=\"M0 0h24v24H0V0z\" fill=\"none\"/>\n",
              "    <path d=\"M18.56 5.44l.94 2.06.94-2.06 2.06-.94-2.06-.94-.94-2.06-.94 2.06-2.06.94zm-11 1L8.5 8.5l.94-2.06 2.06-.94-2.06-.94L8.5 2.5l-.94 2.06-2.06.94zm10 10l.94 2.06.94-2.06 2.06-.94-2.06-.94-.94-2.06-.94 2.06-2.06.94z\"/><path d=\"M17.41 7.96l-1.37-1.37c-.4-.4-.92-.59-1.43-.59-.52 0-1.04.2-1.43.59L10.3 9.45l-7.72 7.72c-.78.78-.78 2.05 0 2.83L4 21.41c.39.39.9.59 1.41.59.51 0 1.02-.2 1.41-.59l7.78-7.78 2.81-2.81c.8-.78.8-2.07 0-2.86zM5.41 20L4 18.59l7.72-7.72 1.47 1.35L5.41 20z\"/>\n",
              "  </svg>\n",
              "      </button>\n",
              "      \n",
              "  <style>\n",
              "    .colab-df-container {\n",
              "      display:flex;\n",
              "      flex-wrap:wrap;\n",
              "      gap: 12px;\n",
              "    }\n",
              "\n",
              "    .colab-df-convert {\n",
              "      background-color: #E8F0FE;\n",
              "      border: none;\n",
              "      border-radius: 50%;\n",
              "      cursor: pointer;\n",
              "      display: none;\n",
              "      fill: #1967D2;\n",
              "      height: 32px;\n",
              "      padding: 0 0 0 0;\n",
              "      width: 32px;\n",
              "    }\n",
              "\n",
              "    .colab-df-convert:hover {\n",
              "      background-color: #E2EBFA;\n",
              "      box-shadow: 0px 1px 2px rgba(60, 64, 67, 0.3), 0px 1px 3px 1px rgba(60, 64, 67, 0.15);\n",
              "      fill: #174EA6;\n",
              "    }\n",
              "\n",
              "    [theme=dark] .colab-df-convert {\n",
              "      background-color: #3B4455;\n",
              "      fill: #D2E3FC;\n",
              "    }\n",
              "\n",
              "    [theme=dark] .colab-df-convert:hover {\n",
              "      background-color: #434B5C;\n",
              "      box-shadow: 0px 1px 3px 1px rgba(0, 0, 0, 0.15);\n",
              "      filter: drop-shadow(0px 1px 2px rgba(0, 0, 0, 0.3));\n",
              "      fill: #FFFFFF;\n",
              "    }\n",
              "  </style>\n",
              "\n",
              "      <script>\n",
              "        const buttonEl =\n",
              "          document.querySelector('#df-a93e6794-e147-4ce0-aa7c-03ee29b4ba64 button.colab-df-convert');\n",
              "        buttonEl.style.display =\n",
              "          google.colab.kernel.accessAllowed ? 'block' : 'none';\n",
              "\n",
              "        async function convertToInteractive(key) {\n",
              "          const element = document.querySelector('#df-a93e6794-e147-4ce0-aa7c-03ee29b4ba64');\n",
              "          const dataTable =\n",
              "            await google.colab.kernel.invokeFunction('convertToInteractive',\n",
              "                                                     [key], {});\n",
              "          if (!dataTable) return;\n",
              "\n",
              "          const docLinkHtml = 'Like what you see? Visit the ' +\n",
              "            '<a target=\"_blank\" href=https://colab.research.google.com/notebooks/data_table.ipynb>data table notebook</a>'\n",
              "            + ' to learn more about interactive tables.';\n",
              "          element.innerHTML = '';\n",
              "          dataTable['output_type'] = 'display_data';\n",
              "          await google.colab.output.renderOutput(dataTable, element);\n",
              "          const docLink = document.createElement('div');\n",
              "          docLink.innerHTML = docLinkHtml;\n",
              "          element.appendChild(docLink);\n",
              "        }\n",
              "      </script>\n",
              "    </div>\n",
              "  </div>\n",
              "  "
            ]
          },
          "metadata": {},
          "execution_count": 16
        }
      ]
    },
    {
      "cell_type": "markdown",
      "source": [
        "* O concluded_date não mostra um padrão evidente de dados nulos\n",
        "* Podemos presumir, por enquanto, erro no sistema.\n",
        "* No pré-rpocessamento, é necessário transformar as variáveis confirmed_date e concluded_date em datetime para facilitar análises futuras."
      ],
      "metadata": {
        "id": "R6nztkb7y4kl"
      }
    },
    {
      "cell_type": "markdown",
      "source": [
        "### has_free_delivery e account_id"
      ],
      "metadata": {
        "id": "GGY82Emu0BWS"
      }
    },
    {
      "cell_type": "code",
      "source": [
        "ordens_10_var[ordens_10_var['has_free_delivery'].isnull()]"
      ],
      "metadata": {
        "colab": {
          "base_uri": "https://localhost:8080/"
        },
        "id": "k_2Pt13u0G3P",
        "outputId": "5682c901-e4f9-4b56-9cd2-e558abb547ef"
      },
      "execution_count": null,
      "outputs": [
        {
          "output_type": "execute_result",
          "data": {
            "text/plain": [
              "Empty DataFrame\n",
              "Columns: [order_id, order_origin, account_id, state_label, city, confirmed_date, concluded_date, total_amount, has_free_delivery, dish_type]\n",
              "Index: []"
            ],
            "text/html": [
              "\n",
              "  <div id=\"df-49b04d28-a645-46dc-b23e-68ec3f87dd7a\">\n",
              "    <div class=\"colab-df-container\">\n",
              "      <div>\n",
              "<style scoped>\n",
              "    .dataframe tbody tr th:only-of-type {\n",
              "        vertical-align: middle;\n",
              "    }\n",
              "\n",
              "    .dataframe tbody tr th {\n",
              "        vertical-align: top;\n",
              "    }\n",
              "\n",
              "    .dataframe thead th {\n",
              "        text-align: right;\n",
              "    }\n",
              "</style>\n",
              "<table border=\"1\" class=\"dataframe\">\n",
              "  <thead>\n",
              "    <tr style=\"text-align: right;\">\n",
              "      <th></th>\n",
              "      <th>order_id</th>\n",
              "      <th>order_origin</th>\n",
              "      <th>account_id</th>\n",
              "      <th>state_label</th>\n",
              "      <th>city</th>\n",
              "      <th>confirmed_date</th>\n",
              "      <th>concluded_date</th>\n",
              "      <th>total_amount</th>\n",
              "      <th>has_free_delivery</th>\n",
              "      <th>dish_type</th>\n",
              "    </tr>\n",
              "  </thead>\n",
              "  <tbody>\n",
              "  </tbody>\n",
              "</table>\n",
              "</div>\n",
              "      <button class=\"colab-df-convert\" onclick=\"convertToInteractive('df-49b04d28-a645-46dc-b23e-68ec3f87dd7a')\"\n",
              "              title=\"Convert this dataframe to an interactive table.\"\n",
              "              style=\"display:none;\">\n",
              "        \n",
              "  <svg xmlns=\"http://www.w3.org/2000/svg\" height=\"24px\"viewBox=\"0 0 24 24\"\n",
              "       width=\"24px\">\n",
              "    <path d=\"M0 0h24v24H0V0z\" fill=\"none\"/>\n",
              "    <path d=\"M18.56 5.44l.94 2.06.94-2.06 2.06-.94-2.06-.94-.94-2.06-.94 2.06-2.06.94zm-11 1L8.5 8.5l.94-2.06 2.06-.94-2.06-.94L8.5 2.5l-.94 2.06-2.06.94zm10 10l.94 2.06.94-2.06 2.06-.94-2.06-.94-.94-2.06-.94 2.06-2.06.94z\"/><path d=\"M17.41 7.96l-1.37-1.37c-.4-.4-.92-.59-1.43-.59-.52 0-1.04.2-1.43.59L10.3 9.45l-7.72 7.72c-.78.78-.78 2.05 0 2.83L4 21.41c.39.39.9.59 1.41.59.51 0 1.02-.2 1.41-.59l7.78-7.78 2.81-2.81c.8-.78.8-2.07 0-2.86zM5.41 20L4 18.59l7.72-7.72 1.47 1.35L5.41 20z\"/>\n",
              "  </svg>\n",
              "      </button>\n",
              "      \n",
              "  <style>\n",
              "    .colab-df-container {\n",
              "      display:flex;\n",
              "      flex-wrap:wrap;\n",
              "      gap: 12px;\n",
              "    }\n",
              "\n",
              "    .colab-df-convert {\n",
              "      background-color: #E8F0FE;\n",
              "      border: none;\n",
              "      border-radius: 50%;\n",
              "      cursor: pointer;\n",
              "      display: none;\n",
              "      fill: #1967D2;\n",
              "      height: 32px;\n",
              "      padding: 0 0 0 0;\n",
              "      width: 32px;\n",
              "    }\n",
              "\n",
              "    .colab-df-convert:hover {\n",
              "      background-color: #E2EBFA;\n",
              "      box-shadow: 0px 1px 2px rgba(60, 64, 67, 0.3), 0px 1px 3px 1px rgba(60, 64, 67, 0.15);\n",
              "      fill: #174EA6;\n",
              "    }\n",
              "\n",
              "    [theme=dark] .colab-df-convert {\n",
              "      background-color: #3B4455;\n",
              "      fill: #D2E3FC;\n",
              "    }\n",
              "\n",
              "    [theme=dark] .colab-df-convert:hover {\n",
              "      background-color: #434B5C;\n",
              "      box-shadow: 0px 1px 3px 1px rgba(0, 0, 0, 0.15);\n",
              "      filter: drop-shadow(0px 1px 2px rgba(0, 0, 0, 0.3));\n",
              "      fill: #FFFFFF;\n",
              "    }\n",
              "  </style>\n",
              "\n",
              "      <script>\n",
              "        const buttonEl =\n",
              "          document.querySelector('#df-49b04d28-a645-46dc-b23e-68ec3f87dd7a button.colab-df-convert');\n",
              "        buttonEl.style.display =\n",
              "          google.colab.kernel.accessAllowed ? 'block' : 'none';\n",
              "\n",
              "        async function convertToInteractive(key) {\n",
              "          const element = document.querySelector('#df-49b04d28-a645-46dc-b23e-68ec3f87dd7a');\n",
              "          const dataTable =\n",
              "            await google.colab.kernel.invokeFunction('convertToInteractive',\n",
              "                                                     [key], {});\n",
              "          if (!dataTable) return;\n",
              "\n",
              "          const docLinkHtml = 'Like what you see? Visit the ' +\n",
              "            '<a target=\"_blank\" href=https://colab.research.google.com/notebooks/data_table.ipynb>data table notebook</a>'\n",
              "            + ' to learn more about interactive tables.';\n",
              "          element.innerHTML = '';\n",
              "          dataTable['output_type'] = 'display_data';\n",
              "          await google.colab.output.renderOutput(dataTable, element);\n",
              "          const docLink = document.createElement('div');\n",
              "          docLink.innerHTML = docLinkHtml;\n",
              "          element.appendChild(docLink);\n",
              "        }\n",
              "      </script>\n",
              "    </div>\n",
              "  </div>\n",
              "  "
            ]
          },
          "metadata": {},
          "execution_count": 17
        }
      ]
    },
    {
      "cell_type": "markdown",
      "source": [
        "* Provavelmente, houve um erro no sistema ao registrar o account_id, e isso gerou dados nulos para a variável has_free_delivery."
      ],
      "metadata": {
        "id": "mBNApOyW1S70"
      }
    },
    {
      "cell_type": "markdown",
      "source": [
        "# Pré-processamento"
      ],
      "metadata": {
        "id": "iDmryWSZze8g"
      }
    },
    {
      "cell_type": "markdown",
      "source": [
        "* O algoritmo de machine learning será o de **clustering**. \n",
        "* Já que estou usando **método não-supervisionado**, não será colocado em produção, apenas como estudo e geração de insights, portanto não será necessário dividir em **treino, validação e teste**.\n",
        "* Remover a linha com o order_id nulo, porque há muitos dados nulos nessa linha.\n",
        "* Remover a variável confirmed_date, para a análise preciso apenas a concluded_date.\n",
        "* Remover os dados nulos da variável concluded_date.\n",
        "Por que remover os dados?\n",
        "São poucos dados nulos, entorno de 3 linhas em um dataset de 160 mil linhas, então irei remover para simplificar a análise."
      ],
      "metadata": {
        "id": "xybMdb3v6exP"
      }
    },
    {
      "cell_type": "code",
      "source": [
        "# Reduzir dimensionalidade do dataset ao alinhar expectativas.\n",
        "features_ordens =  [\"order_id\",\n",
        "                    \"order_origin\",\n",
        "                    \"account_id\",\n",
        "                    \"state_label\",\n",
        "                    \"city\",\n",
        "                    \"concluded_date\",\n",
        "                    \"total_amount\",\n",
        "                    \"has_free_delivery\",\n",
        "                    \"dish_type\"]\n",
        "\n",
        "ordens_preprocessed = ordens[features_ordens].copy()\n",
        "\n",
        "# Transformar as colunas concluded_date e confirmed_date para datetime, isso irá ajudar em manipulações futuras.\n",
        "ordens_preprocessed.loc[ordens_preprocessed[\"concluded_date\"].notnull(), \"concluded_date\"] = ordens_preprocessed[ordens_preprocessed[\"concluded_date\"].notnull()][\"concluded_date\"].str[:-5].apply(lambda x: datetime.strptime(str(x), \"%Y-%m-%dT%H:%M:%S\"))\n",
        "#ordens_10_var_preprocessed.loc[ordens_10_var_preprocessed[\"confirmed_date\"].notnull(), \"confirmed_date\"] = ordens_10_var_preprocessed[ordens_10_var_preprocessed[\"confirmed_date\"].notnull()][\"confirmed_date\"].str[:-5].apply(lambda x: datetime.strptime(str(x), \"%Y-%m-%dT%H:%M:%S\"))\n",
        "\n",
        "ordens_preprocessed[\"concluded_date\"] = pd.to_datetime(ordens_preprocessed[\"concluded_date\"])\n",
        "#ordens_10_var_preprocessed[\"confirmed_date\"] = pd.to_datetime(ordens_10_var_preprocessed[\"confirmed_date\"])"
      ],
      "metadata": {
        "id": "SNxrPqm5Swvz"
      },
      "execution_count": null,
      "outputs": []
    },
    {
      "cell_type": "code",
      "source": [
        "ordens_preprocessed.info()"
      ],
      "metadata": {
        "colab": {
          "base_uri": "https://localhost:8080/"
        },
        "id": "_m1qRuLes35y",
        "outputId": "83be0949-f0dc-4a86-eb13-ceaeb5afe137"
      },
      "execution_count": null,
      "outputs": [
        {
          "output_type": "stream",
          "name": "stdout",
          "text": [
            "<class 'pandas.core.frame.DataFrame'>\n",
            "RangeIndex: 226269 entries, 0 to 226268\n",
            "Data columns (total 9 columns):\n",
            " #   Column             Non-Null Count   Dtype         \n",
            "---  ------             --------------   -----         \n",
            " 0   order_id           226269 non-null  object        \n",
            " 1   order_origin       226269 non-null  object        \n",
            " 2   account_id         226269 non-null  object        \n",
            " 3   state_label        226269 non-null  object        \n",
            " 4   city               226269 non-null  object        \n",
            " 5   concluded_date     226265 non-null  datetime64[ns]\n",
            " 6   total_amount       226269 non-null  float64       \n",
            " 7   has_free_delivery  226269 non-null  bool          \n",
            " 8   dish_type          226269 non-null  object        \n",
            "dtypes: bool(1), datetime64[ns](1), float64(1), object(6)\n",
            "memory usage: 14.0+ MB\n"
          ]
        }
      ]
    },
    {
      "cell_type": "markdown",
      "source": [
        "* Remover os dados nulos."
      ],
      "metadata": {
        "id": "JDoAgiFovTPo"
      }
    },
    {
      "cell_type": "code",
      "source": [
        "ordens_preprocessed = ordens_preprocessed.dropna(axis=0)"
      ],
      "metadata": {
        "id": "hw19tbkXuYk_"
      },
      "execution_count": null,
      "outputs": []
    },
    {
      "cell_type": "code",
      "source": [
        "ordens_preprocessed.info()"
      ],
      "metadata": {
        "colab": {
          "base_uri": "https://localhost:8080/"
        },
        "id": "nENOpMsDQwlY",
        "outputId": "bbb402f2-0e40-4e4c-fa05-748174a0176a"
      },
      "execution_count": null,
      "outputs": [
        {
          "output_type": "stream",
          "name": "stdout",
          "text": [
            "<class 'pandas.core.frame.DataFrame'>\n",
            "Int64Index: 226265 entries, 0 to 226268\n",
            "Data columns (total 9 columns):\n",
            " #   Column             Non-Null Count   Dtype         \n",
            "---  ------             --------------   -----         \n",
            " 0   order_id           226265 non-null  object        \n",
            " 1   order_origin       226265 non-null  object        \n",
            " 2   account_id         226265 non-null  object        \n",
            " 3   state_label        226265 non-null  object        \n",
            " 4   city               226265 non-null  object        \n",
            " 5   concluded_date     226265 non-null  datetime64[ns]\n",
            " 6   total_amount       226265 non-null  float64       \n",
            " 7   has_free_delivery  226265 non-null  bool          \n",
            " 8   dish_type          226265 non-null  object        \n",
            "dtypes: bool(1), datetime64[ns](1), float64(1), object(6)\n",
            "memory usage: 15.8+ MB\n"
          ]
        }
      ]
    },
    {
      "cell_type": "markdown",
      "source": [
        "* Pronto!"
      ],
      "metadata": {
        "id": "8LVsm14lQ7zU"
      }
    },
    {
      "cell_type": "markdown",
      "source": [
        "# Feature Engineering"
      ],
      "metadata": {
        "id": "dKOQ9Fn1Y_sB"
      }
    },
    {
      "cell_type": "code",
      "source": [
        "ordens_preprocessed['Recency'] = ordens_preprocessed['concluded_date']\n",
        "ordens_preprocessed['Frequency'] = ordens_preprocessed['concluded_date']\n",
        "ordens_preprocessed['Monetary_Value'] = ordens_preprocessed['total_amount']\n",
        "\n",
        "ordens_preprocessed_RMF = ordens_preprocessed.sort_values(by='Recency', \n",
        "                                                          ascending=False)\\\n",
        "                                                          .groupby('account_id')\\\n",
        "                                                          .agg({'Recency': lambda date: \\\n",
        "                                                                pd.to_datetime(datetime.today()) - \\\n",
        "                                                                pd.to_datetime(date.value_counts().index[0]),\n",
        "                                                          'Monetary_Value': lambda total_amount: total_amount.sum(),\n",
        "                                                          'Frequency': lambda concluded_date:concluded_date.value_counts().sum(),\n",
        "                                                          'has_free_delivery': lambda delivery:delivery.value_counts().index[0],\n",
        "                                                          'city': lambda city:city.value_counts().index[0]})"
      ],
      "metadata": {
        "id": "pZDt9yaofBmf",
        "colab": {
          "base_uri": "https://localhost:8080/"
        },
        "outputId": "c4f78ac0-e19a-4b5e-d84c-357bc17cdf3e"
      },
      "execution_count": null,
      "outputs": [
        {
          "output_type": "stream",
          "name": "stderr",
          "text": [
            "/usr/local/lib/python3.7/dist-packages/ipykernel_launcher.py:1: SettingWithCopyWarning: \n",
            "A value is trying to be set on a copy of a slice from a DataFrame.\n",
            "Try using .loc[row_indexer,col_indexer] = value instead\n",
            "\n",
            "See the caveats in the documentation: https://pandas.pydata.org/pandas-docs/stable/user_guide/indexing.html#returning-a-view-versus-a-copy\n",
            "  \"\"\"Entry point for launching an IPython kernel.\n",
            "/usr/local/lib/python3.7/dist-packages/ipykernel_launcher.py:2: SettingWithCopyWarning: \n",
            "A value is trying to be set on a copy of a slice from a DataFrame.\n",
            "Try using .loc[row_indexer,col_indexer] = value instead\n",
            "\n",
            "See the caveats in the documentation: https://pandas.pydata.org/pandas-docs/stable/user_guide/indexing.html#returning-a-view-versus-a-copy\n",
            "  \n",
            "/usr/local/lib/python3.7/dist-packages/ipykernel_launcher.py:3: SettingWithCopyWarning: \n",
            "A value is trying to be set on a copy of a slice from a DataFrame.\n",
            "Try using .loc[row_indexer,col_indexer] = value instead\n",
            "\n",
            "See the caveats in the documentation: https://pandas.pydata.org/pandas-docs/stable/user_guide/indexing.html#returning-a-view-versus-a-copy\n",
            "  This is separate from the ipykernel package so we can avoid doing imports until\n"
          ]
        }
      ]
    },
    {
      "cell_type": "code",
      "source": [
        "ordens_preprocessed_RMF.head(3)"
      ],
      "metadata": {
        "colab": {
          "base_uri": "https://localhost:8080/"
        },
        "id": "RWQnjI_5pbbd",
        "outputId": "46ef34a4-a78b-4615-c939-45600f2b3a10"
      },
      "execution_count": null,
      "outputs": [
        {
          "output_type": "execute_result",
          "data": {
            "text/plain": [
              "                                                      Recency  Monetary_Value  \\\n",
              "account_id                                                                      \n",
              "00073adf-7117-44ba-90fe-5879c9581b68 818 days 23:57:22.625110         2737.50   \n",
              "000b1fec-8616-4014-9581-c5a944911ac3 624 days 14:30:38.626310        18671.25   \n",
              "000db136-b110-4dd6-9d1c-a70ab1ab2d75 584 days 22:28:31.627024       105322.50   \n",
              "\n",
              "                                      Frequency  has_free_delivery  \\\n",
              "account_id                                                           \n",
              "00073adf-7117-44ba-90fe-5879c9581b68          1               True   \n",
              "000b1fec-8616-4014-9581-c5a944911ac3          4              False   \n",
              "000db136-b110-4dd6-9d1c-a70ab1ab2d75         26               True   \n",
              "\n",
              "                                                city  \n",
              "account_id                                            \n",
              "00073adf-7117-44ba-90fe-5879c9581b68        CURITIBA  \n",
              "000b1fec-8616-4014-9581-c5a944911ac3  RIO DE JANEIRO  \n",
              "000db136-b110-4dd6-9d1c-a70ab1ab2d75       SAO PAULO  "
            ],
            "text/html": [
              "\n",
              "  <div id=\"df-ea3868b3-3392-44b6-9cbe-58a5392bd8db\">\n",
              "    <div class=\"colab-df-container\">\n",
              "      <div>\n",
              "<style scoped>\n",
              "    .dataframe tbody tr th:only-of-type {\n",
              "        vertical-align: middle;\n",
              "    }\n",
              "\n",
              "    .dataframe tbody tr th {\n",
              "        vertical-align: top;\n",
              "    }\n",
              "\n",
              "    .dataframe thead th {\n",
              "        text-align: right;\n",
              "    }\n",
              "</style>\n",
              "<table border=\"1\" class=\"dataframe\">\n",
              "  <thead>\n",
              "    <tr style=\"text-align: right;\">\n",
              "      <th></th>\n",
              "      <th>Recency</th>\n",
              "      <th>Monetary_Value</th>\n",
              "      <th>Frequency</th>\n",
              "      <th>has_free_delivery</th>\n",
              "      <th>city</th>\n",
              "    </tr>\n",
              "    <tr>\n",
              "      <th>account_id</th>\n",
              "      <th></th>\n",
              "      <th></th>\n",
              "      <th></th>\n",
              "      <th></th>\n",
              "      <th></th>\n",
              "    </tr>\n",
              "  </thead>\n",
              "  <tbody>\n",
              "    <tr>\n",
              "      <th>00073adf-7117-44ba-90fe-5879c9581b68</th>\n",
              "      <td>818 days 23:57:22.625110</td>\n",
              "      <td>2737.50</td>\n",
              "      <td>1</td>\n",
              "      <td>True</td>\n",
              "      <td>CURITIBA</td>\n",
              "    </tr>\n",
              "    <tr>\n",
              "      <th>000b1fec-8616-4014-9581-c5a944911ac3</th>\n",
              "      <td>624 days 14:30:38.626310</td>\n",
              "      <td>18671.25</td>\n",
              "      <td>4</td>\n",
              "      <td>False</td>\n",
              "      <td>RIO DE JANEIRO</td>\n",
              "    </tr>\n",
              "    <tr>\n",
              "      <th>000db136-b110-4dd6-9d1c-a70ab1ab2d75</th>\n",
              "      <td>584 days 22:28:31.627024</td>\n",
              "      <td>105322.50</td>\n",
              "      <td>26</td>\n",
              "      <td>True</td>\n",
              "      <td>SAO PAULO</td>\n",
              "    </tr>\n",
              "  </tbody>\n",
              "</table>\n",
              "</div>\n",
              "      <button class=\"colab-df-convert\" onclick=\"convertToInteractive('df-ea3868b3-3392-44b6-9cbe-58a5392bd8db')\"\n",
              "              title=\"Convert this dataframe to an interactive table.\"\n",
              "              style=\"display:none;\">\n",
              "        \n",
              "  <svg xmlns=\"http://www.w3.org/2000/svg\" height=\"24px\"viewBox=\"0 0 24 24\"\n",
              "       width=\"24px\">\n",
              "    <path d=\"M0 0h24v24H0V0z\" fill=\"none\"/>\n",
              "    <path d=\"M18.56 5.44l.94 2.06.94-2.06 2.06-.94-2.06-.94-.94-2.06-.94 2.06-2.06.94zm-11 1L8.5 8.5l.94-2.06 2.06-.94-2.06-.94L8.5 2.5l-.94 2.06-2.06.94zm10 10l.94 2.06.94-2.06 2.06-.94-2.06-.94-.94-2.06-.94 2.06-2.06.94z\"/><path d=\"M17.41 7.96l-1.37-1.37c-.4-.4-.92-.59-1.43-.59-.52 0-1.04.2-1.43.59L10.3 9.45l-7.72 7.72c-.78.78-.78 2.05 0 2.83L4 21.41c.39.39.9.59 1.41.59.51 0 1.02-.2 1.41-.59l7.78-7.78 2.81-2.81c.8-.78.8-2.07 0-2.86zM5.41 20L4 18.59l7.72-7.72 1.47 1.35L5.41 20z\"/>\n",
              "  </svg>\n",
              "      </button>\n",
              "      \n",
              "  <style>\n",
              "    .colab-df-container {\n",
              "      display:flex;\n",
              "      flex-wrap:wrap;\n",
              "      gap: 12px;\n",
              "    }\n",
              "\n",
              "    .colab-df-convert {\n",
              "      background-color: #E8F0FE;\n",
              "      border: none;\n",
              "      border-radius: 50%;\n",
              "      cursor: pointer;\n",
              "      display: none;\n",
              "      fill: #1967D2;\n",
              "      height: 32px;\n",
              "      padding: 0 0 0 0;\n",
              "      width: 32px;\n",
              "    }\n",
              "\n",
              "    .colab-df-convert:hover {\n",
              "      background-color: #E2EBFA;\n",
              "      box-shadow: 0px 1px 2px rgba(60, 64, 67, 0.3), 0px 1px 3px 1px rgba(60, 64, 67, 0.15);\n",
              "      fill: #174EA6;\n",
              "    }\n",
              "\n",
              "    [theme=dark] .colab-df-convert {\n",
              "      background-color: #3B4455;\n",
              "      fill: #D2E3FC;\n",
              "    }\n",
              "\n",
              "    [theme=dark] .colab-df-convert:hover {\n",
              "      background-color: #434B5C;\n",
              "      box-shadow: 0px 1px 3px 1px rgba(0, 0, 0, 0.15);\n",
              "      filter: drop-shadow(0px 1px 2px rgba(0, 0, 0, 0.3));\n",
              "      fill: #FFFFFF;\n",
              "    }\n",
              "  </style>\n",
              "\n",
              "      <script>\n",
              "        const buttonEl =\n",
              "          document.querySelector('#df-ea3868b3-3392-44b6-9cbe-58a5392bd8db button.colab-df-convert');\n",
              "        buttonEl.style.display =\n",
              "          google.colab.kernel.accessAllowed ? 'block' : 'none';\n",
              "\n",
              "        async function convertToInteractive(key) {\n",
              "          const element = document.querySelector('#df-ea3868b3-3392-44b6-9cbe-58a5392bd8db');\n",
              "          const dataTable =\n",
              "            await google.colab.kernel.invokeFunction('convertToInteractive',\n",
              "                                                     [key], {});\n",
              "          if (!dataTable) return;\n",
              "\n",
              "          const docLinkHtml = 'Like what you see? Visit the ' +\n",
              "            '<a target=\"_blank\" href=https://colab.research.google.com/notebooks/data_table.ipynb>data table notebook</a>'\n",
              "            + ' to learn more about interactive tables.';\n",
              "          element.innerHTML = '';\n",
              "          dataTable['output_type'] = 'display_data';\n",
              "          await google.colab.output.renderOutput(dataTable, element);\n",
              "          const docLink = document.createElement('div');\n",
              "          docLink.innerHTML = docLinkHtml;\n",
              "          element.appendChild(docLink);\n",
              "        }\n",
              "      </script>\n",
              "    </div>\n",
              "  </div>\n",
              "  "
            ]
          },
          "metadata": {},
          "execution_count": 31
        }
      ]
    },
    {
      "cell_type": "markdown",
      "source": [
        "* Rencency precisa ser transformado em **int**."
      ],
      "metadata": {
        "id": "RZkUTov0pdWZ"
      }
    },
    {
      "cell_type": "code",
      "source": [
        "ordens_preprocessed_RMF['Recency_days'] = np.nan\n",
        "for i in range(len(ordens_preprocessed_RMF)):\n",
        "    ordens_preprocessed_RMF['Recency_days'][i] = ordens_preprocessed_RMF['Recency'][i].days"
      ],
      "metadata": {
        "colab": {
          "base_uri": "https://localhost:8080/"
        },
        "id": "Dl2yHmIzjU-J",
        "outputId": "45f9e096-da93-4742-b42a-01aa2c0d381c"
      },
      "execution_count": null,
      "outputs": [
        {
          "output_type": "stream",
          "name": "stderr",
          "text": [
            "/usr/local/lib/python3.7/dist-packages/ipykernel_launcher.py:3: SettingWithCopyWarning: \n",
            "A value is trying to be set on a copy of a slice from a DataFrame\n",
            "\n",
            "See the caveats in the documentation: https://pandas.pydata.org/pandas-docs/stable/user_guide/indexing.html#returning-a-view-versus-a-copy\n",
            "  This is separate from the ipykernel package so we can avoid doing imports until\n"
          ]
        }
      ]
    },
    {
      "cell_type": "markdown",
      "source": [
        "* Remover Recency"
      ],
      "metadata": {
        "id": "0Btx3CIlplWt"
      }
    },
    {
      "cell_type": "code",
      "source": [
        "ordens_preprocessed_RMF = ordens_preprocessed_RMF.drop('Recency', axis=1)"
      ],
      "metadata": {
        "id": "O-xWJWXqkObB"
      },
      "execution_count": null,
      "outputs": []
    },
    {
      "cell_type": "code",
      "source": [
        "# normalizar o RMF\n",
        "from sklearn.preprocessing import MinMaxScaler\n",
        "ordens_preprocessed_RMF['Recency_days_norm'] = MinMaxScaler().fit_transform(X=1/ordens_preprocessed_RMF[['Recency_days']])*100\n",
        "ordens_preprocessed_RMF['Frequency_norm'] = MinMaxScaler().fit_transform(X=ordens_preprocessed_RMF[['Frequency']])*100\n",
        "ordens_preprocessed_RMF['Monetary_Value_norm'] = MinMaxScaler().fit_transform(X=ordens_preprocessed_RMF[['Monetary_Value']])*100\n",
        "\n",
        "ordens_preprocessed_RMF['CLTV'] = (((ordens_preprocessed_RMF['Frequency_norm'].astype(float) + ordens_preprocessed_RMF['Monetary_Value_norm'].astype(float)) + (ordens_preprocessed_RMF['Recency_days_norm'].astype(float)))/3).round(2)"
      ],
      "metadata": {
        "id": "1Djffh1JTbpk"
      },
      "execution_count": null,
      "outputs": []
    },
    {
      "cell_type": "code",
      "source": [
        "ordens_preprocessed_RMF.info()"
      ],
      "metadata": {
        "colab": {
          "base_uri": "https://localhost:8080/"
        },
        "id": "AgZKwFeFar8u",
        "outputId": "8cb529cc-df53-49d7-f754-42b9cacf3d62"
      },
      "execution_count": null,
      "outputs": [
        {
          "output_type": "stream",
          "name": "stdout",
          "text": [
            "<class 'pandas.core.frame.DataFrame'>\n",
            "Index: 13964 entries, 00073adf-7117-44ba-90fe-5879c9581b68 to fffeddb7-19ce-4a16-999a-41f5fed5fc96\n",
            "Data columns (total 9 columns):\n",
            " #   Column               Non-Null Count  Dtype  \n",
            "---  ------               --------------  -----  \n",
            " 0   Monetary_Value       13964 non-null  float64\n",
            " 1   Frequency            13964 non-null  int64  \n",
            " 2   has_free_delivery    13964 non-null  bool   \n",
            " 3   city                 13964 non-null  object \n",
            " 4   Recency_days         13964 non-null  float64\n",
            " 5   Recency_days_norm    13964 non-null  float64\n",
            " 6   Frequency_norm       13964 non-null  float64\n",
            " 7   Monetary_Value_norm  13964 non-null  float64\n",
            " 8   CLTV                 13964 non-null  float64\n",
            "dtypes: bool(1), float64(6), int64(1), object(1)\n",
            "memory usage: 1.5+ MB\n"
          ]
        }
      ]
    },
    {
      "cell_type": "markdown",
      "source": [
        "### Adicionar dish_type"
      ],
      "metadata": {
        "id": "xx-BpMSKdPDN"
      }
    },
    {
      "cell_type": "code",
      "source": [
        "ordens_preprocessed_RMF = ordens_preprocessed_RMF.reset_index()"
      ],
      "metadata": {
        "id": "Cw2sjnZxdSXa"
      },
      "execution_count": null,
      "outputs": []
    },
    {
      "cell_type": "code",
      "source": [
        "ordens_preprocessed_dish_type = ordens_preprocessed[[\"account_id\", \"dish_type\"]]\\\n",
        ".groupby(\"account_id\").agg(lambda x:x.mode()).reset_index()"
      ],
      "metadata": {
        "id": "2OYFvnVhdvV6"
      },
      "execution_count": null,
      "outputs": []
    },
    {
      "cell_type": "code",
      "source": [
        "ordens_preprocessed_full = pd.merge(ordens_preprocessed_RMF, \n",
        "                                         ordens_preprocessed_dish_type, \n",
        "                                         how=\"inner\", \n",
        "                                         on=\"account_id\")"
      ],
      "metadata": {
        "id": "YtnUh5Cjeo45"
      },
      "execution_count": null,
      "outputs": []
    },
    {
      "cell_type": "code",
      "source": [
        "ordens_preprocessed_full.info()"
      ],
      "metadata": {
        "colab": {
          "base_uri": "https://localhost:8080/"
        },
        "id": "EUn_M4yfgXKI",
        "outputId": "62eed479-6935-488b-d592-c89887a6eb9e"
      },
      "execution_count": null,
      "outputs": [
        {
          "output_type": "stream",
          "name": "stdout",
          "text": [
            "<class 'pandas.core.frame.DataFrame'>\n",
            "Int64Index: 13964 entries, 0 to 13963\n",
            "Data columns (total 11 columns):\n",
            " #   Column               Non-Null Count  Dtype  \n",
            "---  ------               --------------  -----  \n",
            " 0   account_id           13964 non-null  object \n",
            " 1   Monetary_Value       13964 non-null  float64\n",
            " 2   Frequency            13964 non-null  int64  \n",
            " 3   has_free_delivery    13964 non-null  bool   \n",
            " 4   city                 13964 non-null  object \n",
            " 5   Recency_days         13964 non-null  float64\n",
            " 6   Recency_days_norm    13964 non-null  float64\n",
            " 7   Frequency_norm       13964 non-null  float64\n",
            " 8   Monetary_Value_norm  13964 non-null  float64\n",
            " 9   CLTV                 13964 non-null  float64\n",
            " 10  dish_type            13964 non-null  object \n",
            "dtypes: bool(1), float64(6), int64(1), object(3)\n",
            "memory usage: 1.2+ MB\n"
          ]
        }
      ]
    },
    {
      "cell_type": "code",
      "source": [
        "ordens_preprocessed_full.head(2)"
      ],
      "metadata": {
        "colab": {
          "base_uri": "https://localhost:8080/"
        },
        "id": "7u3yIcpLgeDm",
        "outputId": "6c106c82-bc06-447f-87f7-f3d75bf0fac4"
      },
      "execution_count": null,
      "outputs": [
        {
          "output_type": "execute_result",
          "data": {
            "text/plain": [
              "                             account_id  Monetary_Value  Frequency  \\\n",
              "0  00073adf-7117-44ba-90fe-5879c9581b68         2737.50          1   \n",
              "1  000b1fec-8616-4014-9581-c5a944911ac3        18671.25          4   \n",
              "\n",
              "   has_free_delivery            city  Recency_days  Recency_days_norm  \\\n",
              "0               True        CURITIBA         818.0           2.049564   \n",
              "1              False  RIO DE JANEIRO         624.0          77.148623   \n",
              "\n",
              "   Frequency_norm  Monetary_Value_norm   CLTV  \\\n",
              "0        0.000000             0.049463   0.70   \n",
              "1        0.360144             0.341500  25.95   \n",
              "\n",
              "                                      dish_type  \n",
              "0                                       Marmita  \n",
              "1  [Comida Brasileira, Lanches, Pizza, Tapioca]  "
            ],
            "text/html": [
              "\n",
              "  <div id=\"df-87dc22da-8bd7-4978-846c-94db75687672\">\n",
              "    <div class=\"colab-df-container\">\n",
              "      <div>\n",
              "<style scoped>\n",
              "    .dataframe tbody tr th:only-of-type {\n",
              "        vertical-align: middle;\n",
              "    }\n",
              "\n",
              "    .dataframe tbody tr th {\n",
              "        vertical-align: top;\n",
              "    }\n",
              "\n",
              "    .dataframe thead th {\n",
              "        text-align: right;\n",
              "    }\n",
              "</style>\n",
              "<table border=\"1\" class=\"dataframe\">\n",
              "  <thead>\n",
              "    <tr style=\"text-align: right;\">\n",
              "      <th></th>\n",
              "      <th>account_id</th>\n",
              "      <th>Monetary_Value</th>\n",
              "      <th>Frequency</th>\n",
              "      <th>has_free_delivery</th>\n",
              "      <th>city</th>\n",
              "      <th>Recency_days</th>\n",
              "      <th>Recency_days_norm</th>\n",
              "      <th>Frequency_norm</th>\n",
              "      <th>Monetary_Value_norm</th>\n",
              "      <th>CLTV</th>\n",
              "      <th>dish_type</th>\n",
              "    </tr>\n",
              "  </thead>\n",
              "  <tbody>\n",
              "    <tr>\n",
              "      <th>0</th>\n",
              "      <td>00073adf-7117-44ba-90fe-5879c9581b68</td>\n",
              "      <td>2737.50</td>\n",
              "      <td>1</td>\n",
              "      <td>True</td>\n",
              "      <td>CURITIBA</td>\n",
              "      <td>818.0</td>\n",
              "      <td>2.049564</td>\n",
              "      <td>0.000000</td>\n",
              "      <td>0.049463</td>\n",
              "      <td>0.70</td>\n",
              "      <td>Marmita</td>\n",
              "    </tr>\n",
              "    <tr>\n",
              "      <th>1</th>\n",
              "      <td>000b1fec-8616-4014-9581-c5a944911ac3</td>\n",
              "      <td>18671.25</td>\n",
              "      <td>4</td>\n",
              "      <td>False</td>\n",
              "      <td>RIO DE JANEIRO</td>\n",
              "      <td>624.0</td>\n",
              "      <td>77.148623</td>\n",
              "      <td>0.360144</td>\n",
              "      <td>0.341500</td>\n",
              "      <td>25.95</td>\n",
              "      <td>[Comida Brasileira, Lanches, Pizza, Tapioca]</td>\n",
              "    </tr>\n",
              "  </tbody>\n",
              "</table>\n",
              "</div>\n",
              "      <button class=\"colab-df-convert\" onclick=\"convertToInteractive('df-87dc22da-8bd7-4978-846c-94db75687672')\"\n",
              "              title=\"Convert this dataframe to an interactive table.\"\n",
              "              style=\"display:none;\">\n",
              "        \n",
              "  <svg xmlns=\"http://www.w3.org/2000/svg\" height=\"24px\"viewBox=\"0 0 24 24\"\n",
              "       width=\"24px\">\n",
              "    <path d=\"M0 0h24v24H0V0z\" fill=\"none\"/>\n",
              "    <path d=\"M18.56 5.44l.94 2.06.94-2.06 2.06-.94-2.06-.94-.94-2.06-.94 2.06-2.06.94zm-11 1L8.5 8.5l.94-2.06 2.06-.94-2.06-.94L8.5 2.5l-.94 2.06-2.06.94zm10 10l.94 2.06.94-2.06 2.06-.94-2.06-.94-.94-2.06-.94 2.06-2.06.94z\"/><path d=\"M17.41 7.96l-1.37-1.37c-.4-.4-.92-.59-1.43-.59-.52 0-1.04.2-1.43.59L10.3 9.45l-7.72 7.72c-.78.78-.78 2.05 0 2.83L4 21.41c.39.39.9.59 1.41.59.51 0 1.02-.2 1.41-.59l7.78-7.78 2.81-2.81c.8-.78.8-2.07 0-2.86zM5.41 20L4 18.59l7.72-7.72 1.47 1.35L5.41 20z\"/>\n",
              "  </svg>\n",
              "      </button>\n",
              "      \n",
              "  <style>\n",
              "    .colab-df-container {\n",
              "      display:flex;\n",
              "      flex-wrap:wrap;\n",
              "      gap: 12px;\n",
              "    }\n",
              "\n",
              "    .colab-df-convert {\n",
              "      background-color: #E8F0FE;\n",
              "      border: none;\n",
              "      border-radius: 50%;\n",
              "      cursor: pointer;\n",
              "      display: none;\n",
              "      fill: #1967D2;\n",
              "      height: 32px;\n",
              "      padding: 0 0 0 0;\n",
              "      width: 32px;\n",
              "    }\n",
              "\n",
              "    .colab-df-convert:hover {\n",
              "      background-color: #E2EBFA;\n",
              "      box-shadow: 0px 1px 2px rgba(60, 64, 67, 0.3), 0px 1px 3px 1px rgba(60, 64, 67, 0.15);\n",
              "      fill: #174EA6;\n",
              "    }\n",
              "\n",
              "    [theme=dark] .colab-df-convert {\n",
              "      background-color: #3B4455;\n",
              "      fill: #D2E3FC;\n",
              "    }\n",
              "\n",
              "    [theme=dark] .colab-df-convert:hover {\n",
              "      background-color: #434B5C;\n",
              "      box-shadow: 0px 1px 3px 1px rgba(0, 0, 0, 0.15);\n",
              "      filter: drop-shadow(0px 1px 2px rgba(0, 0, 0, 0.3));\n",
              "      fill: #FFFFFF;\n",
              "    }\n",
              "  </style>\n",
              "\n",
              "      <script>\n",
              "        const buttonEl =\n",
              "          document.querySelector('#df-87dc22da-8bd7-4978-846c-94db75687672 button.colab-df-convert');\n",
              "        buttonEl.style.display =\n",
              "          google.colab.kernel.accessAllowed ? 'block' : 'none';\n",
              "\n",
              "        async function convertToInteractive(key) {\n",
              "          const element = document.querySelector('#df-87dc22da-8bd7-4978-846c-94db75687672');\n",
              "          const dataTable =\n",
              "            await google.colab.kernel.invokeFunction('convertToInteractive',\n",
              "                                                     [key], {});\n",
              "          if (!dataTable) return;\n",
              "\n",
              "          const docLinkHtml = 'Like what you see? Visit the ' +\n",
              "            '<a target=\"_blank\" href=https://colab.research.google.com/notebooks/data_table.ipynb>data table notebook</a>'\n",
              "            + ' to learn more about interactive tables.';\n",
              "          element.innerHTML = '';\n",
              "          dataTable['output_type'] = 'display_data';\n",
              "          await google.colab.output.renderOutput(dataTable, element);\n",
              "          const docLink = document.createElement('div');\n",
              "          docLink.innerHTML = docLinkHtml;\n",
              "          element.appendChild(docLink);\n",
              "        }\n",
              "      </script>\n",
              "    </div>\n",
              "  </div>\n",
              "  "
            ]
          },
          "metadata": {},
          "execution_count": 40
        }
      ]
    },
    {
      "cell_type": "markdown",
      "source": [
        "# EDA"
      ],
      "metadata": {
        "id": "0JSJDtysSI6Z"
      }
    },
    {
      "cell_type": "markdown",
      "source": [
        "## Experimento 1 - Clusterização com CLTV"
      ],
      "metadata": {
        "id": "827Eng2mm0Yg"
      }
    },
    {
      "cell_type": "markdown",
      "source": [
        "* Será que clusterizar com apenas o CLTV gera insights sobre gostar de entrega grátis?"
      ],
      "metadata": {
        "id": "h_UZPR4vm-f3"
      }
    },
    {
      "cell_type": "code",
      "source": [
        "ordens_EDA_experimento_1 = ordens_preprocessed_full.copy()"
      ],
      "metadata": {
        "id": "MxAzs0nyS0G5"
      },
      "execution_count": null,
      "outputs": []
    },
    {
      "cell_type": "code",
      "source": [
        "kmeans = KMeans()"
      ],
      "metadata": {
        "id": "DzCKfaoKSILQ"
      },
      "execution_count": null,
      "outputs": []
    },
    {
      "cell_type": "code",
      "source": [
        "ordens_EDA_experimento_1.describe(percentiles=[.25, .5, .75, .99]).round(2)"
      ],
      "metadata": {
        "colab": {
          "base_uri": "https://localhost:8080/"
        },
        "id": "fANCHYo_pWIO",
        "outputId": "baa58f8b-054f-4379-d5e2-ad83523f4735"
      },
      "execution_count": null,
      "outputs": [
        {
          "output_type": "execute_result",
          "data": {
            "text/plain": [
              "       Monetary_Value  Frequency  Recency_days  Recency_days_norm  \\\n",
              "count        13964.00   13964.00      13964.00           13964.00   \n",
              "mean         97510.06      16.20        663.52              61.83   \n",
              "std         226683.72      38.99         74.48              31.64   \n",
              "min             38.75       1.00        582.00               0.00   \n",
              "25%           9862.50       2.00        599.00              35.69   \n",
              "50%          26323.75       4.00        638.00              70.20   \n",
              "75%          79867.50      12.00        718.00              90.36   \n",
              "99%        1124727.04     185.00        822.00             100.00   \n",
              "max        5456118.75     834.00        825.00             100.00   \n",
              "\n",
              "       Frequency_norm  Monetary_Value_norm      CLTV  \n",
              "count        13964.00             13964.00  13964.00  \n",
              "mean             1.83                 1.79     21.81  \n",
              "std              4.68                 4.15     11.51  \n",
              "min              0.00                 0.00      0.01  \n",
              "25%              0.12                 0.18     12.50  \n",
              "50%              0.36                 0.48     23.98  \n",
              "75%              1.32                 1.46     31.20  \n",
              "99%             22.09                20.61     45.43  \n",
              "max            100.00               100.00     83.40  "
            ],
            "text/html": [
              "\n",
              "  <div id=\"df-60c5f0d3-d734-4367-86d9-c428f571be2c\">\n",
              "    <div class=\"colab-df-container\">\n",
              "      <div>\n",
              "<style scoped>\n",
              "    .dataframe tbody tr th:only-of-type {\n",
              "        vertical-align: middle;\n",
              "    }\n",
              "\n",
              "    .dataframe tbody tr th {\n",
              "        vertical-align: top;\n",
              "    }\n",
              "\n",
              "    .dataframe thead th {\n",
              "        text-align: right;\n",
              "    }\n",
              "</style>\n",
              "<table border=\"1\" class=\"dataframe\">\n",
              "  <thead>\n",
              "    <tr style=\"text-align: right;\">\n",
              "      <th></th>\n",
              "      <th>Monetary_Value</th>\n",
              "      <th>Frequency</th>\n",
              "      <th>Recency_days</th>\n",
              "      <th>Recency_days_norm</th>\n",
              "      <th>Frequency_norm</th>\n",
              "      <th>Monetary_Value_norm</th>\n",
              "      <th>CLTV</th>\n",
              "    </tr>\n",
              "  </thead>\n",
              "  <tbody>\n",
              "    <tr>\n",
              "      <th>count</th>\n",
              "      <td>13964.00</td>\n",
              "      <td>13964.00</td>\n",
              "      <td>13964.00</td>\n",
              "      <td>13964.00</td>\n",
              "      <td>13964.00</td>\n",
              "      <td>13964.00</td>\n",
              "      <td>13964.00</td>\n",
              "    </tr>\n",
              "    <tr>\n",
              "      <th>mean</th>\n",
              "      <td>97510.06</td>\n",
              "      <td>16.20</td>\n",
              "      <td>663.52</td>\n",
              "      <td>61.83</td>\n",
              "      <td>1.83</td>\n",
              "      <td>1.79</td>\n",
              "      <td>21.81</td>\n",
              "    </tr>\n",
              "    <tr>\n",
              "      <th>std</th>\n",
              "      <td>226683.72</td>\n",
              "      <td>38.99</td>\n",
              "      <td>74.48</td>\n",
              "      <td>31.64</td>\n",
              "      <td>4.68</td>\n",
              "      <td>4.15</td>\n",
              "      <td>11.51</td>\n",
              "    </tr>\n",
              "    <tr>\n",
              "      <th>min</th>\n",
              "      <td>38.75</td>\n",
              "      <td>1.00</td>\n",
              "      <td>582.00</td>\n",
              "      <td>0.00</td>\n",
              "      <td>0.00</td>\n",
              "      <td>0.00</td>\n",
              "      <td>0.01</td>\n",
              "    </tr>\n",
              "    <tr>\n",
              "      <th>25%</th>\n",
              "      <td>9862.50</td>\n",
              "      <td>2.00</td>\n",
              "      <td>599.00</td>\n",
              "      <td>35.69</td>\n",
              "      <td>0.12</td>\n",
              "      <td>0.18</td>\n",
              "      <td>12.50</td>\n",
              "    </tr>\n",
              "    <tr>\n",
              "      <th>50%</th>\n",
              "      <td>26323.75</td>\n",
              "      <td>4.00</td>\n",
              "      <td>638.00</td>\n",
              "      <td>70.20</td>\n",
              "      <td>0.36</td>\n",
              "      <td>0.48</td>\n",
              "      <td>23.98</td>\n",
              "    </tr>\n",
              "    <tr>\n",
              "      <th>75%</th>\n",
              "      <td>79867.50</td>\n",
              "      <td>12.00</td>\n",
              "      <td>718.00</td>\n",
              "      <td>90.36</td>\n",
              "      <td>1.32</td>\n",
              "      <td>1.46</td>\n",
              "      <td>31.20</td>\n",
              "    </tr>\n",
              "    <tr>\n",
              "      <th>99%</th>\n",
              "      <td>1124727.04</td>\n",
              "      <td>185.00</td>\n",
              "      <td>822.00</td>\n",
              "      <td>100.00</td>\n",
              "      <td>22.09</td>\n",
              "      <td>20.61</td>\n",
              "      <td>45.43</td>\n",
              "    </tr>\n",
              "    <tr>\n",
              "      <th>max</th>\n",
              "      <td>5456118.75</td>\n",
              "      <td>834.00</td>\n",
              "      <td>825.00</td>\n",
              "      <td>100.00</td>\n",
              "      <td>100.00</td>\n",
              "      <td>100.00</td>\n",
              "      <td>83.40</td>\n",
              "    </tr>\n",
              "  </tbody>\n",
              "</table>\n",
              "</div>\n",
              "      <button class=\"colab-df-convert\" onclick=\"convertToInteractive('df-60c5f0d3-d734-4367-86d9-c428f571be2c')\"\n",
              "              title=\"Convert this dataframe to an interactive table.\"\n",
              "              style=\"display:none;\">\n",
              "        \n",
              "  <svg xmlns=\"http://www.w3.org/2000/svg\" height=\"24px\"viewBox=\"0 0 24 24\"\n",
              "       width=\"24px\">\n",
              "    <path d=\"M0 0h24v24H0V0z\" fill=\"none\"/>\n",
              "    <path d=\"M18.56 5.44l.94 2.06.94-2.06 2.06-.94-2.06-.94-.94-2.06-.94 2.06-2.06.94zm-11 1L8.5 8.5l.94-2.06 2.06-.94-2.06-.94L8.5 2.5l-.94 2.06-2.06.94zm10 10l.94 2.06.94-2.06 2.06-.94-2.06-.94-.94-2.06-.94 2.06-2.06.94z\"/><path d=\"M17.41 7.96l-1.37-1.37c-.4-.4-.92-.59-1.43-.59-.52 0-1.04.2-1.43.59L10.3 9.45l-7.72 7.72c-.78.78-.78 2.05 0 2.83L4 21.41c.39.39.9.59 1.41.59.51 0 1.02-.2 1.41-.59l7.78-7.78 2.81-2.81c.8-.78.8-2.07 0-2.86zM5.41 20L4 18.59l7.72-7.72 1.47 1.35L5.41 20z\"/>\n",
              "  </svg>\n",
              "      </button>\n",
              "      \n",
              "  <style>\n",
              "    .colab-df-container {\n",
              "      display:flex;\n",
              "      flex-wrap:wrap;\n",
              "      gap: 12px;\n",
              "    }\n",
              "\n",
              "    .colab-df-convert {\n",
              "      background-color: #E8F0FE;\n",
              "      border: none;\n",
              "      border-radius: 50%;\n",
              "      cursor: pointer;\n",
              "      display: none;\n",
              "      fill: #1967D2;\n",
              "      height: 32px;\n",
              "      padding: 0 0 0 0;\n",
              "      width: 32px;\n",
              "    }\n",
              "\n",
              "    .colab-df-convert:hover {\n",
              "      background-color: #E2EBFA;\n",
              "      box-shadow: 0px 1px 2px rgba(60, 64, 67, 0.3), 0px 1px 3px 1px rgba(60, 64, 67, 0.15);\n",
              "      fill: #174EA6;\n",
              "    }\n",
              "\n",
              "    [theme=dark] .colab-df-convert {\n",
              "      background-color: #3B4455;\n",
              "      fill: #D2E3FC;\n",
              "    }\n",
              "\n",
              "    [theme=dark] .colab-df-convert:hover {\n",
              "      background-color: #434B5C;\n",
              "      box-shadow: 0px 1px 3px 1px rgba(0, 0, 0, 0.15);\n",
              "      filter: drop-shadow(0px 1px 2px rgba(0, 0, 0, 0.3));\n",
              "      fill: #FFFFFF;\n",
              "    }\n",
              "  </style>\n",
              "\n",
              "      <script>\n",
              "        const buttonEl =\n",
              "          document.querySelector('#df-60c5f0d3-d734-4367-86d9-c428f571be2c button.colab-df-convert');\n",
              "        buttonEl.style.display =\n",
              "          google.colab.kernel.accessAllowed ? 'block' : 'none';\n",
              "\n",
              "        async function convertToInteractive(key) {\n",
              "          const element = document.querySelector('#df-60c5f0d3-d734-4367-86d9-c428f571be2c');\n",
              "          const dataTable =\n",
              "            await google.colab.kernel.invokeFunction('convertToInteractive',\n",
              "                                                     [key], {});\n",
              "          if (!dataTable) return;\n",
              "\n",
              "          const docLinkHtml = 'Like what you see? Visit the ' +\n",
              "            '<a target=\"_blank\" href=https://colab.research.google.com/notebooks/data_table.ipynb>data table notebook</a>'\n",
              "            + ' to learn more about interactive tables.';\n",
              "          element.innerHTML = '';\n",
              "          dataTable['output_type'] = 'display_data';\n",
              "          await google.colab.output.renderOutput(dataTable, element);\n",
              "          const docLink = document.createElement('div');\n",
              "          docLink.innerHTML = docLinkHtml;\n",
              "          element.appendChild(docLink);\n",
              "        }\n",
              "      </script>\n",
              "    </div>\n",
              "  </div>\n",
              "  "
            ]
          },
          "metadata": {},
          "execution_count": 43
        }
      ]
    },
    {
      "cell_type": "markdown",
      "source": [
        "* No CLTV, há outliers pela comparação do percentil 99% e o máximo.\n",
        "* Será necessário usar o RobustScaler para o outlier não influenciar no clustering."
      ],
      "metadata": {
        "id": "08t0ZNCNpzfM"
      }
    },
    {
      "cell_type": "markdown",
      "source": [
        "### Ajuste de escala"
      ],
      "metadata": {
        "id": "cs4KHY6-oye6"
      }
    },
    {
      "cell_type": "code",
      "source": [
        "CLTV = ordens_EDA_experimento_1[['CLTV']]\n",
        "CLTV_scaled = RobustScaler().fit_transform(CLTV)"
      ],
      "metadata": {
        "id": "Z2bGMVmBRXd1"
      },
      "execution_count": null,
      "outputs": []
    },
    {
      "cell_type": "code",
      "source": [
        "CLTV_scaled = pd.DataFrame(CLTV_scaled)\n",
        "CLTV_scaled = CLTV_scaled.rename(columns={0: \"CLTV\"})"
      ],
      "metadata": {
        "id": "diwM0OJ8rF8Q"
      },
      "execution_count": null,
      "outputs": []
    },
    {
      "cell_type": "code",
      "source": [
        "CLTV_scaled.head(3)"
      ],
      "metadata": {
        "colab": {
          "base_uri": "https://localhost:8080/"
        },
        "id": "2YdxfP-8zyUZ",
        "outputId": "0f55e8ac-b3ce-4756-85e4-2db4a49ce4ea"
      },
      "execution_count": null,
      "outputs": [
        {
          "output_type": "execute_result",
          "data": {
            "text/plain": [
              "       CLTV\n",
              "0 -1.244920\n",
              "1  0.105348\n",
              "2  0.567380"
            ],
            "text/html": [
              "\n",
              "  <div id=\"df-7879b36b-4fb7-4d18-a932-b1b0ec5499b2\">\n",
              "    <div class=\"colab-df-container\">\n",
              "      <div>\n",
              "<style scoped>\n",
              "    .dataframe tbody tr th:only-of-type {\n",
              "        vertical-align: middle;\n",
              "    }\n",
              "\n",
              "    .dataframe tbody tr th {\n",
              "        vertical-align: top;\n",
              "    }\n",
              "\n",
              "    .dataframe thead th {\n",
              "        text-align: right;\n",
              "    }\n",
              "</style>\n",
              "<table border=\"1\" class=\"dataframe\">\n",
              "  <thead>\n",
              "    <tr style=\"text-align: right;\">\n",
              "      <th></th>\n",
              "      <th>CLTV</th>\n",
              "    </tr>\n",
              "  </thead>\n",
              "  <tbody>\n",
              "    <tr>\n",
              "      <th>0</th>\n",
              "      <td>-1.244920</td>\n",
              "    </tr>\n",
              "    <tr>\n",
              "      <th>1</th>\n",
              "      <td>0.105348</td>\n",
              "    </tr>\n",
              "    <tr>\n",
              "      <th>2</th>\n",
              "      <td>0.567380</td>\n",
              "    </tr>\n",
              "  </tbody>\n",
              "</table>\n",
              "</div>\n",
              "      <button class=\"colab-df-convert\" onclick=\"convertToInteractive('df-7879b36b-4fb7-4d18-a932-b1b0ec5499b2')\"\n",
              "              title=\"Convert this dataframe to an interactive table.\"\n",
              "              style=\"display:none;\">\n",
              "        \n",
              "  <svg xmlns=\"http://www.w3.org/2000/svg\" height=\"24px\"viewBox=\"0 0 24 24\"\n",
              "       width=\"24px\">\n",
              "    <path d=\"M0 0h24v24H0V0z\" fill=\"none\"/>\n",
              "    <path d=\"M18.56 5.44l.94 2.06.94-2.06 2.06-.94-2.06-.94-.94-2.06-.94 2.06-2.06.94zm-11 1L8.5 8.5l.94-2.06 2.06-.94-2.06-.94L8.5 2.5l-.94 2.06-2.06.94zm10 10l.94 2.06.94-2.06 2.06-.94-2.06-.94-.94-2.06-.94 2.06-2.06.94z\"/><path d=\"M17.41 7.96l-1.37-1.37c-.4-.4-.92-.59-1.43-.59-.52 0-1.04.2-1.43.59L10.3 9.45l-7.72 7.72c-.78.78-.78 2.05 0 2.83L4 21.41c.39.39.9.59 1.41.59.51 0 1.02-.2 1.41-.59l7.78-7.78 2.81-2.81c.8-.78.8-2.07 0-2.86zM5.41 20L4 18.59l7.72-7.72 1.47 1.35L5.41 20z\"/>\n",
              "  </svg>\n",
              "      </button>\n",
              "      \n",
              "  <style>\n",
              "    .colab-df-container {\n",
              "      display:flex;\n",
              "      flex-wrap:wrap;\n",
              "      gap: 12px;\n",
              "    }\n",
              "\n",
              "    .colab-df-convert {\n",
              "      background-color: #E8F0FE;\n",
              "      border: none;\n",
              "      border-radius: 50%;\n",
              "      cursor: pointer;\n",
              "      display: none;\n",
              "      fill: #1967D2;\n",
              "      height: 32px;\n",
              "      padding: 0 0 0 0;\n",
              "      width: 32px;\n",
              "    }\n",
              "\n",
              "    .colab-df-convert:hover {\n",
              "      background-color: #E2EBFA;\n",
              "      box-shadow: 0px 1px 2px rgba(60, 64, 67, 0.3), 0px 1px 3px 1px rgba(60, 64, 67, 0.15);\n",
              "      fill: #174EA6;\n",
              "    }\n",
              "\n",
              "    [theme=dark] .colab-df-convert {\n",
              "      background-color: #3B4455;\n",
              "      fill: #D2E3FC;\n",
              "    }\n",
              "\n",
              "    [theme=dark] .colab-df-convert:hover {\n",
              "      background-color: #434B5C;\n",
              "      box-shadow: 0px 1px 3px 1px rgba(0, 0, 0, 0.15);\n",
              "      filter: drop-shadow(0px 1px 2px rgba(0, 0, 0, 0.3));\n",
              "      fill: #FFFFFF;\n",
              "    }\n",
              "  </style>\n",
              "\n",
              "      <script>\n",
              "        const buttonEl =\n",
              "          document.querySelector('#df-7879b36b-4fb7-4d18-a932-b1b0ec5499b2 button.colab-df-convert');\n",
              "        buttonEl.style.display =\n",
              "          google.colab.kernel.accessAllowed ? 'block' : 'none';\n",
              "\n",
              "        async function convertToInteractive(key) {\n",
              "          const element = document.querySelector('#df-7879b36b-4fb7-4d18-a932-b1b0ec5499b2');\n",
              "          const dataTable =\n",
              "            await google.colab.kernel.invokeFunction('convertToInteractive',\n",
              "                                                     [key], {});\n",
              "          if (!dataTable) return;\n",
              "\n",
              "          const docLinkHtml = 'Like what you see? Visit the ' +\n",
              "            '<a target=\"_blank\" href=https://colab.research.google.com/notebooks/data_table.ipynb>data table notebook</a>'\n",
              "            + ' to learn more about interactive tables.';\n",
              "          element.innerHTML = '';\n",
              "          dataTable['output_type'] = 'display_data';\n",
              "          await google.colab.output.renderOutput(dataTable, element);\n",
              "          const docLink = document.createElement('div');\n",
              "          docLink.innerHTML = docLinkHtml;\n",
              "          element.appendChild(docLink);\n",
              "        }\n",
              "      </script>\n",
              "    </div>\n",
              "  </div>\n",
              "  "
            ]
          },
          "metadata": {},
          "execution_count": 46
        }
      ]
    },
    {
      "cell_type": "code",
      "source": [
        "CLTV_scaled.info()"
      ],
      "metadata": {
        "colab": {
          "base_uri": "https://localhost:8080/"
        },
        "id": "lgYlpFcrH5zX",
        "outputId": "1c2ba8d7-cf02-4859-d03a-2973ee8f80fa"
      },
      "execution_count": null,
      "outputs": [
        {
          "output_type": "stream",
          "name": "stdout",
          "text": [
            "<class 'pandas.core.frame.DataFrame'>\n",
            "RangeIndex: 13964 entries, 0 to 13963\n",
            "Data columns (total 1 columns):\n",
            " #   Column  Non-Null Count  Dtype  \n",
            "---  ------  --------------  -----  \n",
            " 0   CLTV    13964 non-null  float64\n",
            "dtypes: float64(1)\n",
            "memory usage: 109.2 KB\n"
          ]
        }
      ]
    },
    {
      "cell_type": "markdown",
      "source": [
        "### Visualização pelo método do cotovelo."
      ],
      "metadata": {
        "id": "Ifa09Q6GnRym"
      }
    },
    {
      "cell_type": "code",
      "source": [
        "# Fitando vários modelos e armazenando inércia na lista SSE\n",
        "SSE = []\n",
        "for cluster in range(1, 20):  \n",
        "  kmeans = KMeans(n_clusters=cluster, init=\"k-means++\", n_init=10)\n",
        "  kmeans.fit(CLTV_scaled)\n",
        "  SSE.append(kmeans.inertia_)\n",
        "\n",
        "# Convertendo os resultados em um dataframe\n",
        "frame = pd.DataFrame({'Cluster': range(1, 20),\n",
        "                      'SSE': SSE})\n",
        "plt.figure(figsize=(5, 5))\n",
        "plt.plot(frame['Cluster'], frame['SSE'], marker='o')\n",
        "plt.xlabel('Number of clusters')\n",
        "plt.ylabel('Inertia')"
      ],
      "metadata": {
        "colab": {
          "base_uri": "https://localhost:8080/"
        },
        "id": "F4VxA115xzM-",
        "outputId": "8b6a70d4-caec-40d1-f20c-1600c44db716"
      },
      "execution_count": null,
      "outputs": [
        {
          "output_type": "execute_result",
          "data": {
            "text/plain": [
              "Text(0, 0.5, 'Inertia')"
            ]
          },
          "metadata": {},
          "execution_count": 48
        },
        {
          "output_type": "display_data",
          "data": {
            "text/plain": [
              "<Figure size 360x360 with 1 Axes>"
            ],
            "image/png": "[encoded data removed]"
          },
          "metadata": {}
        }
      ]
    },
    {
      "cell_type": "markdown",
      "source": [
        "* A partir de 5 clusters, há estabilidade nos grupos."
      ],
      "metadata": {
        "id": "V7XGaIJM1Zni"
      }
    },
    {
      "cell_type": "markdown",
      "source": [
        "### Visualização pelo método da silhueta score."
      ],
      "metadata": {
        "id": "ykXjcx9H9BOD"
      }
    },
    {
      "cell_type": "code",
      "source": [
        "model = KMeans(random_state=0, init = 'k-means++', n_init = 10, max_iter=100) \n",
        "\n",
        "visualizer = KElbowVisualizer(model, k=(2,15), metric='silhouette', timings=False)\n",
        "\n",
        "visualizer.fit(CLTV_scaled)    \n",
        "visualizer.poof()"
      ],
      "metadata": {
        "colab": {
          "base_uri": "https://localhost:8080/"
        },
        "id": "Dw01ZbsC9cfH",
        "outputId": "332cff5b-dd94-4592-a50b-530864ed29cf"
      },
      "execution_count": null,
      "outputs": [
        {
          "output_type": "display_data",
          "data": {
            "text/plain": [
              "<Figure size 576x396 with 1 Axes>"
            ],
            "image/png": "[encoded data removed]"
          },
          "metadata": {}
        },
        {
          "output_type": "execute_result",
          "data": {
            "text/plain": [
              "<matplotlib.axes._subplots.AxesSubplot at 0x7f190226ed50>"
            ]
          },
          "metadata": {},
          "execution_count": 49
        }
      ]
    },
    {
      "cell_type": "markdown",
      "source": [
        "* Os clusters estão bem separados quando há 2, 3 e 5 clusters.\n"
      ],
      "metadata": {
        "id": "gBQ-wK7B-hLZ"
      }
    },
    {
      "cell_type": "markdown",
      "source": [
        "### Visualização dos clusters e a distância entre eles"
      ],
      "metadata": {
        "id": "NrqAFInfneBA"
      }
    },
    {
      "cell_type": "markdown",
      "source": [
        "* A quantidade de clusters no k-means será 5 pelo método do cotovelo e silhueta score."
      ],
      "metadata": {
        "id": "4yxE5F1i_gcS"
      }
    },
    {
      "cell_type": "code",
      "source": [
        "model = KMeans(5, init=\"k-means++\", n_init=10, max_iter=100, random_state=0)\n",
        "visualizer = InterclusterDistance(model, random_state=0)\n",
        "visualizer.fit(CLTV_scaled)"
      ],
      "metadata": {
        "colab": {
          "base_uri": "https://localhost:8080/"
        },
        "id": "5xG2xquenmRe",
        "outputId": "a5c792aa-e3e6-4482-ae44-4fa3102e0266"
      },
      "execution_count": null,
      "outputs": [
        {
          "output_type": "execute_result",
          "data": {
            "text/plain": [
              "InterclusterDistance(ax=<matplotlib.axes._subplots.AxesSubplot object at 0x7f190259e350>,\n",
              "                     estimator=KMeans(max_iter=100, n_clusters=5,\n",
              "                                      random_state=0),\n",
              "                     random_state=0)"
            ]
          },
          "metadata": {},
          "execution_count": 50
        },
        {
          "output_type": "display_data",
          "data": {
            "text/plain": [
              "<Figure size 576x396 with 2 Axes>"
            ],
            "image/png": "[encoded data removed]"
          },
          "metadata": {}
        }
      ]
    },
    {
      "cell_type": "markdown",
      "source": [
        "* Alguns clusters estão interseccionando entre si, o que não é bom porque a distância intercluster precisa ser a maior possível.\n",
        "* E se eu colocar mais variáveis?"
      ],
      "metadata": {
        "id": "icsbwSUUsGhe"
      }
    },
    {
      "cell_type": "markdown",
      "source": [
        "## Experimento 2"
      ],
      "metadata": {
        "id": "udkA0D6XvBL6"
      }
    },
    {
      "cell_type": "code",
      "source": [
        "ordens_EDA_experimento_2 = ordens_preprocessed_full.copy()"
      ],
      "metadata": {
        "id": "-6UUIcfj_679"
      },
      "execution_count": null,
      "outputs": []
    },
    {
      "cell_type": "code",
      "source": [
        "ordens_EDA_experimento_2.sample(3, random_state=0)"
      ],
      "metadata": {
        "colab": {
          "base_uri": "https://localhost:8080/",
          "height": 381
        },
        "id": "VUpRjebs6cMn",
        "outputId": "e3461b92-e477-4bac-91c0-5d8a27967295"
      },
      "execution_count": null,
      "outputs": [
        {
          "output_type": "execute_result",
          "data": {
            "text/plain": [
              "                                account_id  Monetary_Value  Frequency  \\\n",
              "8114  9600c2b2-0ebb-4496-b3c2-5c572baec274        15487.50          3   \n",
              "4951  5d0d809e-d6fd-4f18-acd7-d69594190962       889827.50        102   \n",
              "4629  573ff972-887a-403a-8db0-54b8fdaee951        30356.25          8   \n",
              "\n",
              "      has_free_delivery            city  Recency_days  Recency_days_norm  \\\n",
              "8114              False       SAO PAULO         639.0          69.715412   \n",
              "4951              False       SAO PAULO         582.0         100.000000   \n",
              "4629              False  RIO DE JANEIRO         587.0          97.108125   \n",
              "\n",
              "      Frequency_norm  Monetary_Value_norm   CLTV  \\\n",
              "8114        0.240096             0.283147  23.41   \n",
              "4951       12.124850            16.308206  42.81   \n",
              "4629        0.840336             0.555665  32.83   \n",
              "\n",
              "                                         dish_type  \n",
              "8114  [Comida Brasileira, Comida Chinesa, Lanches]  \n",
              "4951                             Comida Brasileira  \n",
              "4629                                 Doces & Bolos  "
            ],
            "text/html": [
              "\n",
              "  <div id=\"df-44b2a38d-23bf-4cae-ade2-d567f842c13a\">\n",
              "    <div class=\"colab-df-container\">\n",
              "      <div>\n",
              "<style scoped>\n",
              "    .dataframe tbody tr th:only-of-type {\n",
              "        vertical-align: middle;\n",
              "    }\n",
              "\n",
              "    .dataframe tbody tr th {\n",
              "        vertical-align: top;\n",
              "    }\n",
              "\n",
              "    .dataframe thead th {\n",
              "        text-align: right;\n",
              "    }\n",
              "</style>\n",
              "<table border=\"1\" class=\"dataframe\">\n",
              "  <thead>\n",
              "    <tr style=\"text-align: right;\">\n",
              "      <th></th>\n",
              "      <th>account_id</th>\n",
              "      <th>Monetary_Value</th>\n",
              "      <th>Frequency</th>\n",
              "      <th>has_free_delivery</th>\n",
              "      <th>city</th>\n",
              "      <th>Recency_days</th>\n",
              "      <th>Recency_days_norm</th>\n",
              "      <th>Frequency_norm</th>\n",
              "      <th>Monetary_Value_norm</th>\n",
              "      <th>CLTV</th>\n",
              "      <th>dish_type</th>\n",
              "    </tr>\n",
              "  </thead>\n",
              "  <tbody>\n",
              "    <tr>\n",
              "      <th>8114</th>\n",
              "      <td>9600c2b2-0ebb-4496-b3c2-5c572baec274</td>\n",
              "      <td>15487.50</td>\n",
              "      <td>3</td>\n",
              "      <td>False</td>\n",
              "      <td>SAO PAULO</td>\n",
              "      <td>639.0</td>\n",
              "      <td>69.715412</td>\n",
              "      <td>0.240096</td>\n",
              "      <td>0.283147</td>\n",
              "      <td>23.41</td>\n",
              "      <td>[Comida Brasileira, Comida Chinesa, Lanches]</td>\n",
              "    </tr>\n",
              "    <tr>\n",
              "      <th>4951</th>\n",
              "      <td>5d0d809e-d6fd-4f18-acd7-d69594190962</td>\n",
              "      <td>889827.50</td>\n",
              "      <td>102</td>\n",
              "      <td>False</td>\n",
              "      <td>SAO PAULO</td>\n",
              "      <td>582.0</td>\n",
              "      <td>100.000000</td>\n",
              "      <td>12.124850</td>\n",
              "      <td>16.308206</td>\n",
              "      <td>42.81</td>\n",
              "      <td>Comida Brasileira</td>\n",
              "    </tr>\n",
              "    <tr>\n",
              "      <th>4629</th>\n",
              "      <td>573ff972-887a-403a-8db0-54b8fdaee951</td>\n",
              "      <td>30356.25</td>\n",
              "      <td>8</td>\n",
              "      <td>False</td>\n",
              "      <td>RIO DE JANEIRO</td>\n",
              "      <td>587.0</td>\n",
              "      <td>97.108125</td>\n",
              "      <td>0.840336</td>\n",
              "      <td>0.555665</td>\n",
              "      <td>32.83</td>\n",
              "      <td>Doces &amp; Bolos</td>\n",
              "    </tr>\n",
              "  </tbody>\n",
              "</table>\n",
              "</div>\n",
              "      <button class=\"colab-df-convert\" onclick=\"convertToInteractive('df-44b2a38d-23bf-4cae-ade2-d567f842c13a')\"\n",
              "              title=\"Convert this dataframe to an interactive table.\"\n",
              "              style=\"display:none;\">\n",
              "        \n",
              "  <svg xmlns=\"http://www.w3.org/2000/svg\" height=\"24px\"viewBox=\"0 0 24 24\"\n",
              "       width=\"24px\">\n",
              "    <path d=\"M0 0h24v24H0V0z\" fill=\"none\"/>\n",
              "    <path d=\"M18.56 5.44l.94 2.06.94-2.06 2.06-.94-2.06-.94-.94-2.06-.94 2.06-2.06.94zm-11 1L8.5 8.5l.94-2.06 2.06-.94-2.06-.94L8.5 2.5l-.94 2.06-2.06.94zm10 10l.94 2.06.94-2.06 2.06-.94-2.06-.94-.94-2.06-.94 2.06-2.06.94z\"/><path d=\"M17.41 7.96l-1.37-1.37c-.4-.4-.92-.59-1.43-.59-.52 0-1.04.2-1.43.59L10.3 9.45l-7.72 7.72c-.78.78-.78 2.05 0 2.83L4 21.41c.39.39.9.59 1.41.59.51 0 1.02-.2 1.41-.59l7.78-7.78 2.81-2.81c.8-.78.8-2.07 0-2.86zM5.41 20L4 18.59l7.72-7.72 1.47 1.35L5.41 20z\"/>\n",
              "  </svg>\n",
              "      </button>\n",
              "      \n",
              "  <style>\n",
              "    .colab-df-container {\n",
              "      display:flex;\n",
              "      flex-wrap:wrap;\n",
              "      gap: 12px;\n",
              "    }\n",
              "\n",
              "    .colab-df-convert {\n",
              "      background-color: #E8F0FE;\n",
              "      border: none;\n",
              "      border-radius: 50%;\n",
              "      cursor: pointer;\n",
              "      display: none;\n",
              "      fill: #1967D2;\n",
              "      height: 32px;\n",
              "      padding: 0 0 0 0;\n",
              "      width: 32px;\n",
              "    }\n",
              "\n",
              "    .colab-df-convert:hover {\n",
              "      background-color: #E2EBFA;\n",
              "      box-shadow: 0px 1px 2px rgba(60, 64, 67, 0.3), 0px 1px 3px 1px rgba(60, 64, 67, 0.15);\n",
              "      fill: #174EA6;\n",
              "    }\n",
              "\n",
              "    [theme=dark] .colab-df-convert {\n",
              "      background-color: #3B4455;\n",
              "      fill: #D2E3FC;\n",
              "    }\n",
              "\n",
              "    [theme=dark] .colab-df-convert:hover {\n",
              "      background-color: #434B5C;\n",
              "      box-shadow: 0px 1px 3px 1px rgba(0, 0, 0, 0.15);\n",
              "      filter: drop-shadow(0px 1px 2px rgba(0, 0, 0, 0.3));\n",
              "      fill: #FFFFFF;\n",
              "    }\n",
              "  </style>\n",
              "\n",
              "      <script>\n",
              "        const buttonEl =\n",
              "          document.querySelector('#df-44b2a38d-23bf-4cae-ade2-d567f842c13a button.colab-df-convert');\n",
              "        buttonEl.style.display =\n",
              "          google.colab.kernel.accessAllowed ? 'block' : 'none';\n",
              "\n",
              "        async function convertToInteractive(key) {\n",
              "          const element = document.querySelector('#df-44b2a38d-23bf-4cae-ade2-d567f842c13a');\n",
              "          const dataTable =\n",
              "            await google.colab.kernel.invokeFunction('convertToInteractive',\n",
              "                                                     [key], {});\n",
              "          if (!dataTable) return;\n",
              "\n",
              "          const docLinkHtml = 'Like what you see? Visit the ' +\n",
              "            '<a target=\"_blank\" href=https://colab.research.google.com/notebooks/data_table.ipynb>data table notebook</a>'\n",
              "            + ' to learn more about interactive tables.';\n",
              "          element.innerHTML = '';\n",
              "          dataTable['output_type'] = 'display_data';\n",
              "          await google.colab.output.renderOutput(dataTable, element);\n",
              "          const docLink = document.createElement('div');\n",
              "          docLink.innerHTML = docLinkHtml;\n",
              "          element.appendChild(docLink);\n",
              "        }\n",
              "      </script>\n",
              "    </div>\n",
              "  </div>\n",
              "  "
            ]
          },
          "metadata": {},
          "execution_count": 52
        }
      ]
    },
    {
      "cell_type": "markdown",
      "source": [
        "### Remover colunas"
      ],
      "metadata": {
        "id": "MiSdAsmvZdfM"
      }
    },
    {
      "cell_type": "markdown",
      "source": [
        "* Irei remover as colunas que não serão utilizadas no experimento."
      ],
      "metadata": {
        "id": "XR1tqMuGAz10"
      }
    },
    {
      "cell_type": "code",
      "source": [
        "ordens_EDA_experimento_2.drop([\"Monetary_Value\",\n",
        "                               \"Frequency\",\n",
        "                               \"Recency_days\",\n",
        "                               \"Recency_days_norm\",\n",
        "                               \"Frequency_norm\",\n",
        "                               \"Monetary_Value_norm\"], axis=1, inplace=True)"
      ],
      "metadata": {
        "id": "40VXWNe0A9q7"
      },
      "execution_count": null,
      "outputs": []
    },
    {
      "cell_type": "code",
      "source": [
        "ordens_EDA_experimento_2.info()"
      ],
      "metadata": {
        "colab": {
          "base_uri": "https://localhost:8080/"
        },
        "id": "Unj2Tt5FBvRk",
        "outputId": "18084f3e-29b3-4e99-cbca-74062b8910c8"
      },
      "execution_count": null,
      "outputs": [
        {
          "output_type": "stream",
          "name": "stdout",
          "text": [
            "<class 'pandas.core.frame.DataFrame'>\n",
            "Int64Index: 13964 entries, 0 to 13963\n",
            "Data columns (total 5 columns):\n",
            " #   Column             Non-Null Count  Dtype  \n",
            "---  ------             --------------  -----  \n",
            " 0   account_id         13964 non-null  object \n",
            " 1   has_free_delivery  13964 non-null  bool   \n",
            " 2   city               13964 non-null  object \n",
            " 3   CLTV               13964 non-null  float64\n",
            " 4   dish_type          13964 non-null  object \n",
            "dtypes: bool(1), float64(1), object(3)\n",
            "memory usage: 559.1+ KB\n"
          ]
        }
      ]
    },
    {
      "cell_type": "code",
      "source": [
        "ordens_EDA_experimento_2.account_id.nunique()"
      ],
      "metadata": {
        "colab": {
          "base_uri": "https://localhost:8080/"
        },
        "id": "vzdZosrUB6DL",
        "outputId": "8b3031d5-511f-42f5-f471-f6de11d89110"
      },
      "execution_count": null,
      "outputs": [
        {
          "output_type": "execute_result",
          "data": {
            "text/plain": [
              "13964"
            ]
          },
          "metadata": {},
          "execution_count": 55
        }
      ]
    },
    {
      "cell_type": "markdown",
      "source": [
        "* Cada account_id é único."
      ],
      "metadata": {
        "id": "mZXUkIZwB7Ck"
      }
    },
    {
      "cell_type": "code",
      "source": [
        "ordens_EDA_experimento_2.city.nunique()"
      ],
      "metadata": {
        "colab": {
          "base_uri": "https://localhost:8080/"
        },
        "id": "2KvrX3f0BqLY",
        "outputId": "2eff22ce-9732-4e8f-c469-26a7c3868a16"
      },
      "execution_count": null,
      "outputs": [
        {
          "output_type": "execute_result",
          "data": {
            "text/plain": [
              "232"
            ]
          },
          "metadata": {},
          "execution_count": 56
        }
      ]
    },
    {
      "cell_type": "markdown",
      "source": [
        "* A feature city é de alta cardinalidade"
      ],
      "metadata": {
        "id": "Z6qHKqjiCGH6"
      }
    },
    {
      "cell_type": "markdown",
      "source": [
        "### Ajuste de escala e mudar registro"
      ],
      "metadata": {
        "id": "5Wnnde2jC0yL"
      }
    },
    {
      "cell_type": "code",
      "source": [
        "ordens_EDA_experimento_2.set_index(\"account_id\", inplace=True)"
      ],
      "metadata": {
        "id": "kGpCZ5J9GDYH"
      },
      "execution_count": null,
      "outputs": []
    },
    {
      "cell_type": "code",
      "source": [
        "ordens_EDA_experimento_2.info()"
      ],
      "metadata": {
        "colab": {
          "base_uri": "https://localhost:8080/"
        },
        "id": "ChrP08xdIbGo",
        "outputId": "34b712d7-99da-48c7-9714-525e9929441d"
      },
      "execution_count": null,
      "outputs": [
        {
          "output_type": "stream",
          "name": "stdout",
          "text": [
            "<class 'pandas.core.frame.DataFrame'>\n",
            "Index: 13964 entries, 00073adf-7117-44ba-90fe-5879c9581b68 to fffeddb7-19ce-4a16-999a-41f5fed5fc96\n",
            "Data columns (total 4 columns):\n",
            " #   Column             Non-Null Count  Dtype  \n",
            "---  ------             --------------  -----  \n",
            " 0   has_free_delivery  13964 non-null  bool   \n",
            " 1   city               13964 non-null  object \n",
            " 2   CLTV               13964 non-null  float64\n",
            " 3   dish_type          13964 non-null  object \n",
            "dtypes: bool(1), float64(1), object(2)\n",
            "memory usage: 450.0+ KB\n"
          ]
        }
      ]
    },
    {
      "cell_type": "code",
      "source": [
        "# Ajustar a escala do CLTV com RobustScaler\n",
        "ordens_EDA_experimento_2[\"CLTV_scaled\"] = RobustScaler().fit_transform(ordens_EDA_experimento_2[[\"CLTV\"]])\n",
        "\n",
        "# Remover CLTV\n",
        "ordens_EDA_experimento_2.drop(\"CLTV\", axis=1, inplace=True)"
      ],
      "metadata": {
        "id": "kM0_9v3kEMHa"
      },
      "execution_count": null,
      "outputs": []
    },
    {
      "cell_type": "code",
      "source": [
        "ordens_EDA_experimento_2.info()"
      ],
      "metadata": {
        "colab": {
          "base_uri": "https://localhost:8080/"
        },
        "id": "ZYEXZ8YrIoGr",
        "outputId": "7da26340-19c0-4b76-ce87-cc1f88cdb7c7"
      },
      "execution_count": null,
      "outputs": [
        {
          "output_type": "stream",
          "name": "stdout",
          "text": [
            "<class 'pandas.core.frame.DataFrame'>\n",
            "Index: 13964 entries, 00073adf-7117-44ba-90fe-5879c9581b68 to fffeddb7-19ce-4a16-999a-41f5fed5fc96\n",
            "Data columns (total 4 columns):\n",
            " #   Column             Non-Null Count  Dtype  \n",
            "---  ------             --------------  -----  \n",
            " 0   has_free_delivery  13964 non-null  bool   \n",
            " 1   city               13964 non-null  object \n",
            " 2   dish_type          13964 non-null  object \n",
            " 3   CLTV_scaled        13964 non-null  float64\n",
            "dtypes: bool(1), float64(1), object(2)\n",
            "memory usage: 450.0+ KB\n"
          ]
        }
      ]
    },
    {
      "cell_type": "markdown",
      "source": [
        "### Transformar o dish_type em um novo dataset."
      ],
      "metadata": {
        "id": "rR87eBC0Z36s"
      }
    },
    {
      "cell_type": "code",
      "source": [
        "ordens_EDA_experimento_2_dish_type = ordens_EDA_experimento_2.dish_type.apply(pd.Series)"
      ],
      "metadata": {
        "id": "DYNERRW-hyOW"
      },
      "execution_count": null,
      "outputs": []
    },
    {
      "cell_type": "code",
      "source": [
        "ordens_EDA_experimento_2_dish_type.info()"
      ],
      "metadata": {
        "colab": {
          "base_uri": "https://localhost:8080/"
        },
        "id": "iN3sFJvLkaHo",
        "outputId": "596f9e84-3b72-4d06-a1e7-ed7af14b7db2"
      },
      "execution_count": null,
      "outputs": [
        {
          "output_type": "stream",
          "name": "stdout",
          "text": [
            "<class 'pandas.core.frame.DataFrame'>\n",
            "Index: 13964 entries, 00073adf-7117-44ba-90fe-5879c9581b68 to fffeddb7-19ce-4a16-999a-41f5fed5fc96\n",
            "Data columns (total 10 columns):\n",
            " #   Column  Non-Null Count  Dtype \n",
            "---  ------  --------------  ----- \n",
            " 0   0       13964 non-null  object\n",
            " 1   1       3404 non-null   object\n",
            " 2   2       1146 non-null   object\n",
            " 3   3       364 non-null    object\n",
            " 4   4       107 non-null    object\n",
            " 5   5       46 non-null     object\n",
            " 6   6       15 non-null     object\n",
            " 7   7       6 non-null      object\n",
            " 8   8       3 non-null      object\n",
            " 9   9       1 non-null      object\n",
            "dtypes: object(10)\n",
            "memory usage: 1.2+ MB\n"
          ]
        }
      ]
    },
    {
      "cell_type": "code",
      "source": [
        "ordens_EDA_experimento_2[\"dishtype_01\"] = ordens_EDA_experimento_2_dish_type[0]"
      ],
      "metadata": {
        "id": "6WzHZnu1kqp5"
      },
      "execution_count": null,
      "outputs": []
    },
    {
      "cell_type": "code",
      "source": [
        "ordens_EDA_experimento_2.head(3)"
      ],
      "metadata": {
        "colab": {
          "base_uri": "https://localhost:8080/",
          "height": 271
        },
        "id": "wB1V1irrlKVZ",
        "outputId": "e3a7dd54-1f22-48dd-8ae4-23275f839150"
      },
      "execution_count": null,
      "outputs": [
        {
          "output_type": "execute_result",
          "data": {
            "text/plain": [
              "                                      has_free_delivery            city  \\\n",
              "account_id                                                                \n",
              "00073adf-7117-44ba-90fe-5879c9581b68               True        CURITIBA   \n",
              "000b1fec-8616-4014-9581-c5a944911ac3              False  RIO DE JANEIRO   \n",
              "000db136-b110-4dd6-9d1c-a70ab1ab2d75               True       SAO PAULO   \n",
              "\n",
              "                                                                         dish_type  \\\n",
              "account_id                                                                           \n",
              "00073adf-7117-44ba-90fe-5879c9581b68                                       Marmita   \n",
              "000b1fec-8616-4014-9581-c5a944911ac3  [Comida Brasileira, Lanches, Pizza, Tapioca]   \n",
              "000db136-b110-4dd6-9d1c-a70ab1ab2d75                                       Lanches   \n",
              "\n",
              "                                      CLTV_scaled        dishtype_01  \n",
              "account_id                                                            \n",
              "00073adf-7117-44ba-90fe-5879c9581b68    -1.244920            Marmita  \n",
              "000b1fec-8616-4014-9581-c5a944911ac3     0.105348  Comida Brasileira  \n",
              "000db136-b110-4dd6-9d1c-a70ab1ab2d75     0.567380            Lanches  "
            ],
            "text/html": [
              "\n",
              "  <div id=\"df-3a895e59-fdab-426a-b9ea-92d236f65f95\">\n",
              "    <div class=\"colab-df-container\">\n",
              "      <div>\n",
              "<style scoped>\n",
              "    .dataframe tbody tr th:only-of-type {\n",
              "        vertical-align: middle;\n",
              "    }\n",
              "\n",
              "    .dataframe tbody tr th {\n",
              "        vertical-align: top;\n",
              "    }\n",
              "\n",
              "    .dataframe thead th {\n",
              "        text-align: right;\n",
              "    }\n",
              "</style>\n",
              "<table border=\"1\" class=\"dataframe\">\n",
              "  <thead>\n",
              "    <tr style=\"text-align: right;\">\n",
              "      <th></th>\n",
              "      <th>has_free_delivery</th>\n",
              "      <th>city</th>\n",
              "      <th>dish_type</th>\n",
              "      <th>CLTV_scaled</th>\n",
              "      <th>dishtype_01</th>\n",
              "    </tr>\n",
              "    <tr>\n",
              "      <th>account_id</th>\n",
              "      <th></th>\n",
              "      <th></th>\n",
              "      <th></th>\n",
              "      <th></th>\n",
              "      <th></th>\n",
              "    </tr>\n",
              "  </thead>\n",
              "  <tbody>\n",
              "    <tr>\n",
              "      <th>00073adf-7117-44ba-90fe-5879c9581b68</th>\n",
              "      <td>True</td>\n",
              "      <td>CURITIBA</td>\n",
              "      <td>Marmita</td>\n",
              "      <td>-1.244920</td>\n",
              "      <td>Marmita</td>\n",
              "    </tr>\n",
              "    <tr>\n",
              "      <th>000b1fec-8616-4014-9581-c5a944911ac3</th>\n",
              "      <td>False</td>\n",
              "      <td>RIO DE JANEIRO</td>\n",
              "      <td>[Comida Brasileira, Lanches, Pizza, Tapioca]</td>\n",
              "      <td>0.105348</td>\n",
              "      <td>Comida Brasileira</td>\n",
              "    </tr>\n",
              "    <tr>\n",
              "      <th>000db136-b110-4dd6-9d1c-a70ab1ab2d75</th>\n",
              "      <td>True</td>\n",
              "      <td>SAO PAULO</td>\n",
              "      <td>Lanches</td>\n",
              "      <td>0.567380</td>\n",
              "      <td>Lanches</td>\n",
              "    </tr>\n",
              "  </tbody>\n",
              "</table>\n",
              "</div>\n",
              "      <button class=\"colab-df-convert\" onclick=\"convertToInteractive('df-3a895e59-fdab-426a-b9ea-92d236f65f95')\"\n",
              "              title=\"Convert this dataframe to an interactive table.\"\n",
              "              style=\"display:none;\">\n",
              "        \n",
              "  <svg xmlns=\"http://www.w3.org/2000/svg\" height=\"24px\"viewBox=\"0 0 24 24\"\n",
              "       width=\"24px\">\n",
              "    <path d=\"M0 0h24v24H0V0z\" fill=\"none\"/>\n",
              "    <path d=\"M18.56 5.44l.94 2.06.94-2.06 2.06-.94-2.06-.94-.94-2.06-.94 2.06-2.06.94zm-11 1L8.5 8.5l.94-2.06 2.06-.94-2.06-.94L8.5 2.5l-.94 2.06-2.06.94zm10 10l.94 2.06.94-2.06 2.06-.94-2.06-.94-.94-2.06-.94 2.06-2.06.94z\"/><path d=\"M17.41 7.96l-1.37-1.37c-.4-.4-.92-.59-1.43-.59-.52 0-1.04.2-1.43.59L10.3 9.45l-7.72 7.72c-.78.78-.78 2.05 0 2.83L4 21.41c.39.39.9.59 1.41.59.51 0 1.02-.2 1.41-.59l7.78-7.78 2.81-2.81c.8-.78.8-2.07 0-2.86zM5.41 20L4 18.59l7.72-7.72 1.47 1.35L5.41 20z\"/>\n",
              "  </svg>\n",
              "      </button>\n",
              "      \n",
              "  <style>\n",
              "    .colab-df-container {\n",
              "      display:flex;\n",
              "      flex-wrap:wrap;\n",
              "      gap: 12px;\n",
              "    }\n",
              "\n",
              "    .colab-df-convert {\n",
              "      background-color: #E8F0FE;\n",
              "      border: none;\n",
              "      border-radius: 50%;\n",
              "      cursor: pointer;\n",
              "      display: none;\n",
              "      fill: #1967D2;\n",
              "      height: 32px;\n",
              "      padding: 0 0 0 0;\n",
              "      width: 32px;\n",
              "    }\n",
              "\n",
              "    .colab-df-convert:hover {\n",
              "      background-color: #E2EBFA;\n",
              "      box-shadow: 0px 1px 2px rgba(60, 64, 67, 0.3), 0px 1px 3px 1px rgba(60, 64, 67, 0.15);\n",
              "      fill: #174EA6;\n",
              "    }\n",
              "\n",
              "    [theme=dark] .colab-df-convert {\n",
              "      background-color: #3B4455;\n",
              "      fill: #D2E3FC;\n",
              "    }\n",
              "\n",
              "    [theme=dark] .colab-df-convert:hover {\n",
              "      background-color: #434B5C;\n",
              "      box-shadow: 0px 1px 3px 1px rgba(0, 0, 0, 0.15);\n",
              "      filter: drop-shadow(0px 1px 2px rgba(0, 0, 0, 0.3));\n",
              "      fill: #FFFFFF;\n",
              "    }\n",
              "  </style>\n",
              "\n",
              "      <script>\n",
              "        const buttonEl =\n",
              "          document.querySelector('#df-3a895e59-fdab-426a-b9ea-92d236f65f95 button.colab-df-convert');\n",
              "        buttonEl.style.display =\n",
              "          google.colab.kernel.accessAllowed ? 'block' : 'none';\n",
              "\n",
              "        async function convertToInteractive(key) {\n",
              "          const element = document.querySelector('#df-3a895e59-fdab-426a-b9ea-92d236f65f95');\n",
              "          const dataTable =\n",
              "            await google.colab.kernel.invokeFunction('convertToInteractive',\n",
              "                                                     [key], {});\n",
              "          if (!dataTable) return;\n",
              "\n",
              "          const docLinkHtml = 'Like what you see? Visit the ' +\n",
              "            '<a target=\"_blank\" href=https://colab.research.google.com/notebooks/data_table.ipynb>data table notebook</a>'\n",
              "            + ' to learn more about interactive tables.';\n",
              "          element.innerHTML = '';\n",
              "          dataTable['output_type'] = 'display_data';\n",
              "          await google.colab.output.renderOutput(dataTable, element);\n",
              "          const docLink = document.createElement('div');\n",
              "          docLink.innerHTML = docLinkHtml;\n",
              "          element.appendChild(docLink);\n",
              "        }\n",
              "      </script>\n",
              "    </div>\n",
              "  </div>\n",
              "  "
            ]
          },
          "metadata": {},
          "execution_count": 64
        }
      ]
    },
    {
      "cell_type": "code",
      "source": [
        "ordens_EDA_experimento_2.info()"
      ],
      "metadata": {
        "colab": {
          "base_uri": "https://localhost:8080/"
        },
        "id": "DsF6w00KlbKc",
        "outputId": "4b1038ef-e3e7-4325-834e-e55fbc61928f"
      },
      "execution_count": null,
      "outputs": [
        {
          "output_type": "stream",
          "name": "stdout",
          "text": [
            "<class 'pandas.core.frame.DataFrame'>\n",
            "Index: 13964 entries, 00073adf-7117-44ba-90fe-5879c9581b68 to fffeddb7-19ce-4a16-999a-41f5fed5fc96\n",
            "Data columns (total 5 columns):\n",
            " #   Column             Non-Null Count  Dtype  \n",
            "---  ------             --------------  -----  \n",
            " 0   has_free_delivery  13964 non-null  bool   \n",
            " 1   city               13964 non-null  object \n",
            " 2   dish_type          13964 non-null  object \n",
            " 3   CLTV_scaled        13964 non-null  float64\n",
            " 4   dishtype_01        13964 non-null  object \n",
            "dtypes: bool(1), float64(1), object(3)\n",
            "memory usage: 559.1+ KB\n"
          ]
        }
      ]
    },
    {
      "cell_type": "code",
      "source": [
        "ordens_EDA_experimento_2.drop(\"dish_type\", axis=1, inplace=True)"
      ],
      "metadata": {
        "id": "KkvX052lmRJB"
      },
      "execution_count": null,
      "outputs": []
    },
    {
      "cell_type": "code",
      "source": [
        "ordens_EDA_experimento_2.info()"
      ],
      "metadata": {
        "colab": {
          "base_uri": "https://localhost:8080/"
        },
        "id": "iTVlVL02NKS2",
        "outputId": "3964126f-45ac-4a65-c388-ef5dc8ec5cf4"
      },
      "execution_count": null,
      "outputs": [
        {
          "output_type": "stream",
          "name": "stdout",
          "text": [
            "<class 'pandas.core.frame.DataFrame'>\n",
            "Index: 13964 entries, 00073adf-7117-44ba-90fe-5879c9581b68 to fffeddb7-19ce-4a16-999a-41f5fed5fc96\n",
            "Data columns (total 4 columns):\n",
            " #   Column             Non-Null Count  Dtype  \n",
            "---  ------             --------------  -----  \n",
            " 0   has_free_delivery  13964 non-null  bool   \n",
            " 1   city               13964 non-null  object \n",
            " 2   CLTV_scaled        13964 non-null  float64\n",
            " 3   dishtype_01        13964 non-null  object \n",
            "dtypes: bool(1), float64(1), object(2)\n",
            "memory usage: 450.0+ KB\n"
          ]
        }
      ]
    },
    {
      "cell_type": "markdown",
      "source": [
        "### Visualização pelo método do cotovelo"
      ],
      "metadata": {
        "id": "oOJP_br34tJv"
      }
    },
    {
      "cell_type": "code",
      "source": [
        "# Fitando vários modelos e armazenando inércia na lista SSE\n",
        "SSE = []\n",
        "for cluster in range(2, 8):  \n",
        "  k_proto = KPrototypes(n_clusters=cluster, max_iter=100, init=\"Cao\", n_init=10, random_state=0)\n",
        "  k_proto.fit(ordens_EDA_experimento_2[all_features], categorical=categorical_data)\n",
        "  SSE.append(k_proto.cost_)\n",
        "\n",
        "# Convertendo os resultados em um dataframe\n",
        "frame = pd.DataFrame({'Cluster': range(2, 8),\n",
        "                      'SSE': SSE})\n",
        "plt.figure(figsize=(5, 5))\n",
        "plt.plot(frame['Cluster'], frame['SSE'], marker='o')\n",
        "plt.xlabel('Number of clusters')\n",
        "plt.ylabel('Inertia')"
      ],
      "metadata": {
        "colab": {
          "base_uri": "https://localhost:8080/",
          "height": 351
        },
        "id": "4Y0OkEt54Xy5",
        "outputId": "bd0d87fa-3594-4332-fa56-4dc5203e92a8"
      },
      "execution_count": null,
      "outputs": [
        {
          "output_type": "execute_result",
          "data": {
            "text/plain": [
              "Text(0, 0.5, 'Inertia')"
            ]
          },
          "metadata": {},
          "execution_count": 137
        },
        {
          "output_type": "display_data",
          "data": {
            "text/plain": [
              "<Figure size 360x360 with 1 Axes>"
            ],
            "image/png": "[encoded data removed]"
          },
          "metadata": {}
        }
      ]
    },
    {
      "cell_type": "code",
      "source": [
        "k_proto.cluster_centroids_"
      ],
      "metadata": {
        "id": "40bvDFgI4y55"
      },
      "execution_count": null,
      "outputs": []
    },
    {
      "cell_type": "markdown",
      "source": [
        "### Aplicar KPrototypes"
      ],
      "metadata": {
        "id": "6BMNukErb5v8"
      }
    },
    {
      "cell_type": "code",
      "source": [
        "# índices das colunas contendo dados categóricos\n",
        "categorical_data = [0, 1, 3]\n",
        "all_features = [\"has_free_delivery\",\n",
        "                \"city\",\n",
        "                \"CLTV_scaled\",\n",
        "                \"dishtype_01\"]"
      ],
      "metadata": {
        "id": "ixCto3DLlZcF"
      },
      "execution_count": 449,
      "outputs": []
    },
    {
      "cell_type": "code",
      "source": [
        "k_proto = KPrototypes(n_clusters=5, max_iter=100, init=\"Cao\", n_init=10, random_state=0)\n",
        "ordens_EDA_experimento_2[\"clustering_k_prototype\"] = k_proto.fit_predict(ordens_EDA_experimento_2, categorical=categorical_data)"
      ],
      "metadata": {
        "id": "rDw9t0Ye9u4t"
      },
      "execution_count": 450,
      "outputs": []
    },
    {
      "cell_type": "markdown",
      "source": [
        "### Sumarizar clusters de forma padronizada."
      ],
      "metadata": {
        "id": "jU8YqtiWK7Ye"
      }
    },
    {
      "cell_type": "markdown",
      "source": [
        "* Os valores dos clusters mudam o tempo todo, é necessário um método de padronização para a análise ficar reproduzível. Por exemplo, o mesmo centroide do cluster 0 pode mudar para o cluster 4, o que inviabiliza qualquer análise iterativa."
      ],
      "metadata": {
        "id": "ARevXfX-gT-M"
      }
    },
    {
      "cell_type": "code",
      "source": [
        "from statistics import mode\n",
        "# Agrupar por clustering\n",
        "clustering_summary = ordens_EDA_experimento_2.groupby(\"clustering_k_prototype\").agg({\"has_free_delivery\": lambda x:x.mode(),\n",
        "                                                                \"city\": lambda x:x.mode(),\n",
        "                                                                \"dishtype_01\": lambda x:x.mode(),\n",
        "                                                                \"CLTV_scaled\": lambda x:x.median()})\n",
        "\n",
        "# Resetar o index para substituir os valores de clustering, \n",
        "# porque o kprototype mantém os centroides, mas troca o número do cluster toda vez que inicializa.\n",
        "clustering_summary.reset_index(inplace=True)\n",
        "\n",
        "# Para a análise se tornar reprodutível, irei criar um filtro com a função loc,\n",
        "# toda vez que mudar o número de clustering, este código irá alterá-lo de acordo\n",
        "# com o experimento feito.\n",
        "\n",
        "# Cluster 0\n",
        "# Armazenar número do cluster errado\n",
        "cluster_0_k_prototype = clustering_summary.loc[(clustering_summary[\"CLTV_scaled\"]<=-0.8)\\\n",
        "                       & (clustering_summary[\"dishtype_01\"]==\"Lanches\") \\\n",
        "                       & (clustering_summary[\"city\"]==\"SAO PAULO\") \\\n",
        "                       & (clustering_summary[\"has_free_delivery\"]==False), \"clustering_k_prototype\"]\n",
        "# Transformar o valor do cluster corretamente\n",
        "clustering_summary.loc[(clustering_summary[\"CLTV_scaled\"]<=-0.8)\\\n",
        "                       & (clustering_summary[\"dishtype_01\"]==\"Lanches\") \\\n",
        "                       & (clustering_summary[\"city\"]==\"SAO PAULO\") \\\n",
        "                       & (clustering_summary[\"has_free_delivery\"]==False), \"clustering_k_prototype\"] = 0\n",
        "\n",
        "# Cluster 1\n",
        "# Armazenar número do cluster errado\n",
        "cluster_1_k_prototype = clustering_summary.loc[(clustering_summary[\"CLTV_scaled\"]>=0.04)\\\n",
        "                       & (clustering_summary[\"CLTV_scaled\"]<=0.05)\\\n",
        "                       & (clustering_summary[\"dishtype_01\"]==\"Comida Brasileira\") \\\n",
        "                       & (clustering_summary[\"city\"]==\"RIO DE JANEIRO\") \\\n",
        "                       & (clustering_summary[\"has_free_delivery\"]==True), \"clustering_k_prototype\"]\n",
        "\n",
        "# Transformar o valor do cluster corretamente\n",
        "clustering_summary.loc[(clustering_summary[\"CLTV_scaled\"]>=0.04)\\\n",
        "                       & (clustering_summary[\"CLTV_scaled\"]<=0.05)\\\n",
        "                       & (clustering_summary[\"dishtype_01\"]==\"Comida Brasileira\") \\\n",
        "                       & (clustering_summary[\"city\"]==\"RIO DE JANEIRO\") \\\n",
        "                       & (clustering_summary[\"has_free_delivery\"]==True), \"clustering_k_prototype\"] = 1\n",
        "\n",
        "# Cluster 2\n",
        "# Armazenar número do cluster errado\n",
        "cluster_2_k_prototype = clustering_summary.loc[(clustering_summary[\"CLTV_scaled\"]>=0.37)\\\n",
        "                       & (clustering_summary[\"CLTV_scaled\"]<=0.39)\\\n",
        "                       & (clustering_summary[\"dishtype_01\"]==\"Comida Brasileira\") \\\n",
        "                       & (clustering_summary[\"city\"]==\"SAO PAULO\") \\\n",
        "                       & (clustering_summary[\"has_free_delivery\"]==False), \"clustering_k_prototype\"]\n",
        "\n",
        "# Transformar o valor do cluster corretamente\n",
        "clustering_summary.loc[(clustering_summary[\"CLTV_scaled\"]>=0.37)\\\n",
        "                       & (clustering_summary[\"CLTV_scaled\"]<=0.39)\\\n",
        "                       & (clustering_summary[\"dishtype_01\"]==\"Comida Brasileira\") \\\n",
        "                       & (clustering_summary[\"city\"]==\"SAO PAULO\") \\\n",
        "                       & (clustering_summary[\"has_free_delivery\"]==False), \"clustering_k_prototype\"] = 2\n",
        "\n",
        "\n",
        "# Cluster 3\n",
        "# Armazenar número do cluster errado\n",
        "cluster_3_k_prototype = clustering_summary.loc[(clustering_summary[\"CLTV_scaled\"]>=0.39)\\\n",
        "                       & (clustering_summary[\"dishtype_01\"]==\"Lanches\") \\\n",
        "                       & (clustering_summary[\"city\"]==\"SAO PAULO\") \\\n",
        "                       & (clustering_summary[\"has_free_delivery\"]==True), \"clustering_k_prototype\"]\n",
        "\n",
        "\n",
        "# Transformar o valor do cluster corretamente\n",
        "clustering_summary.loc[(clustering_summary[\"CLTV_scaled\"]>=0.39)\\\n",
        "                       & (clustering_summary[\"dishtype_01\"]==\"Lanches\") \\\n",
        "                       & (clustering_summary[\"city\"]==\"SAO PAULO\") \\\n",
        "                       & (clustering_summary[\"has_free_delivery\"]==True), \"clustering_k_prototype\"] = 3\n",
        "\n",
        "# Cluster 4\n",
        "# Armazenar número do cluster errado\n",
        "cluster_4_k_prototype = clustering_summary.loc[(clustering_summary[\"CLTV_scaled\"]>=0.08)\\\n",
        "                       & (clustering_summary[\"CLTV_scaled\"]<=0.09)\\\n",
        "                       & (clustering_summary[\"dishtype_01\"]==\"Lanches\") \\\n",
        "                       & (clustering_summary[\"city\"]==\"RIO DE JANEIRO\") \\\n",
        "                       & (clustering_summary[\"has_free_delivery\"]==False), \"clustering_k_prototype\"]\n",
        "# Transformar o valor do cluster corretamente\n",
        "clustering_summary.loc[(clustering_summary[\"CLTV_scaled\"]>=0.08)\\\n",
        "                       & (clustering_summary[\"CLTV_scaled\"]<=0.09)\\\n",
        "                       & (clustering_summary[\"dishtype_01\"]==\"Lanches\") \\\n",
        "                       & (clustering_summary[\"city\"]==\"RIO DE JANEIRO\") \\\n",
        "                       & (clustering_summary[\"has_free_delivery\"]==False), \"clustering_k_prototype\"] = 4\n",
        "\n",
        "# Setar o index padronizado\n",
        "clustering_summary = clustering_summary.set_index(\"clustering_k_prototype\").sort_values(by=\"clustering_k_prototype\")"
      ],
      "metadata": {
        "id": "IY-oVBOKKF-j"
      },
      "execution_count": 451,
      "outputs": []
    },
    {
      "cell_type": "code",
      "source": [
        "print(cluster_0_k_prototype)\n",
        "print(cluster_1_k_prototype)\n",
        "print(cluster_2_k_prototype)\n",
        "print(cluster_3_k_prototype)\n",
        "print(cluster_4_k_prototype)"
      ],
      "metadata": {
        "colab": {
          "base_uri": "https://localhost:8080/"
        },
        "id": "cyTEFUSElHr-",
        "outputId": "fbbecca9-da57-42b9-aac1-b15ed008989e"
      },
      "execution_count": 452,
      "outputs": [
        {
          "output_type": "stream",
          "name": "stdout",
          "text": [
            "0    0\n",
            "Name: clustering_k_prototype, dtype: uint64\n",
            "3    3\n",
            "Name: clustering_k_prototype, dtype: uint64\n",
            "4    4\n",
            "Name: clustering_k_prototype, dtype: uint64\n",
            "2    2\n",
            "Name: clustering_k_prototype, dtype: uint64\n",
            "1    1\n",
            "Name: clustering_k_prototype, dtype: uint64\n"
          ]
        }
      ]
    },
    {
      "cell_type": "markdown",
      "source": [
        "* Todos os antigos clusters estão armazenados nessas variáveis para seguir o mesmo padrão em experimentos posteriores."
      ],
      "metadata": {
        "id": "4L6xektdlm9j"
      }
    },
    {
      "cell_type": "code",
      "source": [
        "clustering_summary"
      ],
      "metadata": {
        "colab": {
          "base_uri": "https://localhost:8080/",
          "height": 238
        },
        "id": "i4z6oFX9d99d",
        "outputId": "55dfafbf-2442-42ef-9826-8a9e93df0d43"
      },
      "execution_count": 453,
      "outputs": [
        {
          "output_type": "execute_result",
          "data": {
            "text/plain": [
              "                        has_free_delivery            city        dishtype_01  \\\n",
              "clustering_k_prototype                                                         \n",
              "0                                   False       SAO PAULO            Lanches   \n",
              "1                                    True  RIO DE JANEIRO  Comida Brasileira   \n",
              "2                                   False       SAO PAULO  Comida Brasileira   \n",
              "3                                    True       SAO PAULO            Lanches   \n",
              "4                                   False  RIO DE JANEIRO            Lanches   \n",
              "\n",
              "                        CLTV_scaled  \n",
              "clustering_k_prototype               \n",
              "0                         -0.893048  \n",
              "1                          0.041979  \n",
              "2                          0.378610  \n",
              "3                          0.395187  \n",
              "4                          0.085829  "
            ],
            "text/html": [
              "\n",
              "  <div id=\"df-d6f536db-2f54-45ff-9301-cd455d980c91\">\n",
              "    <div class=\"colab-df-container\">\n",
              "      <div>\n",
              "<style scoped>\n",
              "    .dataframe tbody tr th:only-of-type {\n",
              "        vertical-align: middle;\n",
              "    }\n",
              "\n",
              "    .dataframe tbody tr th {\n",
              "        vertical-align: top;\n",
              "    }\n",
              "\n",
              "    .dataframe thead th {\n",
              "        text-align: right;\n",
              "    }\n",
              "</style>\n",
              "<table border=\"1\" class=\"dataframe\">\n",
              "  <thead>\n",
              "    <tr style=\"text-align: right;\">\n",
              "      <th></th>\n",
              "      <th>has_free_delivery</th>\n",
              "      <th>city</th>\n",
              "      <th>dishtype_01</th>\n",
              "      <th>CLTV_scaled</th>\n",
              "    </tr>\n",
              "    <tr>\n",
              "      <th>clustering_k_prototype</th>\n",
              "      <th></th>\n",
              "      <th></th>\n",
              "      <th></th>\n",
              "      <th></th>\n",
              "    </tr>\n",
              "  </thead>\n",
              "  <tbody>\n",
              "    <tr>\n",
              "      <th>0</th>\n",
              "      <td>False</td>\n",
              "      <td>SAO PAULO</td>\n",
              "      <td>Lanches</td>\n",
              "      <td>-0.893048</td>\n",
              "    </tr>\n",
              "    <tr>\n",
              "      <th>1</th>\n",
              "      <td>True</td>\n",
              "      <td>RIO DE JANEIRO</td>\n",
              "      <td>Comida Brasileira</td>\n",
              "      <td>0.041979</td>\n",
              "    </tr>\n",
              "    <tr>\n",
              "      <th>2</th>\n",
              "      <td>False</td>\n",
              "      <td>SAO PAULO</td>\n",
              "      <td>Comida Brasileira</td>\n",
              "      <td>0.378610</td>\n",
              "    </tr>\n",
              "    <tr>\n",
              "      <th>3</th>\n",
              "      <td>True</td>\n",
              "      <td>SAO PAULO</td>\n",
              "      <td>Lanches</td>\n",
              "      <td>0.395187</td>\n",
              "    </tr>\n",
              "    <tr>\n",
              "      <th>4</th>\n",
              "      <td>False</td>\n",
              "      <td>RIO DE JANEIRO</td>\n",
              "      <td>Lanches</td>\n",
              "      <td>0.085829</td>\n",
              "    </tr>\n",
              "  </tbody>\n",
              "</table>\n",
              "</div>\n",
              "      <button class=\"colab-df-convert\" onclick=\"convertToInteractive('df-d6f536db-2f54-45ff-9301-cd455d980c91')\"\n",
              "              title=\"Convert this dataframe to an interactive table.\"\n",
              "              style=\"display:none;\">\n",
              "        \n",
              "  <svg xmlns=\"http://www.w3.org/2000/svg\" height=\"24px\"viewBox=\"0 0 24 24\"\n",
              "       width=\"24px\">\n",
              "    <path d=\"M0 0h24v24H0V0z\" fill=\"none\"/>\n",
              "    <path d=\"M18.56 5.44l.94 2.06.94-2.06 2.06-.94-2.06-.94-.94-2.06-.94 2.06-2.06.94zm-11 1L8.5 8.5l.94-2.06 2.06-.94-2.06-.94L8.5 2.5l-.94 2.06-2.06.94zm10 10l.94 2.06.94-2.06 2.06-.94-2.06-.94-.94-2.06-.94 2.06-2.06.94z\"/><path d=\"M17.41 7.96l-1.37-1.37c-.4-.4-.92-.59-1.43-.59-.52 0-1.04.2-1.43.59L10.3 9.45l-7.72 7.72c-.78.78-.78 2.05 0 2.83L4 21.41c.39.39.9.59 1.41.59.51 0 1.02-.2 1.41-.59l7.78-7.78 2.81-2.81c.8-.78.8-2.07 0-2.86zM5.41 20L4 18.59l7.72-7.72 1.47 1.35L5.41 20z\"/>\n",
              "  </svg>\n",
              "      </button>\n",
              "      \n",
              "  <style>\n",
              "    .colab-df-container {\n",
              "      display:flex;\n",
              "      flex-wrap:wrap;\n",
              "      gap: 12px;\n",
              "    }\n",
              "\n",
              "    .colab-df-convert {\n",
              "      background-color: #E8F0FE;\n",
              "      border: none;\n",
              "      border-radius: 50%;\n",
              "      cursor: pointer;\n",
              "      display: none;\n",
              "      fill: #1967D2;\n",
              "      height: 32px;\n",
              "      padding: 0 0 0 0;\n",
              "      width: 32px;\n",
              "    }\n",
              "\n",
              "    .colab-df-convert:hover {\n",
              "      background-color: #E2EBFA;\n",
              "      box-shadow: 0px 1px 2px rgba(60, 64, 67, 0.3), 0px 1px 3px 1px rgba(60, 64, 67, 0.15);\n",
              "      fill: #174EA6;\n",
              "    }\n",
              "\n",
              "    [theme=dark] .colab-df-convert {\n",
              "      background-color: #3B4455;\n",
              "      fill: #D2E3FC;\n",
              "    }\n",
              "\n",
              "    [theme=dark] .colab-df-convert:hover {\n",
              "      background-color: #434B5C;\n",
              "      box-shadow: 0px 1px 3px 1px rgba(0, 0, 0, 0.15);\n",
              "      filter: drop-shadow(0px 1px 2px rgba(0, 0, 0, 0.3));\n",
              "      fill: #FFFFFF;\n",
              "    }\n",
              "  </style>\n",
              "\n",
              "      <script>\n",
              "        const buttonEl =\n",
              "          document.querySelector('#df-d6f536db-2f54-45ff-9301-cd455d980c91 button.colab-df-convert');\n",
              "        buttonEl.style.display =\n",
              "          google.colab.kernel.accessAllowed ? 'block' : 'none';\n",
              "\n",
              "        async function convertToInteractive(key) {\n",
              "          const element = document.querySelector('#df-d6f536db-2f54-45ff-9301-cd455d980c91');\n",
              "          const dataTable =\n",
              "            await google.colab.kernel.invokeFunction('convertToInteractive',\n",
              "                                                     [key], {});\n",
              "          if (!dataTable) return;\n",
              "\n",
              "          const docLinkHtml = 'Like what you see? Visit the ' +\n",
              "            '<a target=\"_blank\" href=https://colab.research.google.com/notebooks/data_table.ipynb>data table notebook</a>'\n",
              "            + ' to learn more about interactive tables.';\n",
              "          element.innerHTML = '';\n",
              "          dataTable['output_type'] = 'display_data';\n",
              "          await google.colab.output.renderOutput(dataTable, element);\n",
              "          const docLink = document.createElement('div');\n",
              "          docLink.innerHTML = docLinkHtml;\n",
              "          element.appendChild(docLink);\n",
              "        }\n",
              "      </script>\n",
              "    </div>\n",
              "  </div>\n",
              "  "
            ]
          },
          "metadata": {},
          "execution_count": 453
        }
      ]
    },
    {
      "cell_type": "markdown",
      "source": [
        "* 0\tFalse\tRIO DE JANEIRO\tLanches\t0.085829\n",
        "* 1\tTrue\tRIO DE JANEIRO\tComida Brasileira\t0.043316\n",
        "* 2\tFalse\tSAO PAULO\tLanches\t-0.893048\n",
        "* 3\tTrue\tSAO PAULO\tLanches\t0.395187\n",
        "* 4\tFalse\tSAO PAULO\tComida Brasileira\t0.378610"
      ],
      "metadata": {
        "id": "bX1X33KUIanb"
      }
    },
    {
      "cell_type": "markdown",
      "source": [
        "* Qual é o cliente mais fiel? \n",
        "  * O grupo 3 é o mais fiel com 0.39 de CLTV (entre -1 e 1).\n",
        "    * Mora em São Paulo.\n",
        "    * Tem preferência por entrega grátis.\n",
        "    * Gosta de um bom lanche.\n",
        "* Qual é o cliente que mais gosta de entrega grátis?\n",
        "  * Os grupos 1 e 3 gostam de entrega grátis. \n",
        "  * O grupo 1 mora no Rio de Janeiro e gosta de comida brasileira.\n",
        "  * O grupo 3 mora em São Paulo e gosta de lanche.\n",
        "* O grupo 0 e 3 apresentam prato típico e cidades iguais, com a diferença sendo o CLTV e a entrega grátis, ter entrega grátis pode melhorar o CLTV?\n",
        "* Entre o grupo 1 e 3, qual gosta mais de entrega grátis?\n"
      ],
      "metadata": {
        "id": "-3vHNN1fQjhL"
      }
    },
    {
      "cell_type": "markdown",
      "source": [
        "### Entre o grupo 1 e 3, qual gosta mais de entrega grátis?"
      ],
      "metadata": {
        "id": "cmreBiQ1CIup"
      }
    },
    {
      "cell_type": "code",
      "source": [
        "ordens_EDA_experimento_2[ordens_EDA_experimento_2[\"clustering_k_prototype\"]==int(cluster_1_k_prototype)]\\\n",
        "[\"has_free_delivery\"].value_counts()\\\n",
        "/ordens_EDA_experimento_2[ordens_EDA_experimento_2[\"clustering_k_prototype\"]==int(cluster_1_k_prototype)]\\\n",
        "[\"has_free_delivery\"].value_counts().sum()"
      ],
      "metadata": {
        "colab": {
          "base_uri": "https://localhost:8080/"
        },
        "id": "Smws0rZpZyte",
        "outputId": "d79ed1bc-6b5a-465b-b7d4-e1e393c05582"
      },
      "execution_count": 489,
      "outputs": [
        {
          "output_type": "execute_result",
          "data": {
            "text/plain": [
              "True    1.0\n",
              "Name: has_free_delivery, dtype: float64"
            ]
          },
          "metadata": {},
          "execution_count": 489
        }
      ]
    },
    {
      "cell_type": "markdown",
      "source": [
        "* O grupo 1 teve 100% das entregas grátis em relação a todos os pedidos."
      ],
      "metadata": {
        "id": "g2sdSv95bBC5"
      }
    },
    {
      "cell_type": "code",
      "source": [
        "ordens_EDA_experimento_2[ordens_EDA_experimento_2[\"clustering_k_prototype\"]==int(cluster_3_k_prototype)]\\\n",
        "[\"has_free_delivery\"].value_counts()\\\n",
        "/ordens_EDA_experimento_2[ordens_EDA_experimento_2[\"clustering_k_prototype\"]==int(cluster_3_k_prototype)]\\\n",
        "[\"has_free_delivery\"].value_counts().sum()"
      ],
      "metadata": {
        "colab": {
          "base_uri": "https://localhost:8080/"
        },
        "id": "PO_qm8FnaIZU",
        "outputId": "ea4766b6-ec8c-4cd6-cf2e-04ad915005e1"
      },
      "execution_count": 490,
      "outputs": [
        {
          "output_type": "execute_result",
          "data": {
            "text/plain": [
              "True    1.0\n",
              "Name: has_free_delivery, dtype: float64"
            ]
          },
          "metadata": {},
          "execution_count": 490
        }
      ]
    },
    {
      "cell_type": "markdown",
      "source": [
        "* O grupo 3 teve 100% das entregas grátis em relação a todos os pedidos."
      ],
      "metadata": {
        "id": "pISUw6iGaqWR"
      }
    },
    {
      "cell_type": "markdown",
      "source": [
        "* O grupo 1 e 3 gostam mais de entrega grátis.\n",
        "* Os clusterings 0 e 3 tiveram características semelhantes, com o CLTV extremamente diferente. O que diferencia exatamente o grupo 0 do grupo 3?\n",
        "  * Quais são os top 10 tipos de prato mais pedidos por grupo 0 e 3?\n",
        "  "
      ],
      "metadata": {
        "id": "beHdXYWsbmBJ"
      }
    },
    {
      "cell_type": "markdown",
      "source": [
        "### Quais são os top 10 tipos de prato mais pedidos por grupo 0 e 3?"
      ],
      "metadata": {
        "id": "EeYFQWm0CTC_"
      }
    },
    {
      "cell_type": "code",
      "source": [
        "grupo_0_top_10_dish_type = ordens_EDA_experimento_2[ordens_EDA_experimento_2\\\n",
        "                                                    [\"clustering_k_prototype\"]==int(cluster_0_k_prototype)]\\\n",
        "                                                    .dishtype_01.value_counts().iloc[:10]"
      ],
      "metadata": {
        "id": "6SNIslO6qDL2"
      },
      "execution_count": 491,
      "outputs": []
    },
    {
      "cell_type": "code",
      "source": [
        "grupo_0_top_10_dish_type"
      ],
      "metadata": {
        "colab": {
          "base_uri": "https://localhost:8080/"
        },
        "id": "TvcZOggKvjVK",
        "outputId": "ed6afdfb-e43b-4773-a99a-ed7a2061ec5c"
      },
      "execution_count": 492,
      "outputs": [
        {
          "output_type": "execute_result",
          "data": {
            "text/plain": [
              "Lanches              1169\n",
              "Comida Brasileira     794\n",
              "Pizza                 431\n",
              "Comida Japonesa       400\n",
              "Doces & Bolos         193\n",
              "Comida Italiana       159\n",
              "Açaí                  142\n",
              "Comida Saudável       129\n",
              "Carnes                109\n",
              "Bebidas                97\n",
              "Name: dishtype_01, dtype: int64"
            ]
          },
          "metadata": {},
          "execution_count": 492
        }
      ]
    },
    {
      "cell_type": "code",
      "source": [
        "grupo_3_top_10_dish_types = ordens_EDA_experimento_2[ordens_EDA_experimento_2\\\n",
        "                                                     [\"clustering_k_prototype\"]==int(cluster_3_k_prototype)]\\\n",
        "                                                     .dishtype_01.value_counts().iloc[:10]"
      ],
      "metadata": {
        "id": "34Nk6BBZrOWR"
      },
      "execution_count": 493,
      "outputs": []
    },
    {
      "cell_type": "code",
      "source": [
        "grupo_3_top_10_dish_types"
      ],
      "metadata": {
        "colab": {
          "base_uri": "https://localhost:8080/"
        },
        "id": "udhw-j48tnL5",
        "outputId": "a31e1f3f-30d1-4826-ec15-0ff352dc905f"
      },
      "execution_count": 494,
      "outputs": [
        {
          "output_type": "execute_result",
          "data": {
            "text/plain": [
              "Lanches              501\n",
              "Pizza                350\n",
              "Comida Brasileira    301\n",
              "Comida Japonesa      218\n",
              "Mercado               70\n",
              "Açaí                  66\n",
              "Doces & Bolos         61\n",
              "Comida Saudável       60\n",
              "Comida Árabe          42\n",
              "Carnes                38\n",
              "Name: dishtype_01, dtype: int64"
            ]
          },
          "metadata": {},
          "execution_count": 494
        }
      ]
    },
    {
      "cell_type": "markdown",
      "source": [
        "* As top 10 comidas mais pedidas dos grupos 0 e 3 são iguais até o top 4.\n",
        "* Outro ponto que eu notei, os únicos valores diferentes no top 10 dos grupos foram:\n",
        "  * Bebidas, no grupo 0.\n",
        "  * Mercado, no grupo 3.\n",
        "* Entre mercado e bebida, o que o cliente pede mais?"
      ],
      "metadata": {
        "id": "XSJnVq9av2Fq"
      }
    },
    {
      "cell_type": "markdown",
      "source": [
        "### Entre Mercado e Bebidas, o que o cliente do grupo 0 e 3 pede mais?"
      ],
      "metadata": {
        "id": "C0dXeKXoCYj3"
      }
    },
    {
      "cell_type": "code",
      "source": [
        "ordens_EDA_experimento_2_mercado_bebidas = ordens_EDA_experimento_2\\\n",
        "[ordens_EDA_experimento_2[\"dishtype_01\"].isin([\"Mercado\", \"Bebidas\"])]\\\n",
        "[ordens_EDA_experimento_2[\"clustering_k_prototype\"].isin([int(cluster_0_k_prototype), int(cluster_3_k_prototype)])]"
      ],
      "metadata": {
        "colab": {
          "base_uri": "https://localhost:8080/"
        },
        "id": "hsVbz6lUvo17",
        "outputId": "b3c590e3-77fd-4e77-f651-8104781be499"
      },
      "execution_count": 495,
      "outputs": [
        {
          "output_type": "stream",
          "name": "stderr",
          "text": [
            "/usr/local/lib/python3.7/dist-packages/ipykernel_launcher.py:1: UserWarning: Boolean Series key will be reindexed to match DataFrame index.\n",
            "  \"\"\"Entry point for launching an IPython kernel.\n"
          ]
        }
      ]
    },
    {
      "cell_type": "code",
      "source": [
        "resultados_bebidas_mercado = ordens_EDA_experimento_2_mercado_bebidas\\\n",
        "[ordens_EDA_experimento_2_mercado_bebidas[\"clustering_k_prototype\"]==int(cluster_3_k_prototype)]\\\n",
        "[\"dishtype_01\"].value_counts()/ordens_EDA_experimento_2_mercado_bebidas\\\n",
        "[ordens_EDA_experimento_2_mercado_bebidas[\"clustering_k_prototype\"]==int(cluster_3_k_prototype)]\\\n",
        "[\"dishtype_01\"].value_counts().sum()\n",
        "resultados_bebidas_mercado.round(2)"
      ],
      "metadata": {
        "colab": {
          "base_uri": "https://localhost:8080/"
        },
        "id": "XZpGyPxK5lxn",
        "outputId": "59a3d098-3e71-426c-bb27-747c2eccf07c"
      },
      "execution_count": 496,
      "outputs": [
        {
          "output_type": "execute_result",
          "data": {
            "text/plain": [
              "Mercado    0.81\n",
              "Bebidas    0.19\n",
              "Name: dishtype_01, dtype: float64"
            ]
          },
          "metadata": {},
          "execution_count": 496
        }
      ]
    },
    {
      "cell_type": "markdown",
      "source": [
        "* O grupo 3 pede mais mercado do que bebida.\n",
        "\n",
        "* 81% de Mercado.\n",
        "* 19% de Bebidas."
      ],
      "metadata": {
        "id": "Ct0WvqhI6RXg"
      }
    },
    {
      "cell_type": "code",
      "source": [
        "resultados_bebidas_mercado_02 = ordens_EDA_experimento_2_mercado_bebidas\\\n",
        "[ordens_EDA_experimento_2_mercado_bebidas[\"clustering_k_prototype\"]==int(cluster_0_k_prototype)]\\\n",
        "[\"dishtype_01\"].value_counts()\\\n",
        "/ordens_EDA_experimento_2_mercado_bebidas\\\n",
        "[ordens_EDA_experimento_2_mercado_bebidas[\"clustering_k_prototype\"]==int(cluster_0_k_prototype)]\\\n",
        "[\"dishtype_01\"].value_counts().sum()\n",
        "resultados_bebidas_mercado_02.round(2)"
      ],
      "metadata": {
        "colab": {
          "base_uri": "https://localhost:8080/"
        },
        "id": "d-rgH7Nd6Agy",
        "outputId": "19feb839-1a37-425d-9ba8-b23720538c7b"
      },
      "execution_count": 497,
      "outputs": [
        {
          "output_type": "execute_result",
          "data": {
            "text/plain": [
              "Bebidas    0.6\n",
              "Mercado    0.4\n",
              "Name: dishtype_01, dtype: float64"
            ]
          },
          "metadata": {},
          "execution_count": 497
        }
      ]
    },
    {
      "cell_type": "markdown",
      "source": [
        "* O grupo 0 pede mais bebida do que mercado.\n",
        "* 60% de Bebidas.\n",
        "* 40% de Mercado."
      ],
      "metadata": {
        "id": "ubF9o0Oj6pyH"
      }
    },
    {
      "cell_type": "markdown",
      "source": [
        "* O grupo 0 gosta mais de bebidas e o grupo 3 gosta mais de pedir mercado.\n"
      ],
      "metadata": {
        "id": "7UUC11NR7TFz"
      }
    },
    {
      "cell_type": "markdown",
      "source": [
        "### Considerando o grupo 0 e 3, a entrega grátis impacta no CLTV? "
      ],
      "metadata": {
        "id": "A1R4VeXWDCj1"
      }
    },
    {
      "cell_type": "code",
      "source": [
        "import statsmodels.formula.api as sms\n",
        "results = sms.ols(\"CLTV_scaled ~ has_free_delivery\", \n",
        "                  ordens_EDA_experimento_2[ordens_EDA_experimento_2['clustering_k_prototype']\\\n",
        "                                           .isin([int(cluster_0_k_prototype), \n",
        "                                                  int(cluster_3_k_prototype)])]).fit()\n",
        "print(results.summary())"
      ],
      "metadata": {
        "colab": {
          "base_uri": "https://localhost:8080/"
        },
        "id": "3E2Rj4S4DcNS",
        "outputId": "d8792e96-1894-419b-945f-552cf8e108b6"
      },
      "execution_count": 485,
      "outputs": [
        {
          "output_type": "stream",
          "name": "stdout",
          "text": [
            "                            OLS Regression Results                            \n",
            "==============================================================================\n",
            "Dep. Variable:            CLTV_scaled   R-squared:                       0.163\n",
            "Model:                            OLS   Adj. R-squared:                  0.163\n",
            "Method:                 Least Squares   F-statistic:                     1207.\n",
            "Date:                Fri, 06 May 2022   Prob (F-statistic):          7.43e-242\n",
            "Time:                        20:40:24   Log-Likelihood:                -5567.9\n",
            "No. Observations:                6199   AIC:                         1.114e+04\n",
            "Df Residuals:                    6197   BIC:                         1.115e+04\n",
            "Df Model:                           1                                         \n",
            "Covariance Type:            nonrobust                                         \n",
            "=============================================================================================\n",
            "                                coef    std err          t      P>|t|      [0.025      0.975]\n",
            "---------------------------------------------------------------------------------------------\n",
            "Intercept                    -0.7925      0.012    -65.031      0.000      -0.816      -0.769\n",
            "has_free_delivery[T.True]     0.5393      0.016     34.747      0.000       0.509       0.570\n",
            "==============================================================================\n",
            "Omnibus:                      227.704   Durbin-Watson:                   1.986\n",
            "Prob(Omnibus):                  0.000   Jarque-Bera (JB):              113.356\n",
            "Skew:                           0.128   Prob(JB):                     2.43e-25\n",
            "Kurtosis:                       2.389   Cond. No.                         2.99\n",
            "==============================================================================\n",
            "\n",
            "Warnings:\n",
            "[1] Standard Errors assume that the covariance matrix of the errors is correctly specified.\n"
          ]
        }
      ]
    },
    {
      "cell_type": "markdown",
      "source": [
        "* Considerando apenas os grupos 0 e 3, a entrega grátis é importante para explicar o aumento de CLTV.\n",
        "* Será que é possível inferir causalidade com esse modelo?"
      ],
      "metadata": {
        "id": "kRFbDXi8EawT"
      }
    },
    {
      "cell_type": "markdown",
      "source": [
        "* Análise de resíduos para modelo de regressão linear simples\n",
        "* Condições:\n",
        "  * Independência\n",
        "  * Distribuição normal\n",
        "  * Homocedasticidade"
      ],
      "metadata": {
        "id": "P8OFtg7rGvWc"
      }
    },
    {
      "cell_type": "markdown",
      "source": [
        "* De acordo com o teste Durbin-Watson, as observações são independentes. Se o valor estiver próximo de 2, provavelmente não é uma série temporal."
      ],
      "metadata": {
        "id": "qyKpP4o0HKnt"
      }
    },
    {
      "cell_type": "code",
      "source": [
        "modelo_residuo = results.resid\n",
        "modelo_y_ajustado = results.fittedvalues"
      ],
      "metadata": {
        "id": "P7FTOIGqGqZy"
      },
      "execution_count": 486,
      "outputs": []
    },
    {
      "cell_type": "code",
      "source": [
        "# GRÁFICO QQ - NORMALIDADE #\n",
        "\n",
        "sm.qqplot(modelo_residuo, line=\"45\")\n",
        "plt.show()\n",
        "\n",
        "#Teste Shapiro-Wilk\n",
        "from scipy.stats import shapiro\n",
        "stat, p = shapiro(modelo_residuo)\n",
        "print('Statistics=%.3f, p=%.3f' % (stat, p))\n",
        "# interpret\n",
        "alpha = 0.05\n",
        "if p > alpha:print('Sample looks Gaussian (fail to reject H0)')\n",
        "else:print('Sample does not look Gaussian (reject H0)')"
      ],
      "metadata": {
        "colab": {
          "base_uri": "https://localhost:8080/",
          "height": 450
        },
        "id": "XCQvaM0HHog-",
        "outputId": "bcbc0ed4-ed25-451a-b99d-e70e66a09afa"
      },
      "execution_count": 487,
      "outputs": [
        {
          "output_type": "display_data",
          "data": {
            "text/plain": [
              "<Figure size 576x396 with 1 Axes>"
            ],
            "image/png": "[encoded data removed]"
          },
          "metadata": {}
        },
        {
          "output_type": "stream",
          "name": "stdout",
          "text": [
            "Statistics=0.973, p=0.000\n",
            "Sample does not look Gaussian (reject H0)\n"
          ]
        },
        {
          "output_type": "stream",
          "name": "stderr",
          "text": [
            "/usr/local/lib/python3.7/dist-packages/scipy/stats/morestats.py:1676: UserWarning: p-value may not be accurate for N > 5000.\n",
            "  warnings.warn(\"p-value may not be accurate for N > 5000.\")\n"
          ]
        }
      ]
    },
    {
      "cell_type": "markdown",
      "source": [
        "* Não há distribuição normal dos resíduos."
      ],
      "metadata": {
        "id": "0O4shfRHKcML"
      }
    },
    {
      "cell_type": "code",
      "source": [
        "import statsmodels.stats.api as sms\n",
        "from statsmodels.compat import lzip\n",
        "\n",
        "#Heteroskedasticity tests\n",
        "\n",
        "#Breush-Pagan test:\n",
        "\n",
        "name = [\"Lagrange multiplier statistic\", \"p-value\", \"f-value\", \"f p-value\"]\n",
        "test = sms.het_breuschpagan(modelo_residuo, results.model.exog)\n",
        "print(lzip(name, test))\n",
        "print()\n",
        "\n",
        "#Goldfeld-Quandt test\n",
        "\n",
        "name = [\"Goldfeld-Quandt - F statistic\", \"p-value\"]\n",
        "test = sms.het_goldfeldquandt(modelo_residuo, results.model.exog)\n",
        "print(lzip(name, test))"
      ],
      "metadata": {
        "colab": {
          "base_uri": "https://localhost:8080/"
        },
        "id": "1nhdVUQSIHrv",
        "outputId": "c7ee084d-d622-4efe-d269-5217cc16b1cb"
      },
      "execution_count": 488,
      "outputs": [
        {
          "output_type": "stream",
          "name": "stdout",
          "text": [
            "[('Lagrange multiplier statistic', 1399.601700868449), ('p-value', 2.564367768462909e-306), ('f-value', 1807.170649256431), ('f p-value', 0.0)]\n",
            "\n",
            "[('Goldfeld-Quandt - F statistic', 1.008941142118879), ('p-value', 0.4021885564970902)]\n"
          ]
        }
      ]
    },
    {
      "cell_type": "markdown",
      "source": [
        "* Não há homocedasticidade."
      ],
      "metadata": {
        "id": "rUYQgDdBKhA7"
      }
    },
    {
      "cell_type": "markdown",
      "source": [
        "* Com esse modelo atual, não é possivel fazer inferência causal."
      ],
      "metadata": {
        "id": "TZmn6byVKoRv"
      }
    },
    {
      "cell_type": "markdown",
      "source": [
        "# Conclusão"
      ],
      "metadata": {
        "id": "wbybXOG-_POs"
      }
    },
    {
      "cell_type": "markdown",
      "source": [
        "* No experimento 1:\n",
        "  * Com 5 clusters do KMeans, as distâncias interclusters não ficaram adequadas.\n",
        "* No experimento 2:\n",
        "  * O grupo que mais gosta de entrega grátis é o 1 e 3, com 100% dos pedidos feitos com entrega grátis.\n",
        "  * O grupo mais fiel e valioso é o 3.\n",
        "  * O que diferencia o grupo 0 e 3 é que nos top 10 pratos mais pedidos, o primeiro gosta mais de bebida do que pedir no mercado, já o segundo gosta mais de pedir mercado do que bebida.\n",
        "  * Entre o grupo 0 e 3, não foi possível afirmar causalidade da entrega grátis em relação ao aumento de CLTV."
      ],
      "metadata": {
        "id": "OGsZQtH3_R1k"
      }
    }
  ]
}