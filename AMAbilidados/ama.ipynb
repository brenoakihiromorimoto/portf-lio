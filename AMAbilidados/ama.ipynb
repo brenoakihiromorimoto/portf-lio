{
  "cells": [
    {
      "cell_type": "markdown",
      "metadata": {
        "id": "view-in-github",
        "colab_type": "text"
      },
      "source": [
        "<a href=\"https://colab.research.google.com/github/brenoakihiromorimoto/portf-lio/blob/main/AMAbilidados/ama.ipynb\" target=\"_parent\"><img src=\"https://colab.research.google.com/assets/colab-badge.svg\" alt=\"Open In Colab\"/></a>"
      ]
    },
    {
      "cell_type": "markdown",
      "id": "14f8c403-9efb-4147-aed6-06d395c103e7",
      "metadata": {
        "heading_collapsed": true,
        "tags": [],
        "id": "14f8c403-9efb-4147-aed6-06d395c103e7"
      },
      "source": [
        "# Análise das Notas Fiscais Paulista\n",
        "\n",
        "Por uma descrição aqui..."
      ]
    },
    {
      "cell_type": "markdown",
      "id": "722dd044",
      "metadata": {
        "heading_collapsed": true,
        "hidden": true,
        "jp-MarkdownHeadingCollapsed": true,
        "tags": [],
        "id": "722dd044"
      },
      "source": [
        "## Análise antes de gerar a base final"
      ]
    },
    {
      "cell_type": "markdown",
      "id": "40bc8227-3242-40c2-89f8-05cc7049f804",
      "metadata": {
        "heading_collapsed": true,
        "hidden": true,
        "jp-MarkdownHeadingCollapsed": true,
        "tags": [],
        "id": "40bc8227-3242-40c2-89f8-05cc7049f804"
      },
      "source": [
        "### Carga das bibliotecas e configurações de display"
      ]
    },
    {
      "cell_type": "code",
      "execution_count": null,
      "id": "31499af0-5627-460f-b0c9-50b6eb83d9ab",
      "metadata": {
        "hidden": true,
        "id": "31499af0-5627-460f-b0c9-50b6eb83d9ab"
      },
      "outputs": [],
      "source": [
        "# Carga das bibliotecas\n",
        "import os\n",
        "\n",
        "import pandas as pd"
      ]
    },
    {
      "cell_type": "code",
      "execution_count": null,
      "id": "23e7e1ec",
      "metadata": {
        "hidden": true,
        "id": "23e7e1ec"
      },
      "outputs": [],
      "source": [
        "# Configurações de display\n",
        "pd.options.display.max_columns = None"
      ]
    },
    {
      "cell_type": "markdown",
      "id": "34eaa300-1d57-4c03-a1be-960790104f58",
      "metadata": {
        "hidden": true,
        "jp-MarkdownHeadingCollapsed": true,
        "tags": [],
        "id": "34eaa300-1d57-4c03-a1be-960790104f58"
      },
      "source": [
        "### Carga e combinação dos dados"
      ]
    },
    {
      "cell_type": "markdown",
      "id": "93acc026-0516-4dad-9364-b18a85d70fd9",
      "metadata": {
        "heading_collapsed": true,
        "hidden": true,
        "jp-MarkdownHeadingCollapsed": true,
        "tags": [],
        "id": "93acc026-0516-4dad-9364-b18a85d70fd9"
      },
      "source": [
        "#### Dados da AMA"
      ]
    },
    {
      "cell_type": "code",
      "execution_count": null,
      "id": "85e123f8-1274-4292-a267-7f9151401b7e",
      "metadata": {
        "hidden": true,
        "id": "85e123f8-1274-4292-a267-7f9151401b7e"
      },
      "outputs": [],
      "source": [
        "# Listando todos os arquivos do diretório de dados da AMA\n",
        "paths_ama = os.listdir('./dados_ama/')\n",
        "paths_ama"
      ]
    },
    {
      "cell_type": "code",
      "execution_count": null,
      "id": "87c1ecf1",
      "metadata": {
        "hidden": true,
        "scrolled": true,
        "id": "87c1ecf1"
      },
      "outputs": [],
      "source": [
        "# Carga inicial apenas para verificarmos o formato de cada uma das bases\n",
        "for cont in range(len(paths_ama)):\n",
        "    caminho = './dados_ama/' + paths_ama[cont]\n",
        "    display(pd.read_csv(caminho, sep='\\t', encoding='utf-16', nrows=1))"
      ]
    },
    {
      "cell_type": "code",
      "execution_count": null,
      "id": "d0fc2cbc",
      "metadata": {
        "hidden": true,
        "id": "d0fc2cbc"
      },
      "outputs": [],
      "source": [
        "# Concatenando os dados das bases\n",
        "df_ama = pd.DataFrame()\n",
        "\n",
        "for cont in range(len(paths_ama)):\n",
        "    caminho = './dados_ama/' + paths_ama[cont]\n",
        "    df_ama = pd.concat([df_ama, pd.read_csv(caminho, sep='\\t', encoding='utf-16')], ignore_index=True)"
      ]
    },
    {
      "cell_type": "code",
      "execution_count": null,
      "id": "f51287ca-c7a8-4db1-9664-604a23514cb3",
      "metadata": {
        "hidden": true,
        "id": "f51287ca-c7a8-4db1-9664-604a23514cb3"
      },
      "outputs": [],
      "source": [
        "# Observando o formato da base resultante\n",
        "df_ama.shape"
      ]
    },
    {
      "cell_type": "code",
      "execution_count": null,
      "id": "57172e68",
      "metadata": {
        "hidden": true,
        "id": "57172e68"
      },
      "outputs": [],
      "source": [
        "# Verificando os índices das últimas observações \n",
        "df_ama.tail()"
      ]
    },
    {
      "cell_type": "markdown",
      "id": "982b48d6-92c9-4abd-a28f-fa3b082eaeb3",
      "metadata": {
        "heading_collapsed": true,
        "hidden": true,
        "jp-MarkdownHeadingCollapsed": true,
        "tags": [],
        "id": "982b48d6-92c9-4abd-a28f-fa3b082eaeb3"
      },
      "source": [
        "#### Dados da receita"
      ]
    },
    {
      "cell_type": "markdown",
      "id": "2e6c44e8",
      "metadata": {
        "hidden": true,
        "id": "2e6c44e8"
      },
      "source": [
        "1) Dados dos estabelecimentos"
      ]
    },
    {
      "cell_type": "code",
      "execution_count": null,
      "id": "32a93546-4183-4047-aed5-200ee6a60657",
      "metadata": {
        "hidden": true,
        "id": "32a93546-4183-4047-aed5-200ee6a60657"
      },
      "outputs": [],
      "source": [
        "# Listando todos os arquivos do diretório de dados dos estabelecimentos\n",
        "paths_estabelecimentos = os.listdir('./dados_receita/estabelecimentos')\n",
        "paths_estabelecimentos"
      ]
    },
    {
      "cell_type": "code",
      "execution_count": null,
      "id": "204fd8e6-94b2-48c8-95a4-03d0eb97c341",
      "metadata": {
        "hidden": true,
        "id": "204fd8e6-94b2-48c8-95a4-03d0eb97c341"
      },
      "outputs": [],
      "source": [
        "# Carga inicial apenas para confirmarmos o formato de cada uma das bases\n",
        "for cont in range(len(paths_estabelecimentos)):\n",
        "    caminho = './dados_receita/estabelecimentos/' + paths_estabelecimentos[cont]\n",
        "    display(pd.read_csv(caminho, sep=';', encoding='cp437', nrows=1))"
      ]
    },
    {
      "cell_type": "markdown",
      "id": "7ab32a31-6f8e-4f1f-bb9e-723a9cc29691",
      "metadata": {
        "hidden": true,
        "id": "7ab32a31-6f8e-4f1f-bb9e-723a9cc29691"
      },
      "source": [
        "Observe que os dados estão sem labels para as colunas. Consultando o dicionário da base de dados dos estabelecimentos [link](https://www.gov.br/receitafederal/pt-br/assuntos/orientacao-tributaria/cadastros/consultas/arquivos/novolayoutdosdadosabertosdocnpj-dez2021.pdf), obtemos tais labels, assim como os seus significados."
      ]
    },
    {
      "cell_type": "code",
      "execution_count": null,
      "id": "cc8d3710-20ff-4678-ada6-327b48b288b7",
      "metadata": {
        "hidden": true,
        "id": "cc8d3710-20ff-4678-ada6-327b48b288b7"
      },
      "outputs": [],
      "source": [
        "# As chaves serão os nomes das colunas e os valores serão os índices das colunas a serem carregadas\n",
        "colunas_indices = {'cnpj_basico': 0, 'cnpj_ordem': 1, 'cnpj_div': 2,\n",
        "                  'id_matriz': 3, 'nome_fantasia': 4, 'situacao_cadastral': 5,\n",
        "                   'cnae_principal': 11, 'bairro': 17}\n",
        "\n",
        "nomes = colunas_indices.keys()\n",
        "selecionadas = colunas_indices.values()"
      ]
    },
    {
      "cell_type": "code",
      "execution_count": null,
      "id": "d0e4ea29-67f9-4f21-b230-5e0a3d63cc5a",
      "metadata": {
        "hidden": true,
        "tags": [],
        "id": "d0e4ea29-67f9-4f21-b230-5e0a3d63cc5a"
      },
      "outputs": [],
      "source": [
        "# Teste de velocidade para a carga da primeira base\n",
        "caminho = './dados_receita/estabelecimentos/' + paths_estabelecimentos[0]\n",
        "display(pd.read_csv(caminho, sep=';', names=nomes, encoding='cp437', usecols=selecionadas)[:1])"
      ]
    },
    {
      "cell_type": "code",
      "execution_count": null,
      "id": "da9b5650-6a37-43bd-ba8c-633db91cb4bf",
      "metadata": {
        "hidden": true,
        "id": "da9b5650-6a37-43bd-ba8c-633db91cb4bf"
      },
      "outputs": [],
      "source": [
        "# Concatenando os dados das bases\n",
        "df_estabelecimentos = pd.DataFrame()\n",
        "\n",
        "for cont in range(len(paths_estabelecimentos)):\n",
        "    caminho = './dados_receita/estabelecimentos/' + paths_estabelecimentos[cont]\n",
        "    df_estabelecimentos = pd.concat([df_estabelecimentos,\n",
        "                                     pd.read_csv(caminho, sep=';', encoding='cp437',\n",
        "                                                 on_bad_lines='skip', names=nomes, \n",
        "                                                 usecols=selecionadas)], ignore_index=True)"
      ]
    },
    {
      "cell_type": "code",
      "execution_count": null,
      "id": "084c46e7-47e0-42e1-ae44-779c16196faf",
      "metadata": {
        "hidden": true,
        "id": "084c46e7-47e0-42e1-ae44-779c16196faf"
      },
      "outputs": [],
      "source": [
        "# Observando o formato da base resultante\n",
        "df_estabelecimentos.shape"
      ]
    },
    {
      "cell_type": "code",
      "execution_count": null,
      "id": "ece80c85-7407-4ccb-9769-bcc8d08e764c",
      "metadata": {
        "hidden": true,
        "id": "ece80c85-7407-4ccb-9769-bcc8d08e764c"
      },
      "outputs": [],
      "source": [
        "# Conferindo as últimas linhas da base gerada\n",
        "df_estabelecimentos.tail()"
      ]
    },
    {
      "cell_type": "markdown",
      "id": "bb19e73f",
      "metadata": {
        "hidden": true,
        "id": "bb19e73f"
      },
      "source": [
        "2) Dados da CNAE"
      ]
    },
    {
      "cell_type": "code",
      "execution_count": null,
      "id": "96292bbc",
      "metadata": {
        "hidden": true,
        "id": "96292bbc"
      },
      "outputs": [],
      "source": [
        "df_cnae = pd.read_csv('./dados_receita/CNAE/F.K03200$Z.D20514.CNAECSV',\n",
        "                      sep=';', encoding='cp437', names=['codigo', 'descricao'])\n",
        "df_cnae.head()"
      ]
    },
    {
      "cell_type": "markdown",
      "id": "25b2a69d",
      "metadata": {
        "heading_collapsed": true,
        "hidden": true,
        "tags": [],
        "id": "25b2a69d"
      },
      "source": [
        "### Tratamento dos dados"
      ]
    },
    {
      "cell_type": "markdown",
      "id": "9261a8d1-b5f0-4405-9e48-01527b49b5c5",
      "metadata": {
        "heading_collapsed": true,
        "hidden": true,
        "jp-MarkdownHeadingCollapsed": true,
        "tags": [],
        "id": "9261a8d1-b5f0-4405-9e48-01527b49b5c5"
      },
      "source": [
        "#### Base da AMA"
      ]
    },
    {
      "cell_type": "code",
      "execution_count": null,
      "id": "b008ad88",
      "metadata": {
        "hidden": true,
        "id": "b008ad88"
      },
      "outputs": [],
      "source": [
        "# Observando 5 amostras aleatórias da base\n",
        "df_ama.sample(5)"
      ]
    },
    {
      "cell_type": "code",
      "execution_count": null,
      "id": "333cb02b",
      "metadata": {
        "hidden": true,
        "id": "333cb02b"
      },
      "outputs": [],
      "source": [
        "# Modificando o nome das variáveis\n",
        "df_ama.rename(columns={'CNPJ emit.': 'cnpj', 'Emitente.': 'emitente',\n",
        "                       'Data Emissão': 'data_emissao',\n",
        "                       'Valor NF': 'valor_nf', 'Créditos': 'creditos',\n",
        "                       'Situação do Crédito': 'situacao_credito',\n",
        "                       'Emitente': 'emitente'}, inplace=True)\n",
        "df_ama[:2]"
      ]
    },
    {
      "cell_type": "code",
      "execution_count": null,
      "id": "b36474e1",
      "metadata": {
        "hidden": true,
        "id": "b36474e1"
      },
      "outputs": [],
      "source": [
        "# Consultando algumas informações gerais da base\n",
        "df_ama.info()"
      ]
    },
    {
      "cell_type": "code",
      "execution_count": null,
      "id": "d640607f",
      "metadata": {
        "hidden": true,
        "id": "d640607f"
      },
      "outputs": [],
      "source": [
        "## Modificando os tipos de algumas variáveis\n",
        "\n",
        "# Convertendo strings em datas\n",
        "df_ama['data_emissao'] = pd.to_datetime(df_ama['data_emissao'], format='%d/%m/%Y')\n",
        "\n",
        "# Convertendo strings em decimais\n",
        "df_ama['valor_nf'] = df_ama['valor_nf'].str.replace(',', '.')\n",
        "df_ama['valor_nf'] = df_ama['valor_nf'].astype(float)\n",
        "df_ama['creditos'] = df_ama['creditos'].str.replace(',', '.')\n",
        "df_ama['creditos'] = df_ama['creditos'].astype(float)\n",
        "\n",
        "# Verificando os novos tipos de dados\n",
        "df_ama.dtypes "
      ]
    },
    {
      "cell_type": "code",
      "execution_count": null,
      "id": "d7a63cab",
      "metadata": {
        "hidden": true,
        "scrolled": true,
        "id": "d7a63cab"
      },
      "outputs": [],
      "source": [
        "# Ordenando os dados pela data de emissão\n",
        "df_ama = df_ama.sort_values('data_emissao', ignore_index=True)\n",
        "df_ama.head()"
      ]
    },
    {
      "cell_type": "code",
      "execution_count": null,
      "id": "5bf584f6",
      "metadata": {
        "hidden": true,
        "id": "5bf584f6"
      },
      "outputs": [],
      "source": [
        "# Verificando se há linhas duplicadas\n",
        "df_ama.duplicated().sum()"
      ]
    },
    {
      "cell_type": "markdown",
      "id": "8a660071",
      "metadata": {
        "hidden": true,
        "id": "8a660071"
      },
      "source": [
        "Para fazermos um mapeamento do CNPJ com os dados da receita federal precisaremos que o CNPJ tenha o padrão 'xx.xxx.xxx/xxxx-xx'. Sendo assim, iremos conferir se há valores de CNPJ diferentes deste formato:"
      ]
    },
    {
      "cell_type": "code",
      "execution_count": null,
      "id": "24f0b4b0",
      "metadata": {
        "hidden": true,
        "id": "24f0b4b0"
      },
      "outputs": [],
      "source": [
        "regex_cnpj = r'\\d{2}\\.\\d{3}\\.\\d{3}/\\d{4}-\\d{2}'\n",
        "(df_ama['cnpj'].str.match(regex_cnpj) == False).sum()"
      ]
    },
    {
      "cell_type": "code",
      "execution_count": null,
      "id": "cc75379b-6fd6-44b2-b0ce-b1d5f3c09a94",
      "metadata": {
        "hidden": true,
        "id": "cc75379b-6fd6-44b2-b0ce-b1d5f3c09a94"
      },
      "outputs": [],
      "source": [
        "# Removendo as colunas que não são de interesse \n",
        "df_ama.drop(columns=['No.', 'Data Registro'], inplace=True)\n",
        "df_ama.columns"
      ]
    },
    {
      "cell_type": "markdown",
      "id": "cd661a59",
      "metadata": {
        "heading_collapsed": true,
        "hidden": true,
        "jp-MarkdownHeadingCollapsed": true,
        "tags": [],
        "id": "cd661a59"
      },
      "source": [
        "#### Dados dos Estabelecimentos"
      ]
    },
    {
      "cell_type": "code",
      "execution_count": null,
      "id": "e202cfe8-9b59-45be-ac3e-453f41a07ec7",
      "metadata": {
        "hidden": true,
        "id": "e202cfe8-9b59-45be-ac3e-453f41a07ec7"
      },
      "outputs": [],
      "source": [
        "# Verificando o formato da base\n",
        "df_estabelecimentos.shape"
      ]
    },
    {
      "cell_type": "code",
      "execution_count": null,
      "id": "3670170c-81fc-4692-b2b4-150291222e30",
      "metadata": {
        "hidden": true,
        "id": "3670170c-81fc-4692-b2b4-150291222e30"
      },
      "outputs": [],
      "source": [
        "# Verificando se há observações repetidas\n",
        "df_estabelecimentos.duplicated().sum()"
      ]
    },
    {
      "cell_type": "markdown",
      "id": "c0c3dd53-2004-474b-831d-a98e1ed67e4c",
      "metadata": {
        "hidden": true,
        "id": "c0c3dd53-2004-474b-831d-a98e1ed67e4c"
      },
      "source": [
        "Faz sentido termos tantos CNPJs (aproximadamente 1/4 da população do país) únicos? Segundo dados obtidos pelo portal [correio dos munícipios](https://www.correiodosmunicipios-al.com.br/2021/10/brasil-registra-recorde-em-abertura-de-empresas-no-2o-quadrimestre/#:~:text=No%20segundo%20quadrimestre%20de%202021,recorde%20na%20hist%C3%B3ria%20do%20Brasil.), no segundo quadrimestre de de 2021 o número de CNPJs ativos era de 18.440.986. Pegando esse valor como referência, podemos filtrar a base pelas ocorrências de CNPJs ativos na base cuja situação cadastral está ativa (situacao_cadastral = 2):"
      ]
    },
    {
      "cell_type": "code",
      "execution_count": null,
      "id": "dded224d-752d-484a-bcd4-263a43fc26fd",
      "metadata": {
        "hidden": true,
        "id": "dded224d-752d-484a-bcd4-263a43fc26fd"
      },
      "outputs": [],
      "source": [
        "df_estabelecimentos['situacao_cadastral'].value_counts()"
      ]
    },
    {
      "cell_type": "markdown",
      "id": "8d631323-5af4-4c61-be19-892d1f658a13",
      "metadata": {
        "hidden": true,
        "id": "8d631323-5af4-4c61-be19-892d1f658a13"
      },
      "source": [
        "Uma vez que os últimos dados registrados foram de maio de 2022, 21811232 parece ser um número factível."
      ]
    },
    {
      "cell_type": "code",
      "execution_count": null,
      "id": "701b1d79",
      "metadata": {
        "hidden": true,
        "id": "701b1d79"
      },
      "outputs": [],
      "source": [
        "# Observando 5 amostras aleatórias da base\n",
        "df_estabelecimentos.sample(5)"
      ]
    },
    {
      "cell_type": "markdown",
      "id": "2a7b3d8f",
      "metadata": {
        "hidden": true,
        "id": "2a7b3d8f"
      },
      "source": [
        "Note que os dados do CNPJ encontram-se nas 3 primeiras variáveis. No padrão CNPJ, o CNPJ básico é representado pelos 8 primeiros dígitos; o CNPJ ordem corresponde aos dígitos entre o oitavo e o décimo segundo; o CNPJ div é um número de dois dígitos, sendo os dois últimos dígitos do padrão completo.\n",
        "\n",
        "Com o objetivo de concatenarmos essees padrões e definirmos o padrão completo, considere a a função compor_cnpj:"
      ]
    },
    {
      "cell_type": "code",
      "execution_count": null,
      "id": "438bad7b",
      "metadata": {
        "hidden": true,
        "id": "438bad7b"
      },
      "outputs": [],
      "source": [
        "def compor_cnpj(df):\n",
        "    df['cnpj_basico'] = df['cnpj_basico'].apply(lambda x: f'{x:0>8}')\n",
        "    df['cnpj_ordem'] = df['cnpj_ordem'].apply(lambda x: f'{x:0>4}')\n",
        "    df['cnpj_div'] = df['cnpj_div'].apply(lambda x: f'{x:0>2}')\n",
        "    df['cnpj'] = df['cnpj_basico'] + df['cnpj_ordem'] + df['cnpj_div']\n",
        "    df.drop(columns=['cnpj_basico', 'cnpj_ordem', 'cnpj_div'], inplace=True)\n",
        "    return df"
      ]
    },
    {
      "cell_type": "code",
      "execution_count": null,
      "id": "bde77546",
      "metadata": {
        "hidden": true,
        "id": "bde77546"
      },
      "outputs": [],
      "source": [
        "# Formando o CNPJ n padrao xxxxxxxxxxxxxx\n",
        "df_estabelecimentos = compor_cnpj(df_estabelecimentos)"
      ]
    },
    {
      "cell_type": "code",
      "execution_count": null,
      "id": "21aab7bf",
      "metadata": {
        "hidden": true,
        "id": "21aab7bf"
      },
      "outputs": [],
      "source": [
        "df_estabelecimentos.head()"
      ]
    },
    {
      "cell_type": "markdown",
      "id": "03883f2a-243a-4b30-a849-18d5754001d2",
      "metadata": {
        "hidden": true,
        "id": "03883f2a-243a-4b30-a849-18d5754001d2"
      },
      "source": [
        "Como os CNPJs da base da AMA estão no padrão xx.xxx.xxx\\xxxx-xx, para que possamos comparar estes valores eles precisam estar no mesmo padrão. Sendo assim, iremos aplicar uma formatação nos valores dos CNPJs:"
      ]
    },
    {
      "cell_type": "code",
      "execution_count": null,
      "id": "db081393-1712-470e-a610-6f6cc9b82b07",
      "metadata": {
        "hidden": true,
        "id": "db081393-1712-470e-a610-6f6cc9b82b07"
      },
      "outputs": [],
      "source": [
        "def ajustar_cnpj(df):\n",
        "    df['cnpj'] = (df['cnpj'].str[:2] + '.' + \n",
        "                  df['cnpj'].str[2:5] + '.' + \n",
        "                  df['cnpj'].str[5:8] + '/' + \n",
        "                  df['cnpj'].str[8:12] + '-' + \n",
        "                  df['cnpj'].str[12:])\n",
        "    return df"
      ]
    },
    {
      "cell_type": "code",
      "execution_count": null,
      "id": "cc1f57e3-4fd4-44a4-980a-03e02cd9775c",
      "metadata": {
        "hidden": true,
        "id": "cc1f57e3-4fd4-44a4-980a-03e02cd9775c"
      },
      "outputs": [],
      "source": [
        "# Formando o CNPJ no padrão xx.xxx.xxx\\xxx-xx\n",
        "df_estabelecimentos = ajustar_cnpj(df_estabelecimentos)"
      ]
    },
    {
      "cell_type": "code",
      "execution_count": null,
      "id": "c90d90e6-bc44-4a28-ade7-e6d51395477a",
      "metadata": {
        "hidden": true,
        "id": "c90d90e6-bc44-4a28-ade7-e6d51395477a"
      },
      "outputs": [],
      "source": [
        "df_estabelecimentos.head()"
      ]
    },
    {
      "cell_type": "code",
      "execution_count": null,
      "id": "c9f2d120-b6c6-4c40-afe9-f969b54a2916",
      "metadata": {
        "hidden": true,
        "id": "c9f2d120-b6c6-4c40-afe9-f969b54a2916"
      },
      "outputs": [],
      "source": [
        "# Conferindo os tipos de dados\n",
        "df_estabelecimentos.dtypes"
      ]
    },
    {
      "cell_type": "code",
      "execution_count": null,
      "id": "5b468e33-7135-452b-852a-f5857f489a36",
      "metadata": {
        "hidden": true,
        "id": "5b468e33-7135-452b-852a-f5857f489a36"
      },
      "outputs": [],
      "source": [
        "# Verificando a proporção de valores nulos\n",
        "df_estabelecimentos.isnull().sum()/df_estabelecimentos.shape[0]"
      ]
    },
    {
      "cell_type": "markdown",
      "id": "c7ad93d1",
      "metadata": {
        "heading_collapsed": true,
        "hidden": true,
        "jp-MarkdownHeadingCollapsed": true,
        "tags": [],
        "id": "c7ad93d1"
      },
      "source": [
        "#### Dados de CNAE"
      ]
    },
    {
      "cell_type": "code",
      "execution_count": null,
      "id": "b513d3e8",
      "metadata": {
        "hidden": true,
        "id": "b513d3e8"
      },
      "outputs": [],
      "source": [
        "df_cnae.head()"
      ]
    },
    {
      "cell_type": "code",
      "execution_count": null,
      "id": "68ecc5fc-901e-4b31-9f44-b8c156a1ff1e",
      "metadata": {
        "hidden": true,
        "id": "68ecc5fc-901e-4b31-9f44-b8c156a1ff1e"
      },
      "outputs": [],
      "source": [
        "df_cnae.dtypes"
      ]
    },
    {
      "cell_type": "code",
      "execution_count": null,
      "id": "9eb1b2b5-5a50-4e05-aa79-f19c021fdc84",
      "metadata": {
        "hidden": true,
        "id": "9eb1b2b5-5a50-4e05-aa79-f19c021fdc84"
      },
      "outputs": [],
      "source": [
        "# Verificando a proporção de valores nulos\n",
        "df_cnae.isnull().sum()/df_cnae.shape[0]"
      ]
    },
    {
      "cell_type": "markdown",
      "id": "2b42a41b-db69-424e-8ae7-4253a57e4bb4",
      "metadata": {
        "heading_collapsed": true,
        "hidden": true,
        "jp-MarkdownHeadingCollapsed": true,
        "tags": [],
        "id": "2b42a41b-db69-424e-8ae7-4253a57e4bb4"
      },
      "source": [
        "#### Gerando a base final"
      ]
    },
    {
      "cell_type": "markdown",
      "id": "16627a80-14ac-4435-9c3a-6f7d8847443b",
      "metadata": {
        "hidden": true,
        "jp-MarkdownHeadingCollapsed": true,
        "tags": [],
        "id": "16627a80-14ac-4435-9c3a-6f7d8847443b"
      },
      "source": [
        "Trazendo os dados dos estabelecimentos para a base da AMA utilizando o CNPJ como chave"
      ]
    },
    {
      "cell_type": "code",
      "execution_count": null,
      "id": "d239a932-885d-4f22-aef7-fe63507a5709",
      "metadata": {
        "hidden": true,
        "id": "d239a932-885d-4f22-aef7-fe63507a5709"
      },
      "outputs": [],
      "source": [
        "df_ama = pd.merge(df_ama, df_estabelecimentos, on='cnpj', how='left')"
      ]
    },
    {
      "cell_type": "code",
      "execution_count": null,
      "id": "0d030ab3-38b1-4383-a169-73b489c41d38",
      "metadata": {
        "hidden": true,
        "id": "0d030ab3-38b1-4383-a169-73b489c41d38"
      },
      "outputs": [],
      "source": [
        "df_ama.sample(5)"
      ]
    },
    {
      "cell_type": "code",
      "execution_count": null,
      "id": "9d337a19-611d-44c2-a116-7d5c1056e2ff",
      "metadata": {
        "hidden": true,
        "id": "9d337a19-611d-44c2-a116-7d5c1056e2ff"
      },
      "outputs": [],
      "source": [
        "df_estabelecimentos.dtypes"
      ]
    },
    {
      "cell_type": "markdown",
      "id": "67127ed3-9888-437e-b92d-f14fe902a063",
      "metadata": {
        "hidden": true,
        "id": "67127ed3-9888-437e-b92d-f14fe902a063"
      },
      "source": [
        "Trazendo os setores dos estabelecimentos para a base da AMA utiliando a CNAE como chave"
      ]
    },
    {
      "cell_type": "code",
      "execution_count": null,
      "id": "a9e459f4-301d-46ef-990e-045b5d27b42a",
      "metadata": {
        "hidden": true,
        "id": "a9e459f4-301d-46ef-990e-045b5d27b42a"
      },
      "outputs": [],
      "source": [
        "df_ama = pd.merge(df_ama, df_cnae, left_on='cnae_principal', right_on='codigo', how='left')"
      ]
    },
    {
      "cell_type": "code",
      "execution_count": null,
      "id": "011c9564-41ef-4e15-a17a-b8d8f0c85481",
      "metadata": {
        "hidden": true,
        "id": "011c9564-41ef-4e15-a17a-b8d8f0c85481"
      },
      "outputs": [],
      "source": [
        "df_ama.sample(5)"
      ]
    },
    {
      "cell_type": "code",
      "execution_count": null,
      "id": "bcbe4deb-e98b-4eaa-aaad-ecdd95fd889e",
      "metadata": {
        "hidden": true,
        "id": "bcbe4deb-e98b-4eaa-aaad-ecdd95fd889e"
      },
      "outputs": [],
      "source": [
        "# cnae_principal = codigo\n",
        "df_ama.drop(columns='codigo', inplace=True)"
      ]
    },
    {
      "cell_type": "markdown",
      "id": "ff276586-3671-421a-93b9-d13645720bd4",
      "metadata": {
        "heading_collapsed": true,
        "hidden": true,
        "jp-MarkdownHeadingCollapsed": true,
        "tags": [],
        "id": "ff276586-3671-421a-93b9-d13645720bd4"
      },
      "source": [
        "### Salvando os arquivos em disco e desalocando o espaço em memória"
      ]
    },
    {
      "cell_type": "markdown",
      "id": "0ef74e96-aaa4-4882-9d51-e1aa99e6f2c3",
      "metadata": {
        "heading_collapsed": true,
        "hidden": true,
        "jp-MarkdownHeadingCollapsed": true,
        "tags": [],
        "id": "0ef74e96-aaa4-4882-9d51-e1aa99e6f2c3"
      },
      "source": [
        "#### Salvando os arquivos em parquet"
      ]
    },
    {
      "cell_type": "markdown",
      "id": "54ba789c-cc26-4673-8af7-70f4ce5ad2a5",
      "metadata": {
        "hidden": true,
        "id": "54ba789c-cc26-4673-8af7-70f4ce5ad2a5"
      },
      "source": [
        "Primeiro, instalei a biblioteca pyarrow para que possa utilizar read_parquet e to_parquet com o Pandas:"
      ]
    },
    {
      "cell_type": "code",
      "execution_count": null,
      "id": "eed98015-79c4-46a7-b4f1-2094ccaa263a",
      "metadata": {
        "hidden": true,
        "tags": [],
        "id": "eed98015-79c4-46a7-b4f1-2094ccaa263a"
      },
      "outputs": [],
      "source": [
        "!pip install pyarrow"
      ]
    },
    {
      "cell_type": "markdown",
      "id": "e9174ba4-b4ce-4651-bbc0-293b1147e399",
      "metadata": {
        "hidden": true,
        "id": "e9174ba4-b4ce-4651-bbc0-293b1147e399"
      },
      "source": [
        "Gravando a base principal no diretório corrente:"
      ]
    },
    {
      "cell_type": "code",
      "execution_count": null,
      "id": "cf1b877f-b3cc-4848-8ed0-98c156baa5f3",
      "metadata": {
        "hidden": true,
        "id": "cf1b877f-b3cc-4848-8ed0-98c156baa5f3"
      },
      "outputs": [],
      "source": [
        "df_ama.to_parquet('base_completa.parquet')"
      ]
    },
    {
      "cell_type": "markdown",
      "id": "dbd12df2-6e18-4abb-b0a9-d5f21a7368f3",
      "metadata": {
        "hidden": true,
        "id": "dbd12df2-6e18-4abb-b0a9-d5f21a7368f3"
      },
      "source": [
        "Gravando a base principal no diretório corrente (versão csv):"
      ]
    },
    {
      "cell_type": "code",
      "execution_count": null,
      "id": "b694a33e-5fc0-4701-86f2-3d2f0465ea96",
      "metadata": {
        "hidden": true,
        "id": "b694a33e-5fc0-4701-86f2-3d2f0465ea96"
      },
      "outputs": [],
      "source": [
        "df_ama.to_csv('base_completa.csv', index=False)"
      ]
    },
    {
      "cell_type": "markdown",
      "id": "c5c01255-baaa-4d8b-9341-71514fda78f3",
      "metadata": {
        "hidden": true,
        "id": "c5c01255-baaa-4d8b-9341-71514fda78f3"
      },
      "source": [
        "Gravando a base da ama no diretório corrente:"
      ]
    },
    {
      "cell_type": "code",
      "execution_count": null,
      "id": "5dda4491-f98b-4a4f-a790-03303e902762",
      "metadata": {
        "hidden": true,
        "id": "5dda4491-f98b-4a4f-a790-03303e902762"
      },
      "outputs": [],
      "source": [
        "df_estabelecimentos.to_parquet('estabelecimentos.parquet')"
      ]
    },
    {
      "cell_type": "markdown",
      "id": "39639398-6cd0-4d4f-a909-bdb480921653",
      "metadata": {
        "hidden": true,
        "id": "39639398-6cd0-4d4f-a909-bdb480921653"
      },
      "source": [
        "Gravando a base CNAE no diretório corrente:"
      ]
    },
    {
      "cell_type": "code",
      "execution_count": null,
      "id": "b379e7d5-d573-40da-9a94-8d579272dbd7",
      "metadata": {
        "hidden": true,
        "id": "b379e7d5-d573-40da-9a94-8d579272dbd7"
      },
      "outputs": [],
      "source": [
        "df_cnae.to_parquet('cnae.parquet')"
      ]
    },
    {
      "cell_type": "markdown",
      "id": "83b3bd64-821f-42a0-af63-582e51b96d9d",
      "metadata": {
        "heading_collapsed": true,
        "hidden": true,
        "jp-MarkdownHeadingCollapsed": true,
        "tags": [],
        "id": "83b3bd64-821f-42a0-af63-582e51b96d9d"
      },
      "source": [
        "#### Desalocando espaço em memória"
      ]
    },
    {
      "cell_type": "code",
      "execution_count": null,
      "id": "5b063f3f-741b-4a0a-b201-094248fed742",
      "metadata": {
        "hidden": true,
        "id": "5b063f3f-741b-4a0a-b201-094248fed742"
      },
      "outputs": [],
      "source": [
        "# Removando todos os DataFrames da memória\n",
        "del df_ama; del df_estabelecimentos; del df_cnae"
      ]
    },
    {
      "cell_type": "markdown",
      "id": "8b16d8aa-d9dd-4be6-a44f-faa42a4a4904",
      "metadata": {
        "heading_collapsed": true,
        "hidden": true,
        "tags": [],
        "id": "8b16d8aa-d9dd-4be6-a44f-faa42a4a4904"
      },
      "source": [
        "## Análise dos dados após gerar a base final"
      ]
    },
    {
      "cell_type": "markdown",
      "id": "2a4543c3",
      "metadata": {
        "heading_collapsed": true,
        "hidden": true,
        "jp-MarkdownHeadingCollapsed": true,
        "tags": [],
        "id": "2a4543c3"
      },
      "source": [
        "### Carga das bibliotecas"
      ]
    },
    {
      "cell_type": "code",
      "execution_count": null,
      "id": "4a24ba9a",
      "metadata": {
        "hidden": true,
        "id": "4a24ba9a"
      },
      "outputs": [],
      "source": [
        "# Carga das bibliotecas\n",
        "import pandas as pd\n",
        "import matplotlib.pyplot as plt\n",
        "import plotly.express as px\n",
        "import seaborn as sns"
      ]
    },
    {
      "cell_type": "markdown",
      "id": "7b354ef5",
      "metadata": {
        "heading_collapsed": true,
        "hidden": true,
        "jp-MarkdownHeadingCollapsed": true,
        "tags": [],
        "id": "7b354ef5"
      },
      "source": [
        "### Carga dos dados"
      ]
    },
    {
      "cell_type": "code",
      "execution_count": null,
      "id": "125a1516",
      "metadata": {
        "hidden": true,
        "id": "125a1516"
      },
      "outputs": [],
      "source": [
        "df = pd.read_csv('base_completa.csv')\n",
        "df.sample(5)"
      ]
    },
    {
      "cell_type": "markdown",
      "id": "efc86aee",
      "metadata": {
        "heading_collapsed": true,
        "hidden": true,
        "jp-MarkdownHeadingCollapsed": true,
        "tags": [],
        "id": "efc86aee"
      },
      "source": [
        "### Tratamento dos dados"
      ]
    },
    {
      "cell_type": "markdown",
      "id": "586c83aa",
      "metadata": {
        "heading_collapsed": true,
        "hidden": true,
        "tags": [],
        "id": "586c83aa"
      },
      "source": [
        "#### Informações gerais, conversões de tipos e ordenação dos dados pelo tempo"
      ]
    },
    {
      "cell_type": "code",
      "execution_count": null,
      "id": "03fed569",
      "metadata": {
        "hidden": true,
        "scrolled": true,
        "id": "03fed569"
      },
      "outputs": [],
      "source": [
        "# Dando uma olhada nas informações gerais da base\n",
        "df.info()"
      ]
    },
    {
      "cell_type": "code",
      "execution_count": null,
      "id": "ee5ebaf3",
      "metadata": {
        "hidden": true,
        "id": "ee5ebaf3"
      },
      "outputs": [],
      "source": [
        "# CNAE não possui relevância neste momento, uma vez que já obtivemos a descrição dos CNPJs\n",
        "df.drop(columns='cnae_principal', inplace=True)"
      ]
    },
    {
      "cell_type": "code",
      "execution_count": null,
      "id": "74f5298a",
      "metadata": {
        "hidden": true,
        "id": "74f5298a"
      },
      "outputs": [],
      "source": [
        "# Convertendo os tipos de algumas variáveis\n",
        "df.data_emissao = pd.to_datetime(df.data_emissao)\n",
        "df.situacao_cadastral = df.situacao_cadastral.astype(str)\n",
        "df.id_matriz = df.id_matriz.astype(str)\n",
        "df.dtypes"
      ]
    },
    {
      "cell_type": "code",
      "execution_count": null,
      "id": "66ebfeec",
      "metadata": {
        "hidden": true,
        "id": "66ebfeec"
      },
      "outputs": [],
      "source": [
        "# Ordenando os dados pelo tempo\n",
        "df = df.sort_values(by='data_emissao')"
      ]
    },
    {
      "cell_type": "markdown",
      "id": "06b7a9a9",
      "metadata": {
        "heading_collapsed": true,
        "hidden": true,
        "tags": [],
        "id": "06b7a9a9"
      },
      "source": [
        "#### Valores nulos"
      ]
    },
    {
      "cell_type": "code",
      "execution_count": null,
      "id": "4d0821d2",
      "metadata": {
        "hidden": true,
        "id": "4d0821d2"
      },
      "outputs": [],
      "source": [
        "# Verificando a proporção de valores ausentes\n",
        "numero_linhas = df.shape[0]\n",
        "proporcao_ausentes = (df.isnull().sum()/numero_linhas)*100\n",
        "proporcao_ausentes"
      ]
    },
    {
      "cell_type": "markdown",
      "id": "2eef9525",
      "metadata": {
        "hidden": true,
        "id": "2eef9525"
      },
      "source": [
        "* Note que a variável nome_fantasia tem mais de 50% de seus valores ausentes. Sendo assim, não há muito o que se fazer com esta variável. Além disso, a variável emitente traz basicamente a mesma informação, porém sem dados ausentes.\n",
        "\n",
        "* A variável bairro possui cerca de 0,002% dos bairros ausentes. Neste caso optaremos por remover as observações com os dados do bairro ausentes."
      ]
    },
    {
      "cell_type": "code",
      "execution_count": null,
      "id": "98a2d6ff",
      "metadata": {
        "hidden": true,
        "id": "98a2d6ff"
      },
      "outputs": [],
      "source": [
        "# Removendo a variável nome_fantasia\n",
        "df.drop(columns='nome_fantasia', inplace=True)\n",
        "\n",
        "# Removendo as linhas cuja variável bairro está ausente\n",
        "df.dropna(subset='bairro', inplace=True)\n",
        "\n",
        "# Consultando novamente a proporção de valores ausentes\n",
        "numero_linhas = df.shape[0]\n",
        "proporcao_ausentes = (df.isnull().sum()/numero_linhas)*100\n",
        "proporcao_ausentes"
      ]
    },
    {
      "cell_type": "code",
      "execution_count": null,
      "id": "257e5889",
      "metadata": {
        "hidden": true,
        "id": "257e5889"
      },
      "outputs": [],
      "source": [
        "# Verificando o novo formato da base\n",
        "df.shape"
      ]
    },
    {
      "cell_type": "markdown",
      "id": "fef3a341",
      "metadata": {
        "heading_collapsed": true,
        "hidden": true,
        "tags": [],
        "id": "fef3a341"
      },
      "source": [
        "#### Observando estatísticas descritivas da base"
      ]
    },
    {
      "cell_type": "markdown",
      "id": "c0cab193",
      "metadata": {
        "hidden": true,
        "id": "c0cab193"
      },
      "source": [
        "**Variáveis numéricas**"
      ]
    },
    {
      "cell_type": "code",
      "execution_count": null,
      "id": "1c624f3d",
      "metadata": {
        "hidden": true,
        "id": "1c624f3d"
      },
      "outputs": [],
      "source": [
        "# Estatísticas descritivas das variáveis numéricas\n",
        "numericas = ['valor_nf', 'creditos']\n",
        "df[numericas].describe()"
      ]
    },
    {
      "cell_type": "markdown",
      "id": "b515ae27",
      "metadata": {
        "hidden": true,
        "id": "b515ae27"
      },
      "source": [
        "Observando a distribuição dos valores de nota fiscal com o auxílio de um boxplot"
      ]
    },
    {
      "cell_type": "code",
      "execution_count": null,
      "id": "d0b149b0",
      "metadata": {
        "hidden": true,
        "id": "d0b149b0"
      },
      "outputs": [],
      "source": [
        "sns.boxplot(data=df, x='valor_nf')"
      ]
    },
    {
      "cell_type": "markdown",
      "id": "ec8e5dd1",
      "metadata": {
        "hidden": true,
        "id": "ec8e5dd1"
      },
      "source": [
        "Apesar de existir alguns outliers superiores, não será necessário desconsiderá-los. Será que há muitas ocorrências de valor_nf = 0?"
      ]
    },
    {
      "cell_type": "code",
      "execution_count": null,
      "id": "c5400586",
      "metadata": {
        "hidden": true,
        "id": "c5400586"
      },
      "outputs": [],
      "source": [
        "# Verificando o número de observações com valor de nf nulo\n",
        "print(df[df['valor_nf'] == 0].shape[0])\n",
        "\n",
        "# Será que algum desses valores retornam créditos?\n",
        "print(df[df['valor_nf'] == 0]['creditos'].unique())"
      ]
    },
    {
      "cell_type": "code",
      "execution_count": null,
      "id": "81ae2ccd",
      "metadata": {
        "hidden": true,
        "id": "81ae2ccd"
      },
      "outputs": [],
      "source": [
        "# Removendo estas observações da base\n",
        "df = df[df['valor_nf'] != 0]"
      ]
    },
    {
      "cell_type": "markdown",
      "id": "eaa7aa6f",
      "metadata": {
        "hidden": true,
        "id": "eaa7aa6f"
      },
      "source": [
        "**Variáveis categóricas**"
      ]
    },
    {
      "cell_type": "code",
      "execution_count": null,
      "id": "2551a878",
      "metadata": {
        "hidden": true,
        "id": "2551a878"
      },
      "outputs": [],
      "source": [
        "# Estatísticas descritivas das variáveis categóricas\n",
        "display(df.loc[:, ~df.columns.isin(numericas + ['data_emissao'])].describe())"
      ]
    },
    {
      "cell_type": "code",
      "execution_count": null,
      "id": "afbfa9b2",
      "metadata": {
        "hidden": true,
        "id": "afbfa9b2"
      },
      "outputs": [],
      "source": [
        "df.loc[:, ~df.columns.isin(numericas + ['data_emissao'])].describe().loc['top', 'descricao']"
      ]
    },
    {
      "cell_type": "markdown",
      "id": "fac7032a",
      "metadata": {
        "hidden": true,
        "id": "fac7032a"
      },
      "source": [
        "* O número de valores únicos de CNPJs é maior que o de emitentes: investigar esta relação;\n",
        "* O emitente que obteve mais registros vinculados a AMA foi a da TODA TORTA COMERCIO DE DOCES LTDA;\n",
        "* Há 3 situações de créditos possíveis, onde a mais registrada é a de \"Liberado\";\n",
        "* id_matriz registra duas categorias possíveis, o que pode ajudar na investigação da primeira conclusão;\n",
        "* Há 5 situações cadastrais possíveis: será que em todas estas é possível retornar créditos?\n",
        "* O bairro com o maior número de notas fiscais com CPFs vinculados a AMA foi o bairro do Cambuci;\n",
        "* O setor de \"Comércio varejista de mercadorias em geral, com predominância de produtos alimentícios\" foi o setor com o maior número de compras registradas em prol da AMA."
      ]
    },
    {
      "cell_type": "markdown",
      "id": "5dfc7ee1",
      "metadata": {
        "heading_collapsed": true,
        "hidden": true,
        "tags": [],
        "id": "5dfc7ee1"
      },
      "source": [
        "#### Gerando novas features"
      ]
    },
    {
      "cell_type": "markdown",
      "id": "73a6483e",
      "metadata": {
        "hidden": true,
        "id": "73a6483e"
      },
      "source": [
        "Afim de fazermos análises temporais, iremos criar novas variáveis para identificar os meses/trimestres/semestres/anos em função da data de emissão:"
      ]
    },
    {
      "cell_type": "code",
      "execution_count": null,
      "id": "5896c8e3",
      "metadata": {
        "hidden": true,
        "id": "5896c8e3"
      },
      "outputs": [],
      "source": [
        "# Gerando identificadores numéricos para os meses\n",
        "df['mes'] = df['data_emissao'].apply(lambda data: data.month)"
      ]
    },
    {
      "cell_type": "code",
      "execution_count": null,
      "id": "cc152b22",
      "metadata": {
        "hidden": true,
        "id": "cc152b22"
      },
      "outputs": [],
      "source": [
        "# Função responsável por gerar identificadores numéricos para os trimestre/semestres\n",
        "def periodo_ano(mes):\n",
        "    if 1 <= mes <= 3:\n",
        "        trimestre = 1\n",
        "        semestre = 1\n",
        "    elif 4 <= mes <= 6:\n",
        "        trimestre = 2\n",
        "        semestre = 1\n",
        "    elif 7 <= mes <= 9:\n",
        "        trimestre = 3\n",
        "        semestre = 2\n",
        "    elif 10 <= mes <= 12:\n",
        "        trimestre = 4\n",
        "        semestre = 3\n",
        "    else:\n",
        "        trimestre = semestre = None\n",
        "    return (trimestre, semestre)"
      ]
    },
    {
      "cell_type": "code",
      "execution_count": null,
      "id": "5c7e6460",
      "metadata": {
        "hidden": true,
        "id": "5c7e6460"
      },
      "outputs": [],
      "source": [
        "# Gerando identificadores numéricos para os trimestres\n",
        "df['trimestre'] = df['mes'].apply(lambda data: periodo_ano(data)[0])\n",
        "\n",
        "# Gerando identificadores numéricos para os semestres\n",
        "df['semestre'] = df['mes'].apply(lambda data: periodo_ano(data)[1])\n",
        "\n",
        "# Gerando identificadores numéricos para os anos\n",
        "df['ano'] = df['data_emissao'].apply(lambda data: data.year)"
      ]
    },
    {
      "cell_type": "code",
      "execution_count": null,
      "id": "29a8468d",
      "metadata": {
        "hidden": true,
        "id": "29a8468d"
      },
      "outputs": [],
      "source": [
        "# Gerando identificadores de trimestre-semestre-ano\n",
        "df['trimestre_semestre_ano'] = (df['trimestre'].astype(str) \n",
        "                                + '-'  + df['semestre'].astype(str) \n",
        "                                + '-' + df['ano'].astype(str))"
      ]
    },
    {
      "cell_type": "code",
      "execution_count": null,
      "id": "6143603d",
      "metadata": {
        "hidden": true,
        "id": "6143603d"
      },
      "outputs": [],
      "source": [
        "# Observando as variáveis criadas\n",
        "df.head()"
      ]
    },
    {
      "cell_type": "code",
      "execution_count": null,
      "id": "8a381482",
      "metadata": {
        "hidden": true,
        "id": "8a381482"
      },
      "outputs": [],
      "source": [
        "# Observando os dtypes\n",
        "df.dtypes"
      ]
    },
    {
      "cell_type": "code",
      "execution_count": null,
      "id": "eca805b8",
      "metadata": {
        "hidden": true,
        "id": "eca805b8"
      },
      "outputs": [],
      "source": [
        "# Criando labels para os meses\n",
        "labels_meses = {1: \"Jan\",\n",
        "                2: \"Fev\",\n",
        "                3: \"Mar\",\n",
        "                4: \"Apr\",\n",
        "                5: \"Mai\",\n",
        "                6: \"Jun\",\n",
        "                7: \"Jul\",\n",
        "                8: \"Ago\",\n",
        "                9: \"Sep\",\n",
        "                10: \"Out\",\n",
        "                11: \"Nov\",\n",
        "                12: \"Dez\"}\n",
        "                \n",
        "df['mes_label'] = df['mes'].apply(lambda numero_mes: labels_meses[numero_mes])"
      ]
    },
    {
      "cell_type": "code",
      "execution_count": null,
      "id": "262e2a92",
      "metadata": {
        "hidden": true,
        "id": "262e2a92"
      },
      "outputs": [],
      "source": [
        "# Observando as novas variáveis\n",
        "df.head()"
      ]
    },
    {
      "cell_type": "markdown",
      "id": "a8eb8ddf",
      "metadata": {
        "hidden": true,
        "id": "a8eb8ddf"
      },
      "source": [
        "Também é interessante termos uma variável responsável por relacionar os créditos retornados com o valor da nota fiscal:"
      ]
    },
    {
      "cell_type": "code",
      "execution_count": null,
      "id": "1c083811",
      "metadata": {
        "hidden": true,
        "id": "1c083811"
      },
      "outputs": [],
      "source": [
        "df['retorno_percentual'] = (df['creditos']/df['valor_nf'])*100"
      ]
    },
    {
      "cell_type": "code",
      "execution_count": null,
      "id": "fa8b1fe0",
      "metadata": {
        "hidden": true,
        "scrolled": true,
        "id": "fa8b1fe0"
      },
      "outputs": [],
      "source": [
        "# Observando as variáveis criadas\n",
        "df.head()"
      ]
    },
    {
      "cell_type": "markdown",
      "id": "515620a2",
      "metadata": {
        "heading_collapsed": true,
        "hidden": true,
        "tags": [],
        "id": "515620a2"
      },
      "source": [
        "### Explorando as variáveis"
      ]
    },
    {
      "cell_type": "markdown",
      "id": "b4447d7b",
      "metadata": {
        "heading_collapsed": true,
        "hidden": true,
        "jp-MarkdownHeadingCollapsed": true,
        "tags": [],
        "id": "b4447d7b"
      },
      "source": [
        "#### relação entre cnpj e emitente"
      ]
    },
    {
      "cell_type": "code",
      "execution_count": null,
      "id": "e964dc66",
      "metadata": {
        "hidden": true,
        "scrolled": true,
        "id": "e964dc66"
      },
      "outputs": [],
      "source": [
        "# Deixando apenas as observações únicas da combinação entre cnpj e emitente\n",
        "df_cnpj_emitente_unico = df.drop_duplicates(subset=['cnpj', 'emitente'])\n",
        "\n",
        "# Agrupando por emitente e verificando o número de associados a cada cnpj\n",
        "df_cnpj_emitente_unico.groupby('emitente')['cnpj'].count().sort_values(ascending=False)[:11]"
      ]
    },
    {
      "cell_type": "markdown",
      "id": "1ddfea59",
      "metadata": {
        "hidden": true,
        "id": "1ddfea59"
      },
      "source": [
        "Tomando a drogasil para estudo:"
      ]
    },
    {
      "cell_type": "code",
      "execution_count": null,
      "id": "85a79b9d",
      "metadata": {
        "hidden": true,
        "id": "85a79b9d"
      },
      "outputs": [],
      "source": [
        "df_cnpj_emitente_unico[df_cnpj_emitente_unico['emitente'] == 'RAIA DROGASIL S A'].head()"
      ]
    },
    {
      "cell_type": "markdown",
      "id": "6cd40220",
      "metadata": {
        "hidden": true,
        "id": "6cd40220"
      },
      "source": [
        "Observe que para um mesmo nome de emitente pode haver vários CNPJs, cada um destes representando uma loja distinta (verificado pelos bairros distintos, cada uma representando uma filial, pois id_matriz = 2)."
      ]
    },
    {
      "cell_type": "markdown",
      "id": "84c119b6",
      "metadata": {
        "heading_collapsed": true,
        "hidden": true,
        "jp-MarkdownHeadingCollapsed": true,
        "tags": [],
        "id": "84c119b6"
      },
      "source": [
        "#### situacao_credito"
      ]
    },
    {
      "cell_type": "code",
      "execution_count": null,
      "id": "163d80c2",
      "metadata": {
        "hidden": true,
        "id": "163d80c2"
      },
      "outputs": [],
      "source": [
        "df['situacao_credito'].value_counts()"
      ]
    },
    {
      "cell_type": "code",
      "execution_count": null,
      "id": "77c85bef",
      "metadata": {
        "hidden": true,
        "id": "77c85bef"
      },
      "outputs": [],
      "source": [
        "# Note que situações de crédito\n",
        "df.loc[df['situacao_credito'] != 'Liberado', 'creditos'].unique()"
      ]
    },
    {
      "cell_type": "markdown",
      "id": "562d8277",
      "metadata": {
        "hidden": true,
        "id": "562d8277"
      },
      "source": [
        "Apesar de existirem valores de créditos diferentes de zero para as outras categorias diferentes de \"Liberado\", nesta análise iremos considerar apenas aquelas observações cujos créditos já estão com o status de liberado:"
      ]
    },
    {
      "cell_type": "code",
      "execution_count": null,
      "id": "79c1093b",
      "metadata": {
        "hidden": true,
        "id": "79c1093b"
      },
      "outputs": [],
      "source": [
        "df = df[df['situacao_credito'] == 'Liberado'] \n",
        "df.shape"
      ]
    },
    {
      "cell_type": "markdown",
      "id": "95b2a68d",
      "metadata": {
        "heading_collapsed": true,
        "hidden": true,
        "jp-MarkdownHeadingCollapsed": true,
        "tags": [],
        "id": "95b2a68d"
      },
      "source": [
        "#### situacao_cadastral"
      ]
    },
    {
      "cell_type": "code",
      "execution_count": null,
      "id": "41dc29b1",
      "metadata": {
        "hidden": true,
        "scrolled": true,
        "id": "41dc29b1"
      },
      "outputs": [],
      "source": [
        "# Observando a frequência de cada categoria\n",
        "df.situacao_cadastral.value_counts()"
      ]
    },
    {
      "cell_type": "code",
      "execution_count": null,
      "id": "30602b1e",
      "metadata": {
        "hidden": true,
        "id": "30602b1e"
      },
      "outputs": [],
      "source": [
        "# Será que todas as situações cadastrais conseguem retornar créditos diferentes de 0?\n",
        "df[df.creditos != 0].groupby('situacao_cadastral')['creditos'].count()"
      ]
    },
    {
      "cell_type": "markdown",
      "id": "35ec0957",
      "metadata": {
        "heading_collapsed": true,
        "hidden": true,
        "jp-MarkdownHeadingCollapsed": true,
        "tags": [],
        "id": "35ec0957"
      },
      "source": [
        "#### bairro"
      ]
    },
    {
      "cell_type": "code",
      "execution_count": null,
      "id": "55585d04",
      "metadata": {
        "hidden": true,
        "id": "55585d04"
      },
      "outputs": [],
      "source": [
        "# Verificando os 10 bairros que mais registraram compras vinculadas a AMA\n",
        "df['bairro'].value_counts(ascending=False)[:20]"
      ]
    },
    {
      "cell_type": "code",
      "execution_count": null,
      "id": "e90e66a3",
      "metadata": {
        "hidden": true,
        "id": "e90e66a3"
      },
      "outputs": [],
      "source": [
        "# \"Titularizando\" o nome dos bairros\n",
        "df['bairro'] = df['bairro'].str.title()\n",
        "df['bairro'].head()"
      ]
    },
    {
      "cell_type": "markdown",
      "id": "16bf120a",
      "metadata": {
        "heading_collapsed": true,
        "hidden": true,
        "id": "16bf120a"
      },
      "source": [
        "#### descricao"
      ]
    },
    {
      "cell_type": "code",
      "execution_count": null,
      "id": "23dc9f15",
      "metadata": {
        "hidden": true,
        "id": "23dc9f15"
      },
      "outputs": [],
      "source": [
        "# Verificando os 10 setores que mais registraram compras vinculadas a AMA\n",
        "df['descricao'].value_counts(ascending=False)[:10]"
      ]
    },
    {
      "cell_type": "markdown",
      "id": "3215ba92",
      "metadata": {
        "hidden": true,
        "id": "3215ba92"
      },
      "source": [
        "Podemos dar uma melhorada no nome das categorias:"
      ]
    },
    {
      "cell_type": "code",
      "execution_count": null,
      "id": "06c52e45",
      "metadata": {
        "hidden": true,
        "id": "06c52e45"
      },
      "outputs": [],
      "source": [
        "# Quebrando as categorias por ' - '\n",
        "df['descricao'] = df['descricao'].str.split(' - ')"
      ]
    },
    {
      "cell_type": "code",
      "execution_count": null,
      "id": "0c11d637",
      "metadata": {
        "hidden": true,
        "id": "0c11d637"
      },
      "outputs": [],
      "source": [
        "# Selecionando só a parte de interesse \n",
        "df['descricao'] = df['descricao'].apply(lambda palavra: palavra[1] if len(palavra) == 2 else palavra[0])"
      ]
    },
    {
      "cell_type": "code",
      "execution_count": null,
      "id": "09e22b39",
      "metadata": {
        "hidden": true,
        "id": "09e22b39"
      },
      "outputs": [],
      "source": [
        "# Observando 20 categorias aleatórias\n",
        "df['descricao'].sample(20)"
      ]
    },
    {
      "cell_type": "code",
      "execution_count": null,
      "id": "c37fa704",
      "metadata": {
        "hidden": true,
        "id": "c37fa704"
      },
      "outputs": [],
      "source": [
        "# Mapeando as letras com acentos\n",
        "gregas_acentuadas = {'Θ': 'é', 'Ω': 'ê', 'ß': 'á',\n",
        "                     'Γ': 'â', 'φ': 'í', 'τ': 'ç',\n",
        "                     '⌡': 'õ', 'π': 'ã', '≤': 'ó'}\n",
        "\n",
        "# Corrigindo as letras regras\n",
        "for grega, acentuada in gregas_acentuadas.items():\n",
        "    df['descricao'] = df['descricao'].str.replace(grega, acentuada)\n",
        "\n",
        "# Verificando se deu certo\n",
        "df['descricao'].sample(20)"
      ]
    },
    {
      "cell_type": "code",
      "execution_count": null,
      "id": "ea6ef34e",
      "metadata": {
        "hidden": true,
        "id": "ea6ef34e"
      },
      "outputs": [],
      "source": [
        "# Removendo o trecho \"Comércio varejista de\"\n",
        "df['descricao'] = df['descricao'].str.replace('Comércio varejista de ', '')\n",
        "df['descricao'].sample(10)"
      ]
    },
    {
      "cell_type": "code",
      "execution_count": null,
      "id": "8282b88b",
      "metadata": {
        "hidden": true,
        "id": "8282b88b"
      },
      "outputs": [],
      "source": [
        "# Colocando a primeira letra da categoria como maiúscula\n",
        "df['descricao'] = df['descricao'].str.capitalize()\n",
        "df['descricao'].sample(10)"
      ]
    },
    {
      "cell_type": "markdown",
      "id": "32bafdb8",
      "metadata": {
        "heading_collapsed": true,
        "hidden": true,
        "id": "32bafdb8"
      },
      "source": [
        "#### creditos e retorno percentual"
      ]
    },
    {
      "cell_type": "markdown",
      "id": "0dae6ca2",
      "metadata": {
        "hidden": true,
        "id": "0dae6ca2"
      },
      "source": [
        "Verificando a boxplot da variável retorno_percentual:"
      ]
    },
    {
      "cell_type": "code",
      "execution_count": null,
      "id": "0fd5cdc9",
      "metadata": {
        "hidden": true,
        "id": "0fd5cdc9"
      },
      "outputs": [],
      "source": [
        "sns.boxplot(data=df, y='retorno_percentual')"
      ]
    },
    {
      "cell_type": "code",
      "execution_count": null,
      "id": "401211b4",
      "metadata": {
        "hidden": true,
        "id": "401211b4"
      },
      "outputs": [],
      "source": [
        "# Visualizando as linhas com outliers acima de 80000%\n",
        "display(df[df['retorno_percentual'] > 80000])\n",
        "\n",
        "# Filtrando o df\n",
        "df = df[df['retorno_percentual'] < 80000]"
      ]
    },
    {
      "cell_type": "markdown",
      "id": "83046fd6",
      "metadata": {
        "hidden": true,
        "id": "83046fd6"
      },
      "source": [
        "Como crédito é a principal variável de interesse, irei separar esta análise de acordo com sua relação com as demais variáveis."
      ]
    },
    {
      "cell_type": "code",
      "execution_count": null,
      "id": "2c698040",
      "metadata": {
        "hidden": true,
        "id": "2c698040"
      },
      "outputs": [],
      "source": [
        "df.dtypes"
      ]
    },
    {
      "cell_type": "markdown",
      "id": "be98f905",
      "metadata": {
        "hidden": true,
        "id": "be98f905"
      },
      "source": [
        "**1) Mostre a evolução temporal dos créditos de acordo com o período de tempo da base**"
      ]
    },
    {
      "cell_type": "code",
      "execution_count": null,
      "id": "ecde95fc",
      "metadata": {
        "hidden": true,
        "id": "ecde95fc"
      },
      "outputs": [],
      "source": [
        "df1 = df[[\"ano\",\"creditos\"]].groupby(\"ano\", as_index=False).agg(\"sum\").sort_values('ano', ascending=False)"
      ]
    },
    {
      "cell_type": "code",
      "execution_count": null,
      "id": "f72851a1-1226-4045-8dc9-e3e8c08bd722",
      "metadata": {
        "hidden": true,
        "id": "f72851a1-1226-4045-8dc9-e3e8c08bd722"
      },
      "outputs": [],
      "source": [
        "janela, figura = plt.subplots(1, 1, figsize=(10, 6))\n",
        "\n",
        "sns.barplot(ax=figura, data=df1, x='ano', y='creditos', palette='viridis')\n",
        "\n",
        "# Configurações\n",
        "figura.set_yticklabels(df1['creditos'], fontsize=15)\n",
        "figura.set_ylabel('Créditos ao longo do ano', fontsize=15)\n",
        "\n",
        "min_x = round(df1['ano'].min()*0.8)\n",
        "max_x = round(df1['ano'].max()*1.05)\n",
        "delta_x = round((max_x - min_x)/8)\n",
        "figura.set_xlim(min_x, max_x)\n",
        "figura.set_xticklabels(list(range(min_x, max_x, delta_x)), fontsize=15)\n",
        "figura.set_xlabel('Créditos gerados', fontsize=15)\n",
        "\n",
        "# Configurações da janela\n",
        "janela.suptitle('Créditos gerados para a AMA ao longo dos anos',\n",
        "                fontsize=18, x=0.5, y=0.95, weight='medium')\n",
        "\n",
        "plt.show()\n",
        "plt.savefig('1.jpeg')"
      ]
    },
    {
      "cell_type": "markdown",
      "id": "2199cef9",
      "metadata": {
        "hidden": true,
        "id": "2199cef9"
      },
      "source": [
        "**2) Mostre quais foram os 10 setores que mais contribuíram com a AMA**"
      ]
    },
    {
      "cell_type": "markdown",
      "id": "8673ea92",
      "metadata": {
        "hidden": true,
        "id": "8673ea92"
      },
      "source": [
        "Considerando todo o período de tempo da base, temos:"
      ]
    },
    {
      "cell_type": "code",
      "execution_count": null,
      "id": "5c34b1ca",
      "metadata": {
        "hidden": true,
        "id": "5c34b1ca"
      },
      "outputs": [],
      "source": [
        "df2 = df.groupby(by='descricao', as_index=False)['creditos'].sum().sort_values('creditos', ascending=False)[:10]\n",
        "df2"
      ]
    },
    {
      "cell_type": "code",
      "execution_count": null,
      "id": "82086e22",
      "metadata": {
        "hidden": true,
        "id": "82086e22"
      },
      "outputs": [],
      "source": [
        "# Gerando a região do plot\n",
        "janela, grafico = plt.subplots(1, 1, figsize=(12, 10))\n",
        "\n",
        "# Realizando o plot de barras na região de gráfico criada\n",
        "sns.barplot(data=df2, x='creditos', y='descricao', orient='h', palette='viridis', ax=grafico)\n",
        "\n",
        "# Configurações\n",
        "grafico.set_yticklabels(df2['descricao'], fontsize=15)\n",
        "grafico.set_ylabel('Setor', fontsize=15)\n",
        "\n",
        "min_x = round(df2['creditos'].min()*0.8)\n",
        "max_x = round(df2['creditos'].max()*1.05)\n",
        "delta_x = round((max_x - min_x)/8)\n",
        "grafico.set_xlim(min_x, max_x)\n",
        "grafico.set_xticklabels(list(range(min_x, max_x, delta_x)), fontsize=15)\n",
        "grafico.set_xlabel('Créditos gerados', fontsize=15)\n",
        "\n",
        "# Configurações da janela\n",
        "janela.suptitle('Setores que mais geraram créditos para a AMA entre 2017 e 2022',\n",
        "                fontsize=18, x=0.2, y=0.95, weight='medium')\n",
        "\n",
        "plt.show()"
      ]
    },
    {
      "cell_type": "markdown",
      "id": "785cc7ec",
      "metadata": {
        "hidden": true,
        "id": "785cc7ec"
      },
      "source": [
        "**3) Mostre quais foram os 10 bairros mais contribuíram com a AMA**"
      ]
    },
    {
      "cell_type": "code",
      "execution_count": null,
      "id": "3f1a7a8b",
      "metadata": {
        "hidden": true,
        "id": "3f1a7a8b"
      },
      "outputs": [],
      "source": [
        "df3 = df.groupby('bairro', as_index=False)['creditos'].sum().sort_values('creditos', ascending=False)[:10]\n",
        "df3"
      ]
    },
    {
      "cell_type": "code",
      "execution_count": null,
      "id": "15aaca3d",
      "metadata": {
        "hidden": true,
        "scrolled": true,
        "id": "15aaca3d"
      },
      "outputs": [],
      "source": [
        "# Gerando a região do plot\n",
        "janela, grafico = plt.subplots(1, 1, figsize=(12, 10))\n",
        "\n",
        "# Realizando o plot de barras na região de gráfico criada\n",
        "sns.barplot(data=df3, x='creditos', y='bairro', orient='h', palette='viridis', ax=grafico)\n",
        "\n",
        "# Configurações\n",
        "grafico.set_yticklabels(df3['bairro'], fontsize=15)\n",
        "grafico.set_ylabel('Bairros', fontsize=15)\n",
        "\n",
        "min_x = round(df3['creditos'].min()*0.8)\n",
        "max_x = round(df3['creditos'].max()*1.05) + 100\n",
        "delta_x = round((max_x - min_x)/8)\n",
        "grafico.set_xlim(min_x, max_x)\n",
        "grafico.set_xticklabels(list(range(min_x, max_x, delta_x)), fontsize=15)\n",
        "grafico.set_xlabel('Créditos gerados', fontsize=15)\n",
        "\n",
        "# Configurações da janela\n",
        "janela.suptitle('Bairros que mais geraram créditos para a AMA entre 2017 e 2022',\n",
        "                fontsize=18, x=0.5, y=0.95)\n",
        "\n",
        "plt.show()"
      ]
    },
    {
      "cell_type": "code",
      "execution_count": null,
      "id": "b35b1618",
      "metadata": {
        "hidden": true,
        "id": "b35b1618"
      },
      "outputs": [],
      "source": [
        "df['descricao'].nunique()"
      ]
    },
    {
      "cell_type": "markdown",
      "id": "c0c26a4e",
      "metadata": {
        "hidden": true,
        "id": "c0c26a4e"
      },
      "source": [
        "**4) Mostre quais foram as 10 compras que tiveram um maior retorno percentual - PODE SER SÓ A TABELA**"
      ]
    },
    {
      "cell_type": "code",
      "execution_count": null,
      "id": "30014a11",
      "metadata": {
        "hidden": true,
        "id": "30014a11"
      },
      "outputs": [],
      "source": [
        "selecionadas_4 = ['emitente', 'bairro', 'valor_nf', 'creditos', 'retorno_percentual']\n",
        "df4 = df.sort_values('retorno_percentual', ascending=False)[selecionadas_4][:10]\n",
        "df4"
      ]
    },
    {
      "cell_type": "code",
      "execution_count": null,
      "id": "7a7d59d6",
      "metadata": {
        "hidden": true,
        "id": "7a7d59d6"
      },
      "outputs": [],
      "source": [
        "sns.boxplot(x=df['retorno_percentual'])"
      ]
    },
    {
      "cell_type": "code",
      "execution_count": null,
      "id": "747420de",
      "metadata": {
        "hidden": true,
        "id": "747420de"
      },
      "outputs": [],
      "source": [
        "# Gerando a região do plot\n",
        "janela, grafico = plt.subplots(2, 1, figsize=(15, 20))\n",
        "\n",
        "## Primeiro plot: Gráfico de barras relacionando o valor da compra com o retorno percentual\n",
        "# Realizando o plot de barras na região de gráfico criada\n",
        "sns.barplot(data=df4, x='creditos', y='retorno_percentual', orient='v', palette='viridis', ax=grafico[1])\n",
        "\n",
        "# # Configurações\n",
        "# grafico[1].set_yticks(df4['retorno_percentual'])\n",
        "# grafico[1].set_yticklabels(df4['retorno_percentual'].values, fontsize=15)\n",
        "# grafico[1].set_ylabel('Retorno percentual', fontsize=15)\n",
        "\n",
        "# min_x = round(df4['creditos'].min()*0.8)\n",
        "# max_x = round(df4['creditos'].max()*1.05)\n",
        "# print(grafico[1].set_xlim())\n",
        "# grafico[1].set_xlim(min_x, max_x)\n",
        "# grafico[1].set_xticklabels(list(range(min_x, max_x, delta_x)), fontsize=15)\n",
        "# grafico[1].set_xlabel('Créditos gerados', fontsize=15)\n",
        "\n",
        "# # Configurações da janela\n",
        "# janela.suptitle('saída',\n",
        "#                 fontsize=18, x=0.5, y=0.95)\n",
        "\n",
        "plt.show()"
      ]
    },
    {
      "cell_type": "markdown",
      "id": "7332f0b1",
      "metadata": {
        "hidden": true,
        "id": "7332f0b1"
      },
      "source": [
        "**5) Quais são os setores que mais contribuiram com a AMA ao longo do tempo total?**"
      ]
    },
    {
      "cell_type": "code",
      "execution_count": null,
      "id": "d7ebd829",
      "metadata": {
        "hidden": true,
        "id": "d7ebd829"
      },
      "outputs": [],
      "source": [
        "# df_sep_a= filtered_df.groupby([pd.Grouper(key='Ano')]).agg({'Créditos': 'sum'})\n",
        "# df_sep_a=df_sep_a.reset_index(drop=False)\n",
        "# fig = px.bar(df_sep_a, x=\"Ano\", y=\"Créditos\", color=\"Créditos\", title=\"Soma de Créditos por ano\",color_continuous_scale=px.colors.sequential.Viridis)\n",
        "# fig.show()"
      ]
    },
    {
      "cell_type": "code",
      "execution_count": null,
      "id": "47451632",
      "metadata": {
        "hidden": true,
        "id": "47451632"
      },
      "outputs": [],
      "source": [
        "# segmento_full = df_completo.groupby(\"descricao\").agg({\"valor_nf\": lambda x:x.mean(),\n",
        "#                                                       \"creditos\": lambda x:x.mean(),\n",
        "#                                                       \"id_matriz\": lambda x:x.mean(),\n",
        "#                                                       \"emitente\": lambda x:x.mode(),\n",
        "#                                                       \"situacao_credito\": lambda x:x.mode(),\n",
        "#                                                       \"bairro\": lambda x:x.mode()}).sort_values(by=\"creditos\", ascending=False).iloc[:10]"
      ]
    },
    {
      "cell_type": "code",
      "execution_count": null,
      "id": "6416fa14",
      "metadata": {
        "hidden": true,
        "id": "6416fa14"
      },
      "outputs": [],
      "source": [
        "# fig = plt.figure()\n",
        "# bar = ''\n",
        "# def buildmebarchart(i=int):\n",
        "#     iv = min(i, len(df1.index)-1) #the loop iterates an extra one time, which causes the dataframes to go out of bounds. This was the easiest (most lazy) way to solve this :)\n",
        "#     objects = df1.max().index\n",
        "#     y_pos = np.arange(len(objects))\n",
        "#     performance = df1.iloc[[iv]].values.tolist()[0]\n",
        "#     if bar == 'vertical':\n",
        "#         plt.bar(y_pos, performance, align='center', color=['red', 'green', 'blue', 'orange'])\n",
        "#         plt.xticks(y_pos, objects)\n",
        "#         plt.ylabel('Deaths')\n",
        "#         plt.xlabel('Countries')\n",
        "#         plt.title('Deaths per Country \\n' + str(df1.index[iv].strftime('%y-%m-%d')))\n",
        "#     else:\n",
        "#         plt.barh(y_pos, performance, align='center', color=['red', 'green', 'blue', 'orange'])\n",
        "#         plt.yticks(y_pos, objects)\n",
        "#         plt.xlabel('Deaths')\n",
        "#         plt.ylabel('Countries')\n",
        "# animator = ani.FuncAnimation(fig, buildmebarchart, interval=100)\n",
        "# plt.show()"
      ]
    },
    {
      "cell_type": "code",
      "execution_count": null,
      "id": "2325ac8e",
      "metadata": {
        "hidden": true,
        "scrolled": true,
        "id": "2325ac8e"
      },
      "outputs": [],
      "source": [
        "df_5 = df.groupby(['descricao', 'trimestre_semestre_ano'], as_index=False)['creditos'].sum()"
      ]
    },
    {
      "cell_type": "code",
      "execution_count": null,
      "id": "c94dee5f",
      "metadata": {
        "hidden": true,
        "scrolled": true,
        "id": "c94dee5f"
      },
      "outputs": [],
      "source": [
        "df_5.head()"
      ]
    },
    {
      "cell_type": "code",
      "execution_count": null,
      "id": "85a8b719",
      "metadata": {
        "hidden": true,
        "scrolled": true,
        "id": "85a8b719"
      },
      "outputs": [],
      "source": [
        "params = {'legend.fontsize': '20',\n",
        "          'figure.figsize': (80, 30),\n",
        "         'axes.labelsize': '15',\n",
        "         'axes.titlesize':'x-large',\n",
        "         'xtick.labelsize':'35',\n",
        "         'ytick.labelsize':'35'}\n",
        "plt.rcParams.update(params)\n",
        "\n",
        "# Gerando a estrutura com matplotlib\n",
        "janela, graficos = plt.subplots(3, 2)\n",
        "janela.subplots_adjust(hspace=None)\n",
        "\n",
        "# Criando uma nova variável\n",
        "df_5['trimestre'] = df_5['trimestre_semestre_ano'].str.split('-').apply(lambda linha: linha[0]).astype(int)\n",
        "df_5['ano'] = df_5['trimestre_semestre_ano'].str.split('-').apply(lambda linha: linha[2]).astype(int)\n",
        "\n",
        "# Pegando uma seção da base\n",
        "recorte_df5 = df_5[df_5['creditos'] != 0]\n",
        "\n",
        "# Fazendo o plot \n",
        "sns.barplot(x=\"creditos\", y=\"descricao\", data=recorte_df5[recorte_df5['ano'] == 2017][:10],\n",
        "            hue='trimestre', orient='h', ax=graficos[0, 0], )\n",
        "    \n",
        "\n",
        "# Configurações\n",
        "graficos[0, 0].set_xlabel('Eixo x')\n",
        "graficos[0, 0].set_ylabel('Eixo y')\n",
        "graficos[0, 0].set_title('Título')\n",
        "janela.suptitle('Título da janela', fontsize='20')\n",
        "\n",
        "# Fazendo o plot \n",
        "sns.barplot(x=\"creditos\", y=\"descricao\", data=recorte_df5[recorte_df5['ano'] == 2018][:10],\n",
        "            hue='trimestre', orient='h', ax=graficos[0, 1])\n",
        "    \n",
        "\n",
        "# Configurações\n",
        "graficos[0, 1].set_xlabel('Eixo x')\n",
        "graficos[0, 1].set_ylabel('Eixo y')\n",
        "graficos[0, 1].set_title('Título')\n",
        "\n",
        "# Fazendo o plot \n",
        "sns.barplot(x=\"creditos\", y=\"descricao\", data=recorte_df5[recorte_df5['ano'] == 2019][:10],\n",
        "            hue='trimestre', orient='h', ax=graficos[1, 0])\n",
        "    \n",
        "\n",
        "# Configurações\n",
        "graficos[1, 0].set_xlabel('Eixo x')\n",
        "graficos[1, 0].set_ylabel('Eixo y')\n",
        "graficos[1, 0].set_title('Título')\n",
        "\n",
        "# Fazendo o plot \n",
        "sns.barplot(x=\"creditos\", y=\"descricao\", data=recorte_df5[recorte_df5['ano'] == 2020][:10],\n",
        "            hue='trimestre', orient='h', ax=graficos[1, 1])\n",
        "    \n",
        "\n",
        "# Configurações\n",
        "graficos[1, 1].set_xlabel('Eixo x')\n",
        "graficos[1, 1].set_ylabel('Eixo y')\n",
        "graficos[1, 1].set_title('Título')\n",
        "\n",
        "# Fazendo o plot \n",
        "sns.barplot(x=\"creditos\", y=\"descricao\", data=recorte_df5[recorte_df5['ano'] == 2021][:10],\n",
        "            hue='trimestre', orient='h', ax=graficos[2, 0])\n",
        "    \n",
        "\n",
        "# Configurações\n",
        "graficos[2, 0].set_xlabel('Eixo x')\n",
        "#graficos[2, 0].set_xticklabels(size='12')\n",
        "graficos[2, 0].set_ylabel('Eixo y')\n",
        "graficos[2, 0].set_title('Título')\n",
        "janela.suptitle('Título da janela', fontsize='20')\n",
        "\n",
        "plt.tight_layout()\n",
        "janela.savefig('saida.jpeg')"
      ]
    },
    {
      "cell_type": "code",
      "execution_count": null,
      "id": "85fe9f1d",
      "metadata": {
        "hidden": true,
        "id": "85fe9f1d"
      },
      "outputs": [],
      "source": [
        "df_5['trimestre'] = df_5['trimestre_semestre_ano'].str.split('-').apply(lambda linha: linha[0])"
      ]
    },
    {
      "cell_type": "code",
      "execution_count": null,
      "id": "1742e23e",
      "metadata": {
        "hidden": true,
        "id": "1742e23e"
      },
      "outputs": [],
      "source": [
        "df['data_emissao'].value_counts(ascending=False)"
      ]
    },
    {
      "cell_type": "code",
      "execution_count": null,
      "id": "b665eee4",
      "metadata": {
        "hidden": true,
        "id": "b665eee4"
      },
      "outputs": [],
      "source": [
        "recorte_df5 = df_5[df_5['creditos'] != 0]\n",
        "\n",
        "sns.barplot(x=\"creditos\", y=\"descricao\", data=recorte_df5[:20], hue='trimestre', orient='h')"
      ]
    },
    {
      "cell_type": "code",
      "execution_count": null,
      "id": "9ff269a7",
      "metadata": {
        "hidden": true,
        "id": "9ff269a7"
      },
      "outputs": [],
      "source": [
        "# filtered_df.groupby([pd.Grouper(key='Data Registro', freq='m')]).agg({'Créditos': 'sum'})\n",
        "\n",
        "\n",
        "df_5 = df.groupby([pd.Grouper(key='data_emissao', freq='m')]).agg({'creditos': 'sum'})\n",
        "df_5[:20]\n",
        "\n",
        "df_5 = df_5.groupby(['descricacao',''], as_index=False)['quantity'].sum()"
      ]
    },
    {
      "cell_type": "code",
      "execution_count": null,
      "id": "29107517",
      "metadata": {
        "hidden": true,
        "id": "29107517"
      },
      "outputs": [],
      "source": [
        "df = df.groupby(['id','product'], as_index=False)['quantity'].sum()"
      ]
    },
    {
      "cell_type": "code",
      "execution_count": null,
      "id": "898cc388",
      "metadata": {
        "hidden": true,
        "id": "898cc388"
      },
      "outputs": [],
      "source": [
        ""
      ]
    },
    {
      "cell_type": "code",
      "execution_count": null,
      "id": "ad4f7c45",
      "metadata": {
        "hidden": true,
        "id": "ad4f7c45"
      },
      "outputs": [],
      "source": [
        ""
      ]
    },
    {
      "cell_type": "markdown",
      "id": "b9d43663",
      "metadata": {
        "hidden": true,
        "id": "b9d43663"
      },
      "source": [
        "**7) Quais são os setores que não geram créditos?**"
      ]
    },
    {
      "cell_type": "code",
      "execution_count": null,
      "id": "f97e06e8",
      "metadata": {
        "hidden": true,
        "id": "f97e06e8"
      },
      "outputs": [],
      "source": [
        "df_7 = df.groupby('descricao')['creditos'].sum()[df.groupby('descricao')['creditos'].sum() == 0]\n",
        "df_7"
      ]
    },
    {
      "cell_type": "markdown",
      "id": "4ad126ed",
      "metadata": {
        "hidden": true,
        "id": "4ad126ed"
      },
      "source": [
        "**8) Quais foram as 10 lojas que mais contribuiram com a AMA? Faça uma análise ao longo de todo o tempo, e em seguida faça a mesma análise por ano.**"
      ]
    },
    {
      "cell_type": "code",
      "execution_count": null,
      "id": "01212185",
      "metadata": {
        "hidden": true,
        "id": "01212185"
      },
      "outputs": [],
      "source": [
        "df_8 = df.groupby('emitente')['creditos'].sum().sort_values(ascending=False)\n",
        "df_8.head()"
      ]
    },
    {
      "cell_type": "markdown",
      "id": "130f0eea",
      "metadata": {
        "hidden": true,
        "id": "130f0eea"
      },
      "source": [
        "**9) O valor da compra influencia a pessoa a registrar o CPF na hora da compra?**"
      ]
    },
    {
      "cell_type": "code",
      "execution_count": null,
      "id": "407908b5",
      "metadata": {
        "hidden": true,
        "id": "407908b5"
      },
      "outputs": [],
      "source": [
        "df_9 = df[df['descricao'] == 'ComΘrcio varejista de artigos de ≤ptica']\n",
        "df_9[df['creditos'] == 0]"
      ]
    },
    {
      "cell_type": "markdown",
      "id": "78326dc0",
      "metadata": {
        "hidden": true,
        "id": "78326dc0"
      },
      "source": [
        "**10) Calcule o quanto poderia ter sido revertido em dinheiro para a AMA com as compras que não tiveram o CPF vinculado (NÃO SEI SE É POSSÍVEL DETERMINAR. INVESTIGAR...).**"
      ]
    },
    {
      "cell_type": "code",
      "execution_count": null,
      "id": "d6913d6a",
      "metadata": {
        "hidden": true,
        "id": "d6913d6a"
      },
      "outputs": [],
      "source": [
        "#0c185c\n",
        "#0065ab\n",
        "#00b3d2\n",
        "#4affd8"
      ]
    },
    {
      "cell_type": "markdown",
      "id": "9f761f67",
      "metadata": {
        "hidden": true,
        "id": "9f761f67"
      },
      "source": [
        "**11) Quais os meses onde a arrecadação foi maior?** "
      ]
    },
    {
      "cell_type": "code",
      "execution_count": null,
      "id": "8844ac38",
      "metadata": {
        "hidden": true,
        "id": "8844ac38"
      },
      "outputs": [],
      "source": [
        ""
      ]
    }
  ],
  "metadata": {
    "kernelspec": {
      "display_name": "Python 3 (ipykernel)",
      "language": "python",
      "name": "python3"
    },
    "language_info": {
      "codemirror_mode": {
        "name": "ipython",
        "version": 3
      },
      "file_extension": ".py",
      "mimetype": "text/x-python",
      "name": "python",
      "nbconvert_exporter": "python",
      "pygments_lexer": "ipython3",
      "version": "3.10.4"
    },
    "colab": {
      "name": "ama.ipynb",
      "provenance": [],
      "toc_visible": true,
      "include_colab_link": true
    }
  },
  "nbformat": 4,
  "nbformat_minor": 5
}