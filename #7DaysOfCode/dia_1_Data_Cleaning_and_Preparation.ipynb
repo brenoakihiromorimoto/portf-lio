{
  "nbformat": 4,
  "nbformat_minor": 0,
  "metadata": {
    "colab": {
      "name": "#7DaysOfCode - Ciência de Dados 1/7: Data Cleaning and Preparation.ipynb",
      "provenance": [],
      "collapsed_sections": [
        "JUPJl3Z0cJ30",
        "YUWWlRG4dblV"
      ],
      "machine_shape": "hm",
      "toc_visible": true,
      "authorship_tag": "ABX9TyPaJs9MfOufE45nDn0FBik7",
      "include_colab_link": true
    },
    "kernelspec": {
      "name": "python3",
      "display_name": "Python 3"
    },
    "language_info": {
      "name": "python"
    }
  },
  "cells": [
    {
      "cell_type": "markdown",
      "metadata": {
        "id": "view-in-github",
        "colab_type": "text"
      },
      "source": [
        "<a href=\"https://colab.research.google.com/github/brenoakihiromorimoto/portf-lio/blob/main/%237DaysOfCode/dia_1_Data_Cleaning_and_Preparation.ipynb\" target=\"_parent\"><img src=\"https://colab.research.google.com/assets/colab-badge.svg\" alt=\"Open In Colab\"/></a>"
      ]
    },
    {
      "cell_type": "markdown",
      "source": [
        "# #7DaysOfCode - Ciência de Dados 1/7: Data Cleaning and Preparation\n",
        "Antes de começar, me responda uma pergunta: com o que você acha que Data Scientists gastam mais tempo durante seu trabalho?\n",
        "\n",
        "Eu queria poder mentir pra você e dizer que passamos a maior parte do nosso tempo criando modelos altamente complexos e brincando com o que há de mais avançado tecnologicamente.\n",
        "\n",
        "Eu queria, ainda, poder dizer que as bases de dados que você irá trabalhar já estão limpas, bem processadas e prontas para que você possa criar visualizações e análises poderosas.\n",
        "\n",
        "Mas, na verdade, não é bem isso. O que passamos a maior parte do tempo fazendo é a preparação do dado, mais especificamente nas partes de limpeza e transformação.\n",
        "\n",
        "Em uma pesquisa com cerca de 80 cientistas de dados, as etapas de preparação de dados foram responsáveis por consumir mais de 80% do tempo deles, reforçando a necessidade de desenvolver a habilidade de tratar dados e deixá-los prontos para a parte mais divertida: criar modelos e análises.\n",
        "\n",
        "Por isso, quero te dar um ótimo desafio para desenvolver e aprimorar essa skill tão importante para toda pessoa cientista de dados.\n",
        "\n",
        "Neste primeiro dia, eu te proponho baixar um dataset do portal do CEAPS (Cota para Exercício da Atividade Parlamentar dos Senadores) e aplicar processos de tratamento e limpeza de dados nele (processo conhecido como Data Wrangling).\n",
        "\n",
        "Basicamente, o CEAPS contém todos os gastos que senadores brasileiros declararam, divididos por ano.\n",
        "\n",
        "Esse tipo de dado é tão importante que já criou várias iniciativas interessantes, como a Operação Serenata de Amor, que aplica Inteligência Artificial para analisar gastos de deputados brasileiros, e que já foi capaz de identificar vários usos indevidos do dinheiro público.\n",
        "\n",
        "Imagina as coisas que você pode criar!\n",
        "\n",
        "Os dados do CEAPS contêm uma série de problemas que podem dificultar a criação de análises mais aprofundadas.\n",
        "\n",
        "Uma das primeiras coisas que você pode fazer é identificar tais inconsistências, como campos que possuem valores nulos ou duplicados, converter campos de data que estão sendo carregados como texto, corrigir valores monetários, nomes incorretos, formatar campos de CNPJ, etc.\n",
        "DICA\n",
        "Os dados do CEAPS estão divididos por ano.\n",
        "\n",
        "Que tal juntar dados de vários anos em um grande dataset e aplicar técnicas de limpeza e processamento dos dados?\n",
        "\n",
        "Você poderia pegar dados dos últimos quatro anos e aplicar o que usou nesse exercício.\n",
        "\n",
        "Além disso, também proponho que você documente o seu processo de tratamento dos dados (pode ser no próprio Jupyter Notebook). Assim, qualquer pessoa que consumir o seu trabalho saberá qual foi sua intuição e as técnicas utilizadas, além de facilitar a reprodutibilidade.\n",
        "\n",
        "Tire o maior proveito possível dos comentários no código!\n",
        "\n",
        "Não existe uma receita de bolo para quais técnicas utilizar na limpeza de dados, isso varia de projeto para projeto. Contudo, existem algumas coisas que você pode fazer inicialmente.\n",
        "\n",
        "Lidar com dados nulos (deletar ou imputar um valor novo, por exemplo); remover colunas que não trazem nenhuma informação; processar datas que estão em formato incorreto; alterar o tipo da coluna (uma coluna que é numérica está como texto no Pandas); remover duplicados; dentre outras.\n",
        "\n",
        "Esse post da Tableau traz algumas dicas sobre técnicas que você pode utilizar."
      ],
      "metadata": {
        "id": "bQ0Af8X5qdV1"
      }
    },
    {
      "cell_type": "markdown",
      "source": [
        "# Importar Bibliotecas"
      ],
      "metadata": {
        "id": "y9wA8wWepQ7Z"
      }
    },
    {
      "cell_type": "code",
      "execution_count": null,
      "metadata": {
        "id": "FIgb_MWYnk6s",
        "colab": {
          "base_uri": "https://localhost:8080/"
        },
        "outputId": "77cef602-814e-43c0-a4f6-b2171896c044"
      },
      "outputs": [
        {
          "output_type": "stream",
          "name": "stdout",
          "text": [
            "Drive already mounted at /gdrive; to attempt to forcibly remount, call drive.mount(\"/gdrive\", force_remount=True).\n"
          ]
        }
      ],
      "source": [
        "from google.colab import drive\n",
        "drive.mount('/gdrive')\n",
        "\n",
        "import numpy as np\n",
        "import pandas as pd\n",
        "import matplotlib.pyplot as plt\n",
        "import seaborn as sn"
      ]
    },
    {
      "cell_type": "markdown",
      "source": [
        "# Datasets de despesas de cota parlamentar dos senadores.\n",
        "* Os datasets analisados foram entre 2019-2022.\n",
        "* Detectar o tipo de encoding dos datasets."
      ],
      "metadata": {
        "id": "uCtm4pSDpJV-"
      }
    },
    {
      "cell_type": "markdown",
      "source": [
        "## Detectar o tipo de encoding dos datasets."
      ],
      "metadata": {
        "id": "hWoqmHyP4hTh"
      }
    },
    {
      "cell_type": "code",
      "source": [
        "import chardet\n",
        "\n",
        "link = \"/gdrive/MyDrive/Colab Notebooks/#7DaysOfCode/\"\n",
        "\n",
        "nome_datasets = [\"despesa_ceaps_2019.csv\",\n",
        "                 \"despesa_ceaps_2020.csv\",\n",
        "                 \"despesa_ceaps_2021.csv\",\n",
        "                 \"despesa_ceaps_2022.csv\"]\n",
        "for dataset in nome_datasets:\n",
        "  with open(link+dataset, 'rb') as rawdata:\n",
        "      result = chardet.detect(rawdata.read(1000000))\n",
        "      print(result)"
      ],
      "metadata": {
        "id": "gUfjPAhSpz9r",
        "colab": {
          "base_uri": "https://localhost:8080/"
        },
        "outputId": "1a8122ed-c7e1-466d-e762-7f8a4e991203"
      },
      "execution_count": null,
      "outputs": [
        {
          "output_type": "stream",
          "name": "stdout",
          "text": [
            "{'encoding': 'ISO-8859-1', 'confidence': 0.73, 'language': ''}\n",
            "{'encoding': 'ISO-8859-1', 'confidence': 0.73, 'language': ''}\n",
            "{'encoding': 'ISO-8859-1', 'confidence': 0.73, 'language': ''}\n",
            "{'encoding': 'Windows-1252', 'confidence': 0.73, 'language': ''}\n"
          ]
        }
      ]
    },
    {
      "cell_type": "markdown",
      "source": [
        "* O encoding do despesa_ceaps_2019 até despesa_ceaps_2021 é 'ISO-8859-1'.\n",
        "* O encoding do despesa_ceaps_2022 é Windows-1252."
      ],
      "metadata": {
        "id": "JeWAtkbZwfrs"
      }
    },
    {
      "cell_type": "markdown",
      "source": [
        "## Importar datasets"
      ],
      "metadata": {
        "id": "eVccLDc-4n8m"
      }
    },
    {
      "cell_type": "code",
      "source": [
        "despesa_ceaps_2019 = pd.read_csv(link+\"despesa_ceaps_2019.csv\", \n",
        "                                 encoding = 'ISO-8859-1',\n",
        "                                 error_bad_lines=True, sep=';', )\n",
        "\n",
        "despesa_ceaps_2020 = pd.read_csv(link+\"despesa_ceaps_2020.csv\", \n",
        "                                 encoding = 'ISO-8859-1',\n",
        "                                 error_bad_lines=True, sep=';')\n",
        "\n",
        "despesa_ceaps_2021 = pd.read_csv(link+\"despesa_ceaps_2021.csv\", \n",
        "                                 encoding = 'ISO-8859-1',\n",
        "                                 error_bad_lines=True, sep=';')\n",
        "\n",
        "despesa_ceaps_2022 = pd.read_csv(link+\"despesa_ceaps_2022.csv\", \n",
        "                                 encoding = 'Windows-1252',\n",
        "                                 error_bad_lines=True, sep=';')"
      ],
      "metadata": {
        "id": "3-k06bFun0F9",
        "colab": {
          "base_uri": "https://localhost:8080/"
        },
        "outputId": "f21b1e54-20f1-494a-bb6e-585bff3d8ab4"
      },
      "execution_count": null,
      "outputs": [
        {
          "output_type": "stream",
          "name": "stderr",
          "text": [
            "/usr/local/lib/python3.7/dist-packages/IPython/core/interactiveshell.py:2882: FutureWarning: The error_bad_lines argument has been deprecated and will be removed in a future version.\n",
            "\n",
            "\n",
            "  exec(code_obj, self.user_global_ns, self.user_ns)\n"
          ]
        }
      ]
    },
    {
      "cell_type": "code",
      "source": [
        "despesa_ceaps_2019.head(3)"
      ],
      "metadata": {
        "id": "r_SFCLdw5N03",
        "colab": {
          "base_uri": "https://localhost:8080/",
          "height": 416
        },
        "outputId": "2c24647d-a5e8-4d07-819d-89e7a82a6777"
      },
      "execution_count": null,
      "outputs": [
        {
          "output_type": "execute_result",
          "data": {
            "text/plain": [
              "                                                                                                                                                                               ULTIMA ATUALIZACAO  \\\n",
              "ANO  MES SENADOR      TIPO_DESPESA                                       CNPJ_CPF           FORNECEDOR DOCUMENTO DATA       DETALHAMENTO                                        VALOR_REEMBOLSADO   \n",
              "2019 1   ACIR GURGACZ Aluguel de imóveis para escritório político, co... 05.914.650/0001-66 ENERGISA   006582758 04/01/2019 Despesa com pagamento de energia elétrica do es...              66,02   \n",
              "                                                                                                       006582755 04/01/2019 Despesa com pagamento de energia elétrica do es...             139,98   \n",
              "\n",
              "                                                                                                                                                                               06/08/2021 02:08  \n",
              "ANO  MES SENADOR      TIPO_DESPESA                                       CNPJ_CPF           FORNECEDOR DOCUMENTO DATA       DETALHAMENTO                                          COD_DOCUMENTO  \n",
              "2019 1   ACIR GURGACZ Aluguel de imóveis para escritório político, co... 05.914.650/0001-66 ENERGISA   006582758 04/01/2019 Despesa com pagamento de energia elétrica do es...          2116543  \n",
              "                                                                                                       006582755 04/01/2019 Despesa com pagamento de energia elétrica do es...          2116546  "
            ],
            "text/html": [
              "\n",
              "  <div id=\"df-cfd9a4e7-b2b0-4124-8611-4deb3b1e6039\">\n",
              "    <div class=\"colab-df-container\">\n",
              "      <div>\n",
              "<style scoped>\n",
              "    .dataframe tbody tr th:only-of-type {\n",
              "        vertical-align: middle;\n",
              "    }\n",
              "\n",
              "    .dataframe tbody tr th {\n",
              "        vertical-align: top;\n",
              "    }\n",
              "\n",
              "    .dataframe thead th {\n",
              "        text-align: right;\n",
              "    }\n",
              "</style>\n",
              "<table border=\"1\" class=\"dataframe\">\n",
              "  <thead>\n",
              "    <tr style=\"text-align: right;\">\n",
              "      <th></th>\n",
              "      <th></th>\n",
              "      <th></th>\n",
              "      <th></th>\n",
              "      <th></th>\n",
              "      <th></th>\n",
              "      <th></th>\n",
              "      <th></th>\n",
              "      <th></th>\n",
              "      <th>ULTIMA ATUALIZACAO</th>\n",
              "      <th>06/08/2021 02:08</th>\n",
              "    </tr>\n",
              "  </thead>\n",
              "  <tbody>\n",
              "    <tr>\n",
              "      <th>ANO</th>\n",
              "      <th>MES</th>\n",
              "      <th>SENADOR</th>\n",
              "      <th>TIPO_DESPESA</th>\n",
              "      <th>CNPJ_CPF</th>\n",
              "      <th>FORNECEDOR</th>\n",
              "      <th>DOCUMENTO</th>\n",
              "      <th>DATA</th>\n",
              "      <th>DETALHAMENTO</th>\n",
              "      <td>VALOR_REEMBOLSADO</td>\n",
              "      <td>COD_DOCUMENTO</td>\n",
              "    </tr>\n",
              "    <tr>\n",
              "      <th rowspan=\"2\" valign=\"top\">2019</th>\n",
              "      <th rowspan=\"2\" valign=\"top\">1</th>\n",
              "      <th rowspan=\"2\" valign=\"top\">ACIR GURGACZ</th>\n",
              "      <th rowspan=\"2\" valign=\"top\">Aluguel de imóveis para escritório político, compreendendo despesas concernentes a eles.</th>\n",
              "      <th rowspan=\"2\" valign=\"top\">05.914.650/0001-66</th>\n",
              "      <th rowspan=\"2\" valign=\"top\">ENERGISA</th>\n",
              "      <th>006582758</th>\n",
              "      <th>04/01/2019</th>\n",
              "      <th>Despesa com pagamento de energia elétrica do escritório de apoio do Senador Acir Gurgacz</th>\n",
              "      <td>66,02</td>\n",
              "      <td>2116543</td>\n",
              "    </tr>\n",
              "    <tr>\n",
              "      <th>006582755</th>\n",
              "      <th>04/01/2019</th>\n",
              "      <th>Despesa com pagamento de energia elétrica do escritório de apoio do Senador Acir Gurgacz</th>\n",
              "      <td>139,98</td>\n",
              "      <td>2116546</td>\n",
              "    </tr>\n",
              "  </tbody>\n",
              "</table>\n",
              "</div>\n",
              "      <button class=\"colab-df-convert\" onclick=\"convertToInteractive('df-cfd9a4e7-b2b0-4124-8611-4deb3b1e6039')\"\n",
              "              title=\"Convert this dataframe to an interactive table.\"\n",
              "              style=\"display:none;\">\n",
              "        \n",
              "  <svg xmlns=\"http://www.w3.org/2000/svg\" height=\"24px\"viewBox=\"0 0 24 24\"\n",
              "       width=\"24px\">\n",
              "    <path d=\"M0 0h24v24H0V0z\" fill=\"none\"/>\n",
              "    <path d=\"M18.56 5.44l.94 2.06.94-2.06 2.06-.94-2.06-.94-.94-2.06-.94 2.06-2.06.94zm-11 1L8.5 8.5l.94-2.06 2.06-.94-2.06-.94L8.5 2.5l-.94 2.06-2.06.94zm10 10l.94 2.06.94-2.06 2.06-.94-2.06-.94-.94-2.06-.94 2.06-2.06.94z\"/><path d=\"M17.41 7.96l-1.37-1.37c-.4-.4-.92-.59-1.43-.59-.52 0-1.04.2-1.43.59L10.3 9.45l-7.72 7.72c-.78.78-.78 2.05 0 2.83L4 21.41c.39.39.9.59 1.41.59.51 0 1.02-.2 1.41-.59l7.78-7.78 2.81-2.81c.8-.78.8-2.07 0-2.86zM5.41 20L4 18.59l7.72-7.72 1.47 1.35L5.41 20z\"/>\n",
              "  </svg>\n",
              "      </button>\n",
              "      \n",
              "  <style>\n",
              "    .colab-df-container {\n",
              "      display:flex;\n",
              "      flex-wrap:wrap;\n",
              "      gap: 12px;\n",
              "    }\n",
              "\n",
              "    .colab-df-convert {\n",
              "      background-color: #E8F0FE;\n",
              "      border: none;\n",
              "      border-radius: 50%;\n",
              "      cursor: pointer;\n",
              "      display: none;\n",
              "      fill: #1967D2;\n",
              "      height: 32px;\n",
              "      padding: 0 0 0 0;\n",
              "      width: 32px;\n",
              "    }\n",
              "\n",
              "    .colab-df-convert:hover {\n",
              "      background-color: #E2EBFA;\n",
              "      box-shadow: 0px 1px 2px rgba(60, 64, 67, 0.3), 0px 1px 3px 1px rgba(60, 64, 67, 0.15);\n",
              "      fill: #174EA6;\n",
              "    }\n",
              "\n",
              "    [theme=dark] .colab-df-convert {\n",
              "      background-color: #3B4455;\n",
              "      fill: #D2E3FC;\n",
              "    }\n",
              "\n",
              "    [theme=dark] .colab-df-convert:hover {\n",
              "      background-color: #434B5C;\n",
              "      box-shadow: 0px 1px 3px 1px rgba(0, 0, 0, 0.15);\n",
              "      filter: drop-shadow(0px 1px 2px rgba(0, 0, 0, 0.3));\n",
              "      fill: #FFFFFF;\n",
              "    }\n",
              "  </style>\n",
              "\n",
              "      <script>\n",
              "        const buttonEl =\n",
              "          document.querySelector('#df-cfd9a4e7-b2b0-4124-8611-4deb3b1e6039 button.colab-df-convert');\n",
              "        buttonEl.style.display =\n",
              "          google.colab.kernel.accessAllowed ? 'block' : 'none';\n",
              "\n",
              "        async function convertToInteractive(key) {\n",
              "          const element = document.querySelector('#df-cfd9a4e7-b2b0-4124-8611-4deb3b1e6039');\n",
              "          const dataTable =\n",
              "            await google.colab.kernel.invokeFunction('convertToInteractive',\n",
              "                                                     [key], {});\n",
              "          if (!dataTable) return;\n",
              "\n",
              "          const docLinkHtml = 'Like what you see? Visit the ' +\n",
              "            '<a target=\"_blank\" href=https://colab.research.google.com/notebooks/data_table.ipynb>data table notebook</a>'\n",
              "            + ' to learn more about interactive tables.';\n",
              "          element.innerHTML = '';\n",
              "          dataTable['output_type'] = 'display_data';\n",
              "          await google.colab.output.renderOutput(dataTable, element);\n",
              "          const docLink = document.createElement('div');\n",
              "          docLink.innerHTML = docLinkHtml;\n",
              "          element.appendChild(docLink);\n",
              "        }\n",
              "      </script>\n",
              "    </div>\n",
              "  </div>\n",
              "  "
            ]
          },
          "metadata": {},
          "execution_count": 232
        }
      ]
    },
    {
      "cell_type": "code",
      "source": [
        "despesa_ceaps_2020.info()"
      ],
      "metadata": {
        "id": "6OGqyaog2Kaj",
        "colab": {
          "base_uri": "https://localhost:8080/"
        },
        "outputId": "ff8a08dc-cd9c-454e-dc5f-3f1b08d7dbc3"
      },
      "execution_count": null,
      "outputs": [
        {
          "output_type": "stream",
          "name": "stdout",
          "text": [
            "<class 'pandas.core.frame.DataFrame'>\n",
            "MultiIndex: 14091 entries, ('ANO', 'MES', 'SENADOR', 'TIPO_DESPESA', 'CNPJ_CPF', 'FORNECEDOR', 'DOCUMENTO', 'DATA', 'DETALHAMENTO') to ('2020', '12', 'ZEQUINHA MARINHO', 'Passagens aéreas, aquáticas e terrestres nacionais', '22.052.777/0001-32', 'Exceller Tour', 'BQWCVK', '18/12/2020', 'Companhia Aérea: GOL, Localizador: BQWCVK. Passageiros: JOSÉ DA CRUZ MARINHO (Matrícula 341141, PARLAMENTAR), Voo: 1822 - BSB/MARABÁ - 19/12/2020;')\n",
            "Data columns (total 2 columns):\n",
            " #   Column              Non-Null Count  Dtype \n",
            "---  ------              --------------  ----- \n",
            " 0   ULTIMA ATUALIZACAO  14091 non-null  object\n",
            " 1   14/04/2022 02:00    14091 non-null  object\n",
            "dtypes: object(2)\n",
            "memory usage: 1.1+ MB\n"
          ]
        }
      ]
    },
    {
      "cell_type": "code",
      "source": [
        "despesa_ceaps_2020.head(3)"
      ],
      "metadata": {
        "id": "sHVSFc1j5UgC",
        "colab": {
          "base_uri": "https://localhost:8080/",
          "height": 450
        },
        "outputId": "b3b30f79-418b-4f41-9f3a-023e436cc0f0"
      },
      "execution_count": null,
      "outputs": [
        {
          "output_type": "execute_result",
          "data": {
            "text/plain": [
              "                                                                                                                                                                               ULTIMA ATUALIZACAO  \\\n",
              "ANO  MES SENADOR      TIPO_DESPESA                                       CNPJ_CPF           FORNECEDOR DOCUMENTO DATA       DETALHAMENTO                                        VALOR_REEMBOLSADO   \n",
              "2020 1   ACIR GURGACZ Aluguel de imóveis para escritório político, co... 05.914.650/0001-66 ENERGISA   14764742  06/01/2020 Despesa com energia elétrica para uso do escrit...             122,62   \n",
              "                                                                                                       14764741  06/01/2020 Despesa com energia elétrica para uso do escrit...             137,75   \n",
              "\n",
              "                                                                                                                                                                               14/04/2022 02:00  \n",
              "ANO  MES SENADOR      TIPO_DESPESA                                       CNPJ_CPF           FORNECEDOR DOCUMENTO DATA       DETALHAMENTO                                          COD_DOCUMENTO  \n",
              "2020 1   ACIR GURGACZ Aluguel de imóveis para escritório político, co... 05.914.650/0001-66 ENERGISA   14764742  06/01/2020 Despesa com energia elétrica para uso do escrit...          2141820  \n",
              "                                                                                                       14764741  06/01/2020 Despesa com energia elétrica para uso do escrit...          2141818  "
            ],
            "text/html": [
              "\n",
              "  <div id=\"df-999c981d-e084-4f50-b05e-fa7328edca14\">\n",
              "    <div class=\"colab-df-container\">\n",
              "      <div>\n",
              "<style scoped>\n",
              "    .dataframe tbody tr th:only-of-type {\n",
              "        vertical-align: middle;\n",
              "    }\n",
              "\n",
              "    .dataframe tbody tr th {\n",
              "        vertical-align: top;\n",
              "    }\n",
              "\n",
              "    .dataframe thead th {\n",
              "        text-align: right;\n",
              "    }\n",
              "</style>\n",
              "<table border=\"1\" class=\"dataframe\">\n",
              "  <thead>\n",
              "    <tr style=\"text-align: right;\">\n",
              "      <th></th>\n",
              "      <th></th>\n",
              "      <th></th>\n",
              "      <th></th>\n",
              "      <th></th>\n",
              "      <th></th>\n",
              "      <th></th>\n",
              "      <th></th>\n",
              "      <th></th>\n",
              "      <th>ULTIMA ATUALIZACAO</th>\n",
              "      <th>14/04/2022 02:00</th>\n",
              "    </tr>\n",
              "  </thead>\n",
              "  <tbody>\n",
              "    <tr>\n",
              "      <th>ANO</th>\n",
              "      <th>MES</th>\n",
              "      <th>SENADOR</th>\n",
              "      <th>TIPO_DESPESA</th>\n",
              "      <th>CNPJ_CPF</th>\n",
              "      <th>FORNECEDOR</th>\n",
              "      <th>DOCUMENTO</th>\n",
              "      <th>DATA</th>\n",
              "      <th>DETALHAMENTO</th>\n",
              "      <td>VALOR_REEMBOLSADO</td>\n",
              "      <td>COD_DOCUMENTO</td>\n",
              "    </tr>\n",
              "    <tr>\n",
              "      <th rowspan=\"2\" valign=\"top\">2020</th>\n",
              "      <th rowspan=\"2\" valign=\"top\">1</th>\n",
              "      <th rowspan=\"2\" valign=\"top\">ACIR GURGACZ</th>\n",
              "      <th rowspan=\"2\" valign=\"top\">Aluguel de imóveis para escritório político, compreendendo despesas concernentes a eles.</th>\n",
              "      <th rowspan=\"2\" valign=\"top\">05.914.650/0001-66</th>\n",
              "      <th rowspan=\"2\" valign=\"top\">ENERGISA</th>\n",
              "      <th>14764742</th>\n",
              "      <th>06/01/2020</th>\n",
              "      <th>Despesa com energia elétrica para uso do escritório de apoio do Senador Acir Gurgacz em Ji-Paraná/RO.</th>\n",
              "      <td>122,62</td>\n",
              "      <td>2141820</td>\n",
              "    </tr>\n",
              "    <tr>\n",
              "      <th>14764741</th>\n",
              "      <th>06/01/2020</th>\n",
              "      <th>Despesa com energia elétrica para uso do escritório de apoio do Senador Acir Gurgacz em Ji-Paraná/RO.</th>\n",
              "      <td>137,75</td>\n",
              "      <td>2141818</td>\n",
              "    </tr>\n",
              "  </tbody>\n",
              "</table>\n",
              "</div>\n",
              "      <button class=\"colab-df-convert\" onclick=\"convertToInteractive('df-999c981d-e084-4f50-b05e-fa7328edca14')\"\n",
              "              title=\"Convert this dataframe to an interactive table.\"\n",
              "              style=\"display:none;\">\n",
              "        \n",
              "  <svg xmlns=\"http://www.w3.org/2000/svg\" height=\"24px\"viewBox=\"0 0 24 24\"\n",
              "       width=\"24px\">\n",
              "    <path d=\"M0 0h24v24H0V0z\" fill=\"none\"/>\n",
              "    <path d=\"M18.56 5.44l.94 2.06.94-2.06 2.06-.94-2.06-.94-.94-2.06-.94 2.06-2.06.94zm-11 1L8.5 8.5l.94-2.06 2.06-.94-2.06-.94L8.5 2.5l-.94 2.06-2.06.94zm10 10l.94 2.06.94-2.06 2.06-.94-2.06-.94-.94-2.06-.94 2.06-2.06.94z\"/><path d=\"M17.41 7.96l-1.37-1.37c-.4-.4-.92-.59-1.43-.59-.52 0-1.04.2-1.43.59L10.3 9.45l-7.72 7.72c-.78.78-.78 2.05 0 2.83L4 21.41c.39.39.9.59 1.41.59.51 0 1.02-.2 1.41-.59l7.78-7.78 2.81-2.81c.8-.78.8-2.07 0-2.86zM5.41 20L4 18.59l7.72-7.72 1.47 1.35L5.41 20z\"/>\n",
              "  </svg>\n",
              "      </button>\n",
              "      \n",
              "  <style>\n",
              "    .colab-df-container {\n",
              "      display:flex;\n",
              "      flex-wrap:wrap;\n",
              "      gap: 12px;\n",
              "    }\n",
              "\n",
              "    .colab-df-convert {\n",
              "      background-color: #E8F0FE;\n",
              "      border: none;\n",
              "      border-radius: 50%;\n",
              "      cursor: pointer;\n",
              "      display: none;\n",
              "      fill: #1967D2;\n",
              "      height: 32px;\n",
              "      padding: 0 0 0 0;\n",
              "      width: 32px;\n",
              "    }\n",
              "\n",
              "    .colab-df-convert:hover {\n",
              "      background-color: #E2EBFA;\n",
              "      box-shadow: 0px 1px 2px rgba(60, 64, 67, 0.3), 0px 1px 3px 1px rgba(60, 64, 67, 0.15);\n",
              "      fill: #174EA6;\n",
              "    }\n",
              "\n",
              "    [theme=dark] .colab-df-convert {\n",
              "      background-color: #3B4455;\n",
              "      fill: #D2E3FC;\n",
              "    }\n",
              "\n",
              "    [theme=dark] .colab-df-convert:hover {\n",
              "      background-color: #434B5C;\n",
              "      box-shadow: 0px 1px 3px 1px rgba(0, 0, 0, 0.15);\n",
              "      filter: drop-shadow(0px 1px 2px rgba(0, 0, 0, 0.3));\n",
              "      fill: #FFFFFF;\n",
              "    }\n",
              "  </style>\n",
              "\n",
              "      <script>\n",
              "        const buttonEl =\n",
              "          document.querySelector('#df-999c981d-e084-4f50-b05e-fa7328edca14 button.colab-df-convert');\n",
              "        buttonEl.style.display =\n",
              "          google.colab.kernel.accessAllowed ? 'block' : 'none';\n",
              "\n",
              "        async function convertToInteractive(key) {\n",
              "          const element = document.querySelector('#df-999c981d-e084-4f50-b05e-fa7328edca14');\n",
              "          const dataTable =\n",
              "            await google.colab.kernel.invokeFunction('convertToInteractive',\n",
              "                                                     [key], {});\n",
              "          if (!dataTable) return;\n",
              "\n",
              "          const docLinkHtml = 'Like what you see? Visit the ' +\n",
              "            '<a target=\"_blank\" href=https://colab.research.google.com/notebooks/data_table.ipynb>data table notebook</a>'\n",
              "            + ' to learn more about interactive tables.';\n",
              "          element.innerHTML = '';\n",
              "          dataTable['output_type'] = 'display_data';\n",
              "          await google.colab.output.renderOutput(dataTable, element);\n",
              "          const docLink = document.createElement('div');\n",
              "          docLink.innerHTML = docLinkHtml;\n",
              "          element.appendChild(docLink);\n",
              "        }\n",
              "      </script>\n",
              "    </div>\n",
              "  </div>\n",
              "  "
            ]
          },
          "metadata": {},
          "execution_count": 234
        }
      ]
    },
    {
      "cell_type": "code",
      "source": [
        "despesa_ceaps_2021.info()"
      ],
      "metadata": {
        "id": "a0_vMXzT3fnQ",
        "colab": {
          "base_uri": "https://localhost:8080/"
        },
        "outputId": "d92d990c-0183-45f4-9e5b-7c237c517042"
      },
      "execution_count": null,
      "outputs": [
        {
          "output_type": "stream",
          "name": "stdout",
          "text": [
            "<class 'pandas.core.frame.DataFrame'>\n",
            "MultiIndex: 16809 entries, ('ANO', 'MES', 'SENADOR', 'TIPO_DESPESA', 'CNPJ_CPF', 'FORNECEDOR', 'DOCUMENTO', 'DATA', 'DETALHAMENTO') to ('2021', '12', 'ZEQUINHA MARINHO', 'Passagens aéreas, aquáticas e terrestres nacionais', '22.052.777/0001-32', 'Exceller Tour', 'LM6FSK', '29/12/2021', 'Companhia Aérea: AZUL, Localizador: LM6FSK. Passageiros: JOSÉ DA CRUZ MARINHO (Matrícula 341141, PARLAMENTAR), Voo: 4460 - BELÉM/MARABÁ - 30/12/2021;')\n",
            "Data columns (total 2 columns):\n",
            " #   Column              Non-Null Count  Dtype \n",
            "---  ------              --------------  ----- \n",
            " 0   ULTIMA ATUALIZACAO  16809 non-null  object\n",
            " 1   14/04/2022 02:00    16809 non-null  object\n",
            "dtypes: object(2)\n",
            "memory usage: 1.5+ MB\n"
          ]
        }
      ]
    },
    {
      "cell_type": "code",
      "source": [
        "despesa_ceaps_2021.head(3)"
      ],
      "metadata": {
        "id": "qLG6LEDv5XrP",
        "colab": {
          "base_uri": "https://localhost:8080/",
          "height": 450
        },
        "outputId": "824589c6-1d30-48f2-a957-d91021ba7804"
      },
      "execution_count": null,
      "outputs": [
        {
          "output_type": "execute_result",
          "data": {
            "text/plain": [
              "                                                                                                                                                                                                                         ULTIMA ATUALIZACAO  \\\n",
              "ANO  MES SENADOR      TIPO_DESPESA                                       CNPJ_CPF           FORNECEDOR                                         DOCUMENTO   DATA       DETALHAMENTO                                        VALOR_REEMBOLSADO   \n",
              "2021 1   ACIR GURGACZ Aluguel de imóveis para escritório político, co... 05.914.650/0001-66 ENERGISA                                           023.489.627 21/01/2021 Pagamento de energia elétrica para uso do escri...              75,29   \n",
              "                                                                         062.135.728-64     FERNANDO WALDEIR PACINI e ANA LUCIA DA SILVA SI... 01/2021     05/01/2021 Despesa com pagamento de aluguel de imóvel para...               1000   \n",
              "\n",
              "                                                                                                                                                                                                                         14/04/2022 02:00  \n",
              "ANO  MES SENADOR      TIPO_DESPESA                                       CNPJ_CPF           FORNECEDOR                                         DOCUMENTO   DATA       DETALHAMENTO                                          COD_DOCUMENTO  \n",
              "2021 1   ACIR GURGACZ Aluguel de imóveis para escritório político, co... 05.914.650/0001-66 ENERGISA                                           023.489.627 21/01/2021 Pagamento de energia elétrica para uso do escri...          2158003  \n",
              "                                                                         062.135.728-64     FERNANDO WALDEIR PACINI e ANA LUCIA DA SILVA SI... 01/2021     05/01/2021 Despesa com pagamento de aluguel de imóvel para...          2157367  "
            ],
            "text/html": [
              "\n",
              "  <div id=\"df-bc644b0f-8ebf-43dc-8ddd-461cbc8c3351\">\n",
              "    <div class=\"colab-df-container\">\n",
              "      <div>\n",
              "<style scoped>\n",
              "    .dataframe tbody tr th:only-of-type {\n",
              "        vertical-align: middle;\n",
              "    }\n",
              "\n",
              "    .dataframe tbody tr th {\n",
              "        vertical-align: top;\n",
              "    }\n",
              "\n",
              "    .dataframe thead th {\n",
              "        text-align: right;\n",
              "    }\n",
              "</style>\n",
              "<table border=\"1\" class=\"dataframe\">\n",
              "  <thead>\n",
              "    <tr style=\"text-align: right;\">\n",
              "      <th></th>\n",
              "      <th></th>\n",
              "      <th></th>\n",
              "      <th></th>\n",
              "      <th></th>\n",
              "      <th></th>\n",
              "      <th></th>\n",
              "      <th></th>\n",
              "      <th></th>\n",
              "      <th>ULTIMA ATUALIZACAO</th>\n",
              "      <th>14/04/2022 02:00</th>\n",
              "    </tr>\n",
              "  </thead>\n",
              "  <tbody>\n",
              "    <tr>\n",
              "      <th>ANO</th>\n",
              "      <th>MES</th>\n",
              "      <th>SENADOR</th>\n",
              "      <th>TIPO_DESPESA</th>\n",
              "      <th>CNPJ_CPF</th>\n",
              "      <th>FORNECEDOR</th>\n",
              "      <th>DOCUMENTO</th>\n",
              "      <th>DATA</th>\n",
              "      <th>DETALHAMENTO</th>\n",
              "      <td>VALOR_REEMBOLSADO</td>\n",
              "      <td>COD_DOCUMENTO</td>\n",
              "    </tr>\n",
              "    <tr>\n",
              "      <th rowspan=\"2\" valign=\"top\">2021</th>\n",
              "      <th rowspan=\"2\" valign=\"top\">1</th>\n",
              "      <th rowspan=\"2\" valign=\"top\">ACIR GURGACZ</th>\n",
              "      <th rowspan=\"2\" valign=\"top\">Aluguel de imóveis para escritório político, compreendendo despesas concernentes a eles.</th>\n",
              "      <th>05.914.650/0001-66</th>\n",
              "      <th>ENERGISA</th>\n",
              "      <th>023.489.627</th>\n",
              "      <th>21/01/2021</th>\n",
              "      <th>Pagamento de energia elétrica para uso do escritório de apoio do Senador Acir Gurgacz</th>\n",
              "      <td>75,29</td>\n",
              "      <td>2158003</td>\n",
              "    </tr>\n",
              "    <tr>\n",
              "      <th>062.135.728-64</th>\n",
              "      <th>FERNANDO WALDEIR PACINI e ANA LUCIA DA SILVA SILVINO</th>\n",
              "      <th>01/2021</th>\n",
              "      <th>05/01/2021</th>\n",
              "      <th>Despesa com pagamento de aluguel de imóvel para uso do Escritório de apoio do Senador Acir Gurgacz, em Porto Velho/RO.</th>\n",
              "      <td>1000</td>\n",
              "      <td>2157367</td>\n",
              "    </tr>\n",
              "  </tbody>\n",
              "</table>\n",
              "</div>\n",
              "      <button class=\"colab-df-convert\" onclick=\"convertToInteractive('df-bc644b0f-8ebf-43dc-8ddd-461cbc8c3351')\"\n",
              "              title=\"Convert this dataframe to an interactive table.\"\n",
              "              style=\"display:none;\">\n",
              "        \n",
              "  <svg xmlns=\"http://www.w3.org/2000/svg\" height=\"24px\"viewBox=\"0 0 24 24\"\n",
              "       width=\"24px\">\n",
              "    <path d=\"M0 0h24v24H0V0z\" fill=\"none\"/>\n",
              "    <path d=\"M18.56 5.44l.94 2.06.94-2.06 2.06-.94-2.06-.94-.94-2.06-.94 2.06-2.06.94zm-11 1L8.5 8.5l.94-2.06 2.06-.94-2.06-.94L8.5 2.5l-.94 2.06-2.06.94zm10 10l.94 2.06.94-2.06 2.06-.94-2.06-.94-.94-2.06-.94 2.06-2.06.94z\"/><path d=\"M17.41 7.96l-1.37-1.37c-.4-.4-.92-.59-1.43-.59-.52 0-1.04.2-1.43.59L10.3 9.45l-7.72 7.72c-.78.78-.78 2.05 0 2.83L4 21.41c.39.39.9.59 1.41.59.51 0 1.02-.2 1.41-.59l7.78-7.78 2.81-2.81c.8-.78.8-2.07 0-2.86zM5.41 20L4 18.59l7.72-7.72 1.47 1.35L5.41 20z\"/>\n",
              "  </svg>\n",
              "      </button>\n",
              "      \n",
              "  <style>\n",
              "    .colab-df-container {\n",
              "      display:flex;\n",
              "      flex-wrap:wrap;\n",
              "      gap: 12px;\n",
              "    }\n",
              "\n",
              "    .colab-df-convert {\n",
              "      background-color: #E8F0FE;\n",
              "      border: none;\n",
              "      border-radius: 50%;\n",
              "      cursor: pointer;\n",
              "      display: none;\n",
              "      fill: #1967D2;\n",
              "      height: 32px;\n",
              "      padding: 0 0 0 0;\n",
              "      width: 32px;\n",
              "    }\n",
              "\n",
              "    .colab-df-convert:hover {\n",
              "      background-color: #E2EBFA;\n",
              "      box-shadow: 0px 1px 2px rgba(60, 64, 67, 0.3), 0px 1px 3px 1px rgba(60, 64, 67, 0.15);\n",
              "      fill: #174EA6;\n",
              "    }\n",
              "\n",
              "    [theme=dark] .colab-df-convert {\n",
              "      background-color: #3B4455;\n",
              "      fill: #D2E3FC;\n",
              "    }\n",
              "\n",
              "    [theme=dark] .colab-df-convert:hover {\n",
              "      background-color: #434B5C;\n",
              "      box-shadow: 0px 1px 3px 1px rgba(0, 0, 0, 0.15);\n",
              "      filter: drop-shadow(0px 1px 2px rgba(0, 0, 0, 0.3));\n",
              "      fill: #FFFFFF;\n",
              "    }\n",
              "  </style>\n",
              "\n",
              "      <script>\n",
              "        const buttonEl =\n",
              "          document.querySelector('#df-bc644b0f-8ebf-43dc-8ddd-461cbc8c3351 button.colab-df-convert');\n",
              "        buttonEl.style.display =\n",
              "          google.colab.kernel.accessAllowed ? 'block' : 'none';\n",
              "\n",
              "        async function convertToInteractive(key) {\n",
              "          const element = document.querySelector('#df-bc644b0f-8ebf-43dc-8ddd-461cbc8c3351');\n",
              "          const dataTable =\n",
              "            await google.colab.kernel.invokeFunction('convertToInteractive',\n",
              "                                                     [key], {});\n",
              "          if (!dataTable) return;\n",
              "\n",
              "          const docLinkHtml = 'Like what you see? Visit the ' +\n",
              "            '<a target=\"_blank\" href=https://colab.research.google.com/notebooks/data_table.ipynb>data table notebook</a>'\n",
              "            + ' to learn more about interactive tables.';\n",
              "          element.innerHTML = '';\n",
              "          dataTable['output_type'] = 'display_data';\n",
              "          await google.colab.output.renderOutput(dataTable, element);\n",
              "          const docLink = document.createElement('div');\n",
              "          docLink.innerHTML = docLinkHtml;\n",
              "          element.appendChild(docLink);\n",
              "        }\n",
              "      </script>\n",
              "    </div>\n",
              "  </div>\n",
              "  "
            ]
          },
          "metadata": {},
          "execution_count": 236
        }
      ]
    },
    {
      "cell_type": "code",
      "source": [
        "despesa_ceaps_2022.info()"
      ],
      "metadata": {
        "id": "8V3l9tYM3pTc",
        "colab": {
          "base_uri": "https://localhost:8080/"
        },
        "outputId": "c3b8f48f-eadb-429d-8e0f-123abe7a4513"
      },
      "execution_count": null,
      "outputs": [
        {
          "output_type": "stream",
          "name": "stdout",
          "text": [
            "<class 'pandas.core.frame.DataFrame'>\n",
            "MultiIndex: 3750 entries, ('ANO', 'MES', 'SENADOR', 'TIPO_DESPESA', 'CNPJ_CPF', 'FORNECEDOR', 'DOCUMENTO', 'DATA', 'DETALHAMENTO') to ('2022', '4', 'ZEQUINHA MARINHO', 'Passagens aéreas, aquáticas e terrestres nacionais', '22.052.777/0001-32', 'Exceller Tour', 'FRFFFI', '06/04/2022', 'Companhia Aérea: LATAM, Localizador: FRFFFI. Passageiros: JOSÉ DA CRUZ MARINHO (Matrícula 341141, PARLAMENTAR), Voo: 3705 - BELÉM/BSB - 17/04/2022;')\n",
            "Data columns (total 2 columns):\n",
            " #   Column              Non-Null Count  Dtype \n",
            "---  ------              --------------  ----- \n",
            " 0   ULTIMA ATUALIZACAO  3750 non-null   object\n",
            " 1   14/04/2022 02:01    3750 non-null   object\n",
            "dtypes: object(2)\n",
            "memory usage: 401.9+ KB\n"
          ]
        }
      ]
    },
    {
      "cell_type": "code",
      "source": [
        "despesa_ceaps_2022.head(3)"
      ],
      "metadata": {
        "id": "_wYHDqRg5bOJ",
        "colab": {
          "base_uri": "https://localhost:8080/",
          "height": 381
        },
        "outputId": "5b572ea8-c4b8-42e2-a7bf-d6f5875779c0"
      },
      "execution_count": null,
      "outputs": [
        {
          "output_type": "execute_result",
          "data": {
            "text/plain": [
              "                                                                                                                                                                                                          ULTIMA ATUALIZACAO  \\\n",
              "ANO  MES SENADOR      TIPO_DESPESA                                       CNPJ_CPF           FORNECEDOR                    DOCUMENTO         DATA       DETALHAMENTO                                        VALOR_REEMBOLSADO   \n",
              "2022 1   ACIR GURGACZ Aluguel de imóveis para escritório político, co... 004.948.028-63     GILBERTO PISELO DO NASCIMENTO 001/22            03/01/2022 Despesa com pagamento de aluguel de imóvel para...               6000   \n",
              "                      Divulgação da atividade parlamentar                26.320.603/0001-64 INFORMANAHORA                 000000000000310/A 04/01/2022 Despesa com divulgação da atividade parlamentar...               1500   \n",
              "\n",
              "                                                                                                                                                                                                          14/04/2022 02:01  \n",
              "ANO  MES SENADOR      TIPO_DESPESA                                       CNPJ_CPF           FORNECEDOR                    DOCUMENTO         DATA       DETALHAMENTO                                          COD_DOCUMENTO  \n",
              "2022 1   ACIR GURGACZ Aluguel de imóveis para escritório político, co... 004.948.028-63     GILBERTO PISELO DO NASCIMENTO 001/22            03/01/2022 Despesa com pagamento de aluguel de imóvel para...          2173614  \n",
              "                      Divulgação da atividade parlamentar                26.320.603/0001-64 INFORMANAHORA                 000000000000310/A 04/01/2022 Despesa com divulgação da atividade parlamentar...          2173615  "
            ],
            "text/html": [
              "\n",
              "  <div id=\"df-8da123da-90fa-40c9-be54-a6d738832f15\">\n",
              "    <div class=\"colab-df-container\">\n",
              "      <div>\n",
              "<style scoped>\n",
              "    .dataframe tbody tr th:only-of-type {\n",
              "        vertical-align: middle;\n",
              "    }\n",
              "\n",
              "    .dataframe tbody tr th {\n",
              "        vertical-align: top;\n",
              "    }\n",
              "\n",
              "    .dataframe thead th {\n",
              "        text-align: right;\n",
              "    }\n",
              "</style>\n",
              "<table border=\"1\" class=\"dataframe\">\n",
              "  <thead>\n",
              "    <tr style=\"text-align: right;\">\n",
              "      <th></th>\n",
              "      <th></th>\n",
              "      <th></th>\n",
              "      <th></th>\n",
              "      <th></th>\n",
              "      <th></th>\n",
              "      <th></th>\n",
              "      <th></th>\n",
              "      <th></th>\n",
              "      <th>ULTIMA ATUALIZACAO</th>\n",
              "      <th>14/04/2022 02:01</th>\n",
              "    </tr>\n",
              "  </thead>\n",
              "  <tbody>\n",
              "    <tr>\n",
              "      <th>ANO</th>\n",
              "      <th>MES</th>\n",
              "      <th>SENADOR</th>\n",
              "      <th>TIPO_DESPESA</th>\n",
              "      <th>CNPJ_CPF</th>\n",
              "      <th>FORNECEDOR</th>\n",
              "      <th>DOCUMENTO</th>\n",
              "      <th>DATA</th>\n",
              "      <th>DETALHAMENTO</th>\n",
              "      <td>VALOR_REEMBOLSADO</td>\n",
              "      <td>COD_DOCUMENTO</td>\n",
              "    </tr>\n",
              "    <tr>\n",
              "      <th rowspan=\"2\" valign=\"top\">2022</th>\n",
              "      <th rowspan=\"2\" valign=\"top\">1</th>\n",
              "      <th rowspan=\"2\" valign=\"top\">ACIR GURGACZ</th>\n",
              "      <th>Aluguel de imóveis para escritório político, compreendendo despesas concernentes a eles.</th>\n",
              "      <th>004.948.028-63</th>\n",
              "      <th>GILBERTO PISELO DO NASCIMENTO</th>\n",
              "      <th>001/22</th>\n",
              "      <th>03/01/2022</th>\n",
              "      <th>Despesa com pagamento de aluguel de imóvel para uso do escritório político do Senador Acir Gurgacz em Ji-Paraná/RO.</th>\n",
              "      <td>6000</td>\n",
              "      <td>2173614</td>\n",
              "    </tr>\n",
              "    <tr>\n",
              "      <th>Divulgação da atividade parlamentar</th>\n",
              "      <th>26.320.603/0001-64</th>\n",
              "      <th>INFORMANAHORA</th>\n",
              "      <th>000000000000310/A</th>\n",
              "      <th>04/01/2022</th>\n",
              "      <th>Despesa com divulgação da atividade parlamentar no website www.informanahora.com</th>\n",
              "      <td>1500</td>\n",
              "      <td>2173615</td>\n",
              "    </tr>\n",
              "  </tbody>\n",
              "</table>\n",
              "</div>\n",
              "      <button class=\"colab-df-convert\" onclick=\"convertToInteractive('df-8da123da-90fa-40c9-be54-a6d738832f15')\"\n",
              "              title=\"Convert this dataframe to an interactive table.\"\n",
              "              style=\"display:none;\">\n",
              "        \n",
              "  <svg xmlns=\"http://www.w3.org/2000/svg\" height=\"24px\"viewBox=\"0 0 24 24\"\n",
              "       width=\"24px\">\n",
              "    <path d=\"M0 0h24v24H0V0z\" fill=\"none\"/>\n",
              "    <path d=\"M18.56 5.44l.94 2.06.94-2.06 2.06-.94-2.06-.94-.94-2.06-.94 2.06-2.06.94zm-11 1L8.5 8.5l.94-2.06 2.06-.94-2.06-.94L8.5 2.5l-.94 2.06-2.06.94zm10 10l.94 2.06.94-2.06 2.06-.94-2.06-.94-.94-2.06-.94 2.06-2.06.94z\"/><path d=\"M17.41 7.96l-1.37-1.37c-.4-.4-.92-.59-1.43-.59-.52 0-1.04.2-1.43.59L10.3 9.45l-7.72 7.72c-.78.78-.78 2.05 0 2.83L4 21.41c.39.39.9.59 1.41.59.51 0 1.02-.2 1.41-.59l7.78-7.78 2.81-2.81c.8-.78.8-2.07 0-2.86zM5.41 20L4 18.59l7.72-7.72 1.47 1.35L5.41 20z\"/>\n",
              "  </svg>\n",
              "      </button>\n",
              "      \n",
              "  <style>\n",
              "    .colab-df-container {\n",
              "      display:flex;\n",
              "      flex-wrap:wrap;\n",
              "      gap: 12px;\n",
              "    }\n",
              "\n",
              "    .colab-df-convert {\n",
              "      background-color: #E8F0FE;\n",
              "      border: none;\n",
              "      border-radius: 50%;\n",
              "      cursor: pointer;\n",
              "      display: none;\n",
              "      fill: #1967D2;\n",
              "      height: 32px;\n",
              "      padding: 0 0 0 0;\n",
              "      width: 32px;\n",
              "    }\n",
              "\n",
              "    .colab-df-convert:hover {\n",
              "      background-color: #E2EBFA;\n",
              "      box-shadow: 0px 1px 2px rgba(60, 64, 67, 0.3), 0px 1px 3px 1px rgba(60, 64, 67, 0.15);\n",
              "      fill: #174EA6;\n",
              "    }\n",
              "\n",
              "    [theme=dark] .colab-df-convert {\n",
              "      background-color: #3B4455;\n",
              "      fill: #D2E3FC;\n",
              "    }\n",
              "\n",
              "    [theme=dark] .colab-df-convert:hover {\n",
              "      background-color: #434B5C;\n",
              "      box-shadow: 0px 1px 3px 1px rgba(0, 0, 0, 0.15);\n",
              "      filter: drop-shadow(0px 1px 2px rgba(0, 0, 0, 0.3));\n",
              "      fill: #FFFFFF;\n",
              "    }\n",
              "  </style>\n",
              "\n",
              "      <script>\n",
              "        const buttonEl =\n",
              "          document.querySelector('#df-8da123da-90fa-40c9-be54-a6d738832f15 button.colab-df-convert');\n",
              "        buttonEl.style.display =\n",
              "          google.colab.kernel.accessAllowed ? 'block' : 'none';\n",
              "\n",
              "        async function convertToInteractive(key) {\n",
              "          const element = document.querySelector('#df-8da123da-90fa-40c9-be54-a6d738832f15');\n",
              "          const dataTable =\n",
              "            await google.colab.kernel.invokeFunction('convertToInteractive',\n",
              "                                                     [key], {});\n",
              "          if (!dataTable) return;\n",
              "\n",
              "          const docLinkHtml = 'Like what you see? Visit the ' +\n",
              "            '<a target=\"_blank\" href=https://colab.research.google.com/notebooks/data_table.ipynb>data table notebook</a>'\n",
              "            + ' to learn more about interactive tables.';\n",
              "          element.innerHTML = '';\n",
              "          dataTable['output_type'] = 'display_data';\n",
              "          await google.colab.output.renderOutput(dataTable, element);\n",
              "          const docLink = document.createElement('div');\n",
              "          docLink.innerHTML = docLinkHtml;\n",
              "          element.appendChild(docLink);\n",
              "        }\n",
              "      </script>\n",
              "    </div>\n",
              "  </div>\n",
              "  "
            ]
          },
          "metadata": {},
          "execution_count": 238
        }
      ]
    },
    {
      "cell_type": "markdown",
      "source": [
        "* Os datasets estão com múltiplos indexadores, o que dificulta a limpeza e preparação dos dados.\n",
        "* Irei criar novos dataframes com todos os indexadores desagrupados."
      ],
      "metadata": {
        "id": "I8ozHlW-ZfwJ"
      }
    },
    {
      "cell_type": "markdown",
      "source": [
        "# Preparação e limpeza dos datasets."
      ],
      "metadata": {
        "id": "hGhvgZAo7iOq"
      }
    },
    {
      "cell_type": "markdown",
      "source": [
        "## Desindexar colunas para fazer uma limpeza mais profunda nos dados."
      ],
      "metadata": {
        "id": "aFkqvJ3eWC-q"
      }
    },
    {
      "cell_type": "code",
      "source": [
        "despesa_ceaps_2019_desagrupado = despesa_ceaps_2019.reset_index()\n",
        "\n",
        "despesa_ceaps_2020_desagrupado = despesa_ceaps_2020.reset_index()\n",
        "\n",
        "despesa_ceaps_2021_desagrupado = despesa_ceaps_2021.reset_index()\n",
        "\n",
        "despesa_ceaps_2022_desagrupado = despesa_ceaps_2022.reset_index()"
      ],
      "metadata": {
        "id": "KqrT1vYlWUru"
      },
      "execution_count": null,
      "outputs": []
    },
    {
      "cell_type": "markdown",
      "source": [
        "### Renomear colunas"
      ],
      "metadata": {
        "id": "KByH1dO3Y1qT"
      }
    },
    {
      "cell_type": "code",
      "source": [
        "despesa_ceaps_2019_desagrupado.columns = list(despesa_ceaps_2019.index[0]) + list(despesa_ceaps_2019.columns)\n",
        "despesa_ceaps_2019_desagrupado.columns = despesa_ceaps_2019_desagrupado.iloc[:1].values.tolist()[0]\n",
        "despesa_ceaps_2019_desagrupado.drop([0], axis=0, inplace=True)\n",
        "\n",
        "despesa_ceaps_2020_desagrupado.columns = list(despesa_ceaps_2020.index[0]) + list(despesa_ceaps_2020.columns)\n",
        "despesa_ceaps_2020_desagrupado.columns = despesa_ceaps_2020_desagrupado.iloc[:1].values.tolist()[0]\n",
        "despesa_ceaps_2020_desagrupado.drop([0], axis=0, inplace=True)\n",
        "\n",
        "despesa_ceaps_2021_desagrupado.columns = list(despesa_ceaps_2021.index[0]) + list(despesa_ceaps_2021.columns)\n",
        "despesa_ceaps_2021_desagrupado.columns = despesa_ceaps_2021_desagrupado.iloc[:1].values.tolist()[0]\n",
        "despesa_ceaps_2021_desagrupado.drop([0], axis=0, inplace=True)\n",
        "\n",
        "despesa_ceaps_2022_desagrupado.columns = list(despesa_ceaps_2022.index[0]) + list(despesa_ceaps_2022.columns)\n",
        "despesa_ceaps_2022_desagrupado.columns = despesa_ceaps_2022_desagrupado.iloc[:1].values.tolist()[0]\n",
        "despesa_ceaps_2022_desagrupado.drop([0], axis=0, inplace=True)"
      ],
      "metadata": {
        "id": "hgWNFZDMWrG0"
      },
      "execution_count": null,
      "outputs": []
    },
    {
      "cell_type": "markdown",
      "source": [
        "## Valores nulos"
      ],
      "metadata": {
        "id": "itbds9yH9PW3"
      }
    },
    {
      "cell_type": "code",
      "source": [
        "despesa_ceaps_2019_desagrupado.info()"
      ],
      "metadata": {
        "id": "_ODFJxw49Rlh",
        "colab": {
          "base_uri": "https://localhost:8080/"
        },
        "outputId": "8aeefe3b-a9fa-4305-d99f-d290b97b3dba"
      },
      "execution_count": null,
      "outputs": [
        {
          "output_type": "stream",
          "name": "stdout",
          "text": [
            "<class 'pandas.core.frame.DataFrame'>\n",
            "Int64Index: 21634 entries, 1 to 21634\n",
            "Data columns (total 11 columns):\n",
            " #   Column             Non-Null Count  Dtype \n",
            "---  ------             --------------  ----- \n",
            " 0   ANO                21634 non-null  object\n",
            " 1   MES                21634 non-null  object\n",
            " 2   SENADOR            21634 non-null  object\n",
            " 3   TIPO_DESPESA       21634 non-null  object\n",
            " 4   CNPJ_CPF           21634 non-null  object\n",
            " 5   FORNECEDOR         21634 non-null  object\n",
            " 6   DOCUMENTO          20900 non-null  object\n",
            " 7   DATA               21634 non-null  object\n",
            " 8   DETALHAMENTO       13092 non-null  object\n",
            " 9   VALOR_REEMBOLSADO  21634 non-null  object\n",
            " 10  COD_DOCUMENTO      21634 non-null  object\n",
            "dtypes: object(11)\n",
            "memory usage: 2.0+ MB\n"
          ]
        }
      ]
    },
    {
      "cell_type": "markdown",
      "source": [
        "* Os tipos de dados estão como object.\n",
        "* Duas colunas apresentam valores nulos: \n",
        "  * DOCUMENTO e DETALHAMENTO.\n",
        "* Hipóteses para valores nulos:\n",
        "  * DOCUMENTO: \n",
        "    * erro no sistema.\n",
        "    * Encobrir crimes.\n",
        "  * DETALHAMENTO: \n",
        "    * Dependendo do tipo de despesa, não foi necessário apresentar o detalhamento.\n",
        "    * O detalhamento está oculto por desvio de dinheiro público."
      ],
      "metadata": {
        "id": "xYSJhgub9XWt"
      }
    },
    {
      "cell_type": "code",
      "source": [
        "despesa_ceaps_2019_desagrupado[despesa_ceaps_2019_desagrupado['DETALHAMENTO']\\\n",
        "                               .isnull()][['TIPO_DESPESA']].value_counts()"
      ],
      "metadata": {
        "colab": {
          "base_uri": "https://localhost:8080/"
        },
        "id": "avar-vdJc4wZ",
        "outputId": "ad03e8f3-16b3-4f6d-c92b-e6b1b5cfc2ac"
      },
      "execution_count": null,
      "outputs": [
        {
          "output_type": "execute_result",
          "data": {
            "text/plain": [
              "TIPO_DESPESA                                                                                                                                                                                   \n",
              "Locomoção, hospedagem, alimentação, combustíveis e lubrificantes                                                                                                                                   4391\n",
              "Aluguel de imóveis para escritório político, compreendendo despesas concernentes a eles.                                                                                                           2241\n",
              "Aquisição de material de consumo para uso no escritório político, inclusive aquisição ou locação de software, despesas postais, aquisição de publicações, locação de móveis e de equipamentos.      789\n",
              "Divulgação da atividade parlamentar                                                                                                                                                                 589\n",
              "Contratação de consultorias, assessorias, pesquisas, trabalhos técnicos e outros serviços de apoio ao exercício do mandato parlamentar                                                              511\n",
              "Serviços de Segurança Privada                                                                                                                                                                        18\n",
              "Passagens aéreas, aquáticas e terrestres nacionais                                                                                                                                                    3\n",
              "dtype: int64"
            ]
          },
          "metadata": {},
          "execution_count": 242
        }
      ]
    },
    {
      "cell_type": "markdown",
      "source": [
        "* O tipo de despesa com mais dados faltantes da coluna DETALHAMENTO é:\n",
        "  * Locomoção, hospedagem, alimentação, combustíveis e lubrificantes.\n",
        "* O segundo com mais dados faltantes é:\n",
        "  * Aluguel de imóveis para escritório político, compreendendo despesas concernentes a eles."
      ],
      "metadata": {
        "id": "L1BALc9dlGsX"
      }
    },
    {
      "cell_type": "code",
      "source": [
        "despesa_ceaps_2019_desagrupado[despesa_ceaps_2019_desagrupado['DOCUMENTO']\\\n",
        "                               .isnull()][['TIPO_DESPESA']].value_counts()"
      ],
      "metadata": {
        "colab": {
          "base_uri": "https://localhost:8080/"
        },
        "id": "ZsQI1ErLuHgt",
        "outputId": "03c8171e-8318-4003-c28d-75b37136a038"
      },
      "execution_count": null,
      "outputs": [
        {
          "output_type": "execute_result",
          "data": {
            "text/plain": [
              "TIPO_DESPESA                                                                                                                                                                                   \n",
              "Aluguel de imóveis para escritório político, compreendendo despesas concernentes a eles.                                                                                                           448\n",
              "Locomoção, hospedagem, alimentação, combustíveis e lubrificantes                                                                                                                                   274\n",
              "Aquisição de material de consumo para uso no escritório político, inclusive aquisição ou locação de software, despesas postais, aquisição de publicações, locação de móveis e de equipamentos.      12\n",
              "dtype: int64"
            ]
          },
          "metadata": {},
          "execution_count": 243
        }
      ]
    },
    {
      "cell_type": "markdown",
      "source": [
        "* O tipo de despesa com mais dados faltantes da coluna DOCUMENTO é:\n",
        "Aluguel de imóveis para escritório político, compreendendo despesas concernentes a eles.\n",
        "* O segundo com mais dados faltantes é:\n",
        "Locomoção, hospedagem, alimentação, combustíveis e lubrificantes."
      ],
      "metadata": {
        "id": "rvV6w7NUuVt9"
      }
    },
    {
      "cell_type": "markdown",
      "source": [
        "* É necessário maior investigação para saber se os valores nulos são de fato acobertamento de um crime."
      ],
      "metadata": {
        "id": "5gDHta91uxFp"
      }
    },
    {
      "cell_type": "markdown",
      "source": [
        "### A melhor estratégia é manter os valores nulos e criar novas colunas para indicar se há valores nulos nas colunas: DETALHAMENTO e DOCUMENTO."
      ],
      "metadata": {
        "id": "-wX5MtzArC_t"
      }
    },
    {
      "cell_type": "code",
      "source": [
        "def sem_documento(despesa_ceaps_2019_desagrupado):\n",
        "  despesa_ceaps_2019_desagrupado['SEM_DOCUMENTO'] = np.nan\n",
        "  for i in range(len(despesa_ceaps_2019_desagrupado['DOCUMENTO'])):\n",
        "    if despesa_ceaps_2019_desagrupado['DOCUMENTO'].isnull().values.tolist()[i] == False:\n",
        "      despesa_ceaps_2019_desagrupado['SEM_DOCUMENTO'][i] = 0\n",
        "    else:\n",
        "      despesa_ceaps_2019_desagrupado['SEM_DOCUMENTO'][i] = 1\n",
        "  else:\n",
        "    despesa_ceaps_2019_desagrupado['SEM_DOCUMENTO'] = despesa_ceaps_2019_desagrupado['SEM_DOCUMENTO'].fillna(0)     \n",
        "    return despesa_ceaps_2019_desagrupado['SEM_DOCUMENTO']\n",
        "\n",
        "def sem_detalhamento(despesa_ceaps_2019_desagrupado):\n",
        "  despesa_ceaps_2019_desagrupado['SEM_DETALHAMENTO'] = np.nan\n",
        "  for i in range(len(despesa_ceaps_2019_desagrupado['DETALHAMENTO'])):\n",
        "    if despesa_ceaps_2019_desagrupado['DETALHAMENTO'].isnull().values.tolist()[i] == False:\n",
        "      despesa_ceaps_2019_desagrupado['SEM_DETALHAMENTO'][i] = 0\n",
        "    else:\n",
        "      despesa_ceaps_2019_desagrupado['SEM_DETALHAMENTO'][i] = 1\n",
        "  else:\n",
        "    despesa_ceaps_2019_desagrupado['SEM_DETALHAMENTO'] = despesa_ceaps_2019_desagrupado['SEM_DETALHAMENTO'].fillna(0)     \n",
        "    return despesa_ceaps_2019_desagrupado['SEM_DETALHAMENTO']"
      ],
      "metadata": {
        "id": "8OXrjLlS0agt"
      },
      "execution_count": null,
      "outputs": []
    },
    {
      "cell_type": "code",
      "source": [
        "despesa_ceaps_2019_desagrupado['SEM_DOCUMENTO'] = sem_documento(despesa_ceaps_2019_desagrupado)\n",
        "despesa_ceaps_2020_desagrupado['SEM_DOCUMENTO'] = sem_documento(despesa_ceaps_2020_desagrupado)\n",
        "despesa_ceaps_2021_desagrupado['SEM_DOCUMENTO'] = sem_documento(despesa_ceaps_2021_desagrupado)\n",
        "despesa_ceaps_2022_desagrupado['SEM_DOCUMENTO'] = sem_documento(despesa_ceaps_2022_desagrupado)"
      ],
      "metadata": {
        "colab": {
          "base_uri": "https://localhost:8080/"
        },
        "id": "jgtTmqCE5WDv",
        "outputId": "2e96b8cd-93b8-488a-bf24-099f63686594"
      },
      "execution_count": null,
      "outputs": [
        {
          "output_type": "stream",
          "name": "stderr",
          "text": [
            "/usr/local/lib/python3.7/dist-packages/ipykernel_launcher.py:5: SettingWithCopyWarning: \n",
            "A value is trying to be set on a copy of a slice from a DataFrame\n",
            "\n",
            "See the caveats in the documentation: https://pandas.pydata.org/pandas-docs/stable/user_guide/indexing.html#returning-a-view-versus-a-copy\n",
            "  \"\"\"\n",
            "/usr/local/lib/python3.7/dist-packages/ipykernel_launcher.py:7: SettingWithCopyWarning: \n",
            "A value is trying to be set on a copy of a slice from a DataFrame\n",
            "\n",
            "See the caveats in the documentation: https://pandas.pydata.org/pandas-docs/stable/user_guide/indexing.html#returning-a-view-versus-a-copy\n",
            "  import sys\n"
          ]
        }
      ]
    },
    {
      "cell_type": "code",
      "source": [
        "despesa_ceaps_2019_desagrupado['SEM_DETALHAMENTO'] = sem_detalhamento(despesa_ceaps_2019_desagrupado)\n",
        "despesa_ceaps_2020_desagrupado['SEM_DETALHAMENTO'] = sem_detalhamento(despesa_ceaps_2020_desagrupado)\n",
        "despesa_ceaps_2021_desagrupado['SEM_DETALHAMENTO'] = sem_detalhamento(despesa_ceaps_2021_desagrupado)\n",
        "despesa_ceaps_2022_desagrupado['SEM_DETALHAMENTO'] = sem_detalhamento(despesa_ceaps_2022_desagrupado)"
      ],
      "metadata": {
        "colab": {
          "base_uri": "https://localhost:8080/"
        },
        "id": "x90UKqPTCxND",
        "outputId": "a99b48ab-6def-41b1-f984-485e7926130a"
      },
      "execution_count": null,
      "outputs": [
        {
          "output_type": "stream",
          "name": "stderr",
          "text": [
            "/usr/local/lib/python3.7/dist-packages/ipykernel_launcher.py:16: SettingWithCopyWarning: \n",
            "A value is trying to be set on a copy of a slice from a DataFrame\n",
            "\n",
            "See the caveats in the documentation: https://pandas.pydata.org/pandas-docs/stable/user_guide/indexing.html#returning-a-view-versus-a-copy\n",
            "  app.launch_new_instance()\n",
            "/usr/local/lib/python3.7/dist-packages/ipykernel_launcher.py:18: SettingWithCopyWarning: \n",
            "A value is trying to be set on a copy of a slice from a DataFrame\n",
            "\n",
            "See the caveats in the documentation: https://pandas.pydata.org/pandas-docs/stable/user_guide/indexing.html#returning-a-view-versus-a-copy\n"
          ]
        }
      ]
    },
    {
      "cell_type": "markdown",
      "source": [
        "## Valores duplicados"
      ],
      "metadata": {
        "id": "ZO1eBAZR7auE"
      }
    },
    {
      "cell_type": "code",
      "source": [
        "print(\"despesa_2019:\", \n",
        "      despesa_ceaps_2019_desagrupado.shape,\n",
        "      \"despesa_2019_sem_duplicados:\", \n",
        "      despesa_ceaps_2019_desagrupado.drop_duplicates().shape)\n",
        "\n",
        "print(\"despesa_2020:\", \n",
        "      despesa_ceaps_2020_desagrupado.shape,\n",
        "      \"despesa_2020_sem_duplicados:\", \n",
        "      despesa_ceaps_2020_desagrupado.drop_duplicates().shape)\n",
        "\n",
        "print(\"despesa_2021:\", \n",
        "      despesa_ceaps_2021_desagrupado.shape,\n",
        "      \"despesa_2021_sem_duplicados:\", \n",
        "      despesa_ceaps_2021_desagrupado.drop_duplicates().shape)\n",
        "\n",
        "print(\"despesa_2022:\", \n",
        "      despesa_ceaps_2022_desagrupado.shape,\n",
        "      \"despesa_2022_sem_duplicados:\", \n",
        "      despesa_ceaps_2022_desagrupado.drop_duplicates().shape)"
      ],
      "metadata": {
        "id": "uoColCUo7cKg",
        "colab": {
          "base_uri": "https://localhost:8080/"
        },
        "outputId": "7519a3ac-77e6-401e-c8e8-9d8cb499383a"
      },
      "execution_count": null,
      "outputs": [
        {
          "output_type": "stream",
          "name": "stdout",
          "text": [
            "despesa_2019: (21634, 13) despesa_2019_sem_duplicados: (21634, 13)\n",
            "despesa_2020: (14090, 13) despesa_2020_sem_duplicados: (14090, 13)\n",
            "despesa_2021: (16808, 13) despesa_2021_sem_duplicados: (16808, 13)\n",
            "despesa_2022: (3749, 13) despesa_2022_sem_duplicados: (3749, 13)\n"
          ]
        }
      ]
    },
    {
      "cell_type": "markdown",
      "source": [
        "* Todos os datasets não apresentam valores duplicados."
      ],
      "metadata": {
        "id": "fQGZIeSrIRd2"
      }
    },
    {
      "cell_type": "markdown",
      "source": [
        "## Valores únicos: DATA"
      ],
      "metadata": {
        "id": "evMaUMiazb-o"
      }
    },
    {
      "cell_type": "markdown",
      "source": [
        "* Não há todos os meses na coluna MES."
      ],
      "metadata": {
        "id": "FcVvfuGzSDUf"
      }
    },
    {
      "cell_type": "code",
      "source": [
        "despesa_ceaps_2019_desagrupado[despesa_ceaps_2019_desagrupado['DATA'].str[6:].astype(int)!=2019]['MES'].unique()"
      ],
      "metadata": {
        "colab": {
          "base_uri": "https://localhost:8080/"
        },
        "id": "Pr3erHs-zfau",
        "outputId": "e4b8157d-bc41-4174-cc82-417973206aec"
      },
      "execution_count": null,
      "outputs": [
        {
          "output_type": "execute_result",
          "data": {
            "text/plain": [
              "array(['1', '12', '11', '10', '2', '8', '3', '4', '9', '5', '7'],\n",
              "      dtype=object)"
            ]
          },
          "metadata": {},
          "execution_count": 248
        }
      ]
    },
    {
      "cell_type": "markdown",
      "source": [
        "* Irei averiguar as datas para ver se corresponde com o ano de 2019."
      ],
      "metadata": {
        "id": "656XXDE_SMYb"
      }
    },
    {
      "cell_type": "code",
      "source": [
        "despesa_ceaps_2019_desagrupado[despesa_ceaps_2019_desagrupado['DATA'].str[6:].astype(int)!=2019]['DATA'].str[6:].unique()"
      ],
      "metadata": {
        "colab": {
          "base_uri": "https://localhost:8080/"
        },
        "id": "7XKX8gBQQie2",
        "outputId": "57c156dd-e868-4259-9763-55c6aac10207"
      },
      "execution_count": null,
      "outputs": [
        {
          "output_type": "execute_result",
          "data": {
            "text/plain": [
              "array(['2018', '2020', '2010', '2009', '0219', '2016', '2014'],\n",
              "      dtype=object)"
            ]
          },
          "metadata": {},
          "execution_count": 249
        }
      ]
    },
    {
      "cell_type": "markdown",
      "source": [
        "* Muitas datas não correspondem com o ano da tabela. Irei substituir todos os anos por 2019. "
      ],
      "metadata": {
        "id": "xFcjVLriSZYm"
      }
    },
    {
      "cell_type": "code",
      "source": [
        "despesa_ceaps_2019_desagrupado['DATA'] = despesa_ceaps_2019_desagrupado['DATA'].replace(['0219',\n",
        "                                                                                         '2016',\n",
        "                                                                                         '2014',\n",
        "                                                                                         '2020',\n",
        "                                                                                         '2009',\n",
        "                                                                                         '2018',\n",
        "                                                                                         '2010'], '2019', regex=True)"
      ],
      "metadata": {
        "id": "ynctAPVeQT5o"
      },
      "execution_count": null,
      "outputs": []
    },
    {
      "cell_type": "code",
      "source": [
        "despesa_ceaps_2019_desagrupado[['DATA', 'MES', 'ANO']].sample(10)"
      ],
      "metadata": {
        "colab": {
          "base_uri": "https://localhost:8080/",
          "height": 363
        },
        "id": "b7-owXInRWuC",
        "outputId": "986f7526-7c91-45a0-e9d6-0c80052c97b8"
      },
      "execution_count": null,
      "outputs": [
        {
          "output_type": "execute_result",
          "data": {
            "text/plain": [
              "             DATA MES   ANO\n",
              "6153   07/12/2019  12  2019\n",
              "21276  01/07/2019   6  2019\n",
              "10875  29/08/2019   8  2019\n",
              "15184  15/02/2019   2  2019\n",
              "4275   01/06/2019   6  2019\n",
              "20416  19/12/2019  12  2019\n",
              "8989   07/09/2019   9  2019\n",
              "6491   30/01/2019   1  2019\n",
              "19240  01/04/2019   3  2019\n",
              "8178   28/03/2019   4  2019"
            ],
            "text/html": [
              "\n",
              "  <div id=\"df-316abb8c-2c7e-437a-9360-764f4034f94d\">\n",
              "    <div class=\"colab-df-container\">\n",
              "      <div>\n",
              "<style scoped>\n",
              "    .dataframe tbody tr th:only-of-type {\n",
              "        vertical-align: middle;\n",
              "    }\n",
              "\n",
              "    .dataframe tbody tr th {\n",
              "        vertical-align: top;\n",
              "    }\n",
              "\n",
              "    .dataframe thead th {\n",
              "        text-align: right;\n",
              "    }\n",
              "</style>\n",
              "<table border=\"1\" class=\"dataframe\">\n",
              "  <thead>\n",
              "    <tr style=\"text-align: right;\">\n",
              "      <th></th>\n",
              "      <th>DATA</th>\n",
              "      <th>MES</th>\n",
              "      <th>ANO</th>\n",
              "    </tr>\n",
              "  </thead>\n",
              "  <tbody>\n",
              "    <tr>\n",
              "      <th>6153</th>\n",
              "      <td>07/12/2019</td>\n",
              "      <td>12</td>\n",
              "      <td>2019</td>\n",
              "    </tr>\n",
              "    <tr>\n",
              "      <th>21276</th>\n",
              "      <td>01/07/2019</td>\n",
              "      <td>6</td>\n",
              "      <td>2019</td>\n",
              "    </tr>\n",
              "    <tr>\n",
              "      <th>10875</th>\n",
              "      <td>29/08/2019</td>\n",
              "      <td>8</td>\n",
              "      <td>2019</td>\n",
              "    </tr>\n",
              "    <tr>\n",
              "      <th>15184</th>\n",
              "      <td>15/02/2019</td>\n",
              "      <td>2</td>\n",
              "      <td>2019</td>\n",
              "    </tr>\n",
              "    <tr>\n",
              "      <th>4275</th>\n",
              "      <td>01/06/2019</td>\n",
              "      <td>6</td>\n",
              "      <td>2019</td>\n",
              "    </tr>\n",
              "    <tr>\n",
              "      <th>20416</th>\n",
              "      <td>19/12/2019</td>\n",
              "      <td>12</td>\n",
              "      <td>2019</td>\n",
              "    </tr>\n",
              "    <tr>\n",
              "      <th>8989</th>\n",
              "      <td>07/09/2019</td>\n",
              "      <td>9</td>\n",
              "      <td>2019</td>\n",
              "    </tr>\n",
              "    <tr>\n",
              "      <th>6491</th>\n",
              "      <td>30/01/2019</td>\n",
              "      <td>1</td>\n",
              "      <td>2019</td>\n",
              "    </tr>\n",
              "    <tr>\n",
              "      <th>19240</th>\n",
              "      <td>01/04/2019</td>\n",
              "      <td>3</td>\n",
              "      <td>2019</td>\n",
              "    </tr>\n",
              "    <tr>\n",
              "      <th>8178</th>\n",
              "      <td>28/03/2019</td>\n",
              "      <td>4</td>\n",
              "      <td>2019</td>\n",
              "    </tr>\n",
              "  </tbody>\n",
              "</table>\n",
              "</div>\n",
              "      <button class=\"colab-df-convert\" onclick=\"convertToInteractive('df-316abb8c-2c7e-437a-9360-764f4034f94d')\"\n",
              "              title=\"Convert this dataframe to an interactive table.\"\n",
              "              style=\"display:none;\">\n",
              "        \n",
              "  <svg xmlns=\"http://www.w3.org/2000/svg\" height=\"24px\"viewBox=\"0 0 24 24\"\n",
              "       width=\"24px\">\n",
              "    <path d=\"M0 0h24v24H0V0z\" fill=\"none\"/>\n",
              "    <path d=\"M18.56 5.44l.94 2.06.94-2.06 2.06-.94-2.06-.94-.94-2.06-.94 2.06-2.06.94zm-11 1L8.5 8.5l.94-2.06 2.06-.94-2.06-.94L8.5 2.5l-.94 2.06-2.06.94zm10 10l.94 2.06.94-2.06 2.06-.94-2.06-.94-.94-2.06-.94 2.06-2.06.94z\"/><path d=\"M17.41 7.96l-1.37-1.37c-.4-.4-.92-.59-1.43-.59-.52 0-1.04.2-1.43.59L10.3 9.45l-7.72 7.72c-.78.78-.78 2.05 0 2.83L4 21.41c.39.39.9.59 1.41.59.51 0 1.02-.2 1.41-.59l7.78-7.78 2.81-2.81c.8-.78.8-2.07 0-2.86zM5.41 20L4 18.59l7.72-7.72 1.47 1.35L5.41 20z\"/>\n",
              "  </svg>\n",
              "      </button>\n",
              "      \n",
              "  <style>\n",
              "    .colab-df-container {\n",
              "      display:flex;\n",
              "      flex-wrap:wrap;\n",
              "      gap: 12px;\n",
              "    }\n",
              "\n",
              "    .colab-df-convert {\n",
              "      background-color: #E8F0FE;\n",
              "      border: none;\n",
              "      border-radius: 50%;\n",
              "      cursor: pointer;\n",
              "      display: none;\n",
              "      fill: #1967D2;\n",
              "      height: 32px;\n",
              "      padding: 0 0 0 0;\n",
              "      width: 32px;\n",
              "    }\n",
              "\n",
              "    .colab-df-convert:hover {\n",
              "      background-color: #E2EBFA;\n",
              "      box-shadow: 0px 1px 2px rgba(60, 64, 67, 0.3), 0px 1px 3px 1px rgba(60, 64, 67, 0.15);\n",
              "      fill: #174EA6;\n",
              "    }\n",
              "\n",
              "    [theme=dark] .colab-df-convert {\n",
              "      background-color: #3B4455;\n",
              "      fill: #D2E3FC;\n",
              "    }\n",
              "\n",
              "    [theme=dark] .colab-df-convert:hover {\n",
              "      background-color: #434B5C;\n",
              "      box-shadow: 0px 1px 3px 1px rgba(0, 0, 0, 0.15);\n",
              "      filter: drop-shadow(0px 1px 2px rgba(0, 0, 0, 0.3));\n",
              "      fill: #FFFFFF;\n",
              "    }\n",
              "  </style>\n",
              "\n",
              "      <script>\n",
              "        const buttonEl =\n",
              "          document.querySelector('#df-316abb8c-2c7e-437a-9360-764f4034f94d button.colab-df-convert');\n",
              "        buttonEl.style.display =\n",
              "          google.colab.kernel.accessAllowed ? 'block' : 'none';\n",
              "\n",
              "        async function convertToInteractive(key) {\n",
              "          const element = document.querySelector('#df-316abb8c-2c7e-437a-9360-764f4034f94d');\n",
              "          const dataTable =\n",
              "            await google.colab.kernel.invokeFunction('convertToInteractive',\n",
              "                                                     [key], {});\n",
              "          if (!dataTable) return;\n",
              "\n",
              "          const docLinkHtml = 'Like what you see? Visit the ' +\n",
              "            '<a target=\"_blank\" href=https://colab.research.google.com/notebooks/data_table.ipynb>data table notebook</a>'\n",
              "            + ' to learn more about interactive tables.';\n",
              "          element.innerHTML = '';\n",
              "          dataTable['output_type'] = 'display_data';\n",
              "          await google.colab.output.renderOutput(dataTable, element);\n",
              "          const docLink = document.createElement('div');\n",
              "          docLink.innerHTML = docLinkHtml;\n",
              "          element.appendChild(docLink);\n",
              "        }\n",
              "      </script>\n",
              "    </div>\n",
              "  </div>\n",
              "  "
            ]
          },
          "metadata": {},
          "execution_count": 251
        }
      ]
    },
    {
      "cell_type": "code",
      "source": [
        "despesa_ceaps_2020_desagrupado[despesa_ceaps_2020_desagrupado['DATA'].str[6:].astype(int)!=2020]['DATA'].str[6:].unique()"
      ],
      "metadata": {
        "colab": {
          "base_uri": "https://localhost:8080/"
        },
        "id": "JHYaXH1Pz9Sb",
        "outputId": "2a7f19e0-13b7-47a2-a40d-3c556f6e6cb1"
      },
      "execution_count": null,
      "outputs": [
        {
          "output_type": "execute_result",
          "data": {
            "text/plain": [
              "array(['2019', '2021', '2014', '0202', '2002'], dtype=object)"
            ]
          },
          "metadata": {},
          "execution_count": 252
        }
      ]
    },
    {
      "cell_type": "code",
      "source": [
        "despesa_ceaps_2020_desagrupado['DATA'] = despesa_ceaps_2020_desagrupado['DATA'].replace(['2021', \n",
        "                                                                                         '2014', \n",
        "                                                                                         '0202', \n",
        "                                                                                         '2002'], '2020', regex=True)"
      ],
      "metadata": {
        "id": "PCdearO2T4dY"
      },
      "execution_count": null,
      "outputs": []
    },
    {
      "cell_type": "code",
      "source": [
        "despesa_ceaps_2021_desagrupado[despesa_ceaps_2021_desagrupado['DATA'].str[6:].astype(int)!=2021]['DATA'].str[6:].unique()"
      ],
      "metadata": {
        "colab": {
          "base_uri": "https://localhost:8080/"
        },
        "id": "kXcYnPyg0Dmi",
        "outputId": "55358734-08cd-4304-e799-6476acfa4bcf"
      },
      "execution_count": null,
      "outputs": [
        {
          "output_type": "execute_result",
          "data": {
            "text/plain": [
              "array(['2002', '2022', '2020', '0202', '2019', '2010'], dtype=object)"
            ]
          },
          "metadata": {},
          "execution_count": 254
        }
      ]
    },
    {
      "cell_type": "code",
      "source": [
        "despesa_ceaps_2021_desagrupado['DATA'] = despesa_ceaps_2021_desagrupado['DATA'].replace(['2002', \n",
        "                                                                                         '2022', \n",
        "                                                                                         '2020', \n",
        "                                                                                         '0202',\n",
        "                                                                                         '2019',\n",
        "                                                                                         '2010'], '2021', regex=True)"
      ],
      "metadata": {
        "id": "0MZQa0qfVmLz"
      },
      "execution_count": null,
      "outputs": []
    },
    {
      "cell_type": "code",
      "source": [
        "despesa_ceaps_2022_desagrupado[despesa_ceaps_2022_desagrupado['DATA'].str[6:].astype(int)!=2022]['DATA'].str[6:].unique()"
      ],
      "metadata": {
        "colab": {
          "base_uri": "https://localhost:8080/"
        },
        "id": "W9v_xfc1V__N",
        "outputId": "3ce4e549-feda-4450-9f47-3749eb98bb3e"
      },
      "execution_count": null,
      "outputs": [
        {
          "output_type": "execute_result",
          "data": {
            "text/plain": [
              "array(['2021', '2019', '2020', '2002'], dtype=object)"
            ]
          },
          "metadata": {},
          "execution_count": 256
        }
      ]
    },
    {
      "cell_type": "code",
      "source": [
        "despesa_ceaps_2022_desagrupado['DATA'] = despesa_ceaps_2022_desagrupado['DATA'].replace(['2021', \n",
        "                                                                                         '2019', \n",
        "                                                                                         '2020', \n",
        "                                                                                         '2002'], '2022', regex=True)"
      ],
      "metadata": {
        "id": "hdv0krr-WH_e"
      },
      "execution_count": null,
      "outputs": []
    },
    {
      "cell_type": "markdown",
      "source": [
        "## Há meses depois de Abril em 2022?\n",
        "* No momento desta EDA, estou em Abril de 2022, portanto não pode ter meses após esse."
      ],
      "metadata": {
        "id": "UyfBKQxwZ1pi"
      }
    },
    {
      "cell_type": "code",
      "source": [
        "index = despesa_ceaps_2022_desagrupado[despesa_ceaps_2022_desagrupado['DATA'].str[3:5].astype(int)>4]['DATA'].index"
      ],
      "metadata": {
        "id": "5FyJCnTVaKn9"
      },
      "execution_count": null,
      "outputs": []
    },
    {
      "cell_type": "code",
      "source": [
        "despesa_ceaps_2021_encontrado_em_2022 = pd.DataFrame(despesa_ceaps_2022_desagrupado, index=index)"
      ],
      "metadata": {
        "id": "IxXPeDWGbAcg"
      },
      "execution_count": null,
      "outputs": []
    },
    {
      "cell_type": "code",
      "source": [
        "despesa_ceaps_2021_encontrado_em_2022.DATA.str[3:5].unique()"
      ],
      "metadata": {
        "colab": {
          "base_uri": "https://localhost:8080/"
        },
        "id": "lk9SSqN7cFbO",
        "outputId": "9878d1ff-10c7-42eb-ad42-3a8b4a332f46"
      },
      "execution_count": null,
      "outputs": [
        {
          "output_type": "execute_result",
          "data": {
            "text/plain": [
              "array(['12', '11', '08', '07', '09', '10'], dtype=object)"
            ]
          },
          "metadata": {},
          "execution_count": 260
        }
      ]
    },
    {
      "cell_type": "markdown",
      "source": [
        "* Sustituir 2022 com 2021 na despesa_ceaps_2021_encontrado_em_2022."
      ],
      "metadata": {
        "id": "Q68xCjged9FW"
      }
    },
    {
      "cell_type": "code",
      "source": [
        "despesa_ceaps_2021_encontrado_em_2022.DATA = despesa_ceaps_2021_encontrado_em_2022.DATA.replace('2022', '2021', regex=True)"
      ],
      "metadata": {
        "id": "wOP9QnuPdhS3"
      },
      "execution_count": null,
      "outputs": []
    },
    {
      "cell_type": "markdown",
      "source": [
        "* Os meses únicos estão mais para o final do ano, isso sugere que provavelmente esses dados foram registrados em 2021.\n",
        "* Remover linhas da despesa_ceaps_2022_desagrupado."
      ],
      "metadata": {
        "id": "R0NC5nlAcRHi"
      }
    },
    {
      "cell_type": "code",
      "source": [
        "despesa_ceaps_2022_desagrupado = despesa_ceaps_2022_desagrupado.drop(labels=index, axis=0)"
      ],
      "metadata": {
        "id": "VfFVqHLsc3f-"
      },
      "execution_count": null,
      "outputs": []
    },
    {
      "cell_type": "markdown",
      "source": [
        "# Substituir coluna MES e ANO, e criar coluna DIA."
      ],
      "metadata": {
        "id": "Ix4BgOg-Wb2J"
      }
    },
    {
      "cell_type": "code",
      "source": [
        "despesa_ceaps_2019_desagrupado['DIA'] = despesa_ceaps_2019_desagrupado['DATA'].str[:2].astype(int)\n",
        "despesa_ceaps_2020_desagrupado['DIA'] = despesa_ceaps_2020_desagrupado['DATA'].str[:2].astype(int)\n",
        "despesa_ceaps_2021_desagrupado['DIA'] = despesa_ceaps_2021_desagrupado['DATA'].str[:2].astype(int)\n",
        "despesa_ceaps_2022_desagrupado['DIA'] = despesa_ceaps_2022_desagrupado['DATA'].str[:2].astype(int)\n",
        "despesa_ceaps_2021_encontrado_em_2022['DIA'] = despesa_ceaps_2021_encontrado_em_2022['DATA'].str[:2].astype(int)"
      ],
      "metadata": {
        "id": "oS4zsrjfWkcG"
      },
      "execution_count": null,
      "outputs": []
    },
    {
      "cell_type": "code",
      "source": [
        "despesa_ceaps_2019_desagrupado['MES'] = despesa_ceaps_2019_desagrupado['DATA'].str[3:5].astype(int)\n",
        "despesa_ceaps_2020_desagrupado['MES'] = despesa_ceaps_2020_desagrupado['DATA'].str[3:5].astype(int)\n",
        "despesa_ceaps_2021_desagrupado['MES'] = despesa_ceaps_2021_desagrupado['DATA'].str[3:5].astype(int)\n",
        "despesa_ceaps_2022_desagrupado['MES'] = despesa_ceaps_2022_desagrupado['DATA'].str[3:5].astype(int)\n",
        "despesa_ceaps_2021_encontrado_em_2022['MES'] = despesa_ceaps_2021_encontrado_em_2022['DATA'].str[3:5].astype(int)"
      ],
      "metadata": {
        "id": "eVEW6D3DW884"
      },
      "execution_count": null,
      "outputs": []
    },
    {
      "cell_type": "code",
      "source": [
        "despesa_ceaps_2019_desagrupado['ANO'] = despesa_ceaps_2019_desagrupado['DATA'].str[6:].astype(int)\n",
        "despesa_ceaps_2020_desagrupado['ANO'] = despesa_ceaps_2020_desagrupado['DATA'].str[6:].astype(int)\n",
        "despesa_ceaps_2021_desagrupado['ANO'] = despesa_ceaps_2021_desagrupado['DATA'].str[6:].astype(int)\n",
        "despesa_ceaps_2022_desagrupado['ANO'] = despesa_ceaps_2022_desagrupado['DATA'].str[6:].astype(int)\n",
        "despesa_ceaps_2021_encontrado_em_2022['ANO'] = despesa_ceaps_2021_encontrado_em_2022['DATA'].str[6:].astype(int)"
      ],
      "metadata": {
        "id": "mVtnRY4VXrBR"
      },
      "execution_count": null,
      "outputs": []
    },
    {
      "cell_type": "markdown",
      "source": [
        "## Visão geral dos datasets."
      ],
      "metadata": {
        "id": "sII4LqfqIXxS"
      }
    },
    {
      "cell_type": "code",
      "source": [
        "despesa_ceaps_2019_desagrupado.info()"
      ],
      "metadata": {
        "id": "G9giEgpzZFh4",
        "colab": {
          "base_uri": "https://localhost:8080/"
        },
        "outputId": "8152eb7e-17b2-472b-b68f-4d38427bfed8"
      },
      "execution_count": null,
      "outputs": [
        {
          "output_type": "stream",
          "name": "stdout",
          "text": [
            "<class 'pandas.core.frame.DataFrame'>\n",
            "Int64Index: 21634 entries, 1 to 21634\n",
            "Data columns (total 14 columns):\n",
            " #   Column             Non-Null Count  Dtype  \n",
            "---  ------             --------------  -----  \n",
            " 0   ANO                21634 non-null  int64  \n",
            " 1   MES                21634 non-null  int64  \n",
            " 2   SENADOR            21634 non-null  object \n",
            " 3   TIPO_DESPESA       21634 non-null  object \n",
            " 4   CNPJ_CPF           21634 non-null  object \n",
            " 5   FORNECEDOR         21634 non-null  object \n",
            " 6   DOCUMENTO          20900 non-null  object \n",
            " 7   DATA               21634 non-null  object \n",
            " 8   DETALHAMENTO       13092 non-null  object \n",
            " 9   VALOR_REEMBOLSADO  21634 non-null  object \n",
            " 10  COD_DOCUMENTO      21634 non-null  object \n",
            " 11  SEM_DOCUMENTO      21634 non-null  float64\n",
            " 12  SEM_DETALHAMENTO   21634 non-null  float64\n",
            " 13  DIA                21634 non-null  int64  \n",
            "dtypes: float64(2), int64(3), object(9)\n",
            "memory usage: 3.0+ MB\n"
          ]
        }
      ]
    },
    {
      "cell_type": "code",
      "source": [
        "despesa_ceaps_2020_desagrupado.info()"
      ],
      "metadata": {
        "colab": {
          "base_uri": "https://localhost:8080/"
        },
        "id": "z8acDzJ-V-Fb",
        "outputId": "dbd28903-bbe7-4730-9993-3a3b2347c490"
      },
      "execution_count": null,
      "outputs": [
        {
          "output_type": "stream",
          "name": "stdout",
          "text": [
            "<class 'pandas.core.frame.DataFrame'>\n",
            "Int64Index: 14090 entries, 1 to 14090\n",
            "Data columns (total 14 columns):\n",
            " #   Column             Non-Null Count  Dtype  \n",
            "---  ------             --------------  -----  \n",
            " 0   ANO                14090 non-null  int64  \n",
            " 1   MES                14090 non-null  int64  \n",
            " 2   SENADOR            14090 non-null  object \n",
            " 3   TIPO_DESPESA       14090 non-null  object \n",
            " 4   CNPJ_CPF           14090 non-null  object \n",
            " 5   FORNECEDOR         14090 non-null  object \n",
            " 6   DOCUMENTO          13470 non-null  object \n",
            " 7   DATA               14090 non-null  object \n",
            " 8   DETALHAMENTO       7228 non-null   object \n",
            " 9   VALOR_REEMBOLSADO  14090 non-null  object \n",
            " 10  COD_DOCUMENTO      14090 non-null  object \n",
            " 11  SEM_DOCUMENTO      14090 non-null  float64\n",
            " 12  SEM_DETALHAMENTO   14090 non-null  float64\n",
            " 13  DIA                14090 non-null  int64  \n",
            "dtypes: float64(2), int64(3), object(9)\n",
            "memory usage: 2.1+ MB\n"
          ]
        }
      ]
    },
    {
      "cell_type": "code",
      "source": [
        "despesa_ceaps_2021_desagrupado.info()"
      ],
      "metadata": {
        "colab": {
          "base_uri": "https://localhost:8080/"
        },
        "id": "aTxcid6AV_l9",
        "outputId": "80183c22-642f-4c04-8675-d5fb525fb5f7"
      },
      "execution_count": null,
      "outputs": [
        {
          "output_type": "stream",
          "name": "stdout",
          "text": [
            "<class 'pandas.core.frame.DataFrame'>\n",
            "Int64Index: 16808 entries, 1 to 16808\n",
            "Data columns (total 14 columns):\n",
            " #   Column             Non-Null Count  Dtype  \n",
            "---  ------             --------------  -----  \n",
            " 0   ANO                16808 non-null  int64  \n",
            " 1   MES                16808 non-null  int64  \n",
            " 2   SENADOR            16808 non-null  object \n",
            " 3   TIPO_DESPESA       16808 non-null  object \n",
            " 4   CNPJ_CPF           16808 non-null  object \n",
            " 5   FORNECEDOR         16808 non-null  object \n",
            " 6   DOCUMENTO          16133 non-null  object \n",
            " 7   DATA               16808 non-null  object \n",
            " 8   DETALHAMENTO       9193 non-null   object \n",
            " 9   VALOR_REEMBOLSADO  16808 non-null  object \n",
            " 10  COD_DOCUMENTO      16808 non-null  object \n",
            " 11  SEM_DOCUMENTO      16808 non-null  float64\n",
            " 12  SEM_DETALHAMENTO   16808 non-null  float64\n",
            " 13  DIA                16808 non-null  int64  \n",
            "dtypes: float64(2), int64(3), object(9)\n",
            "memory usage: 2.4+ MB\n"
          ]
        }
      ]
    },
    {
      "cell_type": "code",
      "source": [
        "despesa_ceaps_2022_desagrupado.info()"
      ],
      "metadata": {
        "colab": {
          "base_uri": "https://localhost:8080/"
        },
        "id": "jkLQPLXCWBZZ",
        "outputId": "8b4ded05-4fbd-4d64-8e60-4d20d237b7fd"
      },
      "execution_count": null,
      "outputs": [
        {
          "output_type": "stream",
          "name": "stdout",
          "text": [
            "<class 'pandas.core.frame.DataFrame'>\n",
            "Int64Index: 3679 entries, 1 to 3749\n",
            "Data columns (total 14 columns):\n",
            " #   Column             Non-Null Count  Dtype  \n",
            "---  ------             --------------  -----  \n",
            " 0   ANO                3679 non-null   int64  \n",
            " 1   MES                3679 non-null   int64  \n",
            " 2   SENADOR            3679 non-null   object \n",
            " 3   TIPO_DESPESA       3679 non-null   object \n",
            " 4   CNPJ_CPF           3679 non-null   object \n",
            " 5   FORNECEDOR         3679 non-null   object \n",
            " 6   DOCUMENTO          3518 non-null   object \n",
            " 7   DATA               3679 non-null   object \n",
            " 8   DETALHAMENTO       1894 non-null   object \n",
            " 9   VALOR_REEMBOLSADO  3679 non-null   object \n",
            " 10  COD_DOCUMENTO      3679 non-null   object \n",
            " 11  SEM_DOCUMENTO      3679 non-null   float64\n",
            " 12  SEM_DETALHAMENTO   3679 non-null   float64\n",
            " 13  DIA                3679 non-null   int64  \n",
            "dtypes: float64(2), int64(3), object(9)\n",
            "memory usage: 431.1+ KB\n"
          ]
        }
      ]
    },
    {
      "cell_type": "code",
      "source": [
        "despesa_ceaps_2019_desagrupado.head(3)"
      ],
      "metadata": {
        "colab": {
          "base_uri": "https://localhost:8080/",
          "height": 364
        },
        "id": "qy1oUmvfWGuV",
        "outputId": "ca823450-1054-4b3f-ca51-67288bd61013"
      },
      "execution_count": null,
      "outputs": [
        {
          "output_type": "execute_result",
          "data": {
            "text/plain": [
              "    ANO  MES       SENADOR                                       TIPO_DESPESA  \\\n",
              "1  2019    1  ACIR GURGACZ  Aluguel de imóveis para escritório político, c...   \n",
              "2  2019    1  ACIR GURGACZ  Aluguel de imóveis para escritório político, c...   \n",
              "3  2019    1  ACIR GURGACZ  Aluguel de imóveis para escritório político, c...   \n",
              "\n",
              "             CNPJ_CPF                     FORNECEDOR  DOCUMENTO        DATA  \\\n",
              "1  05.914.650/0001-66                       ENERGISA  006582758  04/01/2019   \n",
              "2  05.914.650/0001-66                       ENERGISA  006582755  04/01/2019   \n",
              "3      004.948.028-63  GILBERTO PISELO DO NASCIMENTO      00119  07/01/2019   \n",
              "\n",
              "                                        DETALHAMENTO VALOR_REEMBOLSADO  \\\n",
              "1  Despesa com pagamento de energia elétrica do e...             66,02   \n",
              "2  Despesa com pagamento de energia elétrica do e...            139,98   \n",
              "3  Despesa com pagamento de aluguel de imóvel par...              6000   \n",
              "\n",
              "  COD_DOCUMENTO  SEM_DOCUMENTO  SEM_DETALHAMENTO  DIA  \n",
              "1       2116543            0.0               0.0    4  \n",
              "2       2116546            0.0               0.0    4  \n",
              "3       2113817            0.0               0.0    7  "
            ],
            "text/html": [
              "\n",
              "  <div id=\"df-ad61f7d8-2614-40f9-98dc-32f1d2323287\">\n",
              "    <div class=\"colab-df-container\">\n",
              "      <div>\n",
              "<style scoped>\n",
              "    .dataframe tbody tr th:only-of-type {\n",
              "        vertical-align: middle;\n",
              "    }\n",
              "\n",
              "    .dataframe tbody tr th {\n",
              "        vertical-align: top;\n",
              "    }\n",
              "\n",
              "    .dataframe thead th {\n",
              "        text-align: right;\n",
              "    }\n",
              "</style>\n",
              "<table border=\"1\" class=\"dataframe\">\n",
              "  <thead>\n",
              "    <tr style=\"text-align: right;\">\n",
              "      <th></th>\n",
              "      <th>ANO</th>\n",
              "      <th>MES</th>\n",
              "      <th>SENADOR</th>\n",
              "      <th>TIPO_DESPESA</th>\n",
              "      <th>CNPJ_CPF</th>\n",
              "      <th>FORNECEDOR</th>\n",
              "      <th>DOCUMENTO</th>\n",
              "      <th>DATA</th>\n",
              "      <th>DETALHAMENTO</th>\n",
              "      <th>VALOR_REEMBOLSADO</th>\n",
              "      <th>COD_DOCUMENTO</th>\n",
              "      <th>SEM_DOCUMENTO</th>\n",
              "      <th>SEM_DETALHAMENTO</th>\n",
              "      <th>DIA</th>\n",
              "    </tr>\n",
              "  </thead>\n",
              "  <tbody>\n",
              "    <tr>\n",
              "      <th>1</th>\n",
              "      <td>2019</td>\n",
              "      <td>1</td>\n",
              "      <td>ACIR GURGACZ</td>\n",
              "      <td>Aluguel de imóveis para escritório político, c...</td>\n",
              "      <td>05.914.650/0001-66</td>\n",
              "      <td>ENERGISA</td>\n",
              "      <td>006582758</td>\n",
              "      <td>04/01/2019</td>\n",
              "      <td>Despesa com pagamento de energia elétrica do e...</td>\n",
              "      <td>66,02</td>\n",
              "      <td>2116543</td>\n",
              "      <td>0.0</td>\n",
              "      <td>0.0</td>\n",
              "      <td>4</td>\n",
              "    </tr>\n",
              "    <tr>\n",
              "      <th>2</th>\n",
              "      <td>2019</td>\n",
              "      <td>1</td>\n",
              "      <td>ACIR GURGACZ</td>\n",
              "      <td>Aluguel de imóveis para escritório político, c...</td>\n",
              "      <td>05.914.650/0001-66</td>\n",
              "      <td>ENERGISA</td>\n",
              "      <td>006582755</td>\n",
              "      <td>04/01/2019</td>\n",
              "      <td>Despesa com pagamento de energia elétrica do e...</td>\n",
              "      <td>139,98</td>\n",
              "      <td>2116546</td>\n",
              "      <td>0.0</td>\n",
              "      <td>0.0</td>\n",
              "      <td>4</td>\n",
              "    </tr>\n",
              "    <tr>\n",
              "      <th>3</th>\n",
              "      <td>2019</td>\n",
              "      <td>1</td>\n",
              "      <td>ACIR GURGACZ</td>\n",
              "      <td>Aluguel de imóveis para escritório político, c...</td>\n",
              "      <td>004.948.028-63</td>\n",
              "      <td>GILBERTO PISELO DO NASCIMENTO</td>\n",
              "      <td>00119</td>\n",
              "      <td>07/01/2019</td>\n",
              "      <td>Despesa com pagamento de aluguel de imóvel par...</td>\n",
              "      <td>6000</td>\n",
              "      <td>2113817</td>\n",
              "      <td>0.0</td>\n",
              "      <td>0.0</td>\n",
              "      <td>7</td>\n",
              "    </tr>\n",
              "  </tbody>\n",
              "</table>\n",
              "</div>\n",
              "      <button class=\"colab-df-convert\" onclick=\"convertToInteractive('df-ad61f7d8-2614-40f9-98dc-32f1d2323287')\"\n",
              "              title=\"Convert this dataframe to an interactive table.\"\n",
              "              style=\"display:none;\">\n",
              "        \n",
              "  <svg xmlns=\"http://www.w3.org/2000/svg\" height=\"24px\"viewBox=\"0 0 24 24\"\n",
              "       width=\"24px\">\n",
              "    <path d=\"M0 0h24v24H0V0z\" fill=\"none\"/>\n",
              "    <path d=\"M18.56 5.44l.94 2.06.94-2.06 2.06-.94-2.06-.94-.94-2.06-.94 2.06-2.06.94zm-11 1L8.5 8.5l.94-2.06 2.06-.94-2.06-.94L8.5 2.5l-.94 2.06-2.06.94zm10 10l.94 2.06.94-2.06 2.06-.94-2.06-.94-.94-2.06-.94 2.06-2.06.94z\"/><path d=\"M17.41 7.96l-1.37-1.37c-.4-.4-.92-.59-1.43-.59-.52 0-1.04.2-1.43.59L10.3 9.45l-7.72 7.72c-.78.78-.78 2.05 0 2.83L4 21.41c.39.39.9.59 1.41.59.51 0 1.02-.2 1.41-.59l7.78-7.78 2.81-2.81c.8-.78.8-2.07 0-2.86zM5.41 20L4 18.59l7.72-7.72 1.47 1.35L5.41 20z\"/>\n",
              "  </svg>\n",
              "      </button>\n",
              "      \n",
              "  <style>\n",
              "    .colab-df-container {\n",
              "      display:flex;\n",
              "      flex-wrap:wrap;\n",
              "      gap: 12px;\n",
              "    }\n",
              "\n",
              "    .colab-df-convert {\n",
              "      background-color: #E8F0FE;\n",
              "      border: none;\n",
              "      border-radius: 50%;\n",
              "      cursor: pointer;\n",
              "      display: none;\n",
              "      fill: #1967D2;\n",
              "      height: 32px;\n",
              "      padding: 0 0 0 0;\n",
              "      width: 32px;\n",
              "    }\n",
              "\n",
              "    .colab-df-convert:hover {\n",
              "      background-color: #E2EBFA;\n",
              "      box-shadow: 0px 1px 2px rgba(60, 64, 67, 0.3), 0px 1px 3px 1px rgba(60, 64, 67, 0.15);\n",
              "      fill: #174EA6;\n",
              "    }\n",
              "\n",
              "    [theme=dark] .colab-df-convert {\n",
              "      background-color: #3B4455;\n",
              "      fill: #D2E3FC;\n",
              "    }\n",
              "\n",
              "    [theme=dark] .colab-df-convert:hover {\n",
              "      background-color: #434B5C;\n",
              "      box-shadow: 0px 1px 3px 1px rgba(0, 0, 0, 0.15);\n",
              "      filter: drop-shadow(0px 1px 2px rgba(0, 0, 0, 0.3));\n",
              "      fill: #FFFFFF;\n",
              "    }\n",
              "  </style>\n",
              "\n",
              "      <script>\n",
              "        const buttonEl =\n",
              "          document.querySelector('#df-ad61f7d8-2614-40f9-98dc-32f1d2323287 button.colab-df-convert');\n",
              "        buttonEl.style.display =\n",
              "          google.colab.kernel.accessAllowed ? 'block' : 'none';\n",
              "\n",
              "        async function convertToInteractive(key) {\n",
              "          const element = document.querySelector('#df-ad61f7d8-2614-40f9-98dc-32f1d2323287');\n",
              "          const dataTable =\n",
              "            await google.colab.kernel.invokeFunction('convertToInteractive',\n",
              "                                                     [key], {});\n",
              "          if (!dataTable) return;\n",
              "\n",
              "          const docLinkHtml = 'Like what you see? Visit the ' +\n",
              "            '<a target=\"_blank\" href=https://colab.research.google.com/notebooks/data_table.ipynb>data table notebook</a>'\n",
              "            + ' to learn more about interactive tables.';\n",
              "          element.innerHTML = '';\n",
              "          dataTable['output_type'] = 'display_data';\n",
              "          await google.colab.output.renderOutput(dataTable, element);\n",
              "          const docLink = document.createElement('div');\n",
              "          docLink.innerHTML = docLinkHtml;\n",
              "          element.appendChild(docLink);\n",
              "        }\n",
              "      </script>\n",
              "    </div>\n",
              "  </div>\n",
              "  "
            ]
          },
          "metadata": {},
          "execution_count": 270
        }
      ]
    },
    {
      "cell_type": "code",
      "source": [
        "despesa_ceaps_2019_desagrupado.tail(3)"
      ],
      "metadata": {
        "colab": {
          "base_uri": "https://localhost:8080/",
          "height": 416
        },
        "id": "vwgtGGruQAwZ",
        "outputId": "71cf382c-a1e9-4161-f9e6-8425c1542cd7"
      },
      "execution_count": null,
      "outputs": [
        {
          "output_type": "execute_result",
          "data": {
            "text/plain": [
              "        ANO  MES        SENADOR  \\\n",
              "21632  2019    1  ZEZÉ PERRELLA   \n",
              "21633  2019    1  ZEZÉ PERRELLA   \n",
              "21634  2019    1  ZEZÉ PERRELLA   \n",
              "\n",
              "                                            TIPO_DESPESA            CNPJ_CPF  \\\n",
              "21632  Passagens aéreas, aquáticas e terrestres nacio...  07.575.651/0001-59   \n",
              "21633  Passagens aéreas, aquáticas e terrestres nacio...  33.937.681/0001-78   \n",
              "21634  Passagens aéreas, aquáticas e terrestres nacio...  33.937.681/0001-78   \n",
              "\n",
              "      FORNECEDOR DOCUMENTO        DATA  \\\n",
              "21632        GOL    WNQI4A  29/01/2019   \n",
              "21633      LATAM    NCCPIM  23/01/2019   \n",
              "21634      LATAM    MEYLWB  26/01/2019   \n",
              "\n",
              "                                            DETALHAMENTO VALOR_REEMBOLSADO  \\\n",
              "21632  Companhia Aérea: GOL, Localizador: WNQI4A. Pas...            1168,1   \n",
              "21633  Companhia Aérea: LATAM, Localizador: NCCPIM. P...            772,05   \n",
              "21634  Companhia Aérea: LATAM, Localizador: MEYLWB. P...           1755,17   \n",
              "\n",
              "      COD_DOCUMENTO  SEM_DOCUMENTO  SEM_DETALHAMENTO  DIA  \n",
              "21632       2114101            0.0               0.0   29  \n",
              "21633       2113826            0.0               0.0   23  \n",
              "21634       2113830            0.0               0.0   26  "
            ],
            "text/html": [
              "\n",
              "  <div id=\"df-a16f1af0-8979-471a-a264-40114bfa2b09\">\n",
              "    <div class=\"colab-df-container\">\n",
              "      <div>\n",
              "<style scoped>\n",
              "    .dataframe tbody tr th:only-of-type {\n",
              "        vertical-align: middle;\n",
              "    }\n",
              "\n",
              "    .dataframe tbody tr th {\n",
              "        vertical-align: top;\n",
              "    }\n",
              "\n",
              "    .dataframe thead th {\n",
              "        text-align: right;\n",
              "    }\n",
              "</style>\n",
              "<table border=\"1\" class=\"dataframe\">\n",
              "  <thead>\n",
              "    <tr style=\"text-align: right;\">\n",
              "      <th></th>\n",
              "      <th>ANO</th>\n",
              "      <th>MES</th>\n",
              "      <th>SENADOR</th>\n",
              "      <th>TIPO_DESPESA</th>\n",
              "      <th>CNPJ_CPF</th>\n",
              "      <th>FORNECEDOR</th>\n",
              "      <th>DOCUMENTO</th>\n",
              "      <th>DATA</th>\n",
              "      <th>DETALHAMENTO</th>\n",
              "      <th>VALOR_REEMBOLSADO</th>\n",
              "      <th>COD_DOCUMENTO</th>\n",
              "      <th>SEM_DOCUMENTO</th>\n",
              "      <th>SEM_DETALHAMENTO</th>\n",
              "      <th>DIA</th>\n",
              "    </tr>\n",
              "  </thead>\n",
              "  <tbody>\n",
              "    <tr>\n",
              "      <th>21632</th>\n",
              "      <td>2019</td>\n",
              "      <td>1</td>\n",
              "      <td>ZEZÉ PERRELLA</td>\n",
              "      <td>Passagens aéreas, aquáticas e terrestres nacio...</td>\n",
              "      <td>07.575.651/0001-59</td>\n",
              "      <td>GOL</td>\n",
              "      <td>WNQI4A</td>\n",
              "      <td>29/01/2019</td>\n",
              "      <td>Companhia Aérea: GOL, Localizador: WNQI4A. Pas...</td>\n",
              "      <td>1168,1</td>\n",
              "      <td>2114101</td>\n",
              "      <td>0.0</td>\n",
              "      <td>0.0</td>\n",
              "      <td>29</td>\n",
              "    </tr>\n",
              "    <tr>\n",
              "      <th>21633</th>\n",
              "      <td>2019</td>\n",
              "      <td>1</td>\n",
              "      <td>ZEZÉ PERRELLA</td>\n",
              "      <td>Passagens aéreas, aquáticas e terrestres nacio...</td>\n",
              "      <td>33.937.681/0001-78</td>\n",
              "      <td>LATAM</td>\n",
              "      <td>NCCPIM</td>\n",
              "      <td>23/01/2019</td>\n",
              "      <td>Companhia Aérea: LATAM, Localizador: NCCPIM. P...</td>\n",
              "      <td>772,05</td>\n",
              "      <td>2113826</td>\n",
              "      <td>0.0</td>\n",
              "      <td>0.0</td>\n",
              "      <td>23</td>\n",
              "    </tr>\n",
              "    <tr>\n",
              "      <th>21634</th>\n",
              "      <td>2019</td>\n",
              "      <td>1</td>\n",
              "      <td>ZEZÉ PERRELLA</td>\n",
              "      <td>Passagens aéreas, aquáticas e terrestres nacio...</td>\n",
              "      <td>33.937.681/0001-78</td>\n",
              "      <td>LATAM</td>\n",
              "      <td>MEYLWB</td>\n",
              "      <td>26/01/2019</td>\n",
              "      <td>Companhia Aérea: LATAM, Localizador: MEYLWB. P...</td>\n",
              "      <td>1755,17</td>\n",
              "      <td>2113830</td>\n",
              "      <td>0.0</td>\n",
              "      <td>0.0</td>\n",
              "      <td>26</td>\n",
              "    </tr>\n",
              "  </tbody>\n",
              "</table>\n",
              "</div>\n",
              "      <button class=\"colab-df-convert\" onclick=\"convertToInteractive('df-a16f1af0-8979-471a-a264-40114bfa2b09')\"\n",
              "              title=\"Convert this dataframe to an interactive table.\"\n",
              "              style=\"display:none;\">\n",
              "        \n",
              "  <svg xmlns=\"http://www.w3.org/2000/svg\" height=\"24px\"viewBox=\"0 0 24 24\"\n",
              "       width=\"24px\">\n",
              "    <path d=\"M0 0h24v24H0V0z\" fill=\"none\"/>\n",
              "    <path d=\"M18.56 5.44l.94 2.06.94-2.06 2.06-.94-2.06-.94-.94-2.06-.94 2.06-2.06.94zm-11 1L8.5 8.5l.94-2.06 2.06-.94-2.06-.94L8.5 2.5l-.94 2.06-2.06.94zm10 10l.94 2.06.94-2.06 2.06-.94-2.06-.94-.94-2.06-.94 2.06-2.06.94z\"/><path d=\"M17.41 7.96l-1.37-1.37c-.4-.4-.92-.59-1.43-.59-.52 0-1.04.2-1.43.59L10.3 9.45l-7.72 7.72c-.78.78-.78 2.05 0 2.83L4 21.41c.39.39.9.59 1.41.59.51 0 1.02-.2 1.41-.59l7.78-7.78 2.81-2.81c.8-.78.8-2.07 0-2.86zM5.41 20L4 18.59l7.72-7.72 1.47 1.35L5.41 20z\"/>\n",
              "  </svg>\n",
              "      </button>\n",
              "      \n",
              "  <style>\n",
              "    .colab-df-container {\n",
              "      display:flex;\n",
              "      flex-wrap:wrap;\n",
              "      gap: 12px;\n",
              "    }\n",
              "\n",
              "    .colab-df-convert {\n",
              "      background-color: #E8F0FE;\n",
              "      border: none;\n",
              "      border-radius: 50%;\n",
              "      cursor: pointer;\n",
              "      display: none;\n",
              "      fill: #1967D2;\n",
              "      height: 32px;\n",
              "      padding: 0 0 0 0;\n",
              "      width: 32px;\n",
              "    }\n",
              "\n",
              "    .colab-df-convert:hover {\n",
              "      background-color: #E2EBFA;\n",
              "      box-shadow: 0px 1px 2px rgba(60, 64, 67, 0.3), 0px 1px 3px 1px rgba(60, 64, 67, 0.15);\n",
              "      fill: #174EA6;\n",
              "    }\n",
              "\n",
              "    [theme=dark] .colab-df-convert {\n",
              "      background-color: #3B4455;\n",
              "      fill: #D2E3FC;\n",
              "    }\n",
              "\n",
              "    [theme=dark] .colab-df-convert:hover {\n",
              "      background-color: #434B5C;\n",
              "      box-shadow: 0px 1px 3px 1px rgba(0, 0, 0, 0.15);\n",
              "      filter: drop-shadow(0px 1px 2px rgba(0, 0, 0, 0.3));\n",
              "      fill: #FFFFFF;\n",
              "    }\n",
              "  </style>\n",
              "\n",
              "      <script>\n",
              "        const buttonEl =\n",
              "          document.querySelector('#df-a16f1af0-8979-471a-a264-40114bfa2b09 button.colab-df-convert');\n",
              "        buttonEl.style.display =\n",
              "          google.colab.kernel.accessAllowed ? 'block' : 'none';\n",
              "\n",
              "        async function convertToInteractive(key) {\n",
              "          const element = document.querySelector('#df-a16f1af0-8979-471a-a264-40114bfa2b09');\n",
              "          const dataTable =\n",
              "            await google.colab.kernel.invokeFunction('convertToInteractive',\n",
              "                                                     [key], {});\n",
              "          if (!dataTable) return;\n",
              "\n",
              "          const docLinkHtml = 'Like what you see? Visit the ' +\n",
              "            '<a target=\"_blank\" href=https://colab.research.google.com/notebooks/data_table.ipynb>data table notebook</a>'\n",
              "            + ' to learn more about interactive tables.';\n",
              "          element.innerHTML = '';\n",
              "          dataTable['output_type'] = 'display_data';\n",
              "          await google.colab.output.renderOutput(dataTable, element);\n",
              "          const docLink = document.createElement('div');\n",
              "          docLink.innerHTML = docLinkHtml;\n",
              "          element.appendChild(docLink);\n",
              "        }\n",
              "      </script>\n",
              "    </div>\n",
              "  </div>\n",
              "  "
            ]
          },
          "metadata": {},
          "execution_count": 271
        }
      ]
    },
    {
      "cell_type": "code",
      "source": [
        "despesa_ceaps_2020_desagrupado.head(3)"
      ],
      "metadata": {
        "colab": {
          "base_uri": "https://localhost:8080/",
          "height": 398
        },
        "id": "bn-nAXP9WLlT",
        "outputId": "37fe56ad-6c2a-4f57-9e78-1e135f6e36af"
      },
      "execution_count": null,
      "outputs": [
        {
          "output_type": "execute_result",
          "data": {
            "text/plain": [
              "    ANO  MES       SENADOR                                       TIPO_DESPESA  \\\n",
              "1  2020    1  ACIR GURGACZ  Aluguel de imóveis para escritório político, c...   \n",
              "2  2020    1  ACIR GURGACZ  Aluguel de imóveis para escritório político, c...   \n",
              "3  2020    1  ACIR GURGACZ  Aluguel de imóveis para escritório político, c...   \n",
              "\n",
              "             CNPJ_CPF                                         FORNECEDOR  \\\n",
              "1  05.914.650/0001-66                                           ENERGISA   \n",
              "2  05.914.650/0001-66                                           ENERGISA   \n",
              "3      062.135.728-64  FERNANDO WALDEIR PACINI e ANA LUCIA DA SILVA S...   \n",
              "\n",
              "  DOCUMENTO        DATA                                       DETALHAMENTO  \\\n",
              "1  14764742  06/01/2020  Despesa com energia elétrica para uso do escri...   \n",
              "2  14764741  06/01/2020  Despesa com energia elétrica para uso do escri...   \n",
              "3  001/2020  06/01/2020  Despesa com pagamento de aluguel de imóvel par...   \n",
              "\n",
              "  VALOR_REEMBOLSADO COD_DOCUMENTO  SEM_DOCUMENTO  SEM_DETALHAMENTO  DIA  \n",
              "1            122,62       2141820            0.0               0.0    6  \n",
              "2            137,75       2141818            0.0               0.0    6  \n",
              "3              1000       2139025            0.0               0.0    6  "
            ],
            "text/html": [
              "\n",
              "  <div id=\"df-8cf2b631-00f6-4703-8006-15ffdedbda3a\">\n",
              "    <div class=\"colab-df-container\">\n",
              "      <div>\n",
              "<style scoped>\n",
              "    .dataframe tbody tr th:only-of-type {\n",
              "        vertical-align: middle;\n",
              "    }\n",
              "\n",
              "    .dataframe tbody tr th {\n",
              "        vertical-align: top;\n",
              "    }\n",
              "\n",
              "    .dataframe thead th {\n",
              "        text-align: right;\n",
              "    }\n",
              "</style>\n",
              "<table border=\"1\" class=\"dataframe\">\n",
              "  <thead>\n",
              "    <tr style=\"text-align: right;\">\n",
              "      <th></th>\n",
              "      <th>ANO</th>\n",
              "      <th>MES</th>\n",
              "      <th>SENADOR</th>\n",
              "      <th>TIPO_DESPESA</th>\n",
              "      <th>CNPJ_CPF</th>\n",
              "      <th>FORNECEDOR</th>\n",
              "      <th>DOCUMENTO</th>\n",
              "      <th>DATA</th>\n",
              "      <th>DETALHAMENTO</th>\n",
              "      <th>VALOR_REEMBOLSADO</th>\n",
              "      <th>COD_DOCUMENTO</th>\n",
              "      <th>SEM_DOCUMENTO</th>\n",
              "      <th>SEM_DETALHAMENTO</th>\n",
              "      <th>DIA</th>\n",
              "    </tr>\n",
              "  </thead>\n",
              "  <tbody>\n",
              "    <tr>\n",
              "      <th>1</th>\n",
              "      <td>2020</td>\n",
              "      <td>1</td>\n",
              "      <td>ACIR GURGACZ</td>\n",
              "      <td>Aluguel de imóveis para escritório político, c...</td>\n",
              "      <td>05.914.650/0001-66</td>\n",
              "      <td>ENERGISA</td>\n",
              "      <td>14764742</td>\n",
              "      <td>06/01/2020</td>\n",
              "      <td>Despesa com energia elétrica para uso do escri...</td>\n",
              "      <td>122,62</td>\n",
              "      <td>2141820</td>\n",
              "      <td>0.0</td>\n",
              "      <td>0.0</td>\n",
              "      <td>6</td>\n",
              "    </tr>\n",
              "    <tr>\n",
              "      <th>2</th>\n",
              "      <td>2020</td>\n",
              "      <td>1</td>\n",
              "      <td>ACIR GURGACZ</td>\n",
              "      <td>Aluguel de imóveis para escritório político, c...</td>\n",
              "      <td>05.914.650/0001-66</td>\n",
              "      <td>ENERGISA</td>\n",
              "      <td>14764741</td>\n",
              "      <td>06/01/2020</td>\n",
              "      <td>Despesa com energia elétrica para uso do escri...</td>\n",
              "      <td>137,75</td>\n",
              "      <td>2141818</td>\n",
              "      <td>0.0</td>\n",
              "      <td>0.0</td>\n",
              "      <td>6</td>\n",
              "    </tr>\n",
              "    <tr>\n",
              "      <th>3</th>\n",
              "      <td>2020</td>\n",
              "      <td>1</td>\n",
              "      <td>ACIR GURGACZ</td>\n",
              "      <td>Aluguel de imóveis para escritório político, c...</td>\n",
              "      <td>062.135.728-64</td>\n",
              "      <td>FERNANDO WALDEIR PACINI e ANA LUCIA DA SILVA S...</td>\n",
              "      <td>001/2020</td>\n",
              "      <td>06/01/2020</td>\n",
              "      <td>Despesa com pagamento de aluguel de imóvel par...</td>\n",
              "      <td>1000</td>\n",
              "      <td>2139025</td>\n",
              "      <td>0.0</td>\n",
              "      <td>0.0</td>\n",
              "      <td>6</td>\n",
              "    </tr>\n",
              "  </tbody>\n",
              "</table>\n",
              "</div>\n",
              "      <button class=\"colab-df-convert\" onclick=\"convertToInteractive('df-8cf2b631-00f6-4703-8006-15ffdedbda3a')\"\n",
              "              title=\"Convert this dataframe to an interactive table.\"\n",
              "              style=\"display:none;\">\n",
              "        \n",
              "  <svg xmlns=\"http://www.w3.org/2000/svg\" height=\"24px\"viewBox=\"0 0 24 24\"\n",
              "       width=\"24px\">\n",
              "    <path d=\"M0 0h24v24H0V0z\" fill=\"none\"/>\n",
              "    <path d=\"M18.56 5.44l.94 2.06.94-2.06 2.06-.94-2.06-.94-.94-2.06-.94 2.06-2.06.94zm-11 1L8.5 8.5l.94-2.06 2.06-.94-2.06-.94L8.5 2.5l-.94 2.06-2.06.94zm10 10l.94 2.06.94-2.06 2.06-.94-2.06-.94-.94-2.06-.94 2.06-2.06.94z\"/><path d=\"M17.41 7.96l-1.37-1.37c-.4-.4-.92-.59-1.43-.59-.52 0-1.04.2-1.43.59L10.3 9.45l-7.72 7.72c-.78.78-.78 2.05 0 2.83L4 21.41c.39.39.9.59 1.41.59.51 0 1.02-.2 1.41-.59l7.78-7.78 2.81-2.81c.8-.78.8-2.07 0-2.86zM5.41 20L4 18.59l7.72-7.72 1.47 1.35L5.41 20z\"/>\n",
              "  </svg>\n",
              "      </button>\n",
              "      \n",
              "  <style>\n",
              "    .colab-df-container {\n",
              "      display:flex;\n",
              "      flex-wrap:wrap;\n",
              "      gap: 12px;\n",
              "    }\n",
              "\n",
              "    .colab-df-convert {\n",
              "      background-color: #E8F0FE;\n",
              "      border: none;\n",
              "      border-radius: 50%;\n",
              "      cursor: pointer;\n",
              "      display: none;\n",
              "      fill: #1967D2;\n",
              "      height: 32px;\n",
              "      padding: 0 0 0 0;\n",
              "      width: 32px;\n",
              "    }\n",
              "\n",
              "    .colab-df-convert:hover {\n",
              "      background-color: #E2EBFA;\n",
              "      box-shadow: 0px 1px 2px rgba(60, 64, 67, 0.3), 0px 1px 3px 1px rgba(60, 64, 67, 0.15);\n",
              "      fill: #174EA6;\n",
              "    }\n",
              "\n",
              "    [theme=dark] .colab-df-convert {\n",
              "      background-color: #3B4455;\n",
              "      fill: #D2E3FC;\n",
              "    }\n",
              "\n",
              "    [theme=dark] .colab-df-convert:hover {\n",
              "      background-color: #434B5C;\n",
              "      box-shadow: 0px 1px 3px 1px rgba(0, 0, 0, 0.15);\n",
              "      filter: drop-shadow(0px 1px 2px rgba(0, 0, 0, 0.3));\n",
              "      fill: #FFFFFF;\n",
              "    }\n",
              "  </style>\n",
              "\n",
              "      <script>\n",
              "        const buttonEl =\n",
              "          document.querySelector('#df-8cf2b631-00f6-4703-8006-15ffdedbda3a button.colab-df-convert');\n",
              "        buttonEl.style.display =\n",
              "          google.colab.kernel.accessAllowed ? 'block' : 'none';\n",
              "\n",
              "        async function convertToInteractive(key) {\n",
              "          const element = document.querySelector('#df-8cf2b631-00f6-4703-8006-15ffdedbda3a');\n",
              "          const dataTable =\n",
              "            await google.colab.kernel.invokeFunction('convertToInteractive',\n",
              "                                                     [key], {});\n",
              "          if (!dataTable) return;\n",
              "\n",
              "          const docLinkHtml = 'Like what you see? Visit the ' +\n",
              "            '<a target=\"_blank\" href=https://colab.research.google.com/notebooks/data_table.ipynb>data table notebook</a>'\n",
              "            + ' to learn more about interactive tables.';\n",
              "          element.innerHTML = '';\n",
              "          dataTable['output_type'] = 'display_data';\n",
              "          await google.colab.output.renderOutput(dataTable, element);\n",
              "          const docLink = document.createElement('div');\n",
              "          docLink.innerHTML = docLinkHtml;\n",
              "          element.appendChild(docLink);\n",
              "        }\n",
              "      </script>\n",
              "    </div>\n",
              "  </div>\n",
              "  "
            ]
          },
          "metadata": {},
          "execution_count": 272
        }
      ]
    },
    {
      "cell_type": "code",
      "source": [
        "despesa_ceaps_2020_desagrupado.tail(3)"
      ],
      "metadata": {
        "colab": {
          "base_uri": "https://localhost:8080/",
          "height": 416
        },
        "id": "o3nxI_n-OTJF",
        "outputId": "57e3adaf-0cbc-49c5-9a29-a3ec269ba686"
      },
      "execution_count": null,
      "outputs": [
        {
          "output_type": "execute_result",
          "data": {
            "text/plain": [
              "        ANO  MES           SENADOR  \\\n",
              "14088  2020   12  ZEQUINHA MARINHO   \n",
              "14089  2020   12  ZEQUINHA MARINHO   \n",
              "14090  2020   12  ZEQUINHA MARINHO   \n",
              "\n",
              "                                            TIPO_DESPESA            CNPJ_CPF  \\\n",
              "14088  Passagens aéreas, aquáticas e terrestres nacio...  22.052.777/0001-32   \n",
              "14089  Passagens aéreas, aquáticas e terrestres nacio...  22.052.777/0001-32   \n",
              "14090  Passagens aéreas, aquáticas e terrestres nacio...  22.052.777/0001-32   \n",
              "\n",
              "          FORNECEDOR DOCUMENTO        DATA  \\\n",
              "14088  Exceller Tour    QIGVKT  14/12/2020   \n",
              "14089  Exceller Tour    QDHKYF  14/12/2020   \n",
              "14090  Exceller Tour    BQWCVK  18/12/2020   \n",
              "\n",
              "                                            DETALHAMENTO VALOR_REEMBOLSADO  \\\n",
              "14088  Companhia Aérea: AZUL, Localizador: QIGVKT. Pa...            549,47   \n",
              "14089  Companhia Aérea: AZUL, Localizador: QDHKYF. Pa...            831,05   \n",
              "14090  Companhia Aérea: GOL, Localizador: BQWCVK. Pas...           2026,12   \n",
              "\n",
              "      COD_DOCUMENTO  SEM_DOCUMENTO  SEM_DETALHAMENTO  DIA  \n",
              "14088       2153157            0.0               0.0   14  \n",
              "14089       2153152            0.0               0.0   14  \n",
              "14090       2153557            0.0               0.0   18  "
            ],
            "text/html": [
              "\n",
              "  <div id=\"df-7edd693d-d29f-42c1-b6dc-d727add0986d\">\n",
              "    <div class=\"colab-df-container\">\n",
              "      <div>\n",
              "<style scoped>\n",
              "    .dataframe tbody tr th:only-of-type {\n",
              "        vertical-align: middle;\n",
              "    }\n",
              "\n",
              "    .dataframe tbody tr th {\n",
              "        vertical-align: top;\n",
              "    }\n",
              "\n",
              "    .dataframe thead th {\n",
              "        text-align: right;\n",
              "    }\n",
              "</style>\n",
              "<table border=\"1\" class=\"dataframe\">\n",
              "  <thead>\n",
              "    <tr style=\"text-align: right;\">\n",
              "      <th></th>\n",
              "      <th>ANO</th>\n",
              "      <th>MES</th>\n",
              "      <th>SENADOR</th>\n",
              "      <th>TIPO_DESPESA</th>\n",
              "      <th>CNPJ_CPF</th>\n",
              "      <th>FORNECEDOR</th>\n",
              "      <th>DOCUMENTO</th>\n",
              "      <th>DATA</th>\n",
              "      <th>DETALHAMENTO</th>\n",
              "      <th>VALOR_REEMBOLSADO</th>\n",
              "      <th>COD_DOCUMENTO</th>\n",
              "      <th>SEM_DOCUMENTO</th>\n",
              "      <th>SEM_DETALHAMENTO</th>\n",
              "      <th>DIA</th>\n",
              "    </tr>\n",
              "  </thead>\n",
              "  <tbody>\n",
              "    <tr>\n",
              "      <th>14088</th>\n",
              "      <td>2020</td>\n",
              "      <td>12</td>\n",
              "      <td>ZEQUINHA MARINHO</td>\n",
              "      <td>Passagens aéreas, aquáticas e terrestres nacio...</td>\n",
              "      <td>22.052.777/0001-32</td>\n",
              "      <td>Exceller Tour</td>\n",
              "      <td>QIGVKT</td>\n",
              "      <td>14/12/2020</td>\n",
              "      <td>Companhia Aérea: AZUL, Localizador: QIGVKT. Pa...</td>\n",
              "      <td>549,47</td>\n",
              "      <td>2153157</td>\n",
              "      <td>0.0</td>\n",
              "      <td>0.0</td>\n",
              "      <td>14</td>\n",
              "    </tr>\n",
              "    <tr>\n",
              "      <th>14089</th>\n",
              "      <td>2020</td>\n",
              "      <td>12</td>\n",
              "      <td>ZEQUINHA MARINHO</td>\n",
              "      <td>Passagens aéreas, aquáticas e terrestres nacio...</td>\n",
              "      <td>22.052.777/0001-32</td>\n",
              "      <td>Exceller Tour</td>\n",
              "      <td>QDHKYF</td>\n",
              "      <td>14/12/2020</td>\n",
              "      <td>Companhia Aérea: AZUL, Localizador: QDHKYF. Pa...</td>\n",
              "      <td>831,05</td>\n",
              "      <td>2153152</td>\n",
              "      <td>0.0</td>\n",
              "      <td>0.0</td>\n",
              "      <td>14</td>\n",
              "    </tr>\n",
              "    <tr>\n",
              "      <th>14090</th>\n",
              "      <td>2020</td>\n",
              "      <td>12</td>\n",
              "      <td>ZEQUINHA MARINHO</td>\n",
              "      <td>Passagens aéreas, aquáticas e terrestres nacio...</td>\n",
              "      <td>22.052.777/0001-32</td>\n",
              "      <td>Exceller Tour</td>\n",
              "      <td>BQWCVK</td>\n",
              "      <td>18/12/2020</td>\n",
              "      <td>Companhia Aérea: GOL, Localizador: BQWCVK. Pas...</td>\n",
              "      <td>2026,12</td>\n",
              "      <td>2153557</td>\n",
              "      <td>0.0</td>\n",
              "      <td>0.0</td>\n",
              "      <td>18</td>\n",
              "    </tr>\n",
              "  </tbody>\n",
              "</table>\n",
              "</div>\n",
              "      <button class=\"colab-df-convert\" onclick=\"convertToInteractive('df-7edd693d-d29f-42c1-b6dc-d727add0986d')\"\n",
              "              title=\"Convert this dataframe to an interactive table.\"\n",
              "              style=\"display:none;\">\n",
              "        \n",
              "  <svg xmlns=\"http://www.w3.org/2000/svg\" height=\"24px\"viewBox=\"0 0 24 24\"\n",
              "       width=\"24px\">\n",
              "    <path d=\"M0 0h24v24H0V0z\" fill=\"none\"/>\n",
              "    <path d=\"M18.56 5.44l.94 2.06.94-2.06 2.06-.94-2.06-.94-.94-2.06-.94 2.06-2.06.94zm-11 1L8.5 8.5l.94-2.06 2.06-.94-2.06-.94L8.5 2.5l-.94 2.06-2.06.94zm10 10l.94 2.06.94-2.06 2.06-.94-2.06-.94-.94-2.06-.94 2.06-2.06.94z\"/><path d=\"M17.41 7.96l-1.37-1.37c-.4-.4-.92-.59-1.43-.59-.52 0-1.04.2-1.43.59L10.3 9.45l-7.72 7.72c-.78.78-.78 2.05 0 2.83L4 21.41c.39.39.9.59 1.41.59.51 0 1.02-.2 1.41-.59l7.78-7.78 2.81-2.81c.8-.78.8-2.07 0-2.86zM5.41 20L4 18.59l7.72-7.72 1.47 1.35L5.41 20z\"/>\n",
              "  </svg>\n",
              "      </button>\n",
              "      \n",
              "  <style>\n",
              "    .colab-df-container {\n",
              "      display:flex;\n",
              "      flex-wrap:wrap;\n",
              "      gap: 12px;\n",
              "    }\n",
              "\n",
              "    .colab-df-convert {\n",
              "      background-color: #E8F0FE;\n",
              "      border: none;\n",
              "      border-radius: 50%;\n",
              "      cursor: pointer;\n",
              "      display: none;\n",
              "      fill: #1967D2;\n",
              "      height: 32px;\n",
              "      padding: 0 0 0 0;\n",
              "      width: 32px;\n",
              "    }\n",
              "\n",
              "    .colab-df-convert:hover {\n",
              "      background-color: #E2EBFA;\n",
              "      box-shadow: 0px 1px 2px rgba(60, 64, 67, 0.3), 0px 1px 3px 1px rgba(60, 64, 67, 0.15);\n",
              "      fill: #174EA6;\n",
              "    }\n",
              "\n",
              "    [theme=dark] .colab-df-convert {\n",
              "      background-color: #3B4455;\n",
              "      fill: #D2E3FC;\n",
              "    }\n",
              "\n",
              "    [theme=dark] .colab-df-convert:hover {\n",
              "      background-color: #434B5C;\n",
              "      box-shadow: 0px 1px 3px 1px rgba(0, 0, 0, 0.15);\n",
              "      filter: drop-shadow(0px 1px 2px rgba(0, 0, 0, 0.3));\n",
              "      fill: #FFFFFF;\n",
              "    }\n",
              "  </style>\n",
              "\n",
              "      <script>\n",
              "        const buttonEl =\n",
              "          document.querySelector('#df-7edd693d-d29f-42c1-b6dc-d727add0986d button.colab-df-convert');\n",
              "        buttonEl.style.display =\n",
              "          google.colab.kernel.accessAllowed ? 'block' : 'none';\n",
              "\n",
              "        async function convertToInteractive(key) {\n",
              "          const element = document.querySelector('#df-7edd693d-d29f-42c1-b6dc-d727add0986d');\n",
              "          const dataTable =\n",
              "            await google.colab.kernel.invokeFunction('convertToInteractive',\n",
              "                                                     [key], {});\n",
              "          if (!dataTable) return;\n",
              "\n",
              "          const docLinkHtml = 'Like what you see? Visit the ' +\n",
              "            '<a target=\"_blank\" href=https://colab.research.google.com/notebooks/data_table.ipynb>data table notebook</a>'\n",
              "            + ' to learn more about interactive tables.';\n",
              "          element.innerHTML = '';\n",
              "          dataTable['output_type'] = 'display_data';\n",
              "          await google.colab.output.renderOutput(dataTable, element);\n",
              "          const docLink = document.createElement('div');\n",
              "          docLink.innerHTML = docLinkHtml;\n",
              "          element.appendChild(docLink);\n",
              "        }\n",
              "      </script>\n",
              "    </div>\n",
              "  </div>\n",
              "  "
            ]
          },
          "metadata": {},
          "execution_count": 273
        }
      ]
    },
    {
      "cell_type": "code",
      "source": [
        "despesa_ceaps_2021_desagrupado.head(3)"
      ],
      "metadata": {
        "colab": {
          "base_uri": "https://localhost:8080/",
          "height": 381
        },
        "id": "5BsbgccfWZ75",
        "outputId": "16029249-29ef-45ed-8f12-26a9ac4b69ce"
      },
      "execution_count": null,
      "outputs": [
        {
          "output_type": "execute_result",
          "data": {
            "text/plain": [
              "    ANO  MES       SENADOR                                       TIPO_DESPESA  \\\n",
              "1  2021    1  ACIR GURGACZ  Aluguel de imóveis para escritório político, c...   \n",
              "2  2021    1  ACIR GURGACZ  Aluguel de imóveis para escritório político, c...   \n",
              "3  2021    1  ACIR GURGACZ  Aluguel de imóveis para escritório político, c...   \n",
              "\n",
              "             CNPJ_CPF                                         FORNECEDOR  \\\n",
              "1  05.914.650/0001-66                                           ENERGISA   \n",
              "2      062.135.728-64  FERNANDO WALDEIR PACINI e ANA LUCIA DA SILVA S...   \n",
              "3      004.948.028-63                      GILBERTO PISELO DO NASCIMENTO   \n",
              "\n",
              "     DOCUMENTO        DATA                                       DETALHAMENTO  \\\n",
              "1  023.489.627  21/01/2021  Pagamento de energia elétrica para uso do escr...   \n",
              "2      01/2021  05/01/2021  Despesa com pagamento de aluguel de imóvel par...   \n",
              "3       001/21  06/01/2021  Despesa com aluguel de imóvel para uso do escr...   \n",
              "\n",
              "  VALOR_REEMBOLSADO COD_DOCUMENTO  SEM_DOCUMENTO  SEM_DETALHAMENTO  DIA  \n",
              "1             75,29       2158003            0.0               0.0   21  \n",
              "2              1000       2157367            0.0               0.0    5  \n",
              "3              6000       2156383            0.0               0.0    6  "
            ],
            "text/html": [
              "\n",
              "  <div id=\"df-5d0aacca-3400-4544-9a3a-8ab0b0d15d38\">\n",
              "    <div class=\"colab-df-container\">\n",
              "      <div>\n",
              "<style scoped>\n",
              "    .dataframe tbody tr th:only-of-type {\n",
              "        vertical-align: middle;\n",
              "    }\n",
              "\n",
              "    .dataframe tbody tr th {\n",
              "        vertical-align: top;\n",
              "    }\n",
              "\n",
              "    .dataframe thead th {\n",
              "        text-align: right;\n",
              "    }\n",
              "</style>\n",
              "<table border=\"1\" class=\"dataframe\">\n",
              "  <thead>\n",
              "    <tr style=\"text-align: right;\">\n",
              "      <th></th>\n",
              "      <th>ANO</th>\n",
              "      <th>MES</th>\n",
              "      <th>SENADOR</th>\n",
              "      <th>TIPO_DESPESA</th>\n",
              "      <th>CNPJ_CPF</th>\n",
              "      <th>FORNECEDOR</th>\n",
              "      <th>DOCUMENTO</th>\n",
              "      <th>DATA</th>\n",
              "      <th>DETALHAMENTO</th>\n",
              "      <th>VALOR_REEMBOLSADO</th>\n",
              "      <th>COD_DOCUMENTO</th>\n",
              "      <th>SEM_DOCUMENTO</th>\n",
              "      <th>SEM_DETALHAMENTO</th>\n",
              "      <th>DIA</th>\n",
              "    </tr>\n",
              "  </thead>\n",
              "  <tbody>\n",
              "    <tr>\n",
              "      <th>1</th>\n",
              "      <td>2021</td>\n",
              "      <td>1</td>\n",
              "      <td>ACIR GURGACZ</td>\n",
              "      <td>Aluguel de imóveis para escritório político, c...</td>\n",
              "      <td>05.914.650/0001-66</td>\n",
              "      <td>ENERGISA</td>\n",
              "      <td>023.489.627</td>\n",
              "      <td>21/01/2021</td>\n",
              "      <td>Pagamento de energia elétrica para uso do escr...</td>\n",
              "      <td>75,29</td>\n",
              "      <td>2158003</td>\n",
              "      <td>0.0</td>\n",
              "      <td>0.0</td>\n",
              "      <td>21</td>\n",
              "    </tr>\n",
              "    <tr>\n",
              "      <th>2</th>\n",
              "      <td>2021</td>\n",
              "      <td>1</td>\n",
              "      <td>ACIR GURGACZ</td>\n",
              "      <td>Aluguel de imóveis para escritório político, c...</td>\n",
              "      <td>062.135.728-64</td>\n",
              "      <td>FERNANDO WALDEIR PACINI e ANA LUCIA DA SILVA S...</td>\n",
              "      <td>01/2021</td>\n",
              "      <td>05/01/2021</td>\n",
              "      <td>Despesa com pagamento de aluguel de imóvel par...</td>\n",
              "      <td>1000</td>\n",
              "      <td>2157367</td>\n",
              "      <td>0.0</td>\n",
              "      <td>0.0</td>\n",
              "      <td>5</td>\n",
              "    </tr>\n",
              "    <tr>\n",
              "      <th>3</th>\n",
              "      <td>2021</td>\n",
              "      <td>1</td>\n",
              "      <td>ACIR GURGACZ</td>\n",
              "      <td>Aluguel de imóveis para escritório político, c...</td>\n",
              "      <td>004.948.028-63</td>\n",
              "      <td>GILBERTO PISELO DO NASCIMENTO</td>\n",
              "      <td>001/21</td>\n",
              "      <td>06/01/2021</td>\n",
              "      <td>Despesa com aluguel de imóvel para uso do escr...</td>\n",
              "      <td>6000</td>\n",
              "      <td>2156383</td>\n",
              "      <td>0.0</td>\n",
              "      <td>0.0</td>\n",
              "      <td>6</td>\n",
              "    </tr>\n",
              "  </tbody>\n",
              "</table>\n",
              "</div>\n",
              "      <button class=\"colab-df-convert\" onclick=\"convertToInteractive('df-5d0aacca-3400-4544-9a3a-8ab0b0d15d38')\"\n",
              "              title=\"Convert this dataframe to an interactive table.\"\n",
              "              style=\"display:none;\">\n",
              "        \n",
              "  <svg xmlns=\"http://www.w3.org/2000/svg\" height=\"24px\"viewBox=\"0 0 24 24\"\n",
              "       width=\"24px\">\n",
              "    <path d=\"M0 0h24v24H0V0z\" fill=\"none\"/>\n",
              "    <path d=\"M18.56 5.44l.94 2.06.94-2.06 2.06-.94-2.06-.94-.94-2.06-.94 2.06-2.06.94zm-11 1L8.5 8.5l.94-2.06 2.06-.94-2.06-.94L8.5 2.5l-.94 2.06-2.06.94zm10 10l.94 2.06.94-2.06 2.06-.94-2.06-.94-.94-2.06-.94 2.06-2.06.94z\"/><path d=\"M17.41 7.96l-1.37-1.37c-.4-.4-.92-.59-1.43-.59-.52 0-1.04.2-1.43.59L10.3 9.45l-7.72 7.72c-.78.78-.78 2.05 0 2.83L4 21.41c.39.39.9.59 1.41.59.51 0 1.02-.2 1.41-.59l7.78-7.78 2.81-2.81c.8-.78.8-2.07 0-2.86zM5.41 20L4 18.59l7.72-7.72 1.47 1.35L5.41 20z\"/>\n",
              "  </svg>\n",
              "      </button>\n",
              "      \n",
              "  <style>\n",
              "    .colab-df-container {\n",
              "      display:flex;\n",
              "      flex-wrap:wrap;\n",
              "      gap: 12px;\n",
              "    }\n",
              "\n",
              "    .colab-df-convert {\n",
              "      background-color: #E8F0FE;\n",
              "      border: none;\n",
              "      border-radius: 50%;\n",
              "      cursor: pointer;\n",
              "      display: none;\n",
              "      fill: #1967D2;\n",
              "      height: 32px;\n",
              "      padding: 0 0 0 0;\n",
              "      width: 32px;\n",
              "    }\n",
              "\n",
              "    .colab-df-convert:hover {\n",
              "      background-color: #E2EBFA;\n",
              "      box-shadow: 0px 1px 2px rgba(60, 64, 67, 0.3), 0px 1px 3px 1px rgba(60, 64, 67, 0.15);\n",
              "      fill: #174EA6;\n",
              "    }\n",
              "\n",
              "    [theme=dark] .colab-df-convert {\n",
              "      background-color: #3B4455;\n",
              "      fill: #D2E3FC;\n",
              "    }\n",
              "\n",
              "    [theme=dark] .colab-df-convert:hover {\n",
              "      background-color: #434B5C;\n",
              "      box-shadow: 0px 1px 3px 1px rgba(0, 0, 0, 0.15);\n",
              "      filter: drop-shadow(0px 1px 2px rgba(0, 0, 0, 0.3));\n",
              "      fill: #FFFFFF;\n",
              "    }\n",
              "  </style>\n",
              "\n",
              "      <script>\n",
              "        const buttonEl =\n",
              "          document.querySelector('#df-5d0aacca-3400-4544-9a3a-8ab0b0d15d38 button.colab-df-convert');\n",
              "        buttonEl.style.display =\n",
              "          google.colab.kernel.accessAllowed ? 'block' : 'none';\n",
              "\n",
              "        async function convertToInteractive(key) {\n",
              "          const element = document.querySelector('#df-5d0aacca-3400-4544-9a3a-8ab0b0d15d38');\n",
              "          const dataTable =\n",
              "            await google.colab.kernel.invokeFunction('convertToInteractive',\n",
              "                                                     [key], {});\n",
              "          if (!dataTable) return;\n",
              "\n",
              "          const docLinkHtml = 'Like what you see? Visit the ' +\n",
              "            '<a target=\"_blank\" href=https://colab.research.google.com/notebooks/data_table.ipynb>data table notebook</a>'\n",
              "            + ' to learn more about interactive tables.';\n",
              "          element.innerHTML = '';\n",
              "          dataTable['output_type'] = 'display_data';\n",
              "          await google.colab.output.renderOutput(dataTable, element);\n",
              "          const docLink = document.createElement('div');\n",
              "          docLink.innerHTML = docLinkHtml;\n",
              "          element.appendChild(docLink);\n",
              "        }\n",
              "      </script>\n",
              "    </div>\n",
              "  </div>\n",
              "  "
            ]
          },
          "metadata": {},
          "execution_count": 274
        }
      ]
    },
    {
      "cell_type": "code",
      "source": [
        "despesa_ceaps_2022_desagrupado.tail(3)"
      ],
      "metadata": {
        "colab": {
          "base_uri": "https://localhost:8080/",
          "height": 416
        },
        "id": "QAavnAM-OTT6",
        "outputId": "4426e6ab-dbb3-4bc0-996e-9e29f354937e"
      },
      "execution_count": null,
      "outputs": [
        {
          "output_type": "execute_result",
          "data": {
            "text/plain": [
              "       ANO  MES           SENADOR  \\\n",
              "3747  2022    4  ZEQUINHA MARINHO   \n",
              "3748  2022    4  ZEQUINHA MARINHO   \n",
              "3749  2022    4  ZEQUINHA MARINHO   \n",
              "\n",
              "                                           TIPO_DESPESA            CNPJ_CPF  \\\n",
              "3747  Passagens aéreas, aquáticas e terrestres nacio...  22.052.777/0001-32   \n",
              "3748  Passagens aéreas, aquáticas e terrestres nacio...  22.052.777/0001-32   \n",
              "3749  Passagens aéreas, aquáticas e terrestres nacio...  22.052.777/0001-32   \n",
              "\n",
              "         FORNECEDOR DOCUMENTO        DATA  \\\n",
              "3747  Exceller Tour    QVOLRY  04/04/2022   \n",
              "3748  Exceller Tour    JBHH5Y  06/04/2022   \n",
              "3749  Exceller Tour    FRFFFI  06/04/2022   \n",
              "\n",
              "                                           DETALHAMENTO VALOR_REEMBOLSADO  \\\n",
              "3747  Companhia Aérea: GOL, Localizador: QVOLRY. Pas...           1681,23   \n",
              "3748  Companhia Aérea: AZUL, Localizador: JBHH5Y. Pa...           1663,61   \n",
              "3749  Companhia Aérea: LATAM, Localizador: FRFFFI. P...              2324   \n",
              "\n",
              "     COD_DOCUMENTO  SEM_DOCUMENTO  SEM_DETALHAMENTO  DIA  \n",
              "3747       2177794            0.0               0.0    4  \n",
              "3748       2177879            0.0               0.0    6  \n",
              "3749       2177912            0.0               0.0    6  "
            ],
            "text/html": [
              "\n",
              "  <div id=\"df-7e4aa3d4-9dd8-412e-b1cf-d0b75ff55f21\">\n",
              "    <div class=\"colab-df-container\">\n",
              "      <div>\n",
              "<style scoped>\n",
              "    .dataframe tbody tr th:only-of-type {\n",
              "        vertical-align: middle;\n",
              "    }\n",
              "\n",
              "    .dataframe tbody tr th {\n",
              "        vertical-align: top;\n",
              "    }\n",
              "\n",
              "    .dataframe thead th {\n",
              "        text-align: right;\n",
              "    }\n",
              "</style>\n",
              "<table border=\"1\" class=\"dataframe\">\n",
              "  <thead>\n",
              "    <tr style=\"text-align: right;\">\n",
              "      <th></th>\n",
              "      <th>ANO</th>\n",
              "      <th>MES</th>\n",
              "      <th>SENADOR</th>\n",
              "      <th>TIPO_DESPESA</th>\n",
              "      <th>CNPJ_CPF</th>\n",
              "      <th>FORNECEDOR</th>\n",
              "      <th>DOCUMENTO</th>\n",
              "      <th>DATA</th>\n",
              "      <th>DETALHAMENTO</th>\n",
              "      <th>VALOR_REEMBOLSADO</th>\n",
              "      <th>COD_DOCUMENTO</th>\n",
              "      <th>SEM_DOCUMENTO</th>\n",
              "      <th>SEM_DETALHAMENTO</th>\n",
              "      <th>DIA</th>\n",
              "    </tr>\n",
              "  </thead>\n",
              "  <tbody>\n",
              "    <tr>\n",
              "      <th>3747</th>\n",
              "      <td>2022</td>\n",
              "      <td>4</td>\n",
              "      <td>ZEQUINHA MARINHO</td>\n",
              "      <td>Passagens aéreas, aquáticas e terrestres nacio...</td>\n",
              "      <td>22.052.777/0001-32</td>\n",
              "      <td>Exceller Tour</td>\n",
              "      <td>QVOLRY</td>\n",
              "      <td>04/04/2022</td>\n",
              "      <td>Companhia Aérea: GOL, Localizador: QVOLRY. Pas...</td>\n",
              "      <td>1681,23</td>\n",
              "      <td>2177794</td>\n",
              "      <td>0.0</td>\n",
              "      <td>0.0</td>\n",
              "      <td>4</td>\n",
              "    </tr>\n",
              "    <tr>\n",
              "      <th>3748</th>\n",
              "      <td>2022</td>\n",
              "      <td>4</td>\n",
              "      <td>ZEQUINHA MARINHO</td>\n",
              "      <td>Passagens aéreas, aquáticas e terrestres nacio...</td>\n",
              "      <td>22.052.777/0001-32</td>\n",
              "      <td>Exceller Tour</td>\n",
              "      <td>JBHH5Y</td>\n",
              "      <td>06/04/2022</td>\n",
              "      <td>Companhia Aérea: AZUL, Localizador: JBHH5Y. Pa...</td>\n",
              "      <td>1663,61</td>\n",
              "      <td>2177879</td>\n",
              "      <td>0.0</td>\n",
              "      <td>0.0</td>\n",
              "      <td>6</td>\n",
              "    </tr>\n",
              "    <tr>\n",
              "      <th>3749</th>\n",
              "      <td>2022</td>\n",
              "      <td>4</td>\n",
              "      <td>ZEQUINHA MARINHO</td>\n",
              "      <td>Passagens aéreas, aquáticas e terrestres nacio...</td>\n",
              "      <td>22.052.777/0001-32</td>\n",
              "      <td>Exceller Tour</td>\n",
              "      <td>FRFFFI</td>\n",
              "      <td>06/04/2022</td>\n",
              "      <td>Companhia Aérea: LATAM, Localizador: FRFFFI. P...</td>\n",
              "      <td>2324</td>\n",
              "      <td>2177912</td>\n",
              "      <td>0.0</td>\n",
              "      <td>0.0</td>\n",
              "      <td>6</td>\n",
              "    </tr>\n",
              "  </tbody>\n",
              "</table>\n",
              "</div>\n",
              "      <button class=\"colab-df-convert\" onclick=\"convertToInteractive('df-7e4aa3d4-9dd8-412e-b1cf-d0b75ff55f21')\"\n",
              "              title=\"Convert this dataframe to an interactive table.\"\n",
              "              style=\"display:none;\">\n",
              "        \n",
              "  <svg xmlns=\"http://www.w3.org/2000/svg\" height=\"24px\"viewBox=\"0 0 24 24\"\n",
              "       width=\"24px\">\n",
              "    <path d=\"M0 0h24v24H0V0z\" fill=\"none\"/>\n",
              "    <path d=\"M18.56 5.44l.94 2.06.94-2.06 2.06-.94-2.06-.94-.94-2.06-.94 2.06-2.06.94zm-11 1L8.5 8.5l.94-2.06 2.06-.94-2.06-.94L8.5 2.5l-.94 2.06-2.06.94zm10 10l.94 2.06.94-2.06 2.06-.94-2.06-.94-.94-2.06-.94 2.06-2.06.94z\"/><path d=\"M17.41 7.96l-1.37-1.37c-.4-.4-.92-.59-1.43-.59-.52 0-1.04.2-1.43.59L10.3 9.45l-7.72 7.72c-.78.78-.78 2.05 0 2.83L4 21.41c.39.39.9.59 1.41.59.51 0 1.02-.2 1.41-.59l7.78-7.78 2.81-2.81c.8-.78.8-2.07 0-2.86zM5.41 20L4 18.59l7.72-7.72 1.47 1.35L5.41 20z\"/>\n",
              "  </svg>\n",
              "      </button>\n",
              "      \n",
              "  <style>\n",
              "    .colab-df-container {\n",
              "      display:flex;\n",
              "      flex-wrap:wrap;\n",
              "      gap: 12px;\n",
              "    }\n",
              "\n",
              "    .colab-df-convert {\n",
              "      background-color: #E8F0FE;\n",
              "      border: none;\n",
              "      border-radius: 50%;\n",
              "      cursor: pointer;\n",
              "      display: none;\n",
              "      fill: #1967D2;\n",
              "      height: 32px;\n",
              "      padding: 0 0 0 0;\n",
              "      width: 32px;\n",
              "    }\n",
              "\n",
              "    .colab-df-convert:hover {\n",
              "      background-color: #E2EBFA;\n",
              "      box-shadow: 0px 1px 2px rgba(60, 64, 67, 0.3), 0px 1px 3px 1px rgba(60, 64, 67, 0.15);\n",
              "      fill: #174EA6;\n",
              "    }\n",
              "\n",
              "    [theme=dark] .colab-df-convert {\n",
              "      background-color: #3B4455;\n",
              "      fill: #D2E3FC;\n",
              "    }\n",
              "\n",
              "    [theme=dark] .colab-df-convert:hover {\n",
              "      background-color: #434B5C;\n",
              "      box-shadow: 0px 1px 3px 1px rgba(0, 0, 0, 0.15);\n",
              "      filter: drop-shadow(0px 1px 2px rgba(0, 0, 0, 0.3));\n",
              "      fill: #FFFFFF;\n",
              "    }\n",
              "  </style>\n",
              "\n",
              "      <script>\n",
              "        const buttonEl =\n",
              "          document.querySelector('#df-7e4aa3d4-9dd8-412e-b1cf-d0b75ff55f21 button.colab-df-convert');\n",
              "        buttonEl.style.display =\n",
              "          google.colab.kernel.accessAllowed ? 'block' : 'none';\n",
              "\n",
              "        async function convertToInteractive(key) {\n",
              "          const element = document.querySelector('#df-7e4aa3d4-9dd8-412e-b1cf-d0b75ff55f21');\n",
              "          const dataTable =\n",
              "            await google.colab.kernel.invokeFunction('convertToInteractive',\n",
              "                                                     [key], {});\n",
              "          if (!dataTable) return;\n",
              "\n",
              "          const docLinkHtml = 'Like what you see? Visit the ' +\n",
              "            '<a target=\"_blank\" href=https://colab.research.google.com/notebooks/data_table.ipynb>data table notebook</a>'\n",
              "            + ' to learn more about interactive tables.';\n",
              "          element.innerHTML = '';\n",
              "          dataTable['output_type'] = 'display_data';\n",
              "          await google.colab.output.renderOutput(dataTable, element);\n",
              "          const docLink = document.createElement('div');\n",
              "          docLink.innerHTML = docLinkHtml;\n",
              "          element.appendChild(docLink);\n",
              "        }\n",
              "      </script>\n",
              "    </div>\n",
              "  </div>\n",
              "  "
            ]
          },
          "metadata": {},
          "execution_count": 275
        }
      ]
    },
    {
      "cell_type": "markdown",
      "source": [
        "* Pronto! Agora posso unir todos os datasets com em um só!"
      ],
      "metadata": {
        "id": "qIOHFvI8Wg9v"
      }
    },
    {
      "cell_type": "markdown",
      "source": [
        "## Unir datasets."
      ],
      "metadata": {
        "id": "zxrxoEgCW1Oa"
      }
    },
    {
      "cell_type": "code",
      "source": [
        "despesa_ceaps_full = pd.concat([despesa_ceaps_2019_desagrupado, \n",
        "                    despesa_ceaps_2020_desagrupado, \n",
        "                    despesa_ceaps_2021_desagrupado,\n",
        "                    despesa_ceaps_2021_encontrado_em_2022, \n",
        "                    despesa_ceaps_2022_desagrupado], axis=0)"
      ],
      "metadata": {
        "id": "-27F3lDnWfUT"
      },
      "execution_count": null,
      "outputs": []
    },
    {
      "cell_type": "code",
      "source": [
        "despesa_ceaps_full.head(3)"
      ],
      "metadata": {
        "colab": {
          "base_uri": "https://localhost:8080/",
          "height": 364
        },
        "id": "q8rW34MaXBPr",
        "outputId": "2cbceba7-368a-4e24-8367-876f0e68cc93"
      },
      "execution_count": null,
      "outputs": [
        {
          "output_type": "execute_result",
          "data": {
            "text/plain": [
              "    ANO  MES       SENADOR                                       TIPO_DESPESA  \\\n",
              "1  2019    1  ACIR GURGACZ  Aluguel de imóveis para escritório político, c...   \n",
              "2  2019    1  ACIR GURGACZ  Aluguel de imóveis para escritório político, c...   \n",
              "3  2019    1  ACIR GURGACZ  Aluguel de imóveis para escritório político, c...   \n",
              "\n",
              "             CNPJ_CPF                     FORNECEDOR  DOCUMENTO        DATA  \\\n",
              "1  05.914.650/0001-66                       ENERGISA  006582758  04/01/2019   \n",
              "2  05.914.650/0001-66                       ENERGISA  006582755  04/01/2019   \n",
              "3      004.948.028-63  GILBERTO PISELO DO NASCIMENTO      00119  07/01/2019   \n",
              "\n",
              "                                        DETALHAMENTO VALOR_REEMBOLSADO  \\\n",
              "1  Despesa com pagamento de energia elétrica do e...             66,02   \n",
              "2  Despesa com pagamento de energia elétrica do e...            139,98   \n",
              "3  Despesa com pagamento de aluguel de imóvel par...              6000   \n",
              "\n",
              "  COD_DOCUMENTO  SEM_DOCUMENTO  SEM_DETALHAMENTO  DIA  \n",
              "1       2116543            0.0               0.0    4  \n",
              "2       2116546            0.0               0.0    4  \n",
              "3       2113817            0.0               0.0    7  "
            ],
            "text/html": [
              "\n",
              "  <div id=\"df-5199b46c-84fd-4834-b12b-bed2e46a3f57\">\n",
              "    <div class=\"colab-df-container\">\n",
              "      <div>\n",
              "<style scoped>\n",
              "    .dataframe tbody tr th:only-of-type {\n",
              "        vertical-align: middle;\n",
              "    }\n",
              "\n",
              "    .dataframe tbody tr th {\n",
              "        vertical-align: top;\n",
              "    }\n",
              "\n",
              "    .dataframe thead th {\n",
              "        text-align: right;\n",
              "    }\n",
              "</style>\n",
              "<table border=\"1\" class=\"dataframe\">\n",
              "  <thead>\n",
              "    <tr style=\"text-align: right;\">\n",
              "      <th></th>\n",
              "      <th>ANO</th>\n",
              "      <th>MES</th>\n",
              "      <th>SENADOR</th>\n",
              "      <th>TIPO_DESPESA</th>\n",
              "      <th>CNPJ_CPF</th>\n",
              "      <th>FORNECEDOR</th>\n",
              "      <th>DOCUMENTO</th>\n",
              "      <th>DATA</th>\n",
              "      <th>DETALHAMENTO</th>\n",
              "      <th>VALOR_REEMBOLSADO</th>\n",
              "      <th>COD_DOCUMENTO</th>\n",
              "      <th>SEM_DOCUMENTO</th>\n",
              "      <th>SEM_DETALHAMENTO</th>\n",
              "      <th>DIA</th>\n",
              "    </tr>\n",
              "  </thead>\n",
              "  <tbody>\n",
              "    <tr>\n",
              "      <th>1</th>\n",
              "      <td>2019</td>\n",
              "      <td>1</td>\n",
              "      <td>ACIR GURGACZ</td>\n",
              "      <td>Aluguel de imóveis para escritório político, c...</td>\n",
              "      <td>05.914.650/0001-66</td>\n",
              "      <td>ENERGISA</td>\n",
              "      <td>006582758</td>\n",
              "      <td>04/01/2019</td>\n",
              "      <td>Despesa com pagamento de energia elétrica do e...</td>\n",
              "      <td>66,02</td>\n",
              "      <td>2116543</td>\n",
              "      <td>0.0</td>\n",
              "      <td>0.0</td>\n",
              "      <td>4</td>\n",
              "    </tr>\n",
              "    <tr>\n",
              "      <th>2</th>\n",
              "      <td>2019</td>\n",
              "      <td>1</td>\n",
              "      <td>ACIR GURGACZ</td>\n",
              "      <td>Aluguel de imóveis para escritório político, c...</td>\n",
              "      <td>05.914.650/0001-66</td>\n",
              "      <td>ENERGISA</td>\n",
              "      <td>006582755</td>\n",
              "      <td>04/01/2019</td>\n",
              "      <td>Despesa com pagamento de energia elétrica do e...</td>\n",
              "      <td>139,98</td>\n",
              "      <td>2116546</td>\n",
              "      <td>0.0</td>\n",
              "      <td>0.0</td>\n",
              "      <td>4</td>\n",
              "    </tr>\n",
              "    <tr>\n",
              "      <th>3</th>\n",
              "      <td>2019</td>\n",
              "      <td>1</td>\n",
              "      <td>ACIR GURGACZ</td>\n",
              "      <td>Aluguel de imóveis para escritório político, c...</td>\n",
              "      <td>004.948.028-63</td>\n",
              "      <td>GILBERTO PISELO DO NASCIMENTO</td>\n",
              "      <td>00119</td>\n",
              "      <td>07/01/2019</td>\n",
              "      <td>Despesa com pagamento de aluguel de imóvel par...</td>\n",
              "      <td>6000</td>\n",
              "      <td>2113817</td>\n",
              "      <td>0.0</td>\n",
              "      <td>0.0</td>\n",
              "      <td>7</td>\n",
              "    </tr>\n",
              "  </tbody>\n",
              "</table>\n",
              "</div>\n",
              "      <button class=\"colab-df-convert\" onclick=\"convertToInteractive('df-5199b46c-84fd-4834-b12b-bed2e46a3f57')\"\n",
              "              title=\"Convert this dataframe to an interactive table.\"\n",
              "              style=\"display:none;\">\n",
              "        \n",
              "  <svg xmlns=\"http://www.w3.org/2000/svg\" height=\"24px\"viewBox=\"0 0 24 24\"\n",
              "       width=\"24px\">\n",
              "    <path d=\"M0 0h24v24H0V0z\" fill=\"none\"/>\n",
              "    <path d=\"M18.56 5.44l.94 2.06.94-2.06 2.06-.94-2.06-.94-.94-2.06-.94 2.06-2.06.94zm-11 1L8.5 8.5l.94-2.06 2.06-.94-2.06-.94L8.5 2.5l-.94 2.06-2.06.94zm10 10l.94 2.06.94-2.06 2.06-.94-2.06-.94-.94-2.06-.94 2.06-2.06.94z\"/><path d=\"M17.41 7.96l-1.37-1.37c-.4-.4-.92-.59-1.43-.59-.52 0-1.04.2-1.43.59L10.3 9.45l-7.72 7.72c-.78.78-.78 2.05 0 2.83L4 21.41c.39.39.9.59 1.41.59.51 0 1.02-.2 1.41-.59l7.78-7.78 2.81-2.81c.8-.78.8-2.07 0-2.86zM5.41 20L4 18.59l7.72-7.72 1.47 1.35L5.41 20z\"/>\n",
              "  </svg>\n",
              "      </button>\n",
              "      \n",
              "  <style>\n",
              "    .colab-df-container {\n",
              "      display:flex;\n",
              "      flex-wrap:wrap;\n",
              "      gap: 12px;\n",
              "    }\n",
              "\n",
              "    .colab-df-convert {\n",
              "      background-color: #E8F0FE;\n",
              "      border: none;\n",
              "      border-radius: 50%;\n",
              "      cursor: pointer;\n",
              "      display: none;\n",
              "      fill: #1967D2;\n",
              "      height: 32px;\n",
              "      padding: 0 0 0 0;\n",
              "      width: 32px;\n",
              "    }\n",
              "\n",
              "    .colab-df-convert:hover {\n",
              "      background-color: #E2EBFA;\n",
              "      box-shadow: 0px 1px 2px rgba(60, 64, 67, 0.3), 0px 1px 3px 1px rgba(60, 64, 67, 0.15);\n",
              "      fill: #174EA6;\n",
              "    }\n",
              "\n",
              "    [theme=dark] .colab-df-convert {\n",
              "      background-color: #3B4455;\n",
              "      fill: #D2E3FC;\n",
              "    }\n",
              "\n",
              "    [theme=dark] .colab-df-convert:hover {\n",
              "      background-color: #434B5C;\n",
              "      box-shadow: 0px 1px 3px 1px rgba(0, 0, 0, 0.15);\n",
              "      filter: drop-shadow(0px 1px 2px rgba(0, 0, 0, 0.3));\n",
              "      fill: #FFFFFF;\n",
              "    }\n",
              "  </style>\n",
              "\n",
              "      <script>\n",
              "        const buttonEl =\n",
              "          document.querySelector('#df-5199b46c-84fd-4834-b12b-bed2e46a3f57 button.colab-df-convert');\n",
              "        buttonEl.style.display =\n",
              "          google.colab.kernel.accessAllowed ? 'block' : 'none';\n",
              "\n",
              "        async function convertToInteractive(key) {\n",
              "          const element = document.querySelector('#df-5199b46c-84fd-4834-b12b-bed2e46a3f57');\n",
              "          const dataTable =\n",
              "            await google.colab.kernel.invokeFunction('convertToInteractive',\n",
              "                                                     [key], {});\n",
              "          if (!dataTable) return;\n",
              "\n",
              "          const docLinkHtml = 'Like what you see? Visit the ' +\n",
              "            '<a target=\"_blank\" href=https://colab.research.google.com/notebooks/data_table.ipynb>data table notebook</a>'\n",
              "            + ' to learn more about interactive tables.';\n",
              "          element.innerHTML = '';\n",
              "          dataTable['output_type'] = 'display_data';\n",
              "          await google.colab.output.renderOutput(dataTable, element);\n",
              "          const docLink = document.createElement('div');\n",
              "          docLink.innerHTML = docLinkHtml;\n",
              "          element.appendChild(docLink);\n",
              "        }\n",
              "      </script>\n",
              "    </div>\n",
              "  </div>\n",
              "  "
            ]
          },
          "metadata": {},
          "execution_count": 277
        }
      ]
    },
    {
      "cell_type": "markdown",
      "source": [
        "## Transformar VALOR_REEMBOLSADO em float64."
      ],
      "metadata": {
        "id": "Z89BAsbaXQ-_"
      }
    },
    {
      "cell_type": "code",
      "source": [
        "despesa_ceaps_full.info()"
      ],
      "metadata": {
        "colab": {
          "base_uri": "https://localhost:8080/"
        },
        "id": "9B6avxXzXLCb",
        "outputId": "e1bdd0fe-7fe0-4882-baf5-c0734143dfb2"
      },
      "execution_count": null,
      "outputs": [
        {
          "output_type": "stream",
          "name": "stdout",
          "text": [
            "<class 'pandas.core.frame.DataFrame'>\n",
            "Int64Index: 56281 entries, 1 to 3749\n",
            "Data columns (total 14 columns):\n",
            " #   Column             Non-Null Count  Dtype  \n",
            "---  ------             --------------  -----  \n",
            " 0   ANO                56281 non-null  int64  \n",
            " 1   MES                56281 non-null  int64  \n",
            " 2   SENADOR            56281 non-null  object \n",
            " 3   TIPO_DESPESA       56281 non-null  object \n",
            " 4   CNPJ_CPF           56281 non-null  object \n",
            " 5   FORNECEDOR         56281 non-null  object \n",
            " 6   DOCUMENTO          54086 non-null  object \n",
            " 7   DATA               56281 non-null  object \n",
            " 8   DETALHAMENTO       31420 non-null  object \n",
            " 9   VALOR_REEMBOLSADO  56281 non-null  object \n",
            " 10  COD_DOCUMENTO      56281 non-null  object \n",
            " 11  SEM_DOCUMENTO      56281 non-null  float64\n",
            " 12  SEM_DETALHAMENTO   56281 non-null  float64\n",
            " 13  DIA                56281 non-null  int64  \n",
            "dtypes: float64(2), int64(3), object(9)\n",
            "memory usage: 6.4+ MB\n"
          ]
        }
      ]
    },
    {
      "cell_type": "code",
      "source": [
        "despesa_ceaps_full['VALOR_REEMBOLSADO'] = despesa_ceaps_full['VALOR_REEMBOLSADO'].replace(',', '.', regex=True).astype('float')\n",
        "\n",
        "despesa_ceaps_full[['ANO', 'MES']] = despesa_ceaps_full[['ANO', 'MES']].astype(int)\n",
        "\n",
        "var_string = [col for col in despesa_ceaps_full if despesa_ceaps_full[col].dtype=='object']\n",
        "\n",
        "despesa_ceaps_full[var_string] = despesa_ceaps_full[var_string].astype('string')"
      ],
      "metadata": {
        "id": "Uofxm_DSXro8"
      },
      "execution_count": null,
      "outputs": []
    },
    {
      "cell_type": "code",
      "source": [
        "despesa_ceaps_full.info()"
      ],
      "metadata": {
        "colab": {
          "base_uri": "https://localhost:8080/"
        },
        "id": "6fLu6HdIb8rb",
        "outputId": "28773cb9-c51e-40e2-8959-ee1d7988db46"
      },
      "execution_count": null,
      "outputs": [
        {
          "output_type": "stream",
          "name": "stdout",
          "text": [
            "<class 'pandas.core.frame.DataFrame'>\n",
            "Int64Index: 56281 entries, 1 to 3749\n",
            "Data columns (total 14 columns):\n",
            " #   Column             Non-Null Count  Dtype  \n",
            "---  ------             --------------  -----  \n",
            " 0   ANO                56281 non-null  int64  \n",
            " 1   MES                56281 non-null  int64  \n",
            " 2   SENADOR            56281 non-null  string \n",
            " 3   TIPO_DESPESA       56281 non-null  string \n",
            " 4   CNPJ_CPF           56281 non-null  string \n",
            " 5   FORNECEDOR         56281 non-null  string \n",
            " 6   DOCUMENTO          54086 non-null  string \n",
            " 7   DATA               56281 non-null  string \n",
            " 8   DETALHAMENTO       31420 non-null  string \n",
            " 9   VALOR_REEMBOLSADO  56281 non-null  float64\n",
            " 10  COD_DOCUMENTO      56281 non-null  string \n",
            " 11  SEM_DOCUMENTO      56281 non-null  float64\n",
            " 12  SEM_DETALHAMENTO   56281 non-null  float64\n",
            " 13  DIA                56281 non-null  int64  \n",
            "dtypes: float64(3), int64(3), string(8)\n",
            "memory usage: 6.4 MB\n"
          ]
        }
      ]
    },
    {
      "cell_type": "markdown",
      "source": [
        "## Valores duplicados no dataset full"
      ],
      "metadata": {
        "id": "0CgwEg5_hiyn"
      }
    },
    {
      "cell_type": "markdown",
      "source": [
        "* É possível que valores de um dataset foram colocados em outros datasets."
      ],
      "metadata": {
        "id": "QaCWD9-RiGx0"
      }
    },
    {
      "cell_type": "code",
      "source": [
        "print(\"Dataset:\", despesa_ceaps_full.shape, \"Dataset sem valores duplicados:\", (despesa_ceaps_full.drop_duplicates()).shape)"
      ],
      "metadata": {
        "colab": {
          "base_uri": "https://localhost:8080/"
        },
        "id": "6D1T40VThpN9",
        "outputId": "cc31fe2d-b65e-405d-9f99-bcba8c88691e"
      },
      "execution_count": null,
      "outputs": [
        {
          "output_type": "stream",
          "name": "stdout",
          "text": [
            "Dataset: (56281, 14) Dataset sem valores duplicados: (56281, 14)\n"
          ]
        }
      ]
    },
    {
      "cell_type": "code",
      "source": [
        "despesa_ceaps_full = despesa_ceaps_full.drop_duplicates()"
      ],
      "metadata": {
        "id": "VOndht3biaNY"
      },
      "execution_count": null,
      "outputs": []
    },
    {
      "cell_type": "markdown",
      "source": [
        "## Remover colunas que não serão analisadas."
      ],
      "metadata": {
        "id": "B4AiLvMJZV9S"
      }
    },
    {
      "cell_type": "code",
      "source": [
        "features_drop = ['COD_DOCUMENTO', 'DOCUMENTO']\n",
        "despesa_ceaps_full = despesa_ceaps_full.drop(features_drop, axis=1)"
      ],
      "metadata": {
        "id": "pvIAiJ41X13h"
      },
      "execution_count": null,
      "outputs": []
    },
    {
      "cell_type": "markdown",
      "source": [
        "## Dataset Pronto para a EDA."
      ],
      "metadata": {
        "id": "JUPJl3Z0cJ30"
      }
    },
    {
      "cell_type": "code",
      "source": [
        "despesa_ceaps_full.head(3)"
      ],
      "metadata": {
        "colab": {
          "base_uri": "https://localhost:8080/",
          "height": 364
        },
        "id": "yAZNAj3_cNUs",
        "outputId": "46decf93-e62a-4d33-e9f0-3f09d71152cd"
      },
      "execution_count": null,
      "outputs": [
        {
          "output_type": "execute_result",
          "data": {
            "text/plain": [
              "    ANO  MES       SENADOR                                       TIPO_DESPESA  \\\n",
              "1  2019    1  ACIR GURGACZ  Aluguel de imóveis para escritório político, c...   \n",
              "2  2019    1  ACIR GURGACZ  Aluguel de imóveis para escritório político, c...   \n",
              "3  2019    1  ACIR GURGACZ  Aluguel de imóveis para escritório político, c...   \n",
              "\n",
              "             CNPJ_CPF                     FORNECEDOR        DATA  \\\n",
              "1  05.914.650/0001-66                       ENERGISA  04/01/2019   \n",
              "2  05.914.650/0001-66                       ENERGISA  04/01/2019   \n",
              "3      004.948.028-63  GILBERTO PISELO DO NASCIMENTO  07/01/2019   \n",
              "\n",
              "                                        DETALHAMENTO  VALOR_REEMBOLSADO  \\\n",
              "1  Despesa com pagamento de energia elétrica do e...              66.02   \n",
              "2  Despesa com pagamento de energia elétrica do e...             139.98   \n",
              "3  Despesa com pagamento de aluguel de imóvel par...            6000.00   \n",
              "\n",
              "   SEM_DOCUMENTO  SEM_DETALHAMENTO  DIA  \n",
              "1            0.0               0.0    4  \n",
              "2            0.0               0.0    4  \n",
              "3            0.0               0.0    7  "
            ],
            "text/html": [
              "\n",
              "  <div id=\"df-e98d31ee-1e20-4e0e-beb0-9ea8417c6945\">\n",
              "    <div class=\"colab-df-container\">\n",
              "      <div>\n",
              "<style scoped>\n",
              "    .dataframe tbody tr th:only-of-type {\n",
              "        vertical-align: middle;\n",
              "    }\n",
              "\n",
              "    .dataframe tbody tr th {\n",
              "        vertical-align: top;\n",
              "    }\n",
              "\n",
              "    .dataframe thead th {\n",
              "        text-align: right;\n",
              "    }\n",
              "</style>\n",
              "<table border=\"1\" class=\"dataframe\">\n",
              "  <thead>\n",
              "    <tr style=\"text-align: right;\">\n",
              "      <th></th>\n",
              "      <th>ANO</th>\n",
              "      <th>MES</th>\n",
              "      <th>SENADOR</th>\n",
              "      <th>TIPO_DESPESA</th>\n",
              "      <th>CNPJ_CPF</th>\n",
              "      <th>FORNECEDOR</th>\n",
              "      <th>DATA</th>\n",
              "      <th>DETALHAMENTO</th>\n",
              "      <th>VALOR_REEMBOLSADO</th>\n",
              "      <th>SEM_DOCUMENTO</th>\n",
              "      <th>SEM_DETALHAMENTO</th>\n",
              "      <th>DIA</th>\n",
              "    </tr>\n",
              "  </thead>\n",
              "  <tbody>\n",
              "    <tr>\n",
              "      <th>1</th>\n",
              "      <td>2019</td>\n",
              "      <td>1</td>\n",
              "      <td>ACIR GURGACZ</td>\n",
              "      <td>Aluguel de imóveis para escritório político, c...</td>\n",
              "      <td>05.914.650/0001-66</td>\n",
              "      <td>ENERGISA</td>\n",
              "      <td>04/01/2019</td>\n",
              "      <td>Despesa com pagamento de energia elétrica do e...</td>\n",
              "      <td>66.02</td>\n",
              "      <td>0.0</td>\n",
              "      <td>0.0</td>\n",
              "      <td>4</td>\n",
              "    </tr>\n",
              "    <tr>\n",
              "      <th>2</th>\n",
              "      <td>2019</td>\n",
              "      <td>1</td>\n",
              "      <td>ACIR GURGACZ</td>\n",
              "      <td>Aluguel de imóveis para escritório político, c...</td>\n",
              "      <td>05.914.650/0001-66</td>\n",
              "      <td>ENERGISA</td>\n",
              "      <td>04/01/2019</td>\n",
              "      <td>Despesa com pagamento de energia elétrica do e...</td>\n",
              "      <td>139.98</td>\n",
              "      <td>0.0</td>\n",
              "      <td>0.0</td>\n",
              "      <td>4</td>\n",
              "    </tr>\n",
              "    <tr>\n",
              "      <th>3</th>\n",
              "      <td>2019</td>\n",
              "      <td>1</td>\n",
              "      <td>ACIR GURGACZ</td>\n",
              "      <td>Aluguel de imóveis para escritório político, c...</td>\n",
              "      <td>004.948.028-63</td>\n",
              "      <td>GILBERTO PISELO DO NASCIMENTO</td>\n",
              "      <td>07/01/2019</td>\n",
              "      <td>Despesa com pagamento de aluguel de imóvel par...</td>\n",
              "      <td>6000.00</td>\n",
              "      <td>0.0</td>\n",
              "      <td>0.0</td>\n",
              "      <td>7</td>\n",
              "    </tr>\n",
              "  </tbody>\n",
              "</table>\n",
              "</div>\n",
              "      <button class=\"colab-df-convert\" onclick=\"convertToInteractive('df-e98d31ee-1e20-4e0e-beb0-9ea8417c6945')\"\n",
              "              title=\"Convert this dataframe to an interactive table.\"\n",
              "              style=\"display:none;\">\n",
              "        \n",
              "  <svg xmlns=\"http://www.w3.org/2000/svg\" height=\"24px\"viewBox=\"0 0 24 24\"\n",
              "       width=\"24px\">\n",
              "    <path d=\"M0 0h24v24H0V0z\" fill=\"none\"/>\n",
              "    <path d=\"M18.56 5.44l.94 2.06.94-2.06 2.06-.94-2.06-.94-.94-2.06-.94 2.06-2.06.94zm-11 1L8.5 8.5l.94-2.06 2.06-.94-2.06-.94L8.5 2.5l-.94 2.06-2.06.94zm10 10l.94 2.06.94-2.06 2.06-.94-2.06-.94-.94-2.06-.94 2.06-2.06.94z\"/><path d=\"M17.41 7.96l-1.37-1.37c-.4-.4-.92-.59-1.43-.59-.52 0-1.04.2-1.43.59L10.3 9.45l-7.72 7.72c-.78.78-.78 2.05 0 2.83L4 21.41c.39.39.9.59 1.41.59.51 0 1.02-.2 1.41-.59l7.78-7.78 2.81-2.81c.8-.78.8-2.07 0-2.86zM5.41 20L4 18.59l7.72-7.72 1.47 1.35L5.41 20z\"/>\n",
              "  </svg>\n",
              "      </button>\n",
              "      \n",
              "  <style>\n",
              "    .colab-df-container {\n",
              "      display:flex;\n",
              "      flex-wrap:wrap;\n",
              "      gap: 12px;\n",
              "    }\n",
              "\n",
              "    .colab-df-convert {\n",
              "      background-color: #E8F0FE;\n",
              "      border: none;\n",
              "      border-radius: 50%;\n",
              "      cursor: pointer;\n",
              "      display: none;\n",
              "      fill: #1967D2;\n",
              "      height: 32px;\n",
              "      padding: 0 0 0 0;\n",
              "      width: 32px;\n",
              "    }\n",
              "\n",
              "    .colab-df-convert:hover {\n",
              "      background-color: #E2EBFA;\n",
              "      box-shadow: 0px 1px 2px rgba(60, 64, 67, 0.3), 0px 1px 3px 1px rgba(60, 64, 67, 0.15);\n",
              "      fill: #174EA6;\n",
              "    }\n",
              "\n",
              "    [theme=dark] .colab-df-convert {\n",
              "      background-color: #3B4455;\n",
              "      fill: #D2E3FC;\n",
              "    }\n",
              "\n",
              "    [theme=dark] .colab-df-convert:hover {\n",
              "      background-color: #434B5C;\n",
              "      box-shadow: 0px 1px 3px 1px rgba(0, 0, 0, 0.15);\n",
              "      filter: drop-shadow(0px 1px 2px rgba(0, 0, 0, 0.3));\n",
              "      fill: #FFFFFF;\n",
              "    }\n",
              "  </style>\n",
              "\n",
              "      <script>\n",
              "        const buttonEl =\n",
              "          document.querySelector('#df-e98d31ee-1e20-4e0e-beb0-9ea8417c6945 button.colab-df-convert');\n",
              "        buttonEl.style.display =\n",
              "          google.colab.kernel.accessAllowed ? 'block' : 'none';\n",
              "\n",
              "        async function convertToInteractive(key) {\n",
              "          const element = document.querySelector('#df-e98d31ee-1e20-4e0e-beb0-9ea8417c6945');\n",
              "          const dataTable =\n",
              "            await google.colab.kernel.invokeFunction('convertToInteractive',\n",
              "                                                     [key], {});\n",
              "          if (!dataTable) return;\n",
              "\n",
              "          const docLinkHtml = 'Like what you see? Visit the ' +\n",
              "            '<a target=\"_blank\" href=https://colab.research.google.com/notebooks/data_table.ipynb>data table notebook</a>'\n",
              "            + ' to learn more about interactive tables.';\n",
              "          element.innerHTML = '';\n",
              "          dataTable['output_type'] = 'display_data';\n",
              "          await google.colab.output.renderOutput(dataTable, element);\n",
              "          const docLink = document.createElement('div');\n",
              "          docLink.innerHTML = docLinkHtml;\n",
              "          element.appendChild(docLink);\n",
              "        }\n",
              "      </script>\n",
              "    </div>\n",
              "  </div>\n",
              "  "
            ]
          },
          "metadata": {},
          "execution_count": 286
        }
      ]
    },
    {
      "cell_type": "markdown",
      "source": [
        "## Salvar Dataset"
      ],
      "metadata": {
        "id": "YUWWlRG4dblV"
      }
    },
    {
      "cell_type": "code",
      "source": [
        "from google.colab import files\n",
        "despesa_ceaps_full.to_csv('/gdrive/MyDrive/Colab Notebooks/#7DaysOfCode/despesa_ceaps_full.csv', sep=',')"
      ],
      "metadata": {
        "id": "pM9Uczr3cpLh"
      },
      "execution_count": null,
      "outputs": []
    }
  ]
}