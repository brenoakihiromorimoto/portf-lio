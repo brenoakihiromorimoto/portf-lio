{
  "nbformat": 4,
  "nbformat_minor": 0,
  "metadata": {
    "colab": {
      "name": "#7DaysOfCode - Ciência de Dados 4/7: 👩🏽‍💻 Sistemas de recomendação.ipynb",
      "provenance": [],
      "collapsed_sections": [],
      "authorship_tag": "ABX9TyMusXIkaEtHujEj0/oaQKCU",
      "include_colab_link": true
    },
    "kernelspec": {
      "name": "python3",
      "display_name": "Python 3"
    },
    "language_info": {
      "name": "python"
    }
  },
  "cells": [
    {
      "cell_type": "markdown",
      "metadata": {
        "id": "view-in-github",
        "colab_type": "text"
      },
      "source": [
        "<a href=\"https://colab.research.google.com/github/brenoakihiromorimoto/portf-lio/blob/main/%237DaysOfCode/dia_4_%F0%9F%91%A9%F0%9F%8F%BD%E2%80%8D%F0%9F%92%BB_Sistemas_de_recomenda%C3%A7%C3%A3o.ipynb\" target=\"_parent\"><img src=\"https://colab.research.google.com/assets/colab-badge.svg\" alt=\"Open In Colab\"/></a>"
      ]
    },
    {
      "cell_type": "markdown",
      "source": [
        "#7DaysOfCode - Ciência de Dados 4/7: 👩🏽‍💻 Sistemas de recomendação\n",
        "Olha só, você está na metade do #7DaysOfCode de Dados! Espero que esteja aproveitando muito e desenvolvendo novas habilidades.\n",
        "\n",
        "Hoje vou começar falando sobre Machine Learning.\n",
        "\n",
        "Este conceito tem sido utilizado para resolver diversos problemas em todos os setores da indústria.\n",
        "\n",
        "Se você já usou o Google Maps, Spotify, Youtube, ou Amazon, é certo que já esbarrou em algum sistema utilizando aprendizado de máquina para melhorar sua experiência e criar novos produtos.\n",
        "\n",
        "Uma das aplicações que mais interessam empresas de todos os setores são os sistemas de recomendação: aplicações que aprendem, a partir de dados históricos, como sugerir os melhores itens para clientes a fim de maximizar alguma métrica de negócio, como faturamento, taxa de conversão, dentre outras.\n",
        "\n",
        "E é exatamente sobre isso que eu vou falar no desafio de hoje.\n",
        "\n",
        "O MovieLens é um dataset clássico usado em problemas de sistema de recomendação. Ele é usado até em artigos científicos para validar novos tipos de algoritmos de recomendação.\n",
        "\n",
        "Eu gosto desse conjunto de dados porque ele está muito próximo do mercado.\n",
        "\n",
        "Afinal, quantas empresas não se beneficiariam de um sistema de recomendações?\n",
        "\n",
        "Minha proposta para este desafio é que você crie um sistema de recomendações a partir do MovieLens.\n",
        "\n",
        "Pense em como uma empresa como a Netflix utilizaria um sistema desse jeito. Você consegue criar um sistema que recomenda 5 filmes para o usuário com base em comportamentos passados?"
      ],
      "metadata": {
        "id": "_CizsMAukvct"
      }
    },
    {
      "cell_type": "markdown",
      "source": [
        "# Importar Bibliotecas"
      ],
      "metadata": {
        "id": "lzFNT17pnNj9"
      }
    },
    {
      "cell_type": "code",
      "source": [
        "import pandas as pd\n",
        "import numpy as np\n",
        "import matplotlib.pyplot as plt\n",
        "import seaborn as sns\n",
        "!pip install surprise\n",
        "from surprise import SVD, NormalPredictor, KNNBasic\n",
        "from surprise import Dataset\n",
        "from surprise import Reader\n",
        "from surprise.model_selection import cross_validate\n",
        "from google.colab import drive\n",
        "import surprise\n",
        "drive.mount('/gdrive')\n",
        "%cd /gdrive\n",
        "import joblib"
      ],
      "metadata": {
        "colab": {
          "base_uri": "https://localhost:8080/"
        },
        "id": "l69YNuQRnQOr",
        "outputId": "687b7f94-e0f8-49e5-a1b8-69f9375bc7f8"
      },
      "execution_count": 88,
      "outputs": [
        {
          "output_type": "stream",
          "name": "stdout",
          "text": [
            "Requirement already satisfied: surprise in /usr/local/lib/python3.7/dist-packages (0.1)\n",
            "Requirement already satisfied: scikit-surprise in /usr/local/lib/python3.7/dist-packages (from surprise) (1.1.1)\n",
            "Requirement already satisfied: scipy>=1.0.0 in /usr/local/lib/python3.7/dist-packages (from scikit-surprise->surprise) (1.4.1)\n",
            "Requirement already satisfied: joblib>=0.11 in /usr/local/lib/python3.7/dist-packages (from scikit-surprise->surprise) (1.1.0)\n",
            "Requirement already satisfied: six>=1.10.0 in /usr/local/lib/python3.7/dist-packages (from scikit-surprise->surprise) (1.15.0)\n",
            "Requirement already satisfied: numpy>=1.11.2 in /usr/local/lib/python3.7/dist-packages (from scikit-surprise->surprise) (1.21.5)\n",
            "Drive already mounted at /gdrive; to attempt to forcibly remount, call drive.mount(\"/gdrive\", force_remount=True).\n",
            "/gdrive\n"
          ]
        }
      ]
    },
    {
      "cell_type": "markdown",
      "source": [
        "# Importar datasets"
      ],
      "metadata": {
        "id": "Vw0tqD0kXPq1"
      }
    },
    {
      "cell_type": "code",
      "source": [
        "filmes = pd.read_csv('/gdrive/MyDrive/Colab Notebooks/#7DaysOfCode/movies.csv', sep=',')\n",
        "rating = pd.read_csv('/gdrive/MyDrive/Colab Notebooks/#7DaysOfCode/ratings.csv', sep=',')\n",
        "tags = pd.read_csv('/gdrive/MyDrive/Colab Notebooks/#7DaysOfCode/tags.csv', sep=',')"
      ],
      "metadata": {
        "id": "HarB1eWSk6P-"
      },
      "execution_count": 12,
      "outputs": []
    },
    {
      "cell_type": "markdown",
      "source": [
        "# Preparar o dataset para fazer validação cruzada."
      ],
      "metadata": {
        "id": "2RxUrsjqXTuU"
      }
    },
    {
      "cell_type": "code",
      "source": [
        "rating.head(3)"
      ],
      "metadata": {
        "colab": {
          "base_uri": "https://localhost:8080/",
          "height": 143
        },
        "id": "RqbP-rMD3vYb",
        "outputId": "5e71fafb-ace3-4276-9ad2-448f44c79f4e"
      },
      "execution_count": 14,
      "outputs": [
        {
          "output_type": "execute_result",
          "data": {
            "text/plain": [
              "   userId  movieId  rating   timestamp\n",
              "0       1       31     2.5  1260759144\n",
              "1       1     1029     3.0  1260759179\n",
              "2       1     1061     3.0  1260759182"
            ],
            "text/html": [
              "\n",
              "  <div id=\"df-c70b3c27-61c3-4877-acc9-b44380239e52\">\n",
              "    <div class=\"colab-df-container\">\n",
              "      <div>\n",
              "<style scoped>\n",
              "    .dataframe tbody tr th:only-of-type {\n",
              "        vertical-align: middle;\n",
              "    }\n",
              "\n",
              "    .dataframe tbody tr th {\n",
              "        vertical-align: top;\n",
              "    }\n",
              "\n",
              "    .dataframe thead th {\n",
              "        text-align: right;\n",
              "    }\n",
              "</style>\n",
              "<table border=\"1\" class=\"dataframe\">\n",
              "  <thead>\n",
              "    <tr style=\"text-align: right;\">\n",
              "      <th></th>\n",
              "      <th>userId</th>\n",
              "      <th>movieId</th>\n",
              "      <th>rating</th>\n",
              "      <th>timestamp</th>\n",
              "    </tr>\n",
              "  </thead>\n",
              "  <tbody>\n",
              "    <tr>\n",
              "      <th>0</th>\n",
              "      <td>1</td>\n",
              "      <td>31</td>\n",
              "      <td>2.5</td>\n",
              "      <td>1260759144</td>\n",
              "    </tr>\n",
              "    <tr>\n",
              "      <th>1</th>\n",
              "      <td>1</td>\n",
              "      <td>1029</td>\n",
              "      <td>3.0</td>\n",
              "      <td>1260759179</td>\n",
              "    </tr>\n",
              "    <tr>\n",
              "      <th>2</th>\n",
              "      <td>1</td>\n",
              "      <td>1061</td>\n",
              "      <td>3.0</td>\n",
              "      <td>1260759182</td>\n",
              "    </tr>\n",
              "  </tbody>\n",
              "</table>\n",
              "</div>\n",
              "      <button class=\"colab-df-convert\" onclick=\"convertToInteractive('df-c70b3c27-61c3-4877-acc9-b44380239e52')\"\n",
              "              title=\"Convert this dataframe to an interactive table.\"\n",
              "              style=\"display:none;\">\n",
              "        \n",
              "  <svg xmlns=\"http://www.w3.org/2000/svg\" height=\"24px\"viewBox=\"0 0 24 24\"\n",
              "       width=\"24px\">\n",
              "    <path d=\"M0 0h24v24H0V0z\" fill=\"none\"/>\n",
              "    <path d=\"M18.56 5.44l.94 2.06.94-2.06 2.06-.94-2.06-.94-.94-2.06-.94 2.06-2.06.94zm-11 1L8.5 8.5l.94-2.06 2.06-.94-2.06-.94L8.5 2.5l-.94 2.06-2.06.94zm10 10l.94 2.06.94-2.06 2.06-.94-2.06-.94-.94-2.06-.94 2.06-2.06.94z\"/><path d=\"M17.41 7.96l-1.37-1.37c-.4-.4-.92-.59-1.43-.59-.52 0-1.04.2-1.43.59L10.3 9.45l-7.72 7.72c-.78.78-.78 2.05 0 2.83L4 21.41c.39.39.9.59 1.41.59.51 0 1.02-.2 1.41-.59l7.78-7.78 2.81-2.81c.8-.78.8-2.07 0-2.86zM5.41 20L4 18.59l7.72-7.72 1.47 1.35L5.41 20z\"/>\n",
              "  </svg>\n",
              "      </button>\n",
              "      \n",
              "  <style>\n",
              "    .colab-df-container {\n",
              "      display:flex;\n",
              "      flex-wrap:wrap;\n",
              "      gap: 12px;\n",
              "    }\n",
              "\n",
              "    .colab-df-convert {\n",
              "      background-color: #E8F0FE;\n",
              "      border: none;\n",
              "      border-radius: 50%;\n",
              "      cursor: pointer;\n",
              "      display: none;\n",
              "      fill: #1967D2;\n",
              "      height: 32px;\n",
              "      padding: 0 0 0 0;\n",
              "      width: 32px;\n",
              "    }\n",
              "\n",
              "    .colab-df-convert:hover {\n",
              "      background-color: #E2EBFA;\n",
              "      box-shadow: 0px 1px 2px rgba(60, 64, 67, 0.3), 0px 1px 3px 1px rgba(60, 64, 67, 0.15);\n",
              "      fill: #174EA6;\n",
              "    }\n",
              "\n",
              "    [theme=dark] .colab-df-convert {\n",
              "      background-color: #3B4455;\n",
              "      fill: #D2E3FC;\n",
              "    }\n",
              "\n",
              "    [theme=dark] .colab-df-convert:hover {\n",
              "      background-color: #434B5C;\n",
              "      box-shadow: 0px 1px 3px 1px rgba(0, 0, 0, 0.15);\n",
              "      filter: drop-shadow(0px 1px 2px rgba(0, 0, 0, 0.3));\n",
              "      fill: #FFFFFF;\n",
              "    }\n",
              "  </style>\n",
              "\n",
              "      <script>\n",
              "        const buttonEl =\n",
              "          document.querySelector('#df-c70b3c27-61c3-4877-acc9-b44380239e52 button.colab-df-convert');\n",
              "        buttonEl.style.display =\n",
              "          google.colab.kernel.accessAllowed ? 'block' : 'none';\n",
              "\n",
              "        async function convertToInteractive(key) {\n",
              "          const element = document.querySelector('#df-c70b3c27-61c3-4877-acc9-b44380239e52');\n",
              "          const dataTable =\n",
              "            await google.colab.kernel.invokeFunction('convertToInteractive',\n",
              "                                                     [key], {});\n",
              "          if (!dataTable) return;\n",
              "\n",
              "          const docLinkHtml = 'Like what you see? Visit the ' +\n",
              "            '<a target=\"_blank\" href=https://colab.research.google.com/notebooks/data_table.ipynb>data table notebook</a>'\n",
              "            + ' to learn more about interactive tables.';\n",
              "          element.innerHTML = '';\n",
              "          dataTable['output_type'] = 'display_data';\n",
              "          await google.colab.output.renderOutput(dataTable, element);\n",
              "          const docLink = document.createElement('div');\n",
              "          docLink.innerHTML = docLinkHtml;\n",
              "          element.appendChild(docLink);\n",
              "        }\n",
              "      </script>\n",
              "    </div>\n",
              "  </div>\n",
              "  "
            ]
          },
          "metadata": {},
          "execution_count": 14
        }
      ]
    },
    {
      "cell_type": "code",
      "source": [
        "reader = Reader(rating_scale=(1, 5))\n",
        "rating_reader = Dataset.load_from_df(rating[['userId', 'movieId', 'rating']], reader)"
      ],
      "metadata": {
        "id": "kJBUTm6e3EJJ"
      },
      "execution_count": 19,
      "outputs": []
    },
    {
      "cell_type": "markdown",
      "source": [
        "# Validação cruzada dos modelos."
      ],
      "metadata": {
        "id": "c3wsdE4BXeX6"
      }
    },
    {
      "cell_type": "code",
      "source": [
        "algoritmos = [SVD(), NormalPredictor(), KNNBasic()]\n",
        "total_results = pd.DataFrame()\n",
        "for algoritmo in algoritmos:\n",
        "  results = cross_validate(algoritmo, rating_reader, measures=['RMSE'], cv=5)\n",
        "  row_results = pd.DataFrame(pd.DataFrame.from_dict(results).mean(axis=0)).T.rename(index={0:str(algoritmo).split('.')[-1].split(' ')[0]})\n",
        "  total_results = total_results.append(row_results)"
      ],
      "metadata": {
        "colab": {
          "base_uri": "https://localhost:8080/"
        },
        "id": "elXxj-zKLmUx",
        "outputId": "1a1e46ca-4c19-40bf-ec5b-0c609171773f"
      },
      "execution_count": 77,
      "outputs": [
        {
          "output_type": "stream",
          "name": "stdout",
          "text": [
            "Computing the msd similarity matrix...\n",
            "Done computing similarity matrix.\n",
            "Computing the msd similarity matrix...\n",
            "Done computing similarity matrix.\n",
            "Computing the msd similarity matrix...\n",
            "Done computing similarity matrix.\n",
            "Computing the msd similarity matrix...\n",
            "Done computing similarity matrix.\n",
            "Computing the msd similarity matrix...\n",
            "Done computing similarity matrix.\n"
          ]
        }
      ]
    },
    {
      "cell_type": "markdown",
      "source": [
        "# Resultados"
      ],
      "metadata": {
        "id": "mQWG9qfEXpMF"
      }
    },
    {
      "cell_type": "code",
      "source": [
        "total_results.sort_values(by='test_rmse')"
      ],
      "metadata": {
        "colab": {
          "base_uri": "https://localhost:8080/",
          "height": 143
        },
        "id": "fXJqsC4fQi0S",
        "outputId": "99faf0d8-6ae5-4cfc-9765-d5963addd5fe"
      },
      "execution_count": 216,
      "outputs": [
        {
          "output_type": "execute_result",
          "data": {
            "text/plain": [
              "                 test_rmse  fit_time  test_time\n",
              "SVD               0.897294  6.051691   0.248913\n",
              "KNNBasic          0.967685  0.210660   1.807202\n",
              "NormalPredictor   1.445094  0.203097   0.197427"
            ],
            "text/html": [
              "\n",
              "  <div id=\"df-1e0bacac-e8df-4319-bddd-caef13368141\">\n",
              "    <div class=\"colab-df-container\">\n",
              "      <div>\n",
              "<style scoped>\n",
              "    .dataframe tbody tr th:only-of-type {\n",
              "        vertical-align: middle;\n",
              "    }\n",
              "\n",
              "    .dataframe tbody tr th {\n",
              "        vertical-align: top;\n",
              "    }\n",
              "\n",
              "    .dataframe thead th {\n",
              "        text-align: right;\n",
              "    }\n",
              "</style>\n",
              "<table border=\"1\" class=\"dataframe\">\n",
              "  <thead>\n",
              "    <tr style=\"text-align: right;\">\n",
              "      <th></th>\n",
              "      <th>test_rmse</th>\n",
              "      <th>fit_time</th>\n",
              "      <th>test_time</th>\n",
              "    </tr>\n",
              "  </thead>\n",
              "  <tbody>\n",
              "    <tr>\n",
              "      <th>SVD</th>\n",
              "      <td>0.897294</td>\n",
              "      <td>6.051691</td>\n",
              "      <td>0.248913</td>\n",
              "    </tr>\n",
              "    <tr>\n",
              "      <th>KNNBasic</th>\n",
              "      <td>0.967685</td>\n",
              "      <td>0.210660</td>\n",
              "      <td>1.807202</td>\n",
              "    </tr>\n",
              "    <tr>\n",
              "      <th>NormalPredictor</th>\n",
              "      <td>1.445094</td>\n",
              "      <td>0.203097</td>\n",
              "      <td>0.197427</td>\n",
              "    </tr>\n",
              "  </tbody>\n",
              "</table>\n",
              "</div>\n",
              "      <button class=\"colab-df-convert\" onclick=\"convertToInteractive('df-1e0bacac-e8df-4319-bddd-caef13368141')\"\n",
              "              title=\"Convert this dataframe to an interactive table.\"\n",
              "              style=\"display:none;\">\n",
              "        \n",
              "  <svg xmlns=\"http://www.w3.org/2000/svg\" height=\"24px\"viewBox=\"0 0 24 24\"\n",
              "       width=\"24px\">\n",
              "    <path d=\"M0 0h24v24H0V0z\" fill=\"none\"/>\n",
              "    <path d=\"M18.56 5.44l.94 2.06.94-2.06 2.06-.94-2.06-.94-.94-2.06-.94 2.06-2.06.94zm-11 1L8.5 8.5l.94-2.06 2.06-.94-2.06-.94L8.5 2.5l-.94 2.06-2.06.94zm10 10l.94 2.06.94-2.06 2.06-.94-2.06-.94-.94-2.06-.94 2.06-2.06.94z\"/><path d=\"M17.41 7.96l-1.37-1.37c-.4-.4-.92-.59-1.43-.59-.52 0-1.04.2-1.43.59L10.3 9.45l-7.72 7.72c-.78.78-.78 2.05 0 2.83L4 21.41c.39.39.9.59 1.41.59.51 0 1.02-.2 1.41-.59l7.78-7.78 2.81-2.81c.8-.78.8-2.07 0-2.86zM5.41 20L4 18.59l7.72-7.72 1.47 1.35L5.41 20z\"/>\n",
              "  </svg>\n",
              "      </button>\n",
              "      \n",
              "  <style>\n",
              "    .colab-df-container {\n",
              "      display:flex;\n",
              "      flex-wrap:wrap;\n",
              "      gap: 12px;\n",
              "    }\n",
              "\n",
              "    .colab-df-convert {\n",
              "      background-color: #E8F0FE;\n",
              "      border: none;\n",
              "      border-radius: 50%;\n",
              "      cursor: pointer;\n",
              "      display: none;\n",
              "      fill: #1967D2;\n",
              "      height: 32px;\n",
              "      padding: 0 0 0 0;\n",
              "      width: 32px;\n",
              "    }\n",
              "\n",
              "    .colab-df-convert:hover {\n",
              "      background-color: #E2EBFA;\n",
              "      box-shadow: 0px 1px 2px rgba(60, 64, 67, 0.3), 0px 1px 3px 1px rgba(60, 64, 67, 0.15);\n",
              "      fill: #174EA6;\n",
              "    }\n",
              "\n",
              "    [theme=dark] .colab-df-convert {\n",
              "      background-color: #3B4455;\n",
              "      fill: #D2E3FC;\n",
              "    }\n",
              "\n",
              "    [theme=dark] .colab-df-convert:hover {\n",
              "      background-color: #434B5C;\n",
              "      box-shadow: 0px 1px 3px 1px rgba(0, 0, 0, 0.15);\n",
              "      filter: drop-shadow(0px 1px 2px rgba(0, 0, 0, 0.3));\n",
              "      fill: #FFFFFF;\n",
              "    }\n",
              "  </style>\n",
              "\n",
              "      <script>\n",
              "        const buttonEl =\n",
              "          document.querySelector('#df-1e0bacac-e8df-4319-bddd-caef13368141 button.colab-df-convert');\n",
              "        buttonEl.style.display =\n",
              "          google.colab.kernel.accessAllowed ? 'block' : 'none';\n",
              "\n",
              "        async function convertToInteractive(key) {\n",
              "          const element = document.querySelector('#df-1e0bacac-e8df-4319-bddd-caef13368141');\n",
              "          const dataTable =\n",
              "            await google.colab.kernel.invokeFunction('convertToInteractive',\n",
              "                                                     [key], {});\n",
              "          if (!dataTable) return;\n",
              "\n",
              "          const docLinkHtml = 'Like what you see? Visit the ' +\n",
              "            '<a target=\"_blank\" href=https://colab.research.google.com/notebooks/data_table.ipynb>data table notebook</a>'\n",
              "            + ' to learn more about interactive tables.';\n",
              "          element.innerHTML = '';\n",
              "          dataTable['output_type'] = 'display_data';\n",
              "          await google.colab.output.renderOutput(dataTable, element);\n",
              "          const docLink = document.createElement('div');\n",
              "          docLink.innerHTML = docLinkHtml;\n",
              "          element.appendChild(docLink);\n",
              "        }\n",
              "      </script>\n",
              "    </div>\n",
              "  </div>\n",
              "  "
            ]
          },
          "metadata": {},
          "execution_count": 216
        }
      ]
    },
    {
      "cell_type": "markdown",
      "source": [
        "* O NormalPredictor é um algoritmo que prevê a avaliação dos filmes de forma aleatória, isso foi considerado a baseline.\n",
        "* O SVD teve o RMSE mais baixo que a baseline e o KNNBasic, a diferença média entre o alvo e a previsão é de 0.89 estrelas."
      ],
      "metadata": {
        "id": "h0x9d8iJXuEG"
      }
    },
    {
      "cell_type": "markdown",
      "source": [
        "# Justificativa das métricas."
      ],
      "metadata": {
        "id": "D__81WVzbjhm"
      }
    },
    {
      "cell_type": "markdown",
      "source": [
        "* A métrica usada foi o rmse, porque o alvo foi prever a avaliação dos filmes dada por um usuário."
      ],
      "metadata": {
        "id": "KgtUGjORbnq_"
      }
    },
    {
      "cell_type": "markdown",
      "source": [
        "# Treinar modelo."
      ],
      "metadata": {
        "id": "r373bbVLb56S"
      }
    },
    {
      "cell_type": "code",
      "source": [
        "trainset = rating_reader.build_full_trainset()"
      ],
      "metadata": {
        "id": "LZfBfZh5cIDY"
      },
      "execution_count": 85,
      "outputs": []
    },
    {
      "cell_type": "code",
      "source": [
        "algo = SVD().fit(trainset)"
      ],
      "metadata": {
        "id": "iFj8IDr4cwE_"
      },
      "execution_count": 109,
      "outputs": []
    },
    {
      "cell_type": "markdown",
      "source": [
        "# Lista de recomendação de filmes por usuário"
      ],
      "metadata": {
        "id": "0PZbJA8hhO-c"
      }
    },
    {
      "cell_type": "markdown",
      "source": [
        "* Recomendação de filmes por usuário."
      ],
      "metadata": {
        "id": "8bTm5Qdgs30W"
      }
    },
    {
      "cell_type": "code",
      "source": [
        "def top_5_filmes(user_id, algoritmo):\n",
        "  all_ratings = pd.DataFrame()\n",
        "  for movie_id in rating.movieId.unique().tolist():\n",
        "    row = {'rating': algoritmo.predict(user_id, movie_id).est,\n",
        "          'movie_id': str(movie_id)}\n",
        "    all_ratings = all_ratings.append(row, ignore_index=True)\n",
        "  else:\n",
        "    top_5_rating = all_ratings.sort_values(by='rating', ascending=False).iloc[:5]\n",
        "    return top_5_rating.movie_id.tolist()"
      ],
      "metadata": {
        "id": "vVF-NtkAhTMc"
      },
      "execution_count": 218,
      "outputs": []
    },
    {
      "cell_type": "code",
      "source": [
        "top_5_filmes = top_5_filmes(1, algo)"
      ],
      "metadata": {
        "id": "_j4jDlcO4few"
      },
      "execution_count": 219,
      "outputs": []
    },
    {
      "cell_type": "code",
      "source": [
        "top_5_filmes"
      ],
      "metadata": {
        "colab": {
          "base_uri": "https://localhost:8080/"
        },
        "id": "8kQUeHi84viJ",
        "outputId": "bffdf9e0-acb5-474a-81dd-655669d3761c"
      },
      "execution_count": 220,
      "outputs": [
        {
          "output_type": "execute_result",
          "data": {
            "text/plain": [
              "['527', '1228', '7502', '1172', '1252']"
            ]
          },
          "metadata": {},
          "execution_count": 220
        }
      ]
    },
    {
      "cell_type": "markdown",
      "source": [
        "# Salvar o modelo em .sav no Google Drive"
      ],
      "metadata": {
        "id": "CWNWhPvmeD45"
      }
    },
    {
      "cell_type": "code",
      "source": [
        "filename = '/gdrive/MyDrive/Colab Notebooks/#7DaysOfCode/modelo_finalizado.sav'\n",
        "joblib.dump(algo, filename)"
      ],
      "metadata": {
        "colab": {
          "base_uri": "https://localhost:8080/"
        },
        "id": "iZkTMfUGeHM8",
        "outputId": "8bc23821-89d1-4de0-9e50-4e8018660687"
      },
      "execution_count": 110,
      "outputs": [
        {
          "output_type": "execute_result",
          "data": {
            "text/plain": [
              "['/gdrive/MyDrive/Colab Notebooks/#7DaysOfCode/modelo_finalizado.sav']"
            ]
          },
          "metadata": {},
          "execution_count": 110
        }
      ]
    },
    {
      "cell_type": "code",
      "source": [
        "loaded_model = joblib.load(filename)"
      ],
      "metadata": {
        "id": "EZ3P6mCyeapY"
      },
      "execution_count": 111,
      "outputs": []
    },
    {
      "cell_type": "code",
      "source": [
        "loaded_model.predict('1', '527')"
      ],
      "metadata": {
        "colab": {
          "base_uri": "https://localhost:8080/"
        },
        "id": "k_pNOsaAekDe",
        "outputId": "3ec8b005-4515-4790-ffea-6be5179245f5"
      },
      "execution_count": 221,
      "outputs": [
        {
          "output_type": "execute_result",
          "data": {
            "text/plain": [
              "Prediction(uid='1', iid='527', r_ui=None, est=3.543608255669773, details={'was_impossible': False})"
            ]
          },
          "metadata": {},
          "execution_count": 221
        }
      ]
    }
  ]
}