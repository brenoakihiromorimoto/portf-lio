{
  "cells": [
    {
      "cell_type": "markdown",
      "metadata": {
        "id": "view-in-github",
        "colab_type": "text"
      },
      "source": [
        "<a href=\"https://colab.research.google.com/github/brenoakihiromorimoto/portf-lio/blob/main/%237DaysOfCode/dia_3_Forecasting.ipynb\" target=\"_parent\"><img src=\"https://colab.research.google.com/assets/colab-badge.svg\" alt=\"Open In Colab\"/></a>"
      ]
    },
    {
      "cell_type": "markdown",
      "metadata": {
        "id": "wGnOnz1Mij56"
      },
      "source": [
        "#7DaysOfCode - Ciência de Dados 3/7: Forecasting\n",
        "\n",
        "É hora de encarar o terceiro dia de desafio!\n",
        "\n",
        "E como você já viu, a tarefa hoje é: Forecasting. Vou te explicar melhor o que é isso.\n",
        "\n",
        "O trabalho de um Cientista de Dados geralmente gira em torno de duas principais frentes: descrição (entender o que aconteceu e por que aconteceu) e predição (prever o que pode acontecer e o que deve ser feito).\n",
        "\n",
        "É provável que ontem você tenha aplicado algumas dessas técnicas descritivas, utilizando análise de dados e visualizações para entender o que aconteceu.\n",
        "\n",
        "Neste caso, você analisou o que aconteceu com os gastos dos senadores.\n",
        "\n",
        "Para as tarefas de predição, são utilizadas técnicas de Machine Learning e ferramentas estatísticas para prever o futuro. E é sobre elas que falaremos hoje.\n",
        "\n",
        "Forecasting é uma das técnicas mais conhecidas e utilizadas por Data Scientists para prever indicadores de negócios.\n",
        "\n",
        "Por exemplo: uma área de Finanças pode querer que você preveja o faturamento da empresa; ou então seu time de Marketing pode querer prever quantos usuários irão se cadastrar na plataforma nos próximos meses.\n",
        "\n",
        "No desafio de hoje, eu quero te provocar a criar o seu próprio modelo de Forecasting!\n",
        "\n",
        "Será que você consegue criar um modelo que irá prever quanto os senadores vão gastar nos próximos três meses?\n",
        "\n",
        "Você ainda utilizará o dataset do CEAPS que utilizou ontem, mas será muito importante para o seu modelo que você tenha mais de um ano de dados.\n",
        "\n",
        "Os dados do CEAPS são divididos por ano, então seria interessante pegar pelo menos quatro anos e juntar em um grande dataset (isso fará seu modelo mais preciso).\n",
        "\n",
        "Mas, se você não tem tempo pra isso, não tem problema. Eu já fiz um dataset para esse desafio, que você pode baixar aqui. Esse dataset contém dados de 2018 a 2021 do CEAPS, e nele você encontrará duas colunas:\n",
        "\n",
        "DS, que representa a data do reembolso; \n",
        "Y, que é a soma de reembolsos dos senadores naquele dia."
      ]
    },
    {
      "cell_type": "markdown",
      "metadata": {
        "id": "y9wA8wWepQ7Z"
      },
      "source": [
        "# Importar Bibliotecas"
      ]
    },
    {
      "cell_type": "code",
      "execution_count": 433,
      "metadata": {
        "colab": {
          "base_uri": "https://localhost:8080/"
        },
        "id": "FIgb_MWYnk6s",
        "outputId": "784c3289-5ee5-427a-acc9-1a51677fea38"
      },
      "outputs": [
        {
          "output_type": "stream",
          "name": "stdout",
          "text": [
            "Drive already mounted at /gdrive; to attempt to forcibly remount, call drive.mount(\"/gdrive\", force_remount=True).\n",
            "Requirement already satisfied: prophet in /usr/local/lib/python3.7/dist-packages (1.0.1)\n",
            "Requirement already satisfied: python-dateutil>=2.8.0 in /usr/local/lib/python3.7/dist-packages (from prophet) (2.8.2)\n",
            "Requirement already satisfied: matplotlib>=2.0.0 in /usr/local/lib/python3.7/dist-packages (from prophet) (3.2.2)\n",
            "Requirement already satisfied: LunarCalendar>=0.0.9 in /usr/local/lib/python3.7/dist-packages (from prophet) (0.0.9)\n",
            "Requirement already satisfied: pandas>=1.0.4 in /usr/local/lib/python3.7/dist-packages (from prophet) (1.3.5)\n",
            "Requirement already satisfied: pystan~=2.19.1.1 in /usr/local/lib/python3.7/dist-packages (from prophet) (2.19.1.1)\n",
            "Requirement already satisfied: setuptools-git>=1.2 in /usr/local/lib/python3.7/dist-packages (from prophet) (1.2)\n",
            "Requirement already satisfied: Cython>=0.22 in /usr/local/lib/python3.7/dist-packages (from prophet) (0.29.28)\n",
            "Requirement already satisfied: tqdm>=4.36.1 in /usr/local/lib/python3.7/dist-packages (from prophet) (4.64.0)\n",
            "Requirement already satisfied: cmdstanpy==0.9.68 in /usr/local/lib/python3.7/dist-packages (from prophet) (0.9.68)\n",
            "Requirement already satisfied: holidays>=0.10.2 in /usr/local/lib/python3.7/dist-packages (from prophet) (0.10.5.2)\n",
            "Requirement already satisfied: convertdate>=2.1.2 in /usr/local/lib/python3.7/dist-packages (from prophet) (2.4.0)\n",
            "Requirement already satisfied: numpy>=1.15.4 in /usr/local/lib/python3.7/dist-packages (from prophet) (1.21.5)\n",
            "Requirement already satisfied: ujson in /usr/local/lib/python3.7/dist-packages (from cmdstanpy==0.9.68->prophet) (5.2.0)\n",
            "Requirement already satisfied: pymeeus<=1,>=0.3.13 in /usr/local/lib/python3.7/dist-packages (from convertdate>=2.1.2->prophet) (0.5.11)\n",
            "Requirement already satisfied: korean-lunar-calendar in /usr/local/lib/python3.7/dist-packages (from holidays>=0.10.2->prophet) (0.2.1)\n",
            "Requirement already satisfied: six in /usr/local/lib/python3.7/dist-packages (from holidays>=0.10.2->prophet) (1.15.0)\n",
            "Requirement already satisfied: hijri-converter in /usr/local/lib/python3.7/dist-packages (from holidays>=0.10.2->prophet) (2.2.3)\n",
            "Requirement already satisfied: ephem>=3.7.5.3 in /usr/local/lib/python3.7/dist-packages (from LunarCalendar>=0.0.9->prophet) (4.1.3)\n",
            "Requirement already satisfied: pytz in /usr/local/lib/python3.7/dist-packages (from LunarCalendar>=0.0.9->prophet) (2018.9)\n",
            "Requirement already satisfied: pyparsing!=2.0.4,!=2.1.2,!=2.1.6,>=2.0.1 in /usr/local/lib/python3.7/dist-packages (from matplotlib>=2.0.0->prophet) (3.0.8)\n",
            "Requirement already satisfied: kiwisolver>=1.0.1 in /usr/local/lib/python3.7/dist-packages (from matplotlib>=2.0.0->prophet) (1.4.2)\n",
            "Requirement already satisfied: cycler>=0.10 in /usr/local/lib/python3.7/dist-packages (from matplotlib>=2.0.0->prophet) (0.11.0)\n",
            "Requirement already satisfied: typing-extensions in /usr/local/lib/python3.7/dist-packages (from kiwisolver>=1.0.1->matplotlib>=2.0.0->prophet) (4.1.1)\n"
          ]
        }
      ],
      "source": [
        "from google.colab import drive\n",
        "drive.mount('/gdrive')\n",
        "\n",
        "import numpy as np\n",
        "import pandas as pd\n",
        "import matplotlib.pyplot as plt\n",
        "import seaborn as sns\n",
        "\n",
        "import plotly.express as px\n",
        "from sklearn.preprocessing import LabelEncoder\n",
        "from scipy.stats import ttest_ind\n",
        "from datetime import datetime\n",
        "import datetime\n",
        "!pip install prophet\n",
        "from prophet import Prophet\n"
      ]
    },
    {
      "cell_type": "markdown",
      "metadata": {
        "id": "M14YDGWHjqqf"
      },
      "source": [
        "# Importar Dataset feito no dia 1."
      ]
    },
    {
      "cell_type": "code",
      "execution_count": 434,
      "metadata": {
        "id": "3FvOim7wjikn"
      },
      "outputs": [],
      "source": [
        "link = \"/gdrive/MyDrive/Colab Notebooks/#7DaysOfCode/\"\n",
        "\n",
        "despesa_ceaps_full = pd.read_csv(link+\"despesa_ceaps_full.csv\", sep=',')\n",
        "\n",
        "despesa_ceaps_full = despesa_ceaps_full.drop('Unnamed: 0', axis=1)"
      ]
    },
    {
      "cell_type": "code",
      "execution_count": 435,
      "metadata": {
        "colab": {
          "base_uri": "https://localhost:8080/"
        },
        "id": "_l6HZ3z-kdZf",
        "outputId": "b8586ba9-ef01-4b97-cb40-c0411ea80aa9"
      },
      "outputs": [
        {
          "output_type": "execute_result",
          "data": {
            "text/plain": [
              "Index(['ANO', 'MES', 'SENADOR', 'TIPO_DESPESA', 'CNPJ_CPF', 'FORNECEDOR',\n",
              "       'DATA', 'DETALHAMENTO', 'VALOR_REEMBOLSADO', 'SEM_DOCUMENTO',\n",
              "       'SEM_DETALHAMENTO'],\n",
              "      dtype='object')"
            ]
          },
          "metadata": {},
          "execution_count": 435
        }
      ],
      "source": [
        "despesa_ceaps_full.columns"
      ]
    },
    {
      "cell_type": "code",
      "execution_count": 436,
      "metadata": {
        "colab": {
          "base_uri": "https://localhost:8080/",
          "height": 0
        },
        "id": "RhzBNZYUkKlT",
        "outputId": "50ba5fc3-5551-4e4f-a59d-b3726fe9be7a"
      },
      "outputs": [
        {
          "output_type": "execute_result",
          "data": {
            "text/plain": [
              "    ANO  MES       SENADOR                                       TIPO_DESPESA  \\\n",
              "0  2019    1  ACIR GURGACZ  Aluguel de imóveis para escritório político, c...   \n",
              "1  2019    1  ACIR GURGACZ  Aluguel de imóveis para escritório político, c...   \n",
              "2  2019    1  ACIR GURGACZ  Aluguel de imóveis para escritório político, c...   \n",
              "\n",
              "             CNPJ_CPF                     FORNECEDOR        DATA  \\\n",
              "0  05.914.650/0001-66                       ENERGISA  04/01/2019   \n",
              "1  05.914.650/0001-66                       ENERGISA  04/01/2019   \n",
              "2      004.948.028-63  GILBERTO PISELO DO NASCIMENTO  07/01/2019   \n",
              "\n",
              "                                        DETALHAMENTO  VALOR_REEMBOLSADO  \\\n",
              "0  Despesa com pagamento de energia elétrica do e...             66.020   \n",
              "1  Despesa com pagamento de energia elétrica do e...            139.980   \n",
              "2  Despesa com pagamento de aluguel de imóvel par...           6000.000   \n",
              "\n",
              "   SEM_DOCUMENTO  SEM_DETALHAMENTO  \n",
              "0          0.000             0.000  \n",
              "1          0.000             0.000  \n",
              "2          0.000             0.000  "
            ],
            "text/html": [
              "\n",
              "  <div id=\"df-1b3a5ec8-df83-42c7-8fd5-45976581cb33\">\n",
              "    <div class=\"colab-df-container\">\n",
              "      <div>\n",
              "<style scoped>\n",
              "    .dataframe tbody tr th:only-of-type {\n",
              "        vertical-align: middle;\n",
              "    }\n",
              "\n",
              "    .dataframe tbody tr th {\n",
              "        vertical-align: top;\n",
              "    }\n",
              "\n",
              "    .dataframe thead th {\n",
              "        text-align: right;\n",
              "    }\n",
              "</style>\n",
              "<table border=\"1\" class=\"dataframe\">\n",
              "  <thead>\n",
              "    <tr style=\"text-align: right;\">\n",
              "      <th></th>\n",
              "      <th>ANO</th>\n",
              "      <th>MES</th>\n",
              "      <th>SENADOR</th>\n",
              "      <th>TIPO_DESPESA</th>\n",
              "      <th>CNPJ_CPF</th>\n",
              "      <th>FORNECEDOR</th>\n",
              "      <th>DATA</th>\n",
              "      <th>DETALHAMENTO</th>\n",
              "      <th>VALOR_REEMBOLSADO</th>\n",
              "      <th>SEM_DOCUMENTO</th>\n",
              "      <th>SEM_DETALHAMENTO</th>\n",
              "    </tr>\n",
              "  </thead>\n",
              "  <tbody>\n",
              "    <tr>\n",
              "      <th>0</th>\n",
              "      <td>2019</td>\n",
              "      <td>1</td>\n",
              "      <td>ACIR GURGACZ</td>\n",
              "      <td>Aluguel de imóveis para escritório político, c...</td>\n",
              "      <td>05.914.650/0001-66</td>\n",
              "      <td>ENERGISA</td>\n",
              "      <td>04/01/2019</td>\n",
              "      <td>Despesa com pagamento de energia elétrica do e...</td>\n",
              "      <td>66.020</td>\n",
              "      <td>0.000</td>\n",
              "      <td>0.000</td>\n",
              "    </tr>\n",
              "    <tr>\n",
              "      <th>1</th>\n",
              "      <td>2019</td>\n",
              "      <td>1</td>\n",
              "      <td>ACIR GURGACZ</td>\n",
              "      <td>Aluguel de imóveis para escritório político, c...</td>\n",
              "      <td>05.914.650/0001-66</td>\n",
              "      <td>ENERGISA</td>\n",
              "      <td>04/01/2019</td>\n",
              "      <td>Despesa com pagamento de energia elétrica do e...</td>\n",
              "      <td>139.980</td>\n",
              "      <td>0.000</td>\n",
              "      <td>0.000</td>\n",
              "    </tr>\n",
              "    <tr>\n",
              "      <th>2</th>\n",
              "      <td>2019</td>\n",
              "      <td>1</td>\n",
              "      <td>ACIR GURGACZ</td>\n",
              "      <td>Aluguel de imóveis para escritório político, c...</td>\n",
              "      <td>004.948.028-63</td>\n",
              "      <td>GILBERTO PISELO DO NASCIMENTO</td>\n",
              "      <td>07/01/2019</td>\n",
              "      <td>Despesa com pagamento de aluguel de imóvel par...</td>\n",
              "      <td>6000.000</td>\n",
              "      <td>0.000</td>\n",
              "      <td>0.000</td>\n",
              "    </tr>\n",
              "  </tbody>\n",
              "</table>\n",
              "</div>\n",
              "      <button class=\"colab-df-convert\" onclick=\"convertToInteractive('df-1b3a5ec8-df83-42c7-8fd5-45976581cb33')\"\n",
              "              title=\"Convert this dataframe to an interactive table.\"\n",
              "              style=\"display:none;\">\n",
              "        \n",
              "  <svg xmlns=\"http://www.w3.org/2000/svg\" height=\"24px\"viewBox=\"0 0 24 24\"\n",
              "       width=\"24px\">\n",
              "    <path d=\"M0 0h24v24H0V0z\" fill=\"none\"/>\n",
              "    <path d=\"M18.56 5.44l.94 2.06.94-2.06 2.06-.94-2.06-.94-.94-2.06-.94 2.06-2.06.94zm-11 1L8.5 8.5l.94-2.06 2.06-.94-2.06-.94L8.5 2.5l-.94 2.06-2.06.94zm10 10l.94 2.06.94-2.06 2.06-.94-2.06-.94-.94-2.06-.94 2.06-2.06.94z\"/><path d=\"M17.41 7.96l-1.37-1.37c-.4-.4-.92-.59-1.43-.59-.52 0-1.04.2-1.43.59L10.3 9.45l-7.72 7.72c-.78.78-.78 2.05 0 2.83L4 21.41c.39.39.9.59 1.41.59.51 0 1.02-.2 1.41-.59l7.78-7.78 2.81-2.81c.8-.78.8-2.07 0-2.86zM5.41 20L4 18.59l7.72-7.72 1.47 1.35L5.41 20z\"/>\n",
              "  </svg>\n",
              "      </button>\n",
              "      \n",
              "  <style>\n",
              "    .colab-df-container {\n",
              "      display:flex;\n",
              "      flex-wrap:wrap;\n",
              "      gap: 12px;\n",
              "    }\n",
              "\n",
              "    .colab-df-convert {\n",
              "      background-color: #E8F0FE;\n",
              "      border: none;\n",
              "      border-radius: 50%;\n",
              "      cursor: pointer;\n",
              "      display: none;\n",
              "      fill: #1967D2;\n",
              "      height: 32px;\n",
              "      padding: 0 0 0 0;\n",
              "      width: 32px;\n",
              "    }\n",
              "\n",
              "    .colab-df-convert:hover {\n",
              "      background-color: #E2EBFA;\n",
              "      box-shadow: 0px 1px 2px rgba(60, 64, 67, 0.3), 0px 1px 3px 1px rgba(60, 64, 67, 0.15);\n",
              "      fill: #174EA6;\n",
              "    }\n",
              "\n",
              "    [theme=dark] .colab-df-convert {\n",
              "      background-color: #3B4455;\n",
              "      fill: #D2E3FC;\n",
              "    }\n",
              "\n",
              "    [theme=dark] .colab-df-convert:hover {\n",
              "      background-color: #434B5C;\n",
              "      box-shadow: 0px 1px 3px 1px rgba(0, 0, 0, 0.15);\n",
              "      filter: drop-shadow(0px 1px 2px rgba(0, 0, 0, 0.3));\n",
              "      fill: #FFFFFF;\n",
              "    }\n",
              "  </style>\n",
              "\n",
              "      <script>\n",
              "        const buttonEl =\n",
              "          document.querySelector('#df-1b3a5ec8-df83-42c7-8fd5-45976581cb33 button.colab-df-convert');\n",
              "        buttonEl.style.display =\n",
              "          google.colab.kernel.accessAllowed ? 'block' : 'none';\n",
              "\n",
              "        async function convertToInteractive(key) {\n",
              "          const element = document.querySelector('#df-1b3a5ec8-df83-42c7-8fd5-45976581cb33');\n",
              "          const dataTable =\n",
              "            await google.colab.kernel.invokeFunction('convertToInteractive',\n",
              "                                                     [key], {});\n",
              "          if (!dataTable) return;\n",
              "\n",
              "          const docLinkHtml = 'Like what you see? Visit the ' +\n",
              "            '<a target=\"_blank\" href=https://colab.research.google.com/notebooks/data_table.ipynb>data table notebook</a>'\n",
              "            + ' to learn more about interactive tables.';\n",
              "          element.innerHTML = '';\n",
              "          dataTable['output_type'] = 'display_data';\n",
              "          await google.colab.output.renderOutput(dataTable, element);\n",
              "          const docLink = document.createElement('div');\n",
              "          docLink.innerHTML = docLinkHtml;\n",
              "          element.appendChild(docLink);\n",
              "        }\n",
              "      </script>\n",
              "    </div>\n",
              "  </div>\n",
              "  "
            ]
          },
          "metadata": {},
          "execution_count": 436
        }
      ],
      "source": [
        "despesa_ceaps_full.head(3)"
      ]
    },
    {
      "cell_type": "markdown",
      "metadata": {
        "id": "IiM7PRYSk3nX"
      },
      "source": [
        "# Preparar dataset para Forecasting"
      ]
    },
    {
      "cell_type": "code",
      "execution_count": 437,
      "metadata": {
        "id": "q_zrf3akt2Ob"
      },
      "outputs": [],
      "source": [
        "despesa_ceaps_full['dia'] = despesa_ceaps_full['DATA'].astype('string').str[0:2].astype(int)\n",
        "despesa_ceaps_full['mes'] = despesa_ceaps_full['MES'].astype('string')\n",
        "despesa_ceaps_full['ano'] = despesa_ceaps_full['ANO'].astype('string')"
      ]
    },
    {
      "cell_type": "code",
      "execution_count": 438,
      "metadata": {
        "id": "hNrKMiYDyV72"
      },
      "outputs": [],
      "source": [
        "datetime_despesa_ceaps_full = pd.DataFrame({'year': despesa_ceaps_full['ano'].astype('string').tolist(), \n",
        "                                            'month': despesa_ceaps_full['mes'].astype('string').tolist(), \n",
        "                                            'day': despesa_ceaps_full['dia'].astype('string').tolist()})"
      ]
    },
    {
      "cell_type": "code",
      "source": [
        "datetime_despesa_ceaps_full['year'].unique()"
      ],
      "metadata": {
        "colab": {
          "base_uri": "https://localhost:8080/"
        },
        "id": "vcTcSVZ_osKe",
        "outputId": "3aa7944c-7932-4789-a6d9-600a49cb260f"
      },
      "execution_count": 439,
      "outputs": [
        {
          "output_type": "execute_result",
          "data": {
            "text/plain": [
              "array(['2019', '2020', '2021', '2022'], dtype=object)"
            ]
          },
          "metadata": {},
          "execution_count": 439
        }
      ]
    },
    {
      "cell_type": "code",
      "source": [
        "datetime_despesa_ceaps_full[datetime_despesa_ceaps_full['year']=='2022']['month']"
      ],
      "metadata": {
        "colab": {
          "base_uri": "https://localhost:8080/"
        },
        "id": "i81f5V-AxZuy",
        "outputId": "3347ba66-bfd4-44af-f22c-9f24f50d5963"
      },
      "execution_count": 440,
      "outputs": [
        {
          "output_type": "execute_result",
          "data": {
            "text/plain": [
              "52532    1\n",
              "52533    1\n",
              "52534    1\n",
              "52535    1\n",
              "52536    1\n",
              "        ..\n",
              "56276    4\n",
              "56277    4\n",
              "56278    4\n",
              "56279    4\n",
              "56280    4\n",
              "Name: month, Length: 3749, dtype: object"
            ]
          },
          "metadata": {},
          "execution_count": 440
        }
      ]
    },
    {
      "cell_type": "code",
      "source": [
        "datetime_despesa_ceaps_full[datetime_despesa_ceaps_full['year']=='2022'][datetime_despesa_ceaps_full['month']=='1']['day'].max()"
      ],
      "metadata": {
        "colab": {
          "base_uri": "https://localhost:8080/",
          "height": 90
        },
        "id": "TMOQ1J2H2bzE",
        "outputId": "8c6cbb26-d411-4e24-81a8-119e4744083a"
      },
      "execution_count": 441,
      "outputs": [
        {
          "output_type": "stream",
          "name": "stderr",
          "text": [
            "/usr/local/lib/python3.7/dist-packages/ipykernel_launcher.py:1: UserWarning: Boolean Series key will be reindexed to match DataFrame index.\n",
            "  \"\"\"Entry point for launching an IPython kernel.\n"
          ]
        },
        {
          "output_type": "execute_result",
          "data": {
            "text/plain": [
              "'9'"
            ],
            "application/vnd.google.colaboratory.intrinsic+json": {
              "type": "string"
            }
          },
          "metadata": {},
          "execution_count": 441
        }
      ]
    },
    {
      "cell_type": "code",
      "execution_count": 442,
      "metadata": {
        "id": "Fn71KRFf2RIZ"
      },
      "outputs": [],
      "source": [
        "datetime_despesa_ceaps_full['datetime'] = datetime_despesa_ceaps_full['year'].astype('string')+'/'\\\n",
        "                                          +datetime_despesa_ceaps_full['month'].astype('string')+'/'\\\n",
        "                                          +datetime_despesa_ceaps_full['day'].astype('string')"
      ]
    },
    {
      "cell_type": "code",
      "execution_count": 443,
      "metadata": {
        "id": "VUvnYYmMQt6T"
      },
      "outputs": [],
      "source": [
        "despesa_ceaps_full['datetime'] = pd.to_datetime(datetime_despesa_ceaps_full['datetime'],  infer_datetime_format = True , errors='coerce')"
      ]
    },
    {
      "cell_type": "code",
      "source": [
        "despesa_ceaps_full.tail(3)"
      ],
      "metadata": {
        "colab": {
          "base_uri": "https://localhost:8080/",
          "height": 416
        },
        "id": "HrZv1Fc1jf02",
        "outputId": "6eb83e8b-6810-4d90-8202-e11ad5fe82ec"
      },
      "execution_count": 444,
      "outputs": [
        {
          "output_type": "execute_result",
          "data": {
            "text/plain": [
              "        ANO  MES           SENADOR  \\\n",
              "56278  2022    4  ZEQUINHA MARINHO   \n",
              "56279  2022    4  ZEQUINHA MARINHO   \n",
              "56280  2022    4  ZEQUINHA MARINHO   \n",
              "\n",
              "                                            TIPO_DESPESA            CNPJ_CPF  \\\n",
              "56278  Passagens aéreas, aquáticas e terrestres nacio...  22.052.777/0001-32   \n",
              "56279  Passagens aéreas, aquáticas e terrestres nacio...  22.052.777/0001-32   \n",
              "56280  Passagens aéreas, aquáticas e terrestres nacio...  22.052.777/0001-32   \n",
              "\n",
              "          FORNECEDOR        DATA  \\\n",
              "56278  Exceller Tour  04/04/2022   \n",
              "56279  Exceller Tour  06/04/2022   \n",
              "56280  Exceller Tour  06/04/2022   \n",
              "\n",
              "                                            DETALHAMENTO  VALOR_REEMBOLSADO  \\\n",
              "56278  Companhia Aérea: GOL, Localizador: QVOLRY. Pas...           1681.230   \n",
              "56279  Companhia Aérea: AZUL, Localizador: JBHH5Y. Pa...           1663.610   \n",
              "56280  Companhia Aérea: LATAM, Localizador: FRFFFI. P...           2324.000   \n",
              "\n",
              "       SEM_DOCUMENTO  SEM_DETALHAMENTO  dia mes   ano   datetime  \n",
              "56278          0.000             0.000    4   4  2022 2022-04-04  \n",
              "56279          0.000             0.000    6   4  2022 2022-04-06  \n",
              "56280          0.000             0.000    6   4  2022 2022-04-06  "
            ],
            "text/html": [
              "\n",
              "  <div id=\"df-05e30468-2d1c-444c-8721-d942811c5375\">\n",
              "    <div class=\"colab-df-container\">\n",
              "      <div>\n",
              "<style scoped>\n",
              "    .dataframe tbody tr th:only-of-type {\n",
              "        vertical-align: middle;\n",
              "    }\n",
              "\n",
              "    .dataframe tbody tr th {\n",
              "        vertical-align: top;\n",
              "    }\n",
              "\n",
              "    .dataframe thead th {\n",
              "        text-align: right;\n",
              "    }\n",
              "</style>\n",
              "<table border=\"1\" class=\"dataframe\">\n",
              "  <thead>\n",
              "    <tr style=\"text-align: right;\">\n",
              "      <th></th>\n",
              "      <th>ANO</th>\n",
              "      <th>MES</th>\n",
              "      <th>SENADOR</th>\n",
              "      <th>TIPO_DESPESA</th>\n",
              "      <th>CNPJ_CPF</th>\n",
              "      <th>FORNECEDOR</th>\n",
              "      <th>DATA</th>\n",
              "      <th>DETALHAMENTO</th>\n",
              "      <th>VALOR_REEMBOLSADO</th>\n",
              "      <th>SEM_DOCUMENTO</th>\n",
              "      <th>SEM_DETALHAMENTO</th>\n",
              "      <th>dia</th>\n",
              "      <th>mes</th>\n",
              "      <th>ano</th>\n",
              "      <th>datetime</th>\n",
              "    </tr>\n",
              "  </thead>\n",
              "  <tbody>\n",
              "    <tr>\n",
              "      <th>56278</th>\n",
              "      <td>2022</td>\n",
              "      <td>4</td>\n",
              "      <td>ZEQUINHA MARINHO</td>\n",
              "      <td>Passagens aéreas, aquáticas e terrestres nacio...</td>\n",
              "      <td>22.052.777/0001-32</td>\n",
              "      <td>Exceller Tour</td>\n",
              "      <td>04/04/2022</td>\n",
              "      <td>Companhia Aérea: GOL, Localizador: QVOLRY. Pas...</td>\n",
              "      <td>1681.230</td>\n",
              "      <td>0.000</td>\n",
              "      <td>0.000</td>\n",
              "      <td>4</td>\n",
              "      <td>4</td>\n",
              "      <td>2022</td>\n",
              "      <td>2022-04-04</td>\n",
              "    </tr>\n",
              "    <tr>\n",
              "      <th>56279</th>\n",
              "      <td>2022</td>\n",
              "      <td>4</td>\n",
              "      <td>ZEQUINHA MARINHO</td>\n",
              "      <td>Passagens aéreas, aquáticas e terrestres nacio...</td>\n",
              "      <td>22.052.777/0001-32</td>\n",
              "      <td>Exceller Tour</td>\n",
              "      <td>06/04/2022</td>\n",
              "      <td>Companhia Aérea: AZUL, Localizador: JBHH5Y. Pa...</td>\n",
              "      <td>1663.610</td>\n",
              "      <td>0.000</td>\n",
              "      <td>0.000</td>\n",
              "      <td>6</td>\n",
              "      <td>4</td>\n",
              "      <td>2022</td>\n",
              "      <td>2022-04-06</td>\n",
              "    </tr>\n",
              "    <tr>\n",
              "      <th>56280</th>\n",
              "      <td>2022</td>\n",
              "      <td>4</td>\n",
              "      <td>ZEQUINHA MARINHO</td>\n",
              "      <td>Passagens aéreas, aquáticas e terrestres nacio...</td>\n",
              "      <td>22.052.777/0001-32</td>\n",
              "      <td>Exceller Tour</td>\n",
              "      <td>06/04/2022</td>\n",
              "      <td>Companhia Aérea: LATAM, Localizador: FRFFFI. P...</td>\n",
              "      <td>2324.000</td>\n",
              "      <td>0.000</td>\n",
              "      <td>0.000</td>\n",
              "      <td>6</td>\n",
              "      <td>4</td>\n",
              "      <td>2022</td>\n",
              "      <td>2022-04-06</td>\n",
              "    </tr>\n",
              "  </tbody>\n",
              "</table>\n",
              "</div>\n",
              "      <button class=\"colab-df-convert\" onclick=\"convertToInteractive('df-05e30468-2d1c-444c-8721-d942811c5375')\"\n",
              "              title=\"Convert this dataframe to an interactive table.\"\n",
              "              style=\"display:none;\">\n",
              "        \n",
              "  <svg xmlns=\"http://www.w3.org/2000/svg\" height=\"24px\"viewBox=\"0 0 24 24\"\n",
              "       width=\"24px\">\n",
              "    <path d=\"M0 0h24v24H0V0z\" fill=\"none\"/>\n",
              "    <path d=\"M18.56 5.44l.94 2.06.94-2.06 2.06-.94-2.06-.94-.94-2.06-.94 2.06-2.06.94zm-11 1L8.5 8.5l.94-2.06 2.06-.94-2.06-.94L8.5 2.5l-.94 2.06-2.06.94zm10 10l.94 2.06.94-2.06 2.06-.94-2.06-.94-.94-2.06-.94 2.06-2.06.94z\"/><path d=\"M17.41 7.96l-1.37-1.37c-.4-.4-.92-.59-1.43-.59-.52 0-1.04.2-1.43.59L10.3 9.45l-7.72 7.72c-.78.78-.78 2.05 0 2.83L4 21.41c.39.39.9.59 1.41.59.51 0 1.02-.2 1.41-.59l7.78-7.78 2.81-2.81c.8-.78.8-2.07 0-2.86zM5.41 20L4 18.59l7.72-7.72 1.47 1.35L5.41 20z\"/>\n",
              "  </svg>\n",
              "      </button>\n",
              "      \n",
              "  <style>\n",
              "    .colab-df-container {\n",
              "      display:flex;\n",
              "      flex-wrap:wrap;\n",
              "      gap: 12px;\n",
              "    }\n",
              "\n",
              "    .colab-df-convert {\n",
              "      background-color: #E8F0FE;\n",
              "      border: none;\n",
              "      border-radius: 50%;\n",
              "      cursor: pointer;\n",
              "      display: none;\n",
              "      fill: #1967D2;\n",
              "      height: 32px;\n",
              "      padding: 0 0 0 0;\n",
              "      width: 32px;\n",
              "    }\n",
              "\n",
              "    .colab-df-convert:hover {\n",
              "      background-color: #E2EBFA;\n",
              "      box-shadow: 0px 1px 2px rgba(60, 64, 67, 0.3), 0px 1px 3px 1px rgba(60, 64, 67, 0.15);\n",
              "      fill: #174EA6;\n",
              "    }\n",
              "\n",
              "    [theme=dark] .colab-df-convert {\n",
              "      background-color: #3B4455;\n",
              "      fill: #D2E3FC;\n",
              "    }\n",
              "\n",
              "    [theme=dark] .colab-df-convert:hover {\n",
              "      background-color: #434B5C;\n",
              "      box-shadow: 0px 1px 3px 1px rgba(0, 0, 0, 0.15);\n",
              "      filter: drop-shadow(0px 1px 2px rgba(0, 0, 0, 0.3));\n",
              "      fill: #FFFFFF;\n",
              "    }\n",
              "  </style>\n",
              "\n",
              "      <script>\n",
              "        const buttonEl =\n",
              "          document.querySelector('#df-05e30468-2d1c-444c-8721-d942811c5375 button.colab-df-convert');\n",
              "        buttonEl.style.display =\n",
              "          google.colab.kernel.accessAllowed ? 'block' : 'none';\n",
              "\n",
              "        async function convertToInteractive(key) {\n",
              "          const element = document.querySelector('#df-05e30468-2d1c-444c-8721-d942811c5375');\n",
              "          const dataTable =\n",
              "            await google.colab.kernel.invokeFunction('convertToInteractive',\n",
              "                                                     [key], {});\n",
              "          if (!dataTable) return;\n",
              "\n",
              "          const docLinkHtml = 'Like what you see? Visit the ' +\n",
              "            '<a target=\"_blank\" href=https://colab.research.google.com/notebooks/data_table.ipynb>data table notebook</a>'\n",
              "            + ' to learn more about interactive tables.';\n",
              "          element.innerHTML = '';\n",
              "          dataTable['output_type'] = 'display_data';\n",
              "          await google.colab.output.renderOutput(dataTable, element);\n",
              "          const docLink = document.createElement('div');\n",
              "          docLink.innerHTML = docLinkHtml;\n",
              "          element.appendChild(docLink);\n",
              "        }\n",
              "      </script>\n",
              "    </div>\n",
              "  </div>\n",
              "  "
            ]
          },
          "metadata": {},
          "execution_count": 444
        }
      ]
    },
    {
      "cell_type": "code",
      "execution_count": 445,
      "metadata": {
        "id": "5BL17KZDorms"
      },
      "outputs": [],
      "source": [
        "despesa_ceaps_full_forecasting = despesa_ceaps_full[['datetime', 'VALOR_REEMBOLSADO']].sort_values(by='datetime')"
      ]
    },
    {
      "cell_type": "code",
      "execution_count": 446,
      "metadata": {
        "colab": {
          "base_uri": "https://localhost:8080/"
        },
        "id": "hJDjL7Kbwh0c",
        "outputId": "230f7ba5-9baa-4e82-e2cc-4faf069b4d89"
      },
      "outputs": [
        {
          "output_type": "stream",
          "name": "stdout",
          "text": [
            "<class 'pandas.core.frame.DataFrame'>\n",
            "Int64Index: 56281 entries, 2283 to 55993\n",
            "Data columns (total 2 columns):\n",
            " #   Column             Non-Null Count  Dtype         \n",
            "---  ------             --------------  -----         \n",
            " 0   datetime           56081 non-null  datetime64[ns]\n",
            " 1   VALOR_REEMBOLSADO  56281 non-null  float64       \n",
            "dtypes: datetime64[ns](1), float64(1)\n",
            "memory usage: 1.3 MB\n"
          ]
        }
      ],
      "source": [
        "despesa_ceaps_full_forecasting.info()"
      ]
    },
    {
      "cell_type": "code",
      "source": [
        "despesa_ceaps_full"
      ],
      "metadata": {
        "colab": {
          "base_uri": "https://localhost:8080/",
          "height": 1000
        },
        "id": "tDhMX3oqemh0",
        "outputId": "2533dd27-2011-4fed-ad46-34981ea3ca4e"
      },
      "execution_count": 447,
      "outputs": [
        {
          "output_type": "execute_result",
          "data": {
            "text/plain": [
              "        ANO  MES           SENADOR  \\\n",
              "0      2019    1      ACIR GURGACZ   \n",
              "1      2019    1      ACIR GURGACZ   \n",
              "2      2019    1      ACIR GURGACZ   \n",
              "3      2019    1      ACIR GURGACZ   \n",
              "4      2019    2      ACIR GURGACZ   \n",
              "...     ...  ...               ...   \n",
              "56276  2022    4  ZEQUINHA MARINHO   \n",
              "56277  2022    4  ZEQUINHA MARINHO   \n",
              "56278  2022    4  ZEQUINHA MARINHO   \n",
              "56279  2022    4  ZEQUINHA MARINHO   \n",
              "56280  2022    4  ZEQUINHA MARINHO   \n",
              "\n",
              "                                            TIPO_DESPESA            CNPJ_CPF  \\\n",
              "0      Aluguel de imóveis para escritório político, c...  05.914.650/0001-66   \n",
              "1      Aluguel de imóveis para escritório político, c...  05.914.650/0001-66   \n",
              "2      Aluguel de imóveis para escritório político, c...      004.948.028-63   \n",
              "3      Aluguel de imóveis para escritório político, c...  05.423.963/0001-11   \n",
              "4      Aluguel de imóveis para escritório político, c...  05.914.650/0001-66   \n",
              "...                                                  ...                 ...   \n",
              "56276  Passagens aéreas, aquáticas e terrestres nacio...  22.052.777/0001-32   \n",
              "56277  Passagens aéreas, aquáticas e terrestres nacio...  22.052.777/0001-32   \n",
              "56278  Passagens aéreas, aquáticas e terrestres nacio...  22.052.777/0001-32   \n",
              "56279  Passagens aéreas, aquáticas e terrestres nacio...  22.052.777/0001-32   \n",
              "56280  Passagens aéreas, aquáticas e terrestres nacio...  22.052.777/0001-32   \n",
              "\n",
              "                          FORNECEDOR        DATA  \\\n",
              "0                           ENERGISA  04/01/2019   \n",
              "1                           ENERGISA  04/01/2019   \n",
              "2      GILBERTO PISELO DO NASCIMENTO  07/01/2019   \n",
              "3                      OI MÓVEL S.A.  25/12/2018   \n",
              "4                           ENERGISA  04/02/2019   \n",
              "...                              ...         ...   \n",
              "56276                  Exceller Tour  02/04/2022   \n",
              "56277                  Exceller Tour  02/04/2022   \n",
              "56278                  Exceller Tour  04/04/2022   \n",
              "56279                  Exceller Tour  06/04/2022   \n",
              "56280                  Exceller Tour  06/04/2022   \n",
              "\n",
              "                                            DETALHAMENTO  VALOR_REEMBOLSADO  \\\n",
              "0      Despesa com pagamento de energia elétrica do e...             66.020   \n",
              "1      Despesa com pagamento de energia elétrica do e...            139.980   \n",
              "2      Despesa com pagamento de aluguel de imóvel par...           6000.000   \n",
              "3      Despesa com pagamento de telefonia para o escr...            316.390   \n",
              "4      Despesa com pagamento de energia elétrica para...             99.450   \n",
              "...                                                  ...                ...   \n",
              "56276  Companhia Aérea: LATAM, Localizador: FXMSVF. P...           1361.660   \n",
              "56277  Companhia Aérea: LATAM, Localizador: VLNWSC. P...           2723.230   \n",
              "56278  Companhia Aérea: GOL, Localizador: QVOLRY. Pas...           1681.230   \n",
              "56279  Companhia Aérea: AZUL, Localizador: JBHH5Y. Pa...           1663.610   \n",
              "56280  Companhia Aérea: LATAM, Localizador: FRFFFI. P...           2324.000   \n",
              "\n",
              "       SEM_DOCUMENTO  SEM_DETALHAMENTO  dia mes   ano   datetime  \n",
              "0              0.000             0.000    4   1  2019 2019-01-04  \n",
              "1              0.000             0.000    4   1  2019 2019-01-04  \n",
              "2              0.000             0.000    7   1  2019 2019-01-07  \n",
              "3              0.000             0.000   25   1  2019 2019-01-25  \n",
              "4              0.000             0.000    4   2  2019 2019-02-04  \n",
              "...              ...               ...  ...  ..   ...        ...  \n",
              "56276          0.000             0.000    2   4  2022 2022-04-02  \n",
              "56277          0.000             0.000    2   4  2022 2022-04-02  \n",
              "56278          0.000             0.000    4   4  2022 2022-04-04  \n",
              "56279          0.000             0.000    6   4  2022 2022-04-06  \n",
              "56280          0.000             0.000    6   4  2022 2022-04-06  \n",
              "\n",
              "[56281 rows x 15 columns]"
            ],
            "text/html": [
              "\n",
              "  <div id=\"df-02f7057f-2430-4879-bfc8-240b076869a3\">\n",
              "    <div class=\"colab-df-container\">\n",
              "      <div>\n",
              "<style scoped>\n",
              "    .dataframe tbody tr th:only-of-type {\n",
              "        vertical-align: middle;\n",
              "    }\n",
              "\n",
              "    .dataframe tbody tr th {\n",
              "        vertical-align: top;\n",
              "    }\n",
              "\n",
              "    .dataframe thead th {\n",
              "        text-align: right;\n",
              "    }\n",
              "</style>\n",
              "<table border=\"1\" class=\"dataframe\">\n",
              "  <thead>\n",
              "    <tr style=\"text-align: right;\">\n",
              "      <th></th>\n",
              "      <th>ANO</th>\n",
              "      <th>MES</th>\n",
              "      <th>SENADOR</th>\n",
              "      <th>TIPO_DESPESA</th>\n",
              "      <th>CNPJ_CPF</th>\n",
              "      <th>FORNECEDOR</th>\n",
              "      <th>DATA</th>\n",
              "      <th>DETALHAMENTO</th>\n",
              "      <th>VALOR_REEMBOLSADO</th>\n",
              "      <th>SEM_DOCUMENTO</th>\n",
              "      <th>SEM_DETALHAMENTO</th>\n",
              "      <th>dia</th>\n",
              "      <th>mes</th>\n",
              "      <th>ano</th>\n",
              "      <th>datetime</th>\n",
              "    </tr>\n",
              "  </thead>\n",
              "  <tbody>\n",
              "    <tr>\n",
              "      <th>0</th>\n",
              "      <td>2019</td>\n",
              "      <td>1</td>\n",
              "      <td>ACIR GURGACZ</td>\n",
              "      <td>Aluguel de imóveis para escritório político, c...</td>\n",
              "      <td>05.914.650/0001-66</td>\n",
              "      <td>ENERGISA</td>\n",
              "      <td>04/01/2019</td>\n",
              "      <td>Despesa com pagamento de energia elétrica do e...</td>\n",
              "      <td>66.020</td>\n",
              "      <td>0.000</td>\n",
              "      <td>0.000</td>\n",
              "      <td>4</td>\n",
              "      <td>1</td>\n",
              "      <td>2019</td>\n",
              "      <td>2019-01-04</td>\n",
              "    </tr>\n",
              "    <tr>\n",
              "      <th>1</th>\n",
              "      <td>2019</td>\n",
              "      <td>1</td>\n",
              "      <td>ACIR GURGACZ</td>\n",
              "      <td>Aluguel de imóveis para escritório político, c...</td>\n",
              "      <td>05.914.650/0001-66</td>\n",
              "      <td>ENERGISA</td>\n",
              "      <td>04/01/2019</td>\n",
              "      <td>Despesa com pagamento de energia elétrica do e...</td>\n",
              "      <td>139.980</td>\n",
              "      <td>0.000</td>\n",
              "      <td>0.000</td>\n",
              "      <td>4</td>\n",
              "      <td>1</td>\n",
              "      <td>2019</td>\n",
              "      <td>2019-01-04</td>\n",
              "    </tr>\n",
              "    <tr>\n",
              "      <th>2</th>\n",
              "      <td>2019</td>\n",
              "      <td>1</td>\n",
              "      <td>ACIR GURGACZ</td>\n",
              "      <td>Aluguel de imóveis para escritório político, c...</td>\n",
              "      <td>004.948.028-63</td>\n",
              "      <td>GILBERTO PISELO DO NASCIMENTO</td>\n",
              "      <td>07/01/2019</td>\n",
              "      <td>Despesa com pagamento de aluguel de imóvel par...</td>\n",
              "      <td>6000.000</td>\n",
              "      <td>0.000</td>\n",
              "      <td>0.000</td>\n",
              "      <td>7</td>\n",
              "      <td>1</td>\n",
              "      <td>2019</td>\n",
              "      <td>2019-01-07</td>\n",
              "    </tr>\n",
              "    <tr>\n",
              "      <th>3</th>\n",
              "      <td>2019</td>\n",
              "      <td>1</td>\n",
              "      <td>ACIR GURGACZ</td>\n",
              "      <td>Aluguel de imóveis para escritório político, c...</td>\n",
              "      <td>05.423.963/0001-11</td>\n",
              "      <td>OI MÓVEL S.A.</td>\n",
              "      <td>25/12/2018</td>\n",
              "      <td>Despesa com pagamento de telefonia para o escr...</td>\n",
              "      <td>316.390</td>\n",
              "      <td>0.000</td>\n",
              "      <td>0.000</td>\n",
              "      <td>25</td>\n",
              "      <td>1</td>\n",
              "      <td>2019</td>\n",
              "      <td>2019-01-25</td>\n",
              "    </tr>\n",
              "    <tr>\n",
              "      <th>4</th>\n",
              "      <td>2019</td>\n",
              "      <td>2</td>\n",
              "      <td>ACIR GURGACZ</td>\n",
              "      <td>Aluguel de imóveis para escritório político, c...</td>\n",
              "      <td>05.914.650/0001-66</td>\n",
              "      <td>ENERGISA</td>\n",
              "      <td>04/02/2019</td>\n",
              "      <td>Despesa com pagamento de energia elétrica para...</td>\n",
              "      <td>99.450</td>\n",
              "      <td>0.000</td>\n",
              "      <td>0.000</td>\n",
              "      <td>4</td>\n",
              "      <td>2</td>\n",
              "      <td>2019</td>\n",
              "      <td>2019-02-04</td>\n",
              "    </tr>\n",
              "    <tr>\n",
              "      <th>...</th>\n",
              "      <td>...</td>\n",
              "      <td>...</td>\n",
              "      <td>...</td>\n",
              "      <td>...</td>\n",
              "      <td>...</td>\n",
              "      <td>...</td>\n",
              "      <td>...</td>\n",
              "      <td>...</td>\n",
              "      <td>...</td>\n",
              "      <td>...</td>\n",
              "      <td>...</td>\n",
              "      <td>...</td>\n",
              "      <td>...</td>\n",
              "      <td>...</td>\n",
              "      <td>...</td>\n",
              "    </tr>\n",
              "    <tr>\n",
              "      <th>56276</th>\n",
              "      <td>2022</td>\n",
              "      <td>4</td>\n",
              "      <td>ZEQUINHA MARINHO</td>\n",
              "      <td>Passagens aéreas, aquáticas e terrestres nacio...</td>\n",
              "      <td>22.052.777/0001-32</td>\n",
              "      <td>Exceller Tour</td>\n",
              "      <td>02/04/2022</td>\n",
              "      <td>Companhia Aérea: LATAM, Localizador: FXMSVF. P...</td>\n",
              "      <td>1361.660</td>\n",
              "      <td>0.000</td>\n",
              "      <td>0.000</td>\n",
              "      <td>2</td>\n",
              "      <td>4</td>\n",
              "      <td>2022</td>\n",
              "      <td>2022-04-02</td>\n",
              "    </tr>\n",
              "    <tr>\n",
              "      <th>56277</th>\n",
              "      <td>2022</td>\n",
              "      <td>4</td>\n",
              "      <td>ZEQUINHA MARINHO</td>\n",
              "      <td>Passagens aéreas, aquáticas e terrestres nacio...</td>\n",
              "      <td>22.052.777/0001-32</td>\n",
              "      <td>Exceller Tour</td>\n",
              "      <td>02/04/2022</td>\n",
              "      <td>Companhia Aérea: LATAM, Localizador: VLNWSC. P...</td>\n",
              "      <td>2723.230</td>\n",
              "      <td>0.000</td>\n",
              "      <td>0.000</td>\n",
              "      <td>2</td>\n",
              "      <td>4</td>\n",
              "      <td>2022</td>\n",
              "      <td>2022-04-02</td>\n",
              "    </tr>\n",
              "    <tr>\n",
              "      <th>56278</th>\n",
              "      <td>2022</td>\n",
              "      <td>4</td>\n",
              "      <td>ZEQUINHA MARINHO</td>\n",
              "      <td>Passagens aéreas, aquáticas e terrestres nacio...</td>\n",
              "      <td>22.052.777/0001-32</td>\n",
              "      <td>Exceller Tour</td>\n",
              "      <td>04/04/2022</td>\n",
              "      <td>Companhia Aérea: GOL, Localizador: QVOLRY. Pas...</td>\n",
              "      <td>1681.230</td>\n",
              "      <td>0.000</td>\n",
              "      <td>0.000</td>\n",
              "      <td>4</td>\n",
              "      <td>4</td>\n",
              "      <td>2022</td>\n",
              "      <td>2022-04-04</td>\n",
              "    </tr>\n",
              "    <tr>\n",
              "      <th>56279</th>\n",
              "      <td>2022</td>\n",
              "      <td>4</td>\n",
              "      <td>ZEQUINHA MARINHO</td>\n",
              "      <td>Passagens aéreas, aquáticas e terrestres nacio...</td>\n",
              "      <td>22.052.777/0001-32</td>\n",
              "      <td>Exceller Tour</td>\n",
              "      <td>06/04/2022</td>\n",
              "      <td>Companhia Aérea: AZUL, Localizador: JBHH5Y. Pa...</td>\n",
              "      <td>1663.610</td>\n",
              "      <td>0.000</td>\n",
              "      <td>0.000</td>\n",
              "      <td>6</td>\n",
              "      <td>4</td>\n",
              "      <td>2022</td>\n",
              "      <td>2022-04-06</td>\n",
              "    </tr>\n",
              "    <tr>\n",
              "      <th>56280</th>\n",
              "      <td>2022</td>\n",
              "      <td>4</td>\n",
              "      <td>ZEQUINHA MARINHO</td>\n",
              "      <td>Passagens aéreas, aquáticas e terrestres nacio...</td>\n",
              "      <td>22.052.777/0001-32</td>\n",
              "      <td>Exceller Tour</td>\n",
              "      <td>06/04/2022</td>\n",
              "      <td>Companhia Aérea: LATAM, Localizador: FRFFFI. P...</td>\n",
              "      <td>2324.000</td>\n",
              "      <td>0.000</td>\n",
              "      <td>0.000</td>\n",
              "      <td>6</td>\n",
              "      <td>4</td>\n",
              "      <td>2022</td>\n",
              "      <td>2022-04-06</td>\n",
              "    </tr>\n",
              "  </tbody>\n",
              "</table>\n",
              "<p>56281 rows × 15 columns</p>\n",
              "</div>\n",
              "      <button class=\"colab-df-convert\" onclick=\"convertToInteractive('df-02f7057f-2430-4879-bfc8-240b076869a3')\"\n",
              "              title=\"Convert this dataframe to an interactive table.\"\n",
              "              style=\"display:none;\">\n",
              "        \n",
              "  <svg xmlns=\"http://www.w3.org/2000/svg\" height=\"24px\"viewBox=\"0 0 24 24\"\n",
              "       width=\"24px\">\n",
              "    <path d=\"M0 0h24v24H0V0z\" fill=\"none\"/>\n",
              "    <path d=\"M18.56 5.44l.94 2.06.94-2.06 2.06-.94-2.06-.94-.94-2.06-.94 2.06-2.06.94zm-11 1L8.5 8.5l.94-2.06 2.06-.94-2.06-.94L8.5 2.5l-.94 2.06-2.06.94zm10 10l.94 2.06.94-2.06 2.06-.94-2.06-.94-.94-2.06-.94 2.06-2.06.94z\"/><path d=\"M17.41 7.96l-1.37-1.37c-.4-.4-.92-.59-1.43-.59-.52 0-1.04.2-1.43.59L10.3 9.45l-7.72 7.72c-.78.78-.78 2.05 0 2.83L4 21.41c.39.39.9.59 1.41.59.51 0 1.02-.2 1.41-.59l7.78-7.78 2.81-2.81c.8-.78.8-2.07 0-2.86zM5.41 20L4 18.59l7.72-7.72 1.47 1.35L5.41 20z\"/>\n",
              "  </svg>\n",
              "      </button>\n",
              "      \n",
              "  <style>\n",
              "    .colab-df-container {\n",
              "      display:flex;\n",
              "      flex-wrap:wrap;\n",
              "      gap: 12px;\n",
              "    }\n",
              "\n",
              "    .colab-df-convert {\n",
              "      background-color: #E8F0FE;\n",
              "      border: none;\n",
              "      border-radius: 50%;\n",
              "      cursor: pointer;\n",
              "      display: none;\n",
              "      fill: #1967D2;\n",
              "      height: 32px;\n",
              "      padding: 0 0 0 0;\n",
              "      width: 32px;\n",
              "    }\n",
              "\n",
              "    .colab-df-convert:hover {\n",
              "      background-color: #E2EBFA;\n",
              "      box-shadow: 0px 1px 2px rgba(60, 64, 67, 0.3), 0px 1px 3px 1px rgba(60, 64, 67, 0.15);\n",
              "      fill: #174EA6;\n",
              "    }\n",
              "\n",
              "    [theme=dark] .colab-df-convert {\n",
              "      background-color: #3B4455;\n",
              "      fill: #D2E3FC;\n",
              "    }\n",
              "\n",
              "    [theme=dark] .colab-df-convert:hover {\n",
              "      background-color: #434B5C;\n",
              "      box-shadow: 0px 1px 3px 1px rgba(0, 0, 0, 0.15);\n",
              "      filter: drop-shadow(0px 1px 2px rgba(0, 0, 0, 0.3));\n",
              "      fill: #FFFFFF;\n",
              "    }\n",
              "  </style>\n",
              "\n",
              "      <script>\n",
              "        const buttonEl =\n",
              "          document.querySelector('#df-02f7057f-2430-4879-bfc8-240b076869a3 button.colab-df-convert');\n",
              "        buttonEl.style.display =\n",
              "          google.colab.kernel.accessAllowed ? 'block' : 'none';\n",
              "\n",
              "        async function convertToInteractive(key) {\n",
              "          const element = document.querySelector('#df-02f7057f-2430-4879-bfc8-240b076869a3');\n",
              "          const dataTable =\n",
              "            await google.colab.kernel.invokeFunction('convertToInteractive',\n",
              "                                                     [key], {});\n",
              "          if (!dataTable) return;\n",
              "\n",
              "          const docLinkHtml = 'Like what you see? Visit the ' +\n",
              "            '<a target=\"_blank\" href=https://colab.research.google.com/notebooks/data_table.ipynb>data table notebook</a>'\n",
              "            + ' to learn more about interactive tables.';\n",
              "          element.innerHTML = '';\n",
              "          dataTable['output_type'] = 'display_data';\n",
              "          await google.colab.output.renderOutput(dataTable, element);\n",
              "          const docLink = document.createElement('div');\n",
              "          docLink.innerHTML = docLinkHtml;\n",
              "          element.appendChild(docLink);\n",
              "        }\n",
              "      </script>\n",
              "    </div>\n",
              "  </div>\n",
              "  "
            ]
          },
          "metadata": {},
          "execution_count": 447
        }
      ]
    },
    {
      "cell_type": "code",
      "source": [
        "despesa_ceaps_full_forecasting[despesa_ceaps_full_forecasting['datetime'].isnull()]['datetime']"
      ],
      "metadata": {
        "colab": {
          "base_uri": "https://localhost:8080/"
        },
        "id": "huiE5z1ld6pw",
        "outputId": "d7b9c533-269b-4d70-9fa5-22155a49a871"
      },
      "execution_count": 448,
      "outputs": [
        {
          "output_type": "execute_result",
          "data": {
            "text/plain": [
              "381     NaT\n",
              "425     NaT\n",
              "447     NaT\n",
              "565     NaT\n",
              "739     NaT\n",
              "         ..\n",
              "55387   NaT\n",
              "55572   NaT\n",
              "55964   NaT\n",
              "55992   NaT\n",
              "55993   NaT\n",
              "Name: datetime, Length: 200, dtype: datetime64[ns]"
            ]
          },
          "metadata": {},
          "execution_count": 448
        }
      ]
    },
    {
      "cell_type": "code",
      "source": [
        "despesa_ceaps_full_forecasting"
      ],
      "metadata": {
        "colab": {
          "base_uri": "https://localhost:8080/",
          "height": 424
        },
        "id": "Rn15zmVS43iM",
        "outputId": "3300504b-3a1a-4d18-c942-a764c33fb941"
      },
      "execution_count": 449,
      "outputs": [
        {
          "output_type": "execute_result",
          "data": {
            "text/plain": [
              "        datetime  VALOR_REEMBOLSADO\n",
              "2283  2019-01-01            252.000\n",
              "4139  2019-01-01            673.200\n",
              "8318  2019-01-01            195.140\n",
              "10458 2019-01-01            105.260\n",
              "10459 2019-01-01            148.320\n",
              "...          ...                ...\n",
              "55387        NaT           3000.000\n",
              "55572        NaT            165.360\n",
              "55964        NaT           3100.000\n",
              "55992        NaT           2101.350\n",
              "55993        NaT           2191.350\n",
              "\n",
              "[56281 rows x 2 columns]"
            ],
            "text/html": [
              "\n",
              "  <div id=\"df-3a9709e4-5edc-48d5-9729-2ef7daf16a71\">\n",
              "    <div class=\"colab-df-container\">\n",
              "      <div>\n",
              "<style scoped>\n",
              "    .dataframe tbody tr th:only-of-type {\n",
              "        vertical-align: middle;\n",
              "    }\n",
              "\n",
              "    .dataframe tbody tr th {\n",
              "        vertical-align: top;\n",
              "    }\n",
              "\n",
              "    .dataframe thead th {\n",
              "        text-align: right;\n",
              "    }\n",
              "</style>\n",
              "<table border=\"1\" class=\"dataframe\">\n",
              "  <thead>\n",
              "    <tr style=\"text-align: right;\">\n",
              "      <th></th>\n",
              "      <th>datetime</th>\n",
              "      <th>VALOR_REEMBOLSADO</th>\n",
              "    </tr>\n",
              "  </thead>\n",
              "  <tbody>\n",
              "    <tr>\n",
              "      <th>2283</th>\n",
              "      <td>2019-01-01</td>\n",
              "      <td>252.000</td>\n",
              "    </tr>\n",
              "    <tr>\n",
              "      <th>4139</th>\n",
              "      <td>2019-01-01</td>\n",
              "      <td>673.200</td>\n",
              "    </tr>\n",
              "    <tr>\n",
              "      <th>8318</th>\n",
              "      <td>2019-01-01</td>\n",
              "      <td>195.140</td>\n",
              "    </tr>\n",
              "    <tr>\n",
              "      <th>10458</th>\n",
              "      <td>2019-01-01</td>\n",
              "      <td>105.260</td>\n",
              "    </tr>\n",
              "    <tr>\n",
              "      <th>10459</th>\n",
              "      <td>2019-01-01</td>\n",
              "      <td>148.320</td>\n",
              "    </tr>\n",
              "    <tr>\n",
              "      <th>...</th>\n",
              "      <td>...</td>\n",
              "      <td>...</td>\n",
              "    </tr>\n",
              "    <tr>\n",
              "      <th>55387</th>\n",
              "      <td>NaT</td>\n",
              "      <td>3000.000</td>\n",
              "    </tr>\n",
              "    <tr>\n",
              "      <th>55572</th>\n",
              "      <td>NaT</td>\n",
              "      <td>165.360</td>\n",
              "    </tr>\n",
              "    <tr>\n",
              "      <th>55964</th>\n",
              "      <td>NaT</td>\n",
              "      <td>3100.000</td>\n",
              "    </tr>\n",
              "    <tr>\n",
              "      <th>55992</th>\n",
              "      <td>NaT</td>\n",
              "      <td>2101.350</td>\n",
              "    </tr>\n",
              "    <tr>\n",
              "      <th>55993</th>\n",
              "      <td>NaT</td>\n",
              "      <td>2191.350</td>\n",
              "    </tr>\n",
              "  </tbody>\n",
              "</table>\n",
              "<p>56281 rows × 2 columns</p>\n",
              "</div>\n",
              "      <button class=\"colab-df-convert\" onclick=\"convertToInteractive('df-3a9709e4-5edc-48d5-9729-2ef7daf16a71')\"\n",
              "              title=\"Convert this dataframe to an interactive table.\"\n",
              "              style=\"display:none;\">\n",
              "        \n",
              "  <svg xmlns=\"http://www.w3.org/2000/svg\" height=\"24px\"viewBox=\"0 0 24 24\"\n",
              "       width=\"24px\">\n",
              "    <path d=\"M0 0h24v24H0V0z\" fill=\"none\"/>\n",
              "    <path d=\"M18.56 5.44l.94 2.06.94-2.06 2.06-.94-2.06-.94-.94-2.06-.94 2.06-2.06.94zm-11 1L8.5 8.5l.94-2.06 2.06-.94-2.06-.94L8.5 2.5l-.94 2.06-2.06.94zm10 10l.94 2.06.94-2.06 2.06-.94-2.06-.94-.94-2.06-.94 2.06-2.06.94z\"/><path d=\"M17.41 7.96l-1.37-1.37c-.4-.4-.92-.59-1.43-.59-.52 0-1.04.2-1.43.59L10.3 9.45l-7.72 7.72c-.78.78-.78 2.05 0 2.83L4 21.41c.39.39.9.59 1.41.59.51 0 1.02-.2 1.41-.59l7.78-7.78 2.81-2.81c.8-.78.8-2.07 0-2.86zM5.41 20L4 18.59l7.72-7.72 1.47 1.35L5.41 20z\"/>\n",
              "  </svg>\n",
              "      </button>\n",
              "      \n",
              "  <style>\n",
              "    .colab-df-container {\n",
              "      display:flex;\n",
              "      flex-wrap:wrap;\n",
              "      gap: 12px;\n",
              "    }\n",
              "\n",
              "    .colab-df-convert {\n",
              "      background-color: #E8F0FE;\n",
              "      border: none;\n",
              "      border-radius: 50%;\n",
              "      cursor: pointer;\n",
              "      display: none;\n",
              "      fill: #1967D2;\n",
              "      height: 32px;\n",
              "      padding: 0 0 0 0;\n",
              "      width: 32px;\n",
              "    }\n",
              "\n",
              "    .colab-df-convert:hover {\n",
              "      background-color: #E2EBFA;\n",
              "      box-shadow: 0px 1px 2px rgba(60, 64, 67, 0.3), 0px 1px 3px 1px rgba(60, 64, 67, 0.15);\n",
              "      fill: #174EA6;\n",
              "    }\n",
              "\n",
              "    [theme=dark] .colab-df-convert {\n",
              "      background-color: #3B4455;\n",
              "      fill: #D2E3FC;\n",
              "    }\n",
              "\n",
              "    [theme=dark] .colab-df-convert:hover {\n",
              "      background-color: #434B5C;\n",
              "      box-shadow: 0px 1px 3px 1px rgba(0, 0, 0, 0.15);\n",
              "      filter: drop-shadow(0px 1px 2px rgba(0, 0, 0, 0.3));\n",
              "      fill: #FFFFFF;\n",
              "    }\n",
              "  </style>\n",
              "\n",
              "      <script>\n",
              "        const buttonEl =\n",
              "          document.querySelector('#df-3a9709e4-5edc-48d5-9729-2ef7daf16a71 button.colab-df-convert');\n",
              "        buttonEl.style.display =\n",
              "          google.colab.kernel.accessAllowed ? 'block' : 'none';\n",
              "\n",
              "        async function convertToInteractive(key) {\n",
              "          const element = document.querySelector('#df-3a9709e4-5edc-48d5-9729-2ef7daf16a71');\n",
              "          const dataTable =\n",
              "            await google.colab.kernel.invokeFunction('convertToInteractive',\n",
              "                                                     [key], {});\n",
              "          if (!dataTable) return;\n",
              "\n",
              "          const docLinkHtml = 'Like what you see? Visit the ' +\n",
              "            '<a target=\"_blank\" href=https://colab.research.google.com/notebooks/data_table.ipynb>data table notebook</a>'\n",
              "            + ' to learn more about interactive tables.';\n",
              "          element.innerHTML = '';\n",
              "          dataTable['output_type'] = 'display_data';\n",
              "          await google.colab.output.renderOutput(dataTable, element);\n",
              "          const docLink = document.createElement('div');\n",
              "          docLink.innerHTML = docLinkHtml;\n",
              "          element.appendChild(docLink);\n",
              "        }\n",
              "      </script>\n",
              "    </div>\n",
              "  </div>\n",
              "  "
            ]
          },
          "metadata": {},
          "execution_count": 449
        }
      ]
    },
    {
      "cell_type": "code",
      "execution_count": 450,
      "metadata": {
        "id": "mqN8O0oQwctv"
      },
      "outputs": [],
      "source": [
        "despesa_ceaps_full_forecasting = despesa_ceaps_full_forecasting.groupby('datetime').sum().sort_values(by='datetime')"
      ]
    },
    {
      "cell_type": "code",
      "execution_count": 451,
      "metadata": {
        "id": "oTTrjj3ZT8df"
      },
      "outputs": [],
      "source": [
        "despesa_ceaps_full_forecasting = despesa_ceaps_full_forecasting.reset_index()"
      ]
    },
    {
      "cell_type": "code",
      "execution_count": 452,
      "metadata": {
        "id": "7C9fZPWLT81D"
      },
      "outputs": [],
      "source": [
        "despesa_ceaps_full_forecasting = despesa_ceaps_full_forecasting.rename(columns={'datetime':'ds',\n",
        "                                               'VALOR_REEMBOLSADO': 'y'})"
      ]
    },
    {
      "cell_type": "code",
      "source": [
        "despesa_ceaps_full_forecasting.tail(3)"
      ],
      "metadata": {
        "colab": {
          "base_uri": "https://localhost:8080/",
          "height": 143
        },
        "id": "K1EQKtFyakeU",
        "outputId": "76bd4d91-faf2-40d9-b08d-c2f6a22aaee1"
      },
      "execution_count": 453,
      "outputs": [
        {
          "output_type": "execute_result",
          "data": {
            "text/plain": [
              "             ds        y\n",
              "1203 2022-04-28 1379.660\n",
              "1204 2022-04-29 1530.180\n",
              "1205 2022-04-30  980.720"
            ],
            "text/html": [
              "\n",
              "  <div id=\"df-d3bb7e7b-88af-4141-bd63-33612d8ee287\">\n",
              "    <div class=\"colab-df-container\">\n",
              "      <div>\n",
              "<style scoped>\n",
              "    .dataframe tbody tr th:only-of-type {\n",
              "        vertical-align: middle;\n",
              "    }\n",
              "\n",
              "    .dataframe tbody tr th {\n",
              "        vertical-align: top;\n",
              "    }\n",
              "\n",
              "    .dataframe thead th {\n",
              "        text-align: right;\n",
              "    }\n",
              "</style>\n",
              "<table border=\"1\" class=\"dataframe\">\n",
              "  <thead>\n",
              "    <tr style=\"text-align: right;\">\n",
              "      <th></th>\n",
              "      <th>ds</th>\n",
              "      <th>y</th>\n",
              "    </tr>\n",
              "  </thead>\n",
              "  <tbody>\n",
              "    <tr>\n",
              "      <th>1203</th>\n",
              "      <td>2022-04-28</td>\n",
              "      <td>1379.660</td>\n",
              "    </tr>\n",
              "    <tr>\n",
              "      <th>1204</th>\n",
              "      <td>2022-04-29</td>\n",
              "      <td>1530.180</td>\n",
              "    </tr>\n",
              "    <tr>\n",
              "      <th>1205</th>\n",
              "      <td>2022-04-30</td>\n",
              "      <td>980.720</td>\n",
              "    </tr>\n",
              "  </tbody>\n",
              "</table>\n",
              "</div>\n",
              "      <button class=\"colab-df-convert\" onclick=\"convertToInteractive('df-d3bb7e7b-88af-4141-bd63-33612d8ee287')\"\n",
              "              title=\"Convert this dataframe to an interactive table.\"\n",
              "              style=\"display:none;\">\n",
              "        \n",
              "  <svg xmlns=\"http://www.w3.org/2000/svg\" height=\"24px\"viewBox=\"0 0 24 24\"\n",
              "       width=\"24px\">\n",
              "    <path d=\"M0 0h24v24H0V0z\" fill=\"none\"/>\n",
              "    <path d=\"M18.56 5.44l.94 2.06.94-2.06 2.06-.94-2.06-.94-.94-2.06-.94 2.06-2.06.94zm-11 1L8.5 8.5l.94-2.06 2.06-.94-2.06-.94L8.5 2.5l-.94 2.06-2.06.94zm10 10l.94 2.06.94-2.06 2.06-.94-2.06-.94-.94-2.06-.94 2.06-2.06.94z\"/><path d=\"M17.41 7.96l-1.37-1.37c-.4-.4-.92-.59-1.43-.59-.52 0-1.04.2-1.43.59L10.3 9.45l-7.72 7.72c-.78.78-.78 2.05 0 2.83L4 21.41c.39.39.9.59 1.41.59.51 0 1.02-.2 1.41-.59l7.78-7.78 2.81-2.81c.8-.78.8-2.07 0-2.86zM5.41 20L4 18.59l7.72-7.72 1.47 1.35L5.41 20z\"/>\n",
              "  </svg>\n",
              "      </button>\n",
              "      \n",
              "  <style>\n",
              "    .colab-df-container {\n",
              "      display:flex;\n",
              "      flex-wrap:wrap;\n",
              "      gap: 12px;\n",
              "    }\n",
              "\n",
              "    .colab-df-convert {\n",
              "      background-color: #E8F0FE;\n",
              "      border: none;\n",
              "      border-radius: 50%;\n",
              "      cursor: pointer;\n",
              "      display: none;\n",
              "      fill: #1967D2;\n",
              "      height: 32px;\n",
              "      padding: 0 0 0 0;\n",
              "      width: 32px;\n",
              "    }\n",
              "\n",
              "    .colab-df-convert:hover {\n",
              "      background-color: #E2EBFA;\n",
              "      box-shadow: 0px 1px 2px rgba(60, 64, 67, 0.3), 0px 1px 3px 1px rgba(60, 64, 67, 0.15);\n",
              "      fill: #174EA6;\n",
              "    }\n",
              "\n",
              "    [theme=dark] .colab-df-convert {\n",
              "      background-color: #3B4455;\n",
              "      fill: #D2E3FC;\n",
              "    }\n",
              "\n",
              "    [theme=dark] .colab-df-convert:hover {\n",
              "      background-color: #434B5C;\n",
              "      box-shadow: 0px 1px 3px 1px rgba(0, 0, 0, 0.15);\n",
              "      filter: drop-shadow(0px 1px 2px rgba(0, 0, 0, 0.3));\n",
              "      fill: #FFFFFF;\n",
              "    }\n",
              "  </style>\n",
              "\n",
              "      <script>\n",
              "        const buttonEl =\n",
              "          document.querySelector('#df-d3bb7e7b-88af-4141-bd63-33612d8ee287 button.colab-df-convert');\n",
              "        buttonEl.style.display =\n",
              "          google.colab.kernel.accessAllowed ? 'block' : 'none';\n",
              "\n",
              "        async function convertToInteractive(key) {\n",
              "          const element = document.querySelector('#df-d3bb7e7b-88af-4141-bd63-33612d8ee287');\n",
              "          const dataTable =\n",
              "            await google.colab.kernel.invokeFunction('convertToInteractive',\n",
              "                                                     [key], {});\n",
              "          if (!dataTable) return;\n",
              "\n",
              "          const docLinkHtml = 'Like what you see? Visit the ' +\n",
              "            '<a target=\"_blank\" href=https://colab.research.google.com/notebooks/data_table.ipynb>data table notebook</a>'\n",
              "            + ' to learn more about interactive tables.';\n",
              "          element.innerHTML = '';\n",
              "          dataTable['output_type'] = 'display_data';\n",
              "          await google.colab.output.renderOutput(dataTable, element);\n",
              "          const docLink = document.createElement('div');\n",
              "          docLink.innerHTML = docLinkHtml;\n",
              "          element.appendChild(docLink);\n",
              "        }\n",
              "      </script>\n",
              "    </div>\n",
              "  </div>\n",
              "  "
            ]
          },
          "metadata": {},
          "execution_count": 453
        }
      ]
    },
    {
      "cell_type": "markdown",
      "source": [
        "# Modelo de Forecasting: Prophet"
      ],
      "metadata": {
        "id": "rHNdN_QSXUg9"
      }
    },
    {
      "cell_type": "code",
      "source": [
        "p = Prophet()"
      ],
      "metadata": {
        "id": "mesL1LyeXa2r"
      },
      "execution_count": 454,
      "outputs": []
    },
    {
      "cell_type": "code",
      "source": [
        "p.fit(despesa_ceaps_full_forecasting)"
      ],
      "metadata": {
        "colab": {
          "base_uri": "https://localhost:8080/"
        },
        "id": "PpUBgMq_X04l",
        "outputId": "38816ae0-a048-40a8-d92e-e82041203f1d"
      },
      "execution_count": 455,
      "outputs": [
        {
          "output_type": "stream",
          "name": "stderr",
          "text": [
            "INFO:prophet:Disabling daily seasonality. Run prophet with daily_seasonality=True to override this.\n"
          ]
        },
        {
          "output_type": "execute_result",
          "data": {
            "text/plain": [
              "<prophet.forecaster.Prophet at 0x7f3b317e15d0>"
            ]
          },
          "metadata": {},
          "execution_count": 455
        }
      ]
    },
    {
      "cell_type": "code",
      "source": [
        "future = p.make_future_dataframe(periods=90)"
      ],
      "metadata": {
        "id": "g31oaergYK9e"
      },
      "execution_count": 456,
      "outputs": []
    },
    {
      "cell_type": "code",
      "source": [
        "forecast = p.predict(future)"
      ],
      "metadata": {
        "id": "8IAo_wI8YuIp"
      },
      "execution_count": 457,
      "outputs": []
    },
    {
      "cell_type": "code",
      "source": [
        "fig1 = p.plot(forecast)"
      ],
      "metadata": {
        "colab": {
          "base_uri": "https://localhost:8080/",
          "height": 441
        },
        "id": "bcJJsQ6zYwi0",
        "outputId": "2901a1f0-493d-4058-82cf-65fc8c4b73fd"
      },
      "execution_count": 458,
      "outputs": [
        {
          "output_type": "display_data",
          "data": {
            "text/plain": [
              "<Figure size 720x432 with 1 Axes>"
            ],
            "image/png": "[encoded data removed]"
          },
          "metadata": {}
        }
      ]
    },
    {
      "cell_type": "code",
      "source": [
        "pd.options.display.float_format = '{:.3f}'.format\n",
        "forecast[['yhat']].iloc[-90:].sum()"
      ],
      "metadata": {
        "colab": {
          "base_uri": "https://localhost:8080/"
        },
        "id": "h4_tKJkKa7pl",
        "outputId": "a4f8cbb1-f7be-4ab9-9577-cb2075c96cd4"
      },
      "execution_count": 459,
      "outputs": [
        {
          "output_type": "execute_result",
          "data": {
            "text/plain": [
              "yhat   5646995.670\n",
              "dtype: float64"
            ]
          },
          "metadata": {},
          "execution_count": 459
        }
      ]
    },
    {
      "cell_type": "markdown",
      "source": [
        "**Daqui 90 dias, os senadores irão gastar aproximadamente 5 milhões e meio de reais!**"
      ],
      "metadata": {
        "id": "YvqJmp2IaNvs"
      }
    },
    {
      "cell_type": "code",
      "source": [
        "fig2 = p.plot_components(forecast)"
      ],
      "metadata": {
        "colab": {
          "base_uri": "https://localhost:8080/",
          "height": 657
        },
        "id": "DY163HJ_ZFKC",
        "outputId": "0ed1bab8-aed4-48d5-cb2b-2eb69c944598"
      },
      "execution_count": 460,
      "outputs": [
        {
          "output_type": "display_data",
          "data": {
            "text/plain": [
              "<Figure size 648x648 with 3 Axes>"
            ],
            "image/png": "[encoded data removed]"
          },
          "metadata": {}
        }
      ]
    },
    {
      "cell_type": "markdown",
      "source": [
        "* A tendência é que os gastos diminuam.\n",
        "* Os gastos diários na segunda-feira começam altos e diminuem conforme passa a semana. \n",
        "* No final do ano, os gastos diários ultrapassam 100 mil reais por dia.\n"
      ],
      "metadata": {
        "id": "1aj0KrRicn0M"
      }
    }
  ],
  "metadata": {
    "colab": {
      "collapsed_sections": [],
      "machine_shape": "hm",
      "name": "#7DaysOfCode - Ciência de Dados 3/7: Forecasting.ipynb",
      "provenance": [],
      "toc_visible": true,
      "authorship_tag": "ABX9TyM89R80IeObsllbV804MNAm",
      "include_colab_link": true
    },
    "kernelspec": {
      "display_name": "Python 3",
      "name": "python3"
    },
    "language_info": {
      "name": "python"
    }
  },
  "nbformat": 4,
  "nbformat_minor": 0
}